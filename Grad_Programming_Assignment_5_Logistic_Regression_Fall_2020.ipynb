{
  "nbformat": 4,
  "nbformat_minor": 0,
  "metadata": {
    "kernelspec": {
      "display_name": "Python 3",
      "language": "python",
      "name": "python3"
    },
    "language_info": {
      "codemirror_mode": {
        "name": "ipython",
        "version": 3
      },
      "file_extension": ".py",
      "mimetype": "text/x-python",
      "name": "python",
      "nbconvert_exporter": "python",
      "pygments_lexer": "ipython3",
      "version": "3.7.2"
    },
    "colab": {
      "name": "Grad Programming Assignment 5 - Logistic Regression -Fall 2020.ipynb",
      "provenance": []
    }
  },
  "cells": [
    {
      "cell_type": "markdown",
      "metadata": {
        "id": "P2-Atxlm7FIj"
      },
      "source": [
        "# Programming Assignment 5 - Logistic Regression \n",
        "\n",
        "In the assignment, you will use gradient ascent to find the weights for the logistic regression problem.   \n",
        "\n",
        "As an example, we will use the widely-used breast cancer data set.  This data set is described here:\n",
        "\n",
        "https://archive.ics.uci.edu/ml/machine-learning-databases/breast-cancer-wisconsin\n",
        "\n",
        "Each sample is a collection of features that were manually recorded by a physician upon inspecting a sample of cells from fine needle aspiration.  The goal is to detect if the cells are benign or malignant."
      ]
    },
    {
      "cell_type": "markdown",
      "metadata": {
        "id": "1mj8-RB17FIm"
      },
      "source": [
        "## Step 1:  Getting, preprocessing, and understanding the dataset"
      ]
    },
    {
      "cell_type": "markdown",
      "metadata": {
        "id": "YtnV8Tjw7FIn"
      },
      "source": [
        "### Importing the standard libraries"
      ]
    },
    {
      "cell_type": "code",
      "metadata": {
        "id": "XTMjt4wF7FIo"
      },
      "source": [
        "# Importing important libraries\n",
        "from sklearn.datasets import load_breast_cancer # taking included data set from Sklearn http://scikit-learn.org/stable/modules/generated/sklearn.datasets.load_breast_cancer.html\n",
        "from sklearn import preprocessing # preprossing is what we do with the data before we run the learning algorithm\n",
        "from sklearn.model_selection import train_test_split \n",
        "import numpy as np\n",
        "import math\n",
        "\n",
        "import matplotlib.pyplot as plt\n",
        "%matplotlib inline"
      ],
      "execution_count": 127,
      "outputs": []
    },
    {
      "cell_type": "markdown",
      "metadata": {
        "id": "cs_i8zRV7FIt"
      },
      "source": [
        "### Importing the dataset"
      ]
    },
    {
      "cell_type": "code",
      "metadata": {
        "id": "62Olz-XW7FIu"
      },
      "source": [
        "# Loading the dataset\n",
        "cancer = load_breast_cancer()\n",
        "y = cancer.target\n",
        "X = cancer.data"
      ],
      "execution_count": 128,
      "outputs": []
    },
    {
      "cell_type": "code",
      "metadata": {
        "id": "gwSgJJvw7FIx",
        "outputId": "3ec94bec-b9cc-4b12-c5eb-f8c26807309b",
        "colab": {
          "base_uri": "https://localhost:8080/",
          "height": 50
        }
      },
      "source": [
        "# Printing the shape of data (X) and target (Y) values \n",
        "print(X.shape)\n",
        "print(y.shape)"
      ],
      "execution_count": 129,
      "outputs": [
        {
          "output_type": "stream",
          "text": [
            "(569, 30)\n",
            "(569,)\n"
          ],
          "name": "stdout"
        }
      ]
    },
    {
      "cell_type": "markdown",
      "metadata": {
        "id": "oCbu5mfq7FI0"
      },
      "source": [
        "### Data Pre-Processing\n",
        "#### Splitting the data into train and test before scaling the dataset\n"
      ]
    },
    {
      "cell_type": "code",
      "metadata": {
        "id": "ufkmJeDk7FI1"
      },
      "source": [
        "# train_test_split to split the data \n",
        "X_train, X_test, y_train, y_test = train_test_split(X, y,random_state=42)"
      ],
      "execution_count": 130,
      "outputs": []
    },
    {
      "cell_type": "markdown",
      "metadata": {
        "id": "okf9eeBX7FI4"
      },
      "source": [
        "#### Scale the data since we will be using gradient ascent"
      ]
    },
    {
      "cell_type": "code",
      "metadata": {
        "id": "RILADXuX7FI4"
      },
      "source": [
        "scaler = preprocessing.StandardScaler().fit(X_train)\n",
        "X_train = scaler.transform(X_train)\n",
        "X_test = scaler.transform(X_test)"
      ],
      "execution_count": 131,
      "outputs": []
    },
    {
      "cell_type": "code",
      "metadata": {
        "id": "k7BBrDox7FI7",
        "outputId": "57e63239-233a-45f7-ef0a-67399bc77c1d",
        "colab": {
          "base_uri": "https://localhost:8080/",
          "height": 50
        }
      },
      "source": [
        "# TODO - Print the shape of x_train and y_train \n",
        "print(X_train.shape)\n",
        "print(y_train.shape)\n",
        " # When you print the shape of x_train, it should print (426, 30)\n",
        " # When you print the shape of y_train, it should print (426,)"
      ],
      "execution_count": 132,
      "outputs": [
        {
          "output_type": "stream",
          "text": [
            "(426, 30)\n",
            "(426,)\n"
          ],
          "name": "stdout"
        }
      ]
    },
    {
      "cell_type": "markdown",
      "metadata": {
        "id": "Xf5VyS2u7FI-"
      },
      "source": [
        "#### Adding a column of ones to the  matrices $X_{train}$ and  $X_{test}$\n",
        "After adding a column of ones $X_{train}=\\left[\\begin{matrix}\n",
        "1& x^{(1)}_1& x^{(1)}_2 &\\ldots& x^{(1)}_d\\\\\n",
        "1& x^{(2)}_1& x^{(2)}_2 &\\ldots& x^{(2)}_d\\\\\n",
        "\\vdots & \\vdots &\\vdots & & \\vdots \\\\\n",
        "1& x^{(N')}_1& x^{(N')}_2 &\\ldots& x^{(N')}_d\\\\\n",
        "\\end{matrix}\\right]$\n",
        "\n",
        "Similarly for $X_{test}$"
      ]
    },
    {
      "cell_type": "code",
      "metadata": {
        "id": "LzjpmGj77FI_",
        "outputId": "0b90949b-fb63-42bc-a42d-c67245626031",
        "colab": {
          "base_uri": "https://localhost:8080/",
          "height": 233
        }
      },
      "source": [
        "# Appending a column of ones to x_train \n",
        "\n",
        "# Step 1: Create a column vector of ones (i.e. a vector of shape N',1)\n",
        "ones = np.ones(X_train.shape[0]).reshape((X_train.shape[0], 1))\n",
        "# Step 2: Append a column of ones in the beginning of x_train\n",
        "X_train = np.hstack((ones, X_train))\n",
        "\n",
        "# Now do the same for the test data\n",
        "# Step 1: Create a column vector of ones (i.e. a vector of shape N\",1)\n",
        "ones = np.ones(X_test.shape[0]).reshape((X_test.shape[0], 1))\n",
        "# Stemp 2: Append a column of ones in the beginning of x_test\n",
        "X_test = np.hstack((ones, X_test))\n",
        "\n",
        "\n",
        "# We can check that everything worked correctly by:\n",
        "# Printing out the new dimensions\n",
        "print(\"The trainng data has dimensions: \", X_train.shape, \". The testing data has dimensions: \",X_test.shape)\n",
        "# Looking at the first two rows of X_train to check everything worked as expected\n",
        "print(X_train[0:2])"
      ],
      "execution_count": 133,
      "outputs": [
        {
          "output_type": "stream",
          "text": [
            "The trainng data has dimensions:  (426, 31) . The testing data has dimensions:  (143, 31)\n",
            "[[ 1.         -0.34913849 -1.43851335 -0.41172595 -0.39047943 -1.86366229\n",
            "  -1.26860704 -0.82617052 -0.95286585 -1.72936805 -0.9415409  -0.86971355\n",
            "  -1.35865347 -0.83481506 -0.57230673 -0.74586846 -0.65398319 -0.52583524\n",
            "  -0.94677147 -0.53781728 -0.63449458 -0.54268486 -1.65565452 -0.58986401\n",
            "  -0.52555985 -1.51066925 -0.89149994 -0.75021715 -0.91671059 -0.92508585\n",
            "  -0.80841115]\n",
            " [ 1.         -0.20468665  0.31264011 -0.13367256 -0.27587995  1.07807258\n",
            "   0.86354605  0.72631375  0.89844062  1.17876963  1.47437716 -0.04022275\n",
            "  -0.50962253  0.10947722 -0.13472838 -0.52489487 -0.14934475  0.07460028\n",
            "   0.23747244 -0.43028253  0.08289146  0.04148684  0.68989862  0.19412774\n",
            "  -0.05193356  1.12941497  0.92394223  1.22221738  1.43655962  1.14955889\n",
            "   1.56911143]]\n"
          ],
          "name": "stdout"
        }
      ]
    },
    {
      "cell_type": "markdown",
      "metadata": {
        "id": "lFShkhQW7FJB"
      },
      "source": [
        "### Understanding the dataset"
      ]
    },
    {
      "cell_type": "code",
      "metadata": {
        "id": "kIhJ2u0Q7FJB",
        "outputId": "e31e0bdc-7f6b-4213-aa8a-66cf3016a05e",
        "colab": {
          "base_uri": "https://localhost:8080/",
          "height": 166
        }
      },
      "source": [
        "# Printing the names of all the features\n",
        "print(cancer.feature_names)"
      ],
      "execution_count": 134,
      "outputs": [
        {
          "output_type": "stream",
          "text": [
            "['mean radius' 'mean texture' 'mean perimeter' 'mean area'\n",
            " 'mean smoothness' 'mean compactness' 'mean concavity'\n",
            " 'mean concave points' 'mean symmetry' 'mean fractal dimension'\n",
            " 'radius error' 'texture error' 'perimeter error' 'area error'\n",
            " 'smoothness error' 'compactness error' 'concavity error'\n",
            " 'concave points error' 'symmetry error' 'fractal dimension error'\n",
            " 'worst radius' 'worst texture' 'worst perimeter' 'worst area'\n",
            " 'worst smoothness' 'worst compactness' 'worst concavity'\n",
            " 'worst concave points' 'worst symmetry' 'worst fractal dimension']\n"
          ],
          "name": "stdout"
        }
      ]
    },
    {
      "cell_type": "code",
      "metadata": {
        "id": "azbHQUqW7FJD"
      },
      "source": [
        "# You can add your own code here to better understand the dataset"
      ],
      "execution_count": 135,
      "outputs": []
    },
    {
      "cell_type": "markdown",
      "metadata": {
        "id": "BsHWr6Sn7FJF"
      },
      "source": [
        "\n",
        "# Step 2: Fitting the model\n",
        "## Implementing Logistic Regression Using Gradient Ascent"
      ]
    },
    {
      "cell_type": "markdown",
      "metadata": {
        "id": "OugEpOdz7FJG"
      },
      "source": [
        "\n",
        " Before writing the gradient ascent code, first write some helpful functions"
      ]
    },
    {
      "cell_type": "markdown",
      "metadata": {
        "id": "7otyeLRm7FJG"
      },
      "source": [
        "\n",
        " \n",
        "### Sigmoid($z$)\n",
        "The first function you will write is sigmoid($z$)\n",
        "\n",
        "sigmoid($z$) takes as input a column vector of real numbers, $z^T = [z_1, z_2, ..., z_{N'}]$, where $N'$ is the number of  examples\n",
        "\n",
        "It should produce as output a column vector $\\left[\\frac{1}{1+e^{-z_1}},\\frac{1}{1+e^{-z_2}},...,\\frac{1}{1+e^{-z_{N'}}}\\right]^T$"
      ]
    },
    {
      "cell_type": "code",
      "metadata": {
        "id": "uGXMoNmb8RRK"
      },
      "source": [
        "def sigmoid_sub(x):\n",
        "    s = 1/(1+np.exp(-x)) \n",
        "    return s"
      ],
      "execution_count": 136,
      "outputs": []
    },
    {
      "cell_type": "code",
      "metadata": {
        "id": "GpREdCuD7FJG"
      },
      "source": [
        "# TODO - Write the sigmoid function (z can be a scalar or a vector)\n",
        "def sigmoid(z):\n",
        "    ## TODO\n",
        "    sigz = sigmoid_sub(z)\n",
        "    \n",
        "    return sigz\n",
        "    ## "
      ],
      "execution_count": 137,
      "outputs": []
    },
    {
      "cell_type": "code",
      "metadata": {
        "id": "B_lCdFaX7FJI",
        "outputId": "bc33fcf5-d5f8-4f09-a0ce-28b5875fd129",
        "colab": {
          "base_uri": "https://localhost:8080/",
          "height": 33
        }
      },
      "source": [
        "# VERIFY - Sigmoid of 0 should be equal to 0.5\n",
        "print(sigmoid(0))"
      ],
      "execution_count": 138,
      "outputs": [
        {
          "output_type": "stream",
          "text": [
            "0.5\n"
          ],
          "name": "stdout"
        }
      ]
    },
    {
      "cell_type": "markdown",
      "metadata": {
        "id": "wdKAM1md7FJK"
      },
      "source": [
        "### Initializing ${\\bf w}$\n",
        "For testing the next functions, we create a coefficient vector, ${\\bf w}$.\n",
        "We will initialize the coeffients to be $0$, i.e. ${\\bf w}^T = [0,0,\\ldots ,0]$ (We could have initialized ${\\bf w}$ to any values.)"
      ]
    },
    {
      "cell_type": "code",
      "metadata": {
        "id": "7nAyXCVA7FJK",
        "outputId": "d465f57f-df33-4920-c155-9c03adae6644",
        "colab": {
          "base_uri": "https://localhost:8080/",
          "height": 33
        }
      },
      "source": [
        "# Initialize parameters w\n",
        "w = np.zeros((X_train.shape[1], 1))\n",
        "print(w.shape)"
      ],
      "execution_count": 139,
      "outputs": [
        {
          "output_type": "stream",
          "text": [
            "(31, 1)\n"
          ],
          "name": "stdout"
        }
      ]
    },
    {
      "cell_type": "markdown",
      "metadata": {
        "id": "g4PHtn9d7FJN"
      },
      "source": [
        "### Our hypothesis, $h({\\bf x})$\n",
        "The next  function to write is our hypothesis function. \n",
        "\n",
        "For example if our design matrix $X$ consists of single example $X=[1,x_1,x_2,\\ldots,x_d]$ and  weights ${\\bf w}^T=[w_0,w_2,\\ldots, w_d]$, it returns $h({\\bf x})=\\frac{1}{1+e^{-\\left({w_{0}\\cdot 1 +w_1\\cdot x_1+\\cdots w_d\\cdot x_d}\\right)}}$\n",
        "\n",
        "If given a  matrix consisting of $N'$ examples \n",
        "$X=\\left[\\begin{matrix}\n",
        "1& x^{(1)}_1& x^{(1)}_2 &\\ldots& x^{(1)}_d\\\\\n",
        "1& x^{(2)}_1& x^{(2)}_2 &\\ldots& x^{(2)}_d\\\\\n",
        "\\vdots & \\vdots &\\vdots & & \\vdots \\\\\n",
        "1& x^{(N')}_1& x^{(N')}_2 &\\ldots& x^{(N')}_d\\\\\n",
        "\\end{matrix}\\right]$\n",
        "and  weights ${\\bf w}^T=[w_0,w_2,\\ldots, w_d]$, the function returns a column vector\n",
        "$[h({\\bf x}^{(1)}),h({\\bf x}^{(2)},\\ldots, h({\\bf x}^{(N')}]^T$"
      ]
    },
    {
      "cell_type": "code",
      "metadata": {
        "id": "87o2lj1G7FJO"
      },
      "source": [
        "# predict the probability that a patient has cancer \n",
        "# TODO - Write the hypothesis function \n",
        "def hypothesis(X , w):\n",
        "    #TODO\n",
        "    i = np.dot(X,w)\n",
        "    hx = sigmoid(i)\n",
        "    return hx\n",
        "    ##"
      ],
      "execution_count": 140,
      "outputs": []
    },
    {
      "cell_type": "markdown",
      "metadata": {
        "id": "vJYjwf_Y7FJQ"
      },
      "source": [
        "Before moving on, do a quick check that your function can accpet a matrix as an argument. "
      ]
    },
    {
      "cell_type": "code",
      "metadata": {
        "id": "Y9D_Jh7k7FJQ",
        "outputId": "8b7d6195-7e47-43fc-bd95-28eccae30083",
        "colab": {
          "base_uri": "https://localhost:8080/",
          "height": 50
        }
      },
      "source": [
        "# Compute y_hat using our training examples and w (w is still set to zero).  \n",
        "# This is just a preliminary test of the hypotheis function\n",
        "yhat = hypothesis(X_train, w)\n",
        "\n",
        "# print the sizes of yhat and y as a first check that the function performed correctly\n",
        "print(yhat.shape) # this should return (426, 1)\n",
        "print(y_train.shape) # this should return (426,)"
      ],
      "execution_count": 141,
      "outputs": [
        {
          "output_type": "stream",
          "text": [
            "(426, 1)\n",
            "(426,)\n"
          ],
          "name": "stdout"
        }
      ]
    },
    {
      "cell_type": "markdown",
      "metadata": {
        "id": "iMGFMP2Q7FJV"
      },
      "source": [
        "### Log-Likelihood Function.\n",
        "Write the code to calculate the log likelihood function $\\ell({\\bf w})=\n",
        "\\sum_{i=1}^{N'}y^{(i)}\\ln(h({\\bf x}^{(i)})) +(1- y^{(i)})\\ln(1-h({\\bf x}^{(i)}))$\n",
        "\n",
        "The input is a matrix consisting of $N'$ examples $X=\\left[\\begin{matrix}\n",
        "1& x^{(1)}_1& x^{(1)}_2 &\\ldots& x^{(1)}_d\\\\\n",
        "1& x^{(2)}_1& x^{(2)}_2 &\\ldots& x^{(2)}_d\\\\\n",
        "\\vdots & \\vdots &\\vdots & & \\vdots \\\\\n",
        "1& x^{(N')}_1& x^{(N')}_2 &\\ldots& x^{(N')}_d\\\\\n",
        "\\end{matrix}\\right]$\n",
        "and a column vector ${\\bf y}^T=[y^{(1)},y^{(2)},\\dots,y^{(N')}]$ of labels for $X$.\n",
        "\n",
        "The output is $\\ell({\\bf w})$"
      ]
    },
    {
      "cell_type": "code",
      "metadata": {
        "id": "ZYOebReS7FJW"
      },
      "source": [
        "# TODO - Write the log likelihood function \n",
        "def log_likelihood(X , y , w ):\n",
        "    ##TODO\n",
        "    lw = 0\n",
        "    hx = hypothesis(X,w)\n",
        "    for i in range(y.shape[0]):\n",
        "      temp =(1-y[i])* np.log(1-hx[i]) + y[i]*np.log(hx[i])\n",
        "      lw = lw+temp\n",
        "    log_likelihood = lw\n",
        "    ##\n",
        "    return log_likelihood # you should return a real number, not a list containing a real number"
      ],
      "execution_count": 142,
      "outputs": []
    },
    {
      "cell_type": "markdown",
      "metadata": {
        "id": "QTxLs6Tv7FJY"
      },
      "source": [
        "Before moving on, do a quick check of your log_likelihood function"
      ]
    },
    {
      "cell_type": "code",
      "metadata": {
        "id": "bok7NSrx7FJZ",
        "outputId": "45430273-d3af-4ac7-c80b-e6dd3f123031",
        "colab": {
          "base_uri": "https://localhost:8080/",
          "height": 33
        }
      },
      "source": [
        "# VERIFY - The value should be equal to -295.2806989185367.\n",
        "print(log_likelihood(X_train,y_train,w))"
      ],
      "execution_count": 143,
      "outputs": [
        {
          "output_type": "stream",
          "text": [
            "[-295.28069892]\n"
          ],
          "name": "stdout"
        }
      ]
    },
    {
      "cell_type": "markdown",
      "metadata": {
        "id": "nyUo0qp37FJb"
      },
      "source": [
        "# Gradient Ascent\n",
        "Now write the code to perform gradient ascent.  You will use the update rule from the lecture notes."
      ]
    },
    {
      "cell_type": "code",
      "metadata": {
        "id": "VFKn-xfv7FJb"
      },
      "source": [
        "# TODO - Write the gradient ascent function \n",
        "def Logistic_Regresion_Gradient_Ascent(X, y, learning_rate, num_iters):\n",
        "    # For every 100 iterations, store the log_likelihood for the current w\n",
        "    # Initializing log_likelihood to be an empty list  \n",
        "    log_likelihood_values = []\n",
        "    # Initialize w to be a zero vector of shape x_train.shape[1],1\n",
        "    w = np.zeros((X.shape[1], 1))\n",
        "    # Initialize N to the number of training examples\n",
        "    N = X.shape[0] \n",
        "    ## TODO \n",
        "    for i in range(num_iters):\n",
        "      hx = hypothesis(X,w)\n",
        "      Xt = np.transpose(X)\n",
        "      t = learning_rate/N * np.dot(Xt,(y.reshape(y.shape[0],1)-hx))\n",
        "      w = w+t\n",
        "        \n",
        "    ##\n",
        "      if (i % 100) == 0:\n",
        "          log_likelihood_values.append(log_likelihood(X,y,w))\n",
        "        \n",
        "    return w, log_likelihood_values"
      ],
      "execution_count": 144,
      "outputs": []
    },
    {
      "cell_type": "markdown",
      "metadata": {
        "id": "8YjoGOD_7FJe"
      },
      "source": [
        "### After completing the code above, run the following"
      ]
    },
    {
      "cell_type": "code",
      "metadata": {
        "id": "YEOmQcII7FJe",
        "outputId": "4ea10320-593b-4a36-88ff-f25bba3885dd",
        "colab": {
          "base_uri": "https://localhost:8080/",
          "height": 533
        }
      },
      "source": [
        "learning_rate = 0.5\n",
        "num_iters = 5000 # The number of iteratins to run the gradient ascent algorithm\n",
        "\n",
        "w, log_likelihood_values = Logistic_Regresion_Gradient_Ascent(X_train, y_train, learning_rate, num_iters)\n",
        "#w, log_likelihood_values = Logistic_Regresion_Gradient_Ascent(X_train, y_train, learning_rate, 2)\n",
        "print(w)\n",
        "# print(log_likelihood_values)\n"
      ],
      "execution_count": 145,
      "outputs": [
        {
          "output_type": "stream",
          "text": [
            "[[-0.1056701 ]\n",
            " [-0.03553097]\n",
            " [-0.0536691 ]\n",
            " [ 0.17221516]\n",
            " [-0.31116366]\n",
            " [-0.45434972]\n",
            " [ 2.75131896]\n",
            " [-1.30570826]\n",
            " [-3.03314808]\n",
            " [ 1.16803283]\n",
            " [-0.85636742]\n",
            " [-3.72793978]\n",
            " [ 0.72266145]\n",
            " [-0.80953786]\n",
            " [-2.47051644]\n",
            " [-0.40297532]\n",
            " [ 0.53078335]\n",
            " [ 0.03099043]\n",
            " [-1.27545053]\n",
            " [ 1.31001975]\n",
            " [ 2.1018566 ]\n",
            " [-1.64716699]\n",
            " [-2.84431473]\n",
            " [-0.20035616]\n",
            " [-1.77971341]\n",
            " [-0.16157425]\n",
            " [ 0.73553297]\n",
            " [-2.45713669]\n",
            " [-1.31520556]\n",
            " [-2.99931319]\n",
            " [-0.38232592]]\n"
          ],
          "name": "stdout"
        }
      ]
    },
    {
      "cell_type": "code",
      "metadata": {
        "id": "VDVKKd3gE6UZ",
        "outputId": "365d5e36-1b9f-4eef-e7b9-5c36287165ce",
        "colab": {
          "base_uri": "https://localhost:8080/",
          "height": 33
        }
      },
      "source": [
        "print(w.shape)"
      ],
      "execution_count": 146,
      "outputs": [
        {
          "output_type": "stream",
          "text": [
            "(31, 1)\n"
          ],
          "name": "stdout"
        }
      ]
    },
    {
      "cell_type": "markdown",
      "metadata": {
        "id": "U10anGo67FJh"
      },
      "source": [
        "# Plotting Likelihood v/s Number of Iterations."
      ]
    },
    {
      "cell_type": "code",
      "metadata": {
        "id": "C-FDOQrj7FJh",
        "outputId": "45d400c0-9db4-4aaf-d0b5-65e439265d27",
        "colab": {
          "base_uri": "https://localhost:8080/",
          "height": 294
        }
      },
      "source": [
        "# Run this cell to plot Likelihood v/s Number of Iterations.\n",
        "iters = np.array(range(0,num_iters,100))\n",
        "plt.plot(iters,log_likelihood_values,'.-',color='green')\n",
        "plt.xlabel('Number of iterations')\n",
        "plt.ylabel('Likelihood')\n",
        "plt.title(\"Likelihood vs Number of Iterations.\")\n",
        "plt.grid()"
      ],
      "execution_count": 147,
      "outputs": [
        {
          "output_type": "display_data",
          "data": {
            "image/png": "[encoded data removed]",
            "text/plain": [
              "<Figure size 432x288 with 1 Axes>"
            ]
          },
          "metadata": {
            "tags": [],
            "needs_background": "light"
          }
        }
      ]
    },
    {
      "cell_type": "markdown",
      "metadata": {
        "id": "sr5scVz37FJj"
      },
      "source": [
        "You should see the likelihood increasing as number of Iterations increase."
      ]
    },
    {
      "cell_type": "markdown",
      "metadata": {
        "id": "miGlQaz37FJj"
      },
      "source": [
        "### The rest of your code goes here"
      ]
    },
    {
      "cell_type": "code",
      "metadata": {
        "id": "2db4US9C7FJk",
        "outputId": "04462352-7261-4f38-b58b-5f67c9f88d68",
        "colab": {
          "base_uri": "https://localhost:8080/",
          "height": 33
        }
      },
      "source": [
        "predy = hypothesis(X_test,w)\n",
        "print(predy.shape)\n",
        "ts_y_hat = np.where(predy > 0.5, 1, 0)"
      ],
      "execution_count": 148,
      "outputs": [
        {
          "output_type": "stream",
          "text": [
            "(143, 1)\n"
          ],
          "name": "stdout"
        }
      ]
    },
    {
      "cell_type": "code",
      "metadata": {
        "id": "NV63jd-CHfhA",
        "outputId": "d8aa771d-84a9-4cb9-d6e8-ab04e43f5294",
        "colab": {
          "base_uri": "https://localhost:8080/",
          "height": 100
        }
      },
      "source": [
        "print(y_test)\n",
        "print(y_test.shape)"
      ],
      "execution_count": 149,
      "outputs": [
        {
          "output_type": "stream",
          "text": [
            "[1 0 0 1 1 0 0 0 1 1 1 0 1 0 1 0 1 1 1 0 0 1 0 1 1 1 1 1 1 0 1 1 1 1 1 1 0\n",
            " 1 0 1 1 0 1 1 1 1 1 1 1 1 0 0 1 1 1 1 1 0 0 1 1 0 0 1 1 1 0 0 1 1 0 0 1 0\n",
            " 1 1 1 0 1 1 0 1 0 0 0 0 0 0 1 1 1 1 1 1 1 1 0 0 1 0 0 1 0 0 1 1 1 0 1 1 0\n",
            " 1 1 0 1 0 1 1 1 0 1 1 1 0 1 0 0 1 1 0 0 0 1 1 1 0 1 1 1 0 1 0 1]\n",
            "(143,)\n"
          ],
          "name": "stdout"
        }
      ]
    },
    {
      "cell_type": "markdown",
      "metadata": {
        "id": "iC4095dz7FJm"
      },
      "source": [
        "# Step 3: Evaluating your model"
      ]
    },
    {
      "cell_type": "code",
      "metadata": {
        "id": "fNjbLXpH7FJn"
      },
      "source": [
        "def evaluate(y_hat,y):\n",
        "  tp = 0\n",
        "  fp = 0\n",
        "  tn = 0\n",
        "  fn = 0\n",
        "  for i in range(y.shape[0]):\n",
        "    if y_hat[i] == y[i]:\n",
        "      if y_hat[i] == 1:\n",
        "        tp = tp+1\n",
        "      else:\n",
        "        tn = tn+1\n",
        "    if y_hat[i] != y[i]:\n",
        "      if y_hat[i] == 1:\n",
        "        fp = fp+1\n",
        "      else:\n",
        "        fn = fn+1\n",
        "  prec = tp/(tp+fp)\n",
        "  recall = tp/(tp+fn)\n",
        "  conf_mat = np.array([[tp,fp],[fn,tn]])\n",
        "  return prec, recall, conf_mat"
      ],
      "execution_count": 150,
      "outputs": []
    },
    {
      "cell_type": "code",
      "metadata": {
        "id": "HScTQo1jLBjQ",
        "outputId": "b748137b-0cf8-4f58-baa8-c861b6c620c5",
        "colab": {
          "base_uri": "https://localhost:8080/",
          "height": 100
        }
      },
      "source": [
        "# train_set\n",
        "train_y_eval=hypothesis(X_train,w)\n",
        "train_y_eval = np.where(train_y_eval > 0.5, 1, 0)\n",
        "tr_prec,tr_recall,tr_conf = evaluate(train_y_eval,y_train)\n",
        "print(\"precision of train set:\",tr_prec)\n",
        "print(\"recall of train set:\",tr_recall)\n",
        "print(\"confusion matrix of train:\\n\",tr_conf)"
      ],
      "execution_count": 151,
      "outputs": [
        {
          "output_type": "stream",
          "text": [
            "precision of train set: 0.9888888888888889\n",
            "recall of train set: 0.996268656716418\n",
            "confusion matrix of train:\n",
            " [[267   3]\n",
            " [  1 155]]\n"
          ],
          "name": "stdout"
        }
      ]
    },
    {
      "cell_type": "code",
      "metadata": {
        "id": "ainH_mE0LE-B",
        "outputId": "0224758a-6f04-443f-cb27-c38a2cad6b1d",
        "colab": {
          "base_uri": "https://localhost:8080/",
          "height": 100
        }
      },
      "source": [
        "# test_set\n",
        "ts_prec,ts_recall,ts_conf = evaluate(ts_y_hat,y_test)\n",
        "print(\"precision of test set:\",ts_prec)\n",
        "print(\"recall of test set:\",ts_recall)\n",
        "print(\"confusion matrix of test:\\n\",ts_conf)"
      ],
      "execution_count": 152,
      "outputs": [
        {
          "output_type": "stream",
          "text": [
            "precision of test set: 0.9885057471264368\n",
            "recall of test set: 0.9662921348314607\n",
            "confusion matrix of test:\n",
            " [[86  1]\n",
            " [ 3 53]]\n"
          ],
          "name": "stdout"
        }
      ]
    },
    {
      "cell_type": "code",
      "metadata": {
        "id": "bI7AP72pM9CX",
        "outputId": "f54d0881-38e0-4a9f-a6e5-acab218dd83e",
        "colab": {
          "base_uri": "https://localhost:8080/",
          "height": 416
        }
      },
      "source": [
        "# training rate experiment\n",
        "log_likelihood_values=[]\n",
        "i=0\n",
        "for rate in [0.01,0.1,0.7,1.0]:\n",
        "    num_iters = 5000 \n",
        "    w, log_likelihood_values = Logistic_Regresion_Gradient_Ascent(X_train, y_train, rate, num_iters)\n",
        "    hx=hypothesis(X_test,w)\n",
        "    hx = np.where(hx > 0.5, 1, 0)\n",
        "    tr_prec,tr_recall,tr_conf = evaluate(hx,y_test)\n",
        "    print(\"with rate:\",rate,\"-----------------------\")\n",
        "    print(\"precision of test set:\",tr_prec)\n",
        "    print(\"recall of test set:\",tr_recall)\n",
        "    print(\"confusion matrix of test:\\n\",tr_conf)\n"
      ],
      "execution_count": 153,
      "outputs": [
        {
          "output_type": "stream",
          "text": [
            "with rate: 0.01 -----------------------\n",
            "precision of test set: 0.9887640449438202\n",
            "recall of test set: 0.9887640449438202\n",
            "confusion matrix of test:\n",
            " [[88  1]\n",
            " [ 1 53]]\n",
            "with rate: 0.1 -----------------------\n",
            "precision of test set: 0.9886363636363636\n",
            "recall of test set: 0.9775280898876404\n",
            "confusion matrix of test:\n",
            " [[87  1]\n",
            " [ 2 53]]\n",
            "with rate: 0.7 -----------------------\n",
            "precision of test set: 0.9885057471264368\n",
            "recall of test set: 0.9662921348314607\n",
            "confusion matrix of test:\n",
            " [[86  1]\n",
            " [ 3 53]]\n",
            "with rate: 1.0 -----------------------\n",
            "precision of test set: 0.9885057471264368\n",
            "recall of test set: 0.9662921348314607\n",
            "confusion matrix of test:\n",
            " [[86  1]\n",
            " [ 3 53]]\n"
          ],
          "name": "stdout"
        }
      ]
    },
    {
      "cell_type": "code",
      "metadata": {
        "id": "OrLf6lJ5Oh0O",
        "outputId": "22b64cc1-d759-46aa-94c4-d22af58c6d90",
        "colab": {
          "base_uri": "https://localhost:8080/",
          "height": 294
        }
      },
      "source": [
        "iters = np.array(range(0,num_iters,100))\n",
        "plt.plot(iters,log_likelihood_values,'.-',color='green')\n",
        "plt.xlabel('Number of iterations')\n",
        "plt.ylabel('Likelihood')\n",
        "plt.title(\"Likelihood vs Number of Iterations.\")\n",
        "plt.grid()"
      ],
      "execution_count": 154,
      "outputs": [
        {
          "output_type": "display_data",
          "data": {
            "image/png": "[encoded data removed]",
            "text/plain": [
              "<Figure size 432x288 with 1 Axes>"
            ]
          },
          "metadata": {
            "tags": [],
            "needs_background": "light"
          }
        }
      ]
    },
    {
      "cell_type": "code",
      "metadata": {
        "id": "Qs2vSw0XNpNY",
        "outputId": "82bd56a6-7fb0-4e0a-8b16-43e04d84c32c",
        "colab": {
          "base_uri": "https://localhost:8080/",
          "height": 616
        }
      },
      "source": [
        "# iteration experiment\n",
        "for iter in [10,30,50,100,1000,10000]:\n",
        "    rate = 0.03\n",
        "    w, log_likelihood_values = Logistic_Regresion_Gradient_Ascent(X_train, y_train, rate, iter)\n",
        "    hx=hypothesis(X_test,w)\n",
        "    hx = np.where(hx > 0.5, 1, 0)\n",
        "    ts_prec,ts_recall,ts_conf = evaluate(hx,y_test)\n",
        "    print(\"with iteration:\",iter,\"-----------------------\")\n",
        "    print(\"precision of test set:\",ts_prec)\n",
        "    print(\"recall of test set:\",ts_recall)\n",
        "    print(\"confusion matrix of test:\\n\",ts_conf)\n",
        "  \n"
      ],
      "execution_count": 155,
      "outputs": [
        {
          "output_type": "stream",
          "text": [
            "with iteration: 10 -----------------------\n",
            "precision of test set: 0.9767441860465116\n",
            "recall of test set: 0.9438202247191011\n",
            "confusion matrix of test:\n",
            " [[84  2]\n",
            " [ 5 52]]\n",
            "with iteration: 30 -----------------------\n",
            "precision of test set: 0.9882352941176471\n",
            "recall of test set: 0.9438202247191011\n",
            "confusion matrix of test:\n",
            " [[84  1]\n",
            " [ 5 53]]\n",
            "with iteration: 50 -----------------------\n",
            "precision of test set: 0.9883720930232558\n",
            "recall of test set: 0.9550561797752809\n",
            "confusion matrix of test:\n",
            " [[85  1]\n",
            " [ 4 53]]\n",
            "with iteration: 100 -----------------------\n",
            "precision of test set: 0.9885057471264368\n",
            "recall of test set: 0.9662921348314607\n",
            "confusion matrix of test:\n",
            " [[86  1]\n",
            " [ 3 53]]\n",
            "with iteration: 1000 -----------------------\n",
            "precision of test set: 0.9887640449438202\n",
            "recall of test set: 0.9887640449438202\n",
            "confusion matrix of test:\n",
            " [[88  1]\n",
            " [ 1 53]]\n",
            "with iteration: 10000 -----------------------\n",
            "precision of test set: 0.9886363636363636\n",
            "recall of test set: 0.9775280898876404\n",
            "confusion matrix of test:\n",
            " [[87  1]\n",
            " [ 2 53]]\n"
          ],
          "name": "stdout"
        }
      ]
    }
  ]
}