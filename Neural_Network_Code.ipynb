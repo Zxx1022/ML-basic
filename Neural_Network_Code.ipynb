{
  "nbformat": 4,
  "nbformat_minor": 0,
  "metadata": {
    "kernelspec": {
      "display_name": "Python 3",
      "language": "python",
      "name": "python3"
    },
    "language_info": {
      "codemirror_mode": {
        "name": "ipython",
        "version": 3
      },
      "file_extension": ".py",
      "mimetype": "text/x-python",
      "name": "python",
      "nbconvert_exporter": "python",
      "pygments_lexer": "ipython3",
      "version": "3.7.2"
    },
    "colab": {
      "name": "Neural Network Code.ipynb",
      "provenance": []
    }
  },
  "cells": [
    {
      "cell_type": "markdown",
      "metadata": {
        "id": "J0bWDNV5JGf5"
      },
      "source": [
        "# Neural Network from Scratch\n",
        "Code modified from http://adventuresinmachinelearning.com/neural-networks-tutorial/ \n",
        "\n",
        "The notation in this website is almost the same as the notation we are using in class.  Instead of using $a$ for activations the author uses $h$, and instead of $N$ for the number of training examples, the author uses $m$. (I have modified the code below to use $a$ and $N$.)\n",
        "\n",
        "Please read about this implementation starting at page 27 from the website listed above."
      ]
    },
    {
      "cell_type": "markdown",
      "metadata": {
        "id": "WJHvj66CJGf-"
      },
      "source": [
        "## The first thing we will do is import all the libraries\n",
        "\n",
        "We will be using the lower resolution MINST data set"
      ]
    },
    {
      "cell_type": "code",
      "metadata": {
        "id": "hzdFdm4yJGgB"
      },
      "source": [
        "from sklearn.datasets import load_digits # The MNIST data set is in scikit learn data set\n",
        "from sklearn.preprocessing import StandardScaler  # It is important in neural networks to scale the date\n",
        "from sklearn.model_selection import train_test_split  # The standard - train/test to prevent overfitting and choose hyperparameters\n",
        "from sklearn.metrics import accuracy_score # \n",
        "import numpy as np\n",
        "import numpy.random as r # We will randomly initialize our weights\n",
        "import matplotlib.pyplot as plt \n",
        "import math"
      ],
      "execution_count": 166,
      "outputs": []
    },
    {
      "cell_type": "markdown",
      "metadata": {
        "id": "O72-IJJoJGgQ"
      },
      "source": [
        "## Looking at the data\n",
        "\n",
        "After we load the data, we print the shape of the data and a pixelated digit.\n",
        "\n",
        "We also show what the features of one example looks like.\n",
        "\n",
        "The neural net will learn to estimate which digit these pixels represent."
      ]
    },
    {
      "cell_type": "code",
      "metadata": {
        "id": "1C24mz8fJGgT",
        "outputId": "81137794-3804-4ac9-be3d-e4a830b19dff",
        "colab": {
          "base_uri": "https://localhost:8080/",
          "height": 417
        }
      },
      "source": [
        "digits=load_digits()\n",
        "X = digits.data\n",
        "print(\"The shape of the digits dataset:\") \n",
        "print(digits.data.shape)\n",
        "plt.gray()\n",
        "plt.matshow(digits.images[0])\n",
        "plt.show()\n",
        "y = digits.target\n",
        "print(y[0:1])\n",
        "print(X[0,:])"
      ],
      "execution_count": 2,
      "outputs": [
        {
          "output_type": "stream",
          "text": [
            "The shape of the digits dataset:\n",
            "(1797, 64)\n"
          ],
          "name": "stdout"
        },
        {
          "output_type": "display_data",
          "data": {
            "text/plain": [
              "<Figure size 432x288 with 0 Axes>"
            ]
          },
          "metadata": {
            "tags": []
          }
        },
        {
          "output_type": "display_data",
          "data": {
            "image/png": "[encoded data removed]",
            "text/plain": [
              "<Figure size 288x288 with 1 Axes>"
            ]
          },
          "metadata": {
            "tags": [],
            "needs_background": "light"
          }
        },
        {
          "output_type": "stream",
          "text": [
            "[0]\n",
            "[ 0.  0.  5. 13.  9.  1.  0.  0.  0.  0. 13. 15. 10. 15.  5.  0.  0.  3.\n",
            " 15.  2.  0. 11.  8.  0.  0.  4. 12.  0.  0.  8.  8.  0.  0.  5.  8.  0.\n",
            "  0.  9.  8.  0.  0.  4. 11.  0.  1. 12.  7.  0.  0.  2. 14.  5. 10. 12.\n",
            "  0.  0.  0.  0.  6. 13. 10.  0.  0.  0.]\n"
          ],
          "name": "stdout"
        }
      ]
    },
    {
      "cell_type": "markdown",
      "metadata": {
        "id": "PMzetFu9JGgc"
      },
      "source": [
        "## 1) Scale the dataset\n",
        "The training features range from 0 to 15.  To help the algorithm converge, we will scale the data to have a mean of 0 and unit variance"
      ]
    },
    {
      "cell_type": "code",
      "metadata": {
        "id": "NHs5Vm50JGgd",
        "outputId": "56a8d607-9011-4546-ded0-5645884036b5",
        "colab": {
          "base_uri": "https://localhost:8080/"
        }
      },
      "source": [
        "X_scale = StandardScaler()\n",
        "X = X_scale.fit_transform(digits.data)\n",
        "\n",
        "X[0,:] # Looking the new features after scaling"
      ],
      "execution_count": 3,
      "outputs": [
        {
          "output_type": "execute_result",
          "data": {
            "text/plain": [
              "array([ 0.        , -0.33501649, -0.04308102,  0.27407152, -0.66447751,\n",
              "       -0.84412939, -0.40972392, -0.12502292, -0.05907756, -0.62400926,\n",
              "        0.4829745 ,  0.75962245, -0.05842586,  1.12772113,  0.87958306,\n",
              "       -0.13043338, -0.04462507,  0.11144272,  0.89588044, -0.86066632,\n",
              "       -1.14964846,  0.51547187,  1.90596347, -0.11422184, -0.03337973,\n",
              "        0.48648928,  0.46988512, -1.49990136, -1.61406277,  0.07639777,\n",
              "        1.54181413, -0.04723238,  0.        ,  0.76465553,  0.05263019,\n",
              "       -1.44763006, -1.73666443,  0.04361588,  1.43955804,  0.        ,\n",
              "       -0.06134367,  0.8105536 ,  0.63011714, -1.12245711, -1.06623158,\n",
              "        0.66096475,  0.81845076, -0.08874162, -0.03543326,  0.74211893,\n",
              "        1.15065212, -0.86867056,  0.11012973,  0.53761116, -0.75743581,\n",
              "       -0.20978513, -0.02359646, -0.29908135,  0.08671869,  0.20829258,\n",
              "       -0.36677122, -1.14664746, -0.5056698 , -0.19600752])"
            ]
          },
          "metadata": {
            "tags": []
          },
          "execution_count": 3
        }
      ]
    },
    {
      "cell_type": "markdown",
      "metadata": {
        "id": "SR6x8zK8JGgi"
      },
      "source": [
        "## 2) Creating training and test datasets\n",
        "We split the data into training and test data sets. We will train the neural network with the training dataset, and evaluate our neural network with the test dataset "
      ]
    },
    {
      "cell_type": "code",
      "metadata": {
        "id": "h5FhvCvxJGgj"
      },
      "source": [
        "#Split the data into training and test set.  60% training and %40 test\n",
        "X_train, X_test, y_train, y_test = train_test_split(X, y, test_size=0.4)"
      ],
      "execution_count": 4,
      "outputs": []
    },
    {
      "cell_type": "code",
      "metadata": {
        "id": "npLZRuqAPi2H",
        "outputId": "ee3663d0-5482-4a91-82c3-433e86fbeb47",
        "colab": {
          "base_uri": "https://localhost:8080/"
        }
      },
      "source": [
        "X_train.shape"
      ],
      "execution_count": 20,
      "outputs": [
        {
          "output_type": "execute_result",
          "data": {
            "text/plain": [
              "(1078, 64)"
            ]
          },
          "metadata": {
            "tags": []
          },
          "execution_count": 20
        }
      ]
    },
    {
      "cell_type": "markdown",
      "metadata": {
        "id": "l0dM82aYJGgm"
      },
      "source": [
        "## 3) Setting up the output layer"
      ]
    },
    {
      "cell_type": "markdown",
      "metadata": {
        "id": "AGdizwL_JGgn"
      },
      "source": [
        "### One-vs-all encoding\n",
        "Our target is an integer in the range [0,..,9], so we will have 10 output neuron's in our network.  \n",
        "\n",
        "-  If  $y=0$, we want the output neurons to have the values $(1,0,0,0,0,0,0,0,0,0)$\n",
        "\n",
        "-  If  $y=1$ we want the output neurons to have the values $(0,1,0,0,0,0,0,0,0,0)$\n",
        "-  etc\n",
        "\n",
        "Thus we need to change our target so it is the same as our hoped for output of the neural network.  \n",
        "-  If $y=0$ we change it into the vector $(1,0,0,0,0,0,0,0,0,0)$. \n",
        "-  If $y=1$ we change it into the vector $(0,1,0,0,0,0,0,0,0,0)$\n",
        "-  etc\n",
        "\n",
        "See page 29 from the website listed above\n",
        "\n",
        "The code to covert the target vector."
      ]
    },
    {
      "cell_type": "code",
      "metadata": {
        "id": "97WC-tCsJGgo"
      },
      "source": [
        "def convert_y_to_vect(y):\n",
        "    y_vect = np.zeros((len(y), 10))\n",
        "    for i in range(len(y)):\n",
        "        y_vect[i, y[i]] = 1\n",
        "    return y_vect"
      ],
      "execution_count": 5,
      "outputs": []
    },
    {
      "cell_type": "markdown",
      "metadata": {
        "id": "3GwZnhIPJGgs"
      },
      "source": [
        "Converting the training and test targets to vectors "
      ]
    },
    {
      "cell_type": "code",
      "metadata": {
        "id": "_Xr1lvL_JGgt"
      },
      "source": [
        "# convert digits to vectors\n",
        "y_v_train = convert_y_to_vect(y_train)\n",
        "y_v_test = convert_y_to_vect(y_test)"
      ],
      "execution_count": 6,
      "outputs": []
    },
    {
      "cell_type": "markdown",
      "metadata": {
        "id": "Ga7PXo2kJGgw"
      },
      "source": [
        "A quick check to see that our code performs as we expect "
      ]
    },
    {
      "cell_type": "code",
      "metadata": {
        "id": "C2832XocJGgw",
        "outputId": "4e84fe7c-e9fb-42fc-8205-68c549e3f038",
        "colab": {
          "base_uri": "https://localhost:8080/"
        }
      },
      "source": [
        "print(y_train[0:4])\n",
        "print(y_v_train[0:4])"
      ],
      "execution_count": 7,
      "outputs": [
        {
          "output_type": "stream",
          "text": [
            "[4 6 9 8]\n",
            "[[0. 0. 0. 0. 1. 0. 0. 0. 0. 0.]\n",
            " [0. 0. 0. 0. 0. 0. 1. 0. 0. 0.]\n",
            " [0. 0. 0. 0. 0. 0. 0. 0. 0. 1.]\n",
            " [0. 0. 0. 0. 0. 0. 0. 0. 1. 0.]]\n"
          ],
          "name": "stdout"
        }
      ]
    },
    {
      "cell_type": "markdown",
      "metadata": {
        "id": "WUru91RuJGgz"
      },
      "source": [
        "## 4) Creating the neural network"
      ]
    },
    {
      "cell_type": "markdown",
      "metadata": {
        "id": "wWGrgwoWJGgz"
      },
      "source": [
        "### The activation function and its derivative\n",
        "\n",
        "We will use the sigmoid activation function:  $f(z)=\\frac{1}{1+e^{-z}}$\n",
        "\n",
        "The deriviative of the sigmoid function is: $f'(z) = f(z)(1-f(z))$ "
      ]
    },
    {
      "cell_type": "code",
      "metadata": {
        "id": "-h1r9ZClJGg0"
      },
      "source": [
        "def sig(z):\n",
        "    return 1 / (1 + np.exp(-z))\n",
        "\n",
        "\n",
        "def sig_deriv(z):\n",
        "    return sig(z) * (1 - sig(z))"
      ],
      "execution_count": 71,
      "outputs": []
    },
    {
      "cell_type": "markdown",
      "metadata": {
        "id": "RPttjKJAfKIi"
      },
      "source": [
        "ReLU activation function"
      ]
    },
    {
      "cell_type": "code",
      "metadata": {
        "id": "JDF-jUoZfIrI"
      },
      "source": [
        "# leaky relu\n",
        "def relu_l(z):\n",
        "  return np.where(z < 0, z*0.01, z)\n",
        "\n",
        "def relu_l_deriv(z):\n",
        "   return np.where(z < 0, 0.01, 1)"
      ],
      "execution_count": 117,
      "outputs": []
    },
    {
      "cell_type": "code",
      "metadata": {
        "id": "9xZ53fZR0CCU"
      },
      "source": [
        "def relu(z):\n",
        "  return np.where(z < 0, 0, z)\n",
        "\n",
        "def relu_deriv(z):\n",
        "   return np.where(z < 0, 0, 1)"
      ],
      "execution_count": 130,
      "outputs": []
    },
    {
      "cell_type": "markdown",
      "metadata": {
        "id": "R04_cRzDfOPT"
      },
      "source": [
        "tanh activation function"
      ]
    },
    {
      "cell_type": "code",
      "metadata": {
        "id": "bHNG0IflfS4o"
      },
      "source": [
        "def tanh(z):\n",
        "  t = np.exp(z)\n",
        "  tn = np.exp(-z)\n",
        "  tanh = (t-tn)/(t+tn)\n",
        "  return tanh\n",
        "\n",
        "def tanh_deriv(z):\n",
        "  return (1-tanh(z)**2)"
      ],
      "execution_count": 105,
      "outputs": []
    },
    {
      "cell_type": "markdown",
      "metadata": {
        "id": "Nvo8pFizJGg2"
      },
      "source": [
        "### Creating and initialing W and b\n",
        "We want the weights in W to be different so that during back propagation the nodes on a level will have different gradients and thus have different update values.\n",
        "\n",
        "We want the  weights to be small values, since the sigmoid is almost \"flat\" for large inputs.\n",
        "\n",
        "Next is the code that assigns each weight a number uniformly drawn from $[0.0, 1.0)$.  The code assumes that the number of neurons in each level is in the python list *nn_structure*.\n",
        "\n",
        "In the code, the weights, $W^{(\\ell)}$ and $b^{(\\ell)}$ are held in a python dictionary"
      ]
    },
    {
      "cell_type": "code",
      "metadata": {
        "id": "-3R7tdjiJGg2"
      },
      "source": [
        "def setup_and_init_weights(nn_structure):\n",
        "    W = {} #creating a dictionary i.e. a set of key: value pairs\n",
        "    b = {}\n",
        "    for l in range(1, len(nn_structure)):\n",
        "        W[l] = r.random_sample((nn_structure[l], nn_structure[l-1])) #Return “continuous uniform” random floats in the half-open interval [0.0, 1.0). \n",
        "        b[l] = r.random_sample((nn_structure[l],))\n",
        "    return W, b"
      ],
      "execution_count": 9,
      "outputs": []
    },
    {
      "cell_type": "code",
      "metadata": {
        "id": "uM3TLlNU5ZnD"
      },
      "source": [
        "def init_weights_normal(nn_structure):\n",
        "    W={}\n",
        "    b={}\n",
        "    for l in range(1,len(nn_structure)):\n",
        "      W[l] = np.random.normal(0,1,size=(nn_structure[l],nn_structure[l-1]))\n",
        "      b[l] = np.random.normal(0,1,size=(nn_structure[l],))\n",
        "    return W,b"
      ],
      "execution_count": 175,
      "outputs": []
    },
    {
      "cell_type": "markdown",
      "metadata": {
        "id": "IBCdUk11JGg4"
      },
      "source": [
        "### Initializing $\\triangledown W$ and $\\triangledown b$\n",
        "Creating $\\triangledown W^{(\\ell)}$ and $\\triangledown b^{(\\ell)}$ to have the same size as $W^{(\\ell)}$ and $b^{(\\ell)}$, and setting $\\triangledown W^{(\\ell)}$, and  $\\triangledown b^{(\\ell)}$ to zero"
      ]
    },
    {
      "cell_type": "code",
      "metadata": {
        "id": "57BYRcVdJGg4"
      },
      "source": [
        "def init_tri_values(nn_structure):\n",
        "    tri_W = {}\n",
        "    tri_b = {}\n",
        "    for l in range(1, len(nn_structure)):\n",
        "        tri_W[l] = np.zeros((nn_structure[l], nn_structure[l-1]))\n",
        "        tri_b[l] = np.zeros((nn_structure[l],))\n",
        "    return tri_W, tri_b"
      ],
      "execution_count": 10,
      "outputs": []
    },
    {
      "cell_type": "markdown",
      "metadata": {
        "id": "h5Wn-Tq7JGg6"
      },
      "source": [
        "## Feed forward\n",
        "Perform a forward pass throught the network.  The function returns the values of $a$ and $z$"
      ]
    },
    {
      "cell_type": "code",
      "metadata": {
        "id": "BLv3Hm2QJGg7"
      },
      "source": [
        "def feed_forward(x, W, b, f):\n",
        "    a = {1: x} # create a dictionary for holding the a values for all levels\n",
        "    z = { } # create a dictionary for holding the z values for all the layers\n",
        "    for l in range(1, len(W) + 1): # for each layer\n",
        "        node_in = a[l]\n",
        "        z[l+1] = W[l].dot(node_in) + b[l]  # z^(l+1) = W^(l)*a^(l) + b^(l)\n",
        "        a[l+1] = f(z[l+1]) # a^(l+1) = f(z^(l+1))\n",
        "    return a, z"
      ],
      "execution_count": 70,
      "outputs": []
    },
    {
      "cell_type": "markdown",
      "metadata": {
        "id": "KS2PejqLJGg9"
      },
      "source": [
        "## Compute $\\delta$\n",
        "The code below compute $\\delta^{(s_l)}$ in a function called \"calculate_out_layer_delta\",  and  computes $\\delta^{(\\ell)}$ for the hidden layers in the function called \"calculate_hidden_delta\".  \n",
        "\n",
        "If we wanted to have a different cost function, we would change the \"calculate_out_layer_delta\" function.\n"
      ]
    },
    {
      "cell_type": "code",
      "metadata": {
        "id": "YtU3YCxYJGg9"
      },
      "source": [
        "def calculate_out_layer_delta(y, a_out, z_out,f_deriv):\n",
        "    # delta^(nl) = -(y_i - a_i^(nl)) * f'(z_i^(nl))\n",
        "    return -(y-a_out) * f_deriv(z_out) \n",
        "\n",
        "\n",
        "def calculate_hidden_delta(delta_plus_1, w_l, z_l,f_deriv):\n",
        "    # delta^(l) = (transpose(W^(l)) * delta^(l+1)) * f'(z^(l))\n",
        "    return np.dot(np.transpose(w_l), delta_plus_1) * f_deriv(z_l)"
      ],
      "execution_count": 69,
      "outputs": []
    },
    {
      "cell_type": "markdown",
      "metadata": {
        "id": "i4F3o6PsJGg_"
      },
      "source": [
        "## The Back Propagation Algorithm\n"
      ]
    },
    {
      "cell_type": "code",
      "metadata": {
        "id": "-NhG8UNiJGhA"
      },
      "source": [
        "def train_nn(nn_structure, X, y, iter_num=3000, alpha=0.25,f = sig,f_deriv= sig_deriv,init_f = setup_and_init_weights):\n",
        "    W, b = init_f(nn_structure)\n",
        "    cnt = 0\n",
        "    N = len(y)\n",
        "    lam = 0.00001\n",
        "    avg_cost_func = []\n",
        "    print('Starting gradient descent for {} iterations'.format(iter_num))\n",
        "    while cnt < iter_num:\n",
        "        if cnt%1000 == 0:\n",
        "            print('Iteration {} of {}'.format(cnt, iter_num))\n",
        "        tri_W, tri_b = init_tri_values(nn_structure)\n",
        "        avg_cost = 0\n",
        "        sum_weight = 0\n",
        "        for i in range(N): #num of samples\n",
        "            delta = {}\n",
        "            # perform the feed forward pass and return the stored a and z values, to be used in the\n",
        "            # gradient descent step\n",
        "            a, z = feed_forward(X[i, :], W, b,f)\n",
        "            # loop from nl-1 to 1 backpropagating the errors\n",
        "            for l in range(len(nn_structure), 0, -1):\n",
        "                if l == len(nn_structure):\n",
        "                    delta[l] = calculate_out_layer_delta(y[i,:], a[l], z[l], f_deriv)\n",
        "                    avg_cost += np.linalg.norm((y[i,:]-a[l]))\n",
        "                else:\n",
        "                    if l > 1:\n",
        "                        delta[l] = calculate_hidden_delta(delta[l+1], W[l], z[l], f_deriv)\n",
        "                    # triW^(l) = triW^(l) + delta^(l+1) * transpose(a^(l))\n",
        "                    tri_W[l] += np.dot(delta[l+1][:,np.newaxis], np.transpose(a[l][:,np.newaxis]))# np.newaxis increase the number of dimensions\n",
        "                    # trib^(l) = trib^(l) + delta^(l+1)\n",
        "                    tri_b[l] += delta[l+1]\n",
        "        # perform the gradient descent step for the weights in each layer\n",
        "        for l in range(len(nn_structure) - 1, 0, -1): #num of layers\n",
        "            W[l] += -alpha * (1.0/N * tri_W[l] + lam* W[l])\n",
        "            sum_weight = sum_weight+np.linalg.norm(W[l])\n",
        "            b[l] += -alpha * (1.0/N * tri_b[l])\n",
        "        # complete the average cost calculation\n",
        "        avg_cost = 1.0/N * avg_cost + lam/2*(sum_weight)\n",
        "        avg_cost_func.append(avg_cost)\n",
        "        cnt += 1\n",
        "    return W, b, avg_cost_func\n",
        "\n",
        "\n",
        "def predict_y(W, b, X, n_layers,f):\n",
        "    N = X.shape[0]\n",
        "    y = np.zeros((N,))\n",
        "    for i in range(N):\n",
        "        a, z = feed_forward(X[i, :], W, b,f)\n",
        "        y[i] = np.argmax(a[n_layers])\n",
        "    return y"
      ],
      "execution_count": 142,
      "outputs": []
    },
    {
      "cell_type": "markdown",
      "metadata": {
        "id": "TYQfU8xgJGhC"
      },
      "source": [
        "## Running the neural network\n",
        "\n",
        "Our code assumes the size of each layer in our network is held in a list.  The input layer will have 64 neurons (one for each pixel in our 8 by 8 pixelated digit).  Our hidden layer has 30 neurons (you can change this value).  The output layer has 10 neurons.\n",
        "\n",
        "Next we create the python list to hold the number of neurons for each level and then run the neural network code with our training data.\n",
        "\n",
        "This code will take some time..."
      ]
    },
    {
      "cell_type": "code",
      "metadata": {
        "id": "4BP_h56IJGhC",
        "outputId": "52fa38e6-ce99-47d4-a0b2-c0d87d3c0b55",
        "colab": {
          "base_uri": "https://localhost:8080/"
        }
      },
      "source": [
        "nn_structure = [64, 30, 10]\n",
        "    \n",
        "# train the NN\n",
        "W, b, avg_cost_func = train_nn(nn_structure, X_train, y_v_train, 3000,0.25,sig,sig_deriv)"
      ],
      "execution_count": 74,
      "outputs": [
        {
          "output_type": "stream",
          "text": [
            "Starting gradient descent for 3000 iterations\n",
            "Iteration 0 of 3000\n",
            "Iteration 1000 of 3000\n",
            "Iteration 2000 of 3000\n"
          ],
          "name": "stdout"
        }
      ]
    },
    {
      "cell_type": "markdown",
      "metadata": {
        "id": "yW-dgYCwJGhE"
      },
      "source": [
        "### Plotting the learning curve\n"
      ]
    },
    {
      "cell_type": "code",
      "metadata": {
        "id": "8cKjZY6oJGhF",
        "outputId": "238ec079-7d55-422c-833c-22652cd8d467",
        "colab": {
          "base_uri": "https://localhost:8080/",
          "height": 279
        }
      },
      "source": [
        "# plot the avg_cost_func\n",
        "plt.plot(avg_cost_func)\n",
        "plt.ylabel('Average J')\n",
        "plt.xlabel('Iteration number')\n",
        "plt.show()"
      ],
      "execution_count": 50,
      "outputs": [
        {
          "output_type": "display_data",
          "data": {
            "image/png": "[encoded data removed]",
            "text/plain": [
              "<Figure size 432x288 with 1 Axes>"
            ]
          },
          "metadata": {
            "tags": [],
            "needs_background": "light"
          }
        }
      ]
    },
    {
      "cell_type": "markdown",
      "metadata": {
        "id": "6GVHYtVtJGhH"
      },
      "source": [
        "## 5) Assessing accuracy\n",
        "Next we determine what percentage the neural network correctly predicted the handwritten digit correctly on the test set"
      ]
    },
    {
      "cell_type": "code",
      "metadata": {
        "id": "mPllUJYZJGhH",
        "outputId": "f8e300c9-2ba1-40c1-a0f5-794220600f8a",
        "colab": {
          "base_uri": "https://localhost:8080/"
        }
      },
      "source": [
        "# get the prediction accuracy and print\n",
        "y_pred = predict_y(W, b, X_test, 3,sig)\n",
        "print('Prediction accuracy is {}%'.format(accuracy_score(y_test, y_pred) * 100))"
      ],
      "execution_count": 78,
      "outputs": [
        {
          "output_type": "stream",
          "text": [
            "Prediction accuracy is 87.62169680111266%\n"
          ],
          "name": "stdout"
        }
      ]
    },
    {
      "cell_type": "markdown",
      "metadata": {
        "id": "-N2wUWkNJfK7"
      },
      "source": [
        "normal distribution initial weights with sigmoid  activation"
      ]
    },
    {
      "cell_type": "code",
      "metadata": {
        "id": "6wEHzSbLHbjW",
        "outputId": "3f453d23-2b45-4e7e-f563-be049f48743a",
        "colab": {
          "base_uri": "https://localhost:8080/"
        }
      },
      "source": [
        "W, b, avg_cost_func = train_nn(nn_structure, X_train, y_v_train, 3000,0.25,sig,sig_deriv,init_weights_normal)"
      ],
      "execution_count": 184,
      "outputs": [
        {
          "output_type": "stream",
          "text": [
            "Starting gradient descent for 3000 iterations\n",
            "Iteration 0 of 3000\n",
            "Iteration 1000 of 3000\n",
            "Iteration 2000 of 3000\n"
          ],
          "name": "stdout"
        }
      ]
    },
    {
      "cell_type": "code",
      "metadata": {
        "id": "ca2XBLz_Hmr-",
        "outputId": "ac0b6050-bde7-4a29-8bba-291136981ae6",
        "colab": {
          "base_uri": "https://localhost:8080/"
        }
      },
      "source": [
        "y_pred = predict_y(W, b, X_test, 3,sig)\n",
        "print('Prediction accuracy is {}%'.format(accuracy_score(y_test, y_pred) * 100))"
      ],
      "execution_count": 185,
      "outputs": [
        {
          "output_type": "stream",
          "text": [
            "Prediction accuracy is 80.25034770514604%\n"
          ],
          "name": "stdout"
        }
      ]
    },
    {
      "cell_type": "markdown",
      "metadata": {
        "id": "CscmI-5ymNOL"
      },
      "source": [
        "### activation with relu"
      ]
    },
    {
      "cell_type": "code",
      "metadata": {
        "id": "mRQMuDsamUZu",
        "outputId": "0892fb23-f706-4b00-81b5-51bd992fc303",
        "colab": {
          "base_uri": "https://localhost:8080/"
        }
      },
      "source": [
        "W, b, avg_cost_func = train_nn(nn_structure, X_train, y_v_train, 3000,0.001,relu,relu_deriv)"
      ],
      "execution_count": 163,
      "outputs": [
        {
          "output_type": "stream",
          "text": [
            "Starting gradient descent for 3000 iterations\n",
            "Iteration 0 of 3000\n",
            "Iteration 1000 of 3000\n",
            "Iteration 2000 of 3000\n"
          ],
          "name": "stdout"
        }
      ]
    },
    {
      "cell_type": "code",
      "metadata": {
        "id": "nUR76JcgmbLR",
        "outputId": "fbb6e16e-a76d-4a3f-fa08-e2a2912b358c",
        "colab": {
          "base_uri": "https://localhost:8080/",
          "height": 279
        }
      },
      "source": [
        "plt.plot(avg_cost_func)\n",
        "plt.ylabel('Average J')\n",
        "plt.xlabel('Iteration number')\n",
        "plt.show()"
      ],
      "execution_count": 135,
      "outputs": [
        {
          "output_type": "display_data",
          "data": {
            "image/png": "[encoded data removed]",
            "text/plain": [
              "<Figure size 432x288 with 1 Axes>"
            ]
          },
          "metadata": {
            "tags": [],
            "needs_background": "light"
          }
        }
      ]
    },
    {
      "cell_type": "code",
      "metadata": {
        "id": "kE2NQ8KImgUb",
        "outputId": "0366c87a-e72a-4e46-a2ed-53897785a2c8",
        "colab": {
          "base_uri": "https://localhost:8080/"
        }
      },
      "source": [
        "y_pred = predict_y(W, b, X_test, 3, relu)\n",
        "print('Prediction accuracy is {}%'.format(accuracy_score(y_test, y_pred) * 100))"
      ],
      "execution_count": 136,
      "outputs": [
        {
          "output_type": "stream",
          "text": [
            "Prediction accuracy is 11.96105702364395%\n"
          ],
          "name": "stdout"
        }
      ]
    },
    {
      "cell_type": "markdown",
      "metadata": {
        "id": "5ongo2tJJWoV"
      },
      "source": [
        "normal distribution initial weights"
      ]
    },
    {
      "cell_type": "code",
      "metadata": {
        "id": "2dOQz4OU8xaG",
        "outputId": "8f1348db-7dbe-42fa-a5f8-0f80f3ce9d17",
        "colab": {
          "base_uri": "https://localhost:8080/"
        }
      },
      "source": [
        "W, b, avg_cost_func = train_nn(nn_structure, X_train, y_v_train, 3000,0.001,relu,relu_deriv,init_weights_normal)"
      ],
      "execution_count": 192,
      "outputs": [
        {
          "output_type": "stream",
          "text": [
            "Starting gradient descent for 3000 iterations\n",
            "Iteration 0 of 3000\n",
            "Iteration 1000 of 3000\n",
            "Iteration 2000 of 3000\n"
          ],
          "name": "stdout"
        }
      ]
    },
    {
      "cell_type": "code",
      "metadata": {
        "id": "M1kASr1v9Oxs",
        "outputId": "0f8ea20d-0068-4a9e-e83e-84d3222426f0",
        "colab": {
          "base_uri": "https://localhost:8080/",
          "height": 279
        }
      },
      "source": [
        "plt.plot(avg_cost_func)\n",
        "plt.ylabel('Average J')\n",
        "plt.xlabel('Iteration number')\n",
        "plt.show()"
      ],
      "execution_count": 193,
      "outputs": [
        {
          "output_type": "display_data",
          "data": {
            "image/png": "[encoded data removed]",
            "text/plain": [
              "<Figure size 432x288 with 1 Axes>"
            ]
          },
          "metadata": {
            "tags": [],
            "needs_background": "light"
          }
        }
      ]
    },
    {
      "cell_type": "code",
      "metadata": {
        "id": "RNXMPFge9Q9e",
        "outputId": "29937915-fdba-4968-f0c0-4682dd2e5b55",
        "colab": {
          "base_uri": "https://localhost:8080/"
        }
      },
      "source": [
        "y_pred = predict_y(W, b, X_test, 3, relu)\n",
        "print('Prediction accuracy is {}%'.format(accuracy_score(y_test, y_pred) * 100))"
      ],
      "execution_count": 196,
      "outputs": [
        {
          "output_type": "stream",
          "text": [
            "Prediction accuracy is 8.344923504867872%\n"
          ],
          "name": "stdout"
        }
      ]
    },
    {
      "cell_type": "markdown",
      "metadata": {
        "id": "4dW8GeENu-wl"
      },
      "source": [
        "### tanh activation function"
      ]
    },
    {
      "cell_type": "code",
      "metadata": {
        "id": "WyiHFwNqvC21",
        "outputId": "92d5c08d-431d-4afd-8123-f2a6bf674b86",
        "colab": {
          "base_uri": "https://localhost:8080/"
        }
      },
      "source": [
        "W, b, avg_cost_func = train_nn(nn_structure, X_train, y_v_train, 3000,0.25,tanh,tanh_deriv)"
      ],
      "execution_count": 116,
      "outputs": [
        {
          "output_type": "stream",
          "text": [
            "Starting gradient descent for 3000 iterations\n",
            "Iteration 0 of 3000\n",
            "Iteration 1000 of 3000\n",
            "Iteration 2000 of 3000\n"
          ],
          "name": "stdout"
        }
      ]
    },
    {
      "cell_type": "code",
      "metadata": {
        "id": "feQGnGHLvHvC",
        "outputId": "3bc9abbf-e6a0-4589-b173-edc6b66626cf",
        "colab": {
          "base_uri": "https://localhost:8080/",
          "height": 279
        }
      },
      "source": [
        "plt.plot(avg_cost_func)\n",
        "plt.ylabel('Average J')\n",
        "plt.xlabel('Iteration number')\n",
        "plt.show()"
      ],
      "execution_count": 119,
      "outputs": [
        {
          "output_type": "display_data",
          "data": {
            "image/png": "[encoded data removed]",
            "text/plain": [
              "<Figure size 432x288 with 1 Axes>"
            ]
          },
          "metadata": {
            "tags": [],
            "needs_background": "light"
          }
        }
      ]
    },
    {
      "cell_type": "code",
      "metadata": {
        "id": "M0tMnwEovNGk",
        "outputId": "9932c270-6619-4860-9398-01451015016c",
        "colab": {
          "base_uri": "https://localhost:8080/"
        }
      },
      "source": [
        "y_pred = predict_y(W, b, X_test, 3, tanh)\n",
        "print('Prediction accuracy is {}%'.format(accuracy_score(y_test, y_pred) * 100))"
      ],
      "execution_count": 120,
      "outputs": [
        {
          "output_type": "stream",
          "text": [
            "Prediction accuracy is 86.36995827538247%\n"
          ],
          "name": "stdout"
        }
      ]
    },
    {
      "cell_type": "markdown",
      "metadata": {
        "id": "FW9HLsUBJPH5"
      },
      "source": [
        "try normal distribution initial weights"
      ]
    },
    {
      "cell_type": "code",
      "metadata": {
        "id": "X83WG_02CS08",
        "outputId": "2a820684-b524-415b-99bc-24517ef56ba6",
        "colab": {
          "base_uri": "https://localhost:8080/"
        }
      },
      "source": [
        "W, b, avg_cost_func = train_nn(nn_structure, X_train, y_v_train, 3000,0.25,tanh,tanh_deriv,init_weights_normal)"
      ],
      "execution_count": 176,
      "outputs": [
        {
          "output_type": "stream",
          "text": [
            "Starting gradient descent for 3000 iterations\n",
            "Iteration 0 of 3000\n",
            "Iteration 1000 of 3000\n",
            "Iteration 2000 of 3000\n"
          ],
          "name": "stdout"
        }
      ]
    },
    {
      "cell_type": "code",
      "metadata": {
        "id": "ws9Zfl9PCdb1",
        "outputId": "f56975ad-fde1-4838-887b-bb3d1589b67d",
        "colab": {
          "base_uri": "https://localhost:8080/"
        }
      },
      "source": [
        "y_pred = predict_y(W, b, X_test, 3, tanh)\n",
        "print('Prediction accuracy is {}%'.format(accuracy_score(y_test, y_pred) * 100))"
      ],
      "execution_count": 177,
      "outputs": [
        {
          "output_type": "stream",
          "text": [
            "Prediction accuracy is 91.3769123783032%\n"
          ],
          "name": "stdout"
        }
      ]
    },
    {
      "cell_type": "markdown",
      "metadata": {
        "id": "oLhmnXx1JJwQ"
      },
      "source": [
        "try different learnint rate"
      ]
    },
    {
      "cell_type": "code",
      "metadata": {
        "id": "hhV06XWjClAX",
        "outputId": "cf37e8e2-772d-4b99-dff2-0170db8250dd",
        "colab": {
          "base_uri": "https://localhost:8080/"
        }
      },
      "source": [
        "accur=[]\n",
        "for lr in (0.0001,0.001,0.1,0.5):\n",
        "  W, b, avg_cost_func = train_nn(nn_structure, X_train, y_v_train, 1000,lr,tanh,tanh_deriv)\n",
        "  y_pred = predict_y(W, b, X_test, 3, tanh)\n",
        "  accur.append(accuracy_score(y_test, y_pred) * 100)"
      ],
      "execution_count": 182,
      "outputs": [
        {
          "output_type": "stream",
          "text": [
            "Starting gradient descent for 1000 iterations\n",
            "Iteration 0 of 1000\n",
            "Starting gradient descent for 1000 iterations\n",
            "Iteration 0 of 1000\n",
            "Starting gradient descent for 1000 iterations\n",
            "Iteration 0 of 1000\n",
            "Starting gradient descent for 1000 iterations\n",
            "Iteration 0 of 1000\n"
          ],
          "name": "stdout"
        }
      ]
    },
    {
      "cell_type": "code",
      "metadata": {
        "id": "N7nrBi5aDhs8",
        "outputId": "cab252b5-6388-4151-94db-b297984d22df",
        "colab": {
          "base_uri": "https://localhost:8080/"
        }
      },
      "source": [
        "accur"
      ],
      "execution_count": 183,
      "outputs": [
        {
          "output_type": "execute_result",
          "data": {
            "text/plain": [
              "[11.265646731571627, 6.954102920723226, 32.962447844228095, 85.25730180806676]"
            ]
          },
          "metadata": {
            "tags": []
          },
          "execution_count": 183
        }
      ]
    }
  ]
}