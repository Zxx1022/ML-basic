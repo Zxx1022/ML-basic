{
  "nbformat": 4,
  "nbformat_minor": 0,
  "metadata": {
    "kernelspec": {
      "display_name": "Python 3",
      "language": "python",
      "name": "python3"
    },
    "language_info": {
      "codemirror_mode": {
        "name": "ipython",
        "version": 3
      },
      "file_extension": ".py",
      "mimetype": "text/x-python",
      "name": "python",
      "nbconvert_exporter": "python",
      "pygments_lexer": "ipython3",
      "version": "3.7.2"
    },
    "colab": {
      "name": "Spam Detection HW2 .ipynb",
      "provenance": [],
      "collapsed_sections": []
    }
  },
  "cells": [
    {
      "cell_type": "markdown",
      "metadata": {
        "id": "AmSxSCqTGj2G",
        "colab_type": "text"
      },
      "source": [
        "# Using Naive Bayes algorithm for spam detection\n",
        "\n",
        "In this assigment, you will predict if a sms message is 'spam' or 'ham' (i.e. not 'spam') using the Bernoulli Naive Bayes *classifier*.\n",
        "\n",
        "The training data is from the UCI Machine Learning Repository: https://archive.ics.uci.edu/ml/datasets/SMS+Spam+Collection.  Please download the zip file before running the code below. \n"
      ]
    },
    {
      "cell_type": "markdown",
      "metadata": {
        "id": "rbbSQ3lvGj2H",
        "colab_type": "text"
      },
      "source": [
        "## Step 1:  Getting, understanding, and cleaning the dataset\n"
      ]
    },
    {
      "cell_type": "markdown",
      "metadata": {
        "id": "oAuyy5ZTGj2I",
        "colab_type": "text"
      },
      "source": [
        "###  Importing the dataset"
      ]
    },
    {
      "cell_type": "code",
      "metadata": {
        "id": "R7egEV8QGj2I",
        "colab_type": "code",
        "colab": {
          "base_uri": "https://localhost:8080/",
          "height": 197
        },
        "outputId": "500a50da-aa3f-4d7c-e170-d222063e5cc1"
      },
      "source": [
        "# Import the usual libraries\n",
        "import numpy as np \n",
        "import pandas as pd  # To read in the dataset we will use the Panda's library\n",
        "from google.colab import drive\n",
        "\n",
        "df = pd.read_table('/content/sample_data/SMSSpamCollection', sep = '\\t', header=None, names=['label', 'sms_message'])\n",
        "\n",
        "# Next we observe the first 5 rows of the data to ensure everything was read correctly\n",
        "df.head() "
      ],
      "execution_count": 304,
      "outputs": [
        {
          "output_type": "execute_result",
          "data": {
            "text/html": [
              "<div>\n",
              "<style scoped>\n",
              "    .dataframe tbody tr th:only-of-type {\n",
              "        vertical-align: middle;\n",
              "    }\n",
              "\n",
              "    .dataframe tbody tr th {\n",
              "        vertical-align: top;\n",
              "    }\n",
              "\n",
              "    .dataframe thead th {\n",
              "        text-align: right;\n",
              "    }\n",
              "</style>\n",
              "<table border=\"1\" class=\"dataframe\">\n",
              "  <thead>\n",
              "    <tr style=\"text-align: right;\">\n",
              "      <th></th>\n",
              "      <th>label</th>\n",
              "      <th>sms_message</th>\n",
              "    </tr>\n",
              "  </thead>\n",
              "  <tbody>\n",
              "    <tr>\n",
              "      <th>0</th>\n",
              "      <td>ham</td>\n",
              "      <td>Go until jurong point, crazy.. Available only ...</td>\n",
              "    </tr>\n",
              "    <tr>\n",
              "      <th>1</th>\n",
              "      <td>ham</td>\n",
              "      <td>Ok lar... Joking wif u oni...</td>\n",
              "    </tr>\n",
              "    <tr>\n",
              "      <th>2</th>\n",
              "      <td>spam</td>\n",
              "      <td>Free entry in 2 a wkly comp to win FA Cup fina...</td>\n",
              "    </tr>\n",
              "    <tr>\n",
              "      <th>3</th>\n",
              "      <td>ham</td>\n",
              "      <td>U dun say so early hor... U c already then say...</td>\n",
              "    </tr>\n",
              "    <tr>\n",
              "      <th>4</th>\n",
              "      <td>ham</td>\n",
              "      <td>Nah I don't think he goes to usf, he lives aro...</td>\n",
              "    </tr>\n",
              "  </tbody>\n",
              "</table>\n",
              "</div>"
            ],
            "text/plain": [
              "  label                                        sms_message\n",
              "0   ham  Go until jurong point, crazy.. Available only ...\n",
              "1   ham                      Ok lar... Joking wif u oni...\n",
              "2  spam  Free entry in 2 a wkly comp to win FA Cup fina...\n",
              "3   ham  U dun say so early hor... U c already then say...\n",
              "4   ham  Nah I don't think he goes to usf, he lives aro..."
            ]
          },
          "metadata": {
            "tags": []
          },
          "execution_count": 304
        }
      ]
    },
    {
      "cell_type": "markdown",
      "metadata": {
        "id": "i0C5H3cMGj2L",
        "colab_type": "text"
      },
      "source": [
        "### Data preprocesssing\n",
        "It would be more convenient if the labels were binary instead of 'ham' and 'spam'.  This way our code can always work with numerical values instead of strings."
      ]
    },
    {
      "cell_type": "code",
      "metadata": {
        "id": "zOun42qfGj2L",
        "colab_type": "code",
        "colab": {
          "base_uri": "https://localhost:8080/",
          "height": 197
        },
        "outputId": "adc4fd0f-5ac2-4213-ce1a-f2a58d4259e1"
      },
      "source": [
        "df['label']=df.label.map({'spam':1, 'ham':0})\n",
        "df.head() # Again, lets observe the first 5 rows to make sure everything worked before we continue"
      ],
      "execution_count": 305,
      "outputs": [
        {
          "output_type": "execute_result",
          "data": {
            "text/html": [
              "<div>\n",
              "<style scoped>\n",
              "    .dataframe tbody tr th:only-of-type {\n",
              "        vertical-align: middle;\n",
              "    }\n",
              "\n",
              "    .dataframe tbody tr th {\n",
              "        vertical-align: top;\n",
              "    }\n",
              "\n",
              "    .dataframe thead th {\n",
              "        text-align: right;\n",
              "    }\n",
              "</style>\n",
              "<table border=\"1\" class=\"dataframe\">\n",
              "  <thead>\n",
              "    <tr style=\"text-align: right;\">\n",
              "      <th></th>\n",
              "      <th>label</th>\n",
              "      <th>sms_message</th>\n",
              "    </tr>\n",
              "  </thead>\n",
              "  <tbody>\n",
              "    <tr>\n",
              "      <th>0</th>\n",
              "      <td>0</td>\n",
              "      <td>Go until jurong point, crazy.. Available only ...</td>\n",
              "    </tr>\n",
              "    <tr>\n",
              "      <th>1</th>\n",
              "      <td>0</td>\n",
              "      <td>Ok lar... Joking wif u oni...</td>\n",
              "    </tr>\n",
              "    <tr>\n",
              "      <th>2</th>\n",
              "      <td>1</td>\n",
              "      <td>Free entry in 2 a wkly comp to win FA Cup fina...</td>\n",
              "    </tr>\n",
              "    <tr>\n",
              "      <th>3</th>\n",
              "      <td>0</td>\n",
              "      <td>U dun say so early hor... U c already then say...</td>\n",
              "    </tr>\n",
              "    <tr>\n",
              "      <th>4</th>\n",
              "      <td>0</td>\n",
              "      <td>Nah I don't think he goes to usf, he lives aro...</td>\n",
              "    </tr>\n",
              "  </tbody>\n",
              "</table>\n",
              "</div>"
            ],
            "text/plain": [
              "   label                                        sms_message\n",
              "0      0  Go until jurong point, crazy.. Available only ...\n",
              "1      0                      Ok lar... Joking wif u oni...\n",
              "2      1  Free entry in 2 a wkly comp to win FA Cup fina...\n",
              "3      0  U dun say so early hor... U c already then say...\n",
              "4      0  Nah I don't think he goes to usf, he lives aro..."
            ]
          },
          "metadata": {
            "tags": []
          },
          "execution_count": 305
        }
      ]
    },
    {
      "cell_type": "markdown",
      "metadata": {
        "id": "m8mUlC1tGj2O",
        "colab_type": "text"
      },
      "source": [
        "### Splitting the dcoument into training set and test set"
      ]
    },
    {
      "cell_type": "code",
      "metadata": {
        "id": "DYgogj6NGj2O",
        "colab_type": "code",
        "colab": {
          "base_uri": "https://localhost:8080/",
          "height": 250
        },
        "outputId": "67f06edb-3a54-4e7d-9945-e68534c4e6bd"
      },
      "source": [
        "# This time we will use sklearn's method for seperating the data\n",
        "from sklearn.model_selection import train_test_split\n",
        "\n",
        "df_train_msgs, df_test_msgs, df_ytrain, df_ytest = train_test_split(df['sms_message'],df['label'], random_state=0)\n",
        "\n",
        "#Looking at the train/test split\n",
        "print(\"The number of training examples: \", df_train_msgs.shape[0])\n",
        "print(\"The number of test exampels: \", df_test_msgs.shape)\n",
        "\n",
        "print(\"The first four labels\")\n",
        "print(df_ytrain[0:4])\n",
        "\n",
        "print(\"The first four sms messages\")\n",
        "print(df_train_msgs[0:4])\n"
      ],
      "execution_count": 306,
      "outputs": [
        {
          "output_type": "stream",
          "text": [
            "The number of training examples:  4179\n",
            "The number of test exampels:  (1393,)\n",
            "The first four labels\n",
            "872     0\n",
            "831     1\n",
            "1273    0\n",
            "3314    0\n",
            "Name: label, dtype: int64\n",
            "The first four sms messages\n",
            "872     Its going good...no problem..but still need li...\n",
            "831     U have a secret admirer. REVEAL who thinks U R...\n",
            "1273                                                Ok...\n",
            "3314    Huh... Hyde park not in mel ah, opps, got conf...\n",
            "Name: sms_message, dtype: object\n"
          ],
          "name": "stdout"
        }
      ]
    },
    {
      "cell_type": "markdown",
      "metadata": {
        "id": "3EgTDeaKGj2S",
        "colab_type": "text"
      },
      "source": [
        "###  Creating the feature vector from the text (feature extraction)\n",
        "\n",
        "Each message will have its own feature vector.  For each message we will create its feature vector as we discussed in class; we will have a feature for every word in our vocabulary.  The $j$th feature is set to one ($x_j=1$) if the $j$th word from our vocabulary occurs in the message, and set the $j$ feature is set to $0$ otherwise ($x_j=0$).\n",
        "\n",
        "We will use the sklearn method CountVectorize to create the feature vectors for every messge.\n",
        "\n",
        "We could have written the code to do this directly by performing the following steps:\n",
        "* remove capitalization\n",
        "* remove punctuation \n",
        "* tokenize (i.e. split the document into individual words)\n",
        "* count frequencies of each token \n",
        "* remove 'stop words' (these are words that will not help us predict since they occur in most documents, e.g. 'a', 'and', 'the', 'him', 'is' ..."
      ]
    },
    {
      "cell_type": "code",
      "metadata": {
        "id": "IaZ6HEa_Gj2S",
        "colab_type": "code",
        "colab": {
          "base_uri": "https://localhost:8080/",
          "height": 116
        },
        "outputId": "1ee30413-fc33-417c-9b25-dba15e88fffc"
      },
      "source": [
        "# importing the library\n",
        "from sklearn.feature_extraction.text import CountVectorizer\n",
        "# creating an instance of CountVectorizer\n",
        "# Note there are issues with the way CountVectorizer removes stop words.  To learn more: https://scikit-learn.org/stable/modules/feature_extraction.html#stop-words\n",
        "vectorizer = CountVectorizer(binary = True, stop_words='english')\n",
        "\n",
        "# If we wanted to perform Multnomial Naive Bayes, we would include the word counts and use the following code\n",
        "#vectorizer = CountVectorizer(stop_words='english')\n",
        "\n",
        "# To see the 'count_vector' object\n",
        "print(vectorizer)"
      ],
      "execution_count": 307,
      "outputs": [
        {
          "output_type": "stream",
          "text": [
            "CountVectorizer(analyzer='word', binary=True, decode_error='strict',\n",
            "                dtype=<class 'numpy.int64'>, encoding='utf-8', input='content',\n",
            "                lowercase=True, max_df=1.0, max_features=None, min_df=1,\n",
            "                ngram_range=(1, 1), preprocessor=None, stop_words='english',\n",
            "                strip_accents=None, token_pattern='(?u)\\\\b\\\\w\\\\w+\\\\b',\n",
            "                tokenizer=None, vocabulary=None)\n"
          ],
          "name": "stdout"
        }
      ]
    },
    {
      "cell_type": "code",
      "metadata": {
        "id": "8dh3bg-mGj2V",
        "colab_type": "code",
        "colab": {
          "base_uri": "https://localhost:8080/",
          "height": 53
        },
        "outputId": "3068634b-aeca-49bc-bde6-790bbcc41171"
      },
      "source": [
        "# To see the 'stop words' \n",
        "print(vectorizer.get_stop_words())"
      ],
      "execution_count": 308,
      "outputs": [
        {
          "output_type": "stream",
          "text": [
            "frozenset({'enough', 'their', 're', 'off', 'other', 'herself', 'whence', 'mill', 'can', 'few', 'hers', 'keep', 'may', 'yourselves', 'show', 'anywhere', 'something', 'hasnt', 'upon', 'hence', 'six', 'such', 'top', 'already', 'us', 'well', 'but', 'wherever', 'around', 'down', 'alone', 'afterwards', 'in', 'full', 'these', 'two', 'mine', 'became', 'cant', 'moreover', 'third', 'be', 'a', 'how', 'sixty', 'fifteen', 'every', 'when', 'much', 'rather', 'were', 'still', 'whereafter', 'under', 'beyond', 'my', 'everywhere', 'beside', 'get', 'yours', 'becoming', 'they', 'beforehand', 'whom', 'up', 'themselves', 'next', 'serious', 'neither', 'nine', 'even', 'hereupon', 'eight', 'back', 'five', 'his', 'namely', 'within', 'too', 'least', 'those', 'throughout', 'toward', 'being', 'then', 'seeming', 'to', 'here', 'eleven', 'seem', 'first', 'amount', 'about', 'been', 'during', 'except', 'than', 'through', 'across', 'onto', 'while', 'whether', 'amoungst', 'herein', 'into', 'however', 'less', 'might', 'whole', 'cry', 'further', 'both', 'nobody', 'wherein', 'de', 'whither', 'behind', 'detail', 'on', 'he', 'him', 'her', 'yourself', 'ours', 'so', 'four', 'etc', 'its', 'therein', 'once', 'perhaps', 'our', 'only', 'fire', 'everyone', 'out', 'why', 'mostly', 'somehow', 'not', 'former', 'the', 'before', 'if', 'whose', 'at', 'above', 'co', 'same', 'do', 'most', 'although', 'fill', 'because', 'others', 'sincere', 'thus', 'over', 'without', 'con', 'again', 'and', 'himself', 'sometimes', 'thru', 'via', 'for', 'itself', 'until', 'made', 'was', 'empty', 'ie', 'ourselves', 'would', 'anything', 'everything', 'an', 'hereby', 'move', 'though', 'hundred', 'i', 'myself', 'anyway', 'part', 'are', 'inc', 'thence', 'as', 'which', 'yet', 'have', 'thereafter', 'me', 'now', 'thereby', 'nowhere', 'never', 'this', 'else', 'twenty', 'another', 'besides', 'go', 'has', 'anyhow', 'thick', 'each', 'couldnt', 'anyone', 'twelve', 'whenever', 'almost', 'among', 'find', 'system', 'it', 'somewhere', 'take', 'ten', 'them', 'last', 'many', 'meanwhile', 'any', 'along', 'towards', 'please', 'either', 'with', 'since', 'is', 'one', 'sometime', 'bill', 'give', 'more', 'become', 'bottom', 'that', 'against', 'several', 'front', 'am', 'your', 'cannot', 'becomes', 'eg', 'often', 'thin', 'nor', 'thereupon', 'see', 'should', 'own', 'whatever', 'whereupon', 'fifty', 'she', 'ltd', 'forty', 'un', 'who', 'per', 'describe', 'by', 'none', 'together', 'you', 'very', 'indeed', 'also', 'noone', 'put', 'elsewhere', 'had', 'seems', 'seemed', 'we', 'always', 'of', 'between', 'call', 'no', 'formerly', 'nothing', 'found', 'done', 'name', 'whoever', 'ever', 'below', 'amongst', 'otherwise', 'there', 'what', 'whereby', 'or', 'three', 'hereafter', 'will', 'whereas', 'latterly', 'could', 'interest', 'due', 'nevertheless', 'must', 'where', 'side', 'all', 'after', 'latter', 'from', 'therefore', 'some', 'someone'})\n"
          ],
          "name": "stdout"
        }
      ]
    },
    {
      "cell_type": "code",
      "metadata": {
        "id": "4w8Z4dLHGj2Y",
        "colab_type": "code",
        "colab": {
          "base_uri": "https://localhost:8080/",
          "height": 53
        },
        "outputId": "2f727df3-0947-4fc8-fde8-56d749af658d"
      },
      "source": [
        "# Create the vocabulary for our feature transformation\n",
        "vectorizer.fit(df_train_msgs)\n",
        "feature=vectorizer.get_feature_names()\n",
        "print(feature)\n"
      ],
      "execution_count": 309,
      "outputs": [
        {
          "output_type": "stream",
          "text": [
            "['00', '000', '000pes', '008704050406', '0089', '0121', '01223585334', '0125698789', '02', '0207', '02072069400', '02073162414', '021', '03', '04', '0430', '05', '050703', '0578', '06', '07', '07090201529', '07090298926', '07099833605', '0721072', '07734396839', '07742676969', '0776xxxxxxx', '07781482378', '07786200117', '077xxx', '078', '07801543489', '07808', '07808247860', '07808726822', '07821230901', '078498', '07880867867', '0789xxxxxxx', '07946746291', '0796xxxxxx', '07xxxxxxxxx', '08', '0800', '08000407165', '08000776320', '08000839402', '08000930705', '08000938767', '08001950382', '08002888812', '08002986906', '08002988890', '08006344447', '0808', '08081263000', '08081560665', '0844', '08448350055', '08448714184', '0845', '08450542832', '08452810071', '08452810073', '08452810075over18', '0870', '08700435505150p', '08700621170150p', '08701237397', '08701417012', '08701417012150p', '0870141701216', '087016248', '08701752560', '087018728737', '0870241182716', '08702490080', '08702840625', '08704050406', '08704439680', '08704439680ts', '08706091795', '08707500020', '08707509020', '0870753331018', '08707808226', '08708034412', '08708800282', '08709501522', '0871', '087104711148', '08712101358', '08712103738', '0871212025016', '08712300220', '087123002209am', '08712317606', '08712400200', '08712400602450p', '08712400603', '08712402050', '08712402578', '08712402779', '08712402902', '08712402972', '08712405020', '08712405022', '08712460324', '08712466669', '0871277810710p', '0871277810810', '08714342399', '08714712379', '08714712388', '08714712394', '08714712412', '08714714011', '08715203028', '08715203652', '08715203685', '08715203694', '08715205273', '08715500022', '08715705022', '08717111821', '08717168528', '08717205546', '0871750', '08717507382', '08717890890', '08717898035', '08718720201', '08718723815', '08718725756', '08718726270', '087187262701', '08718726971', '08718726978', '087187272008', '08718727868', '08718727870', '08718730555', '08718730666', '08718738001', '08718738002', '08718738034', '08719180219', '08719180248', '08719181259', '08719181513', '08719839835', '08719899217', '08719899229', '08719899230', '09', '09041940223', '09050000301', '09050000332', '09050000460', '09050000555', '09050000878', '09050000928', '09050001295', '09050001808', '09050002311', '09050003091', '09050005321', '09050090044', '09053750005', '09056242159', '09057039994', '09058094454', '09058094455', '09058094507', '09058094565', '09058094583', '09058094594', '09058094597', '09058094599', '09058095107', '09058095201', '09058097218', '09058098002', '09058099801', '09061104276', '09061209465', '09061213237', '09061221061', '09061221066', '09061701444', '09061701461', '09061701851', '09061701939', '09061702893', '09061743386', '09061743806', '09061743810', '09061743811', '09061744553', '09061790121', '09061790125', '09061790126', '09063440451', '09063442151', '09063458130', '0906346330', '09064011000', '09064012160', '09064015307', '09064017295', '09064017305', '09064018838', '09064019014', '09064019788', '09065171142', '09065174042', '09065394973', '09065989182', '09066350750', '09066358152', '09066361921', '09066362206', '09066362220', '09066362231', '09066364311', '09066364349', '09066364589', '09066368470', '09066368753', '09066380611', '09066382422', '09066612661', '09066649731from', '09066660100', '09071512433', '09071517866', '09077818151', '09090900040', '09094100151', '09094646899', '09096102316', '09099725823', '09099726395', '09099726429', '09099726481', '09099726553', '09111030116', '09111032124', '09701213186', '0a', '0quit', '10', '100', '1000', '1000s', '100p', '100percent', '1013', '1030', '10am', '10k', '10p', '10ppm', '10th', '11', '1120', '113', '1131', '114', '1146', '116', '1172', '118p', '11mths', '11pm', '12', '1205', '120p', '121', '1225', '123', '125', '1250', '125gift', '128', '12hours', '12hrs', '13', '130', '1327', '139', '14', '140', '1405', '140ppm', '145', '1450', '146tf150p', '14tcr', '14thmarch', '15', '150', '1500', '150p', '150p16', '150pm', '150ppermesssubscription', '150ppm', '150ppmpobox10183bhamb64xe', '150pw', '151', '153', '15541', '16', '165', '1680', '169', '177', '18', '180', '1843', '18p', '18yrs', '195', '1956669', '1apple', '1b6a5ecef91ff9', '1cup', '1er', '1hr', '1im', '1lemon', '1mega', '1million', '1pm', '1st', '1stchoice', '1stone', '1tulsi', '1win150ppmx3', '1winaweek', '1winawk', '1x150p', '20', '200', '2000', '2003', '2004', '2005', '2006', '2007', '2025050', '20p', '21', '21870000', '21st', '22', '220', '220cm2', '2309', '24', '24hrs', '24m', '25', '250', '250k', '255', '25p', '26', '2667', '27', '28', '2814032', '28days', '28thfeb', '29', '2b', '2bold', '2c', '2channel', '2day', '2docd', '2end', '2exit', '2ez', '2find', '2getha', '2geva', '2go', '2hook', '2i', '2lands', '2marrow', '2moro', '2morow', '2morro', '2morrow', '2morrowxxxx', '2mro', '2mrw', '2mwen', '2nd', '2nhite', '2nights', '2nite', '2optout', '2p', '2px', '2rcv', '2stop', '2stoptx', '2stoptxt', '2u', '2u2', '2watershd', '2waxsto', '2wks', '2wt', '2wu', '2yr', '30', '300', '3000', '300603', '300p', '3030', '30apr', '30ish', '30pp', '30s', '30th', '31', '3100', '310303', '31p', '32', '3230', '32323', '326', '33', '330', '350', '3510i', '35p', '3650', '36504', '3680', '373', '3750', '37819', '38', '382', '391784', '3aj', '3d', '3days', '3g', '3gbp', '3hrs', '3lions', '3lp', '3miles', '3mins', '3mobile', '3optical', '3pound', '3qxj9', '3rd', '3ss', '3uz', '3wks', '3x', '3xx', '40', '400', '400thousad', '402', '4041', '40411', '40533', '40gb', '41685', '420', '4217', '42810', '430', '434', '440', '4403ldnw1a7rw18', '44345', '447797706009', '447801259231', '449050000301', '449071512431', '45', '450', '450p', '450ppw', '450pw', '45239', '47', '4742', '47per', '48', '4882', '48922', '49557', '4a', '4brekkie', '4d', '4eva', '4few', '4fil', '4get', '4got', '4info', '4jx', '4mths', '4my', '4qf2', '4t', '4th', '4the', '4thnov', '4txt', '4u', '4utxt', '4ward', '4wrd', '4xx26', '4years', '50', '500', '5000', '505060', '50award', '50ea', '50gbp', '50p', '50perweeksub', '50perwksub', '50ppm', '50rcvd', '515', '5226', '5249', '526', '530', '54', '542', '545', '5digital', '5free', '5k', '5min', '5p', '5pm', '5th', '5wb', '5we', '5wkg', '5years', '60', '600', '6031', '60p', '61', '61200', '61610', '62220cncl', '6230', '62468', '62735', '630', '645', '65', '66', '6669', '674', '67441233', '68866', '69101', '69200', '69669', '69696', '69698', '69855', '69866', '69888', '69888nyt', '69911', '69969', '69988', '6days', '6hl', '6hrs', '6missed', '6months', '6ph', '6pm', '6th', '6zf', '700', '71', '7250', '730', '731', '74355', '75', '750', '7548', '75max', '7634', '7684', '77', '78', '786', '7876150ppm', '79', '7mp', '7oz', '7pm', '7th', '7ws', '7zs', '800', '8000930705', '80062', '8007', '80082', '80086', '80122300p', '80155', '80160', '80182', '80488', '80608', '8077', '80878', '81010', '81151', '81303', '81618', '82050', '82242', '82277', '82324', '82468', '83021', '83039', '83049', '83110', '83118', '83222', '83332', '83355', '83370', '83383', '83435', '83600', '83738', '84', '84025', '84122', '84128', '84199', '84484', '85', '85023', '85069', '85222', '85233', '8552', '85555', '86021', '861', '864233', '86688', '86888', '87021', '87066', '87070', '87077', '87121', '87131', '872', '87239', '87575', '8800', '88039', '88066', '88088', '88222', '88600', '8883', '88888', '89070', '89080', '89123', '89545', '89555', '89693', '89938', '8am', '8lb', '8pm', '8th', '8wp', '900', '910', '9280114', '92h', '930', '9307622', '946', '9755', '9758', '97n7qp', '98321561', '99', '9996', '9ae', '9am', '9ja', '9pm', '9t', '9th', '9yt', '____', 'a21', 'aah', 'aaniye', 'aaooooright', 'aathi', 'ab', 'abel', 'aberdeen', 'abi', 'ability', 'abiola', 'abj', 'able', 'abroad', 'absence', 'absolutly', 'abstract', 'abt', 'abta', 'aburo', 'ac', 'academic', 'acc', 'accent', 'accenture', 'accept', 'access', 'accessible', 'accident', 'accidentally', 'accommodation', 'accommodationvouchers', 'accomodate', 'accomodations', 'accordin', 'accordingly', 'account', 'accounting', 'accounts', 'accumulation', 'ache', 'achieve', 'acid', 'acknowledgement', 'acl03530150pm', 'aco', 'act', 'acted', 'acting', 'action', 'activ8', 'activate', 'active', 'activities', 'actor', 'actual', 'actually', 'ad', 'add', 'addamsfa', 'added', 'addicted', 'addie', 'adding', 'address', 'adds', 'adewale', 'admin', 'administrator', 'admirer', 'admission', 'admit', 'adore', 'adoring', 'adp', 'adress', 'adrian', 'adrink', 'adsense', 'adult', 'advance', 'adventure', 'advice', 'advise', 'advisors', 'aeronautics', 'aeroplane', 'afew', 'affair', 'affairs', 'affection', 'affectionate', 'affections', 'affidavit', 'afford', 'afghanistan', 'afraid', 'africa', 'african', 'aft', 'afternon', 'afternoon', 'afternoons', 'aftr', 'ag', 'age', 'age16', 'age23', 'agency', 'agent', 'ages', 'agidhane', 'ago', 'agree', 'ah', 'aha', 'ahead', 'ahhhh', 'ahmad', 'aid', 'aids', 'aig', 'aight', 'ain', 'aint', 'air', 'air1', 'airport', 'airtel', 'aiya', 'aiyah', 'aiyar', 'aiyo', 'ajith', 'ak', 'aka', 'akon', 'al', 'alaikkum', 'alaipayuthe', 'album', 'alcohol', 'aldrine', 'alert', 'alerts', 'aletter', 'alex', 'alfie', 'algebra', 'algorithms', 'alian', 'alibi', 'alive', 'allah', 'allalo', 'allday', 'alle', 'allo', 'allow', 'allowed', 'alright', 'alrite', 'alter', 'alternative', 'alto18', 'alwa', 'alwys', 'amanda', 'amazing', 'ambrith', 'american', 'ami', 'amigos', 'amk', 'amla', 'ammae', 'ammo', 'amore', 'amp', 'amplikater', 'amrita', 'ams', 'amt', 'amused', 'amy', 'ana', 'anal', 'analysis', 'andre', 'andres', 'andrews', 'angels', 'angry', 'animal', 'animation', 'anjola', 'anna', 'annie', 'anniversary', 'announced', 'announcement', 'annoyin', 'annoying', 'anot', 'ans', 'ansr', 'answer', 'answered', 'answering', 'answers', 'antelope', 'antha', 'anthony', 'anti', 'anybody', 'anymore', 'anyones', 'anythin', 'anythingtomorrow', 'anytime', 'anyways', 'aom', 'apart', 'apartment', 'apes', 'aphex', 'apnt', 'apo', 'apologise', 'apologize', 'app', 'apparently', 'appeal', 'appear', 'appendix', 'applebees', 'apples', 'application', 'apply', 'applyed', 'applying', 'appointment', 'appointments', 'appreciate', 'approaches', 'approaching', 'appropriate', 'approved', 'apps', 'appt', 'appy', 'april', 'apt', 'aptitude', 'aquarius', 'ar', 'arab', 'arabian', 'arcade', 'ard', 'area', 'aren', 'arent', 'arestaurant', 'aretaking', 'areyouunique', 'argentina', 'argh', 'argue', 'arguing', 'argument', 'arguments', 'aries', 'arise', 'arises', 'arithmetic', 'arm', 'armand', 'armenia', 'arms', 'arng', 'arngd', 'arnt', 'aroundn', 'arr', 'arrange', 'arrested', 'arrive', 'arrived', 'arrow', 'arsenal', 'art', 'artists', 'arts', 'arun', 'asa', 'asap', 'asda', 'ashes', 'ashley', 'ashwini', 'asia', 'asian', 'asjesus', 'ask', 'askd', 'asked', 'askin', 'asking', 'asks', 'asleep', 'asp', 'aspects', 'ass', 'assessment', 'asshole', 'assistance', 'associate', 'asssssholeeee', 'assume', 'assumed', 'asthma', 'astoundingly', 'astronomer', 'asus', 'asusual', 'ate', 'athletic', 'atlanta', 'atlast', 'atleast', 'atm', 'atrocious', 'attach', 'attached', 'attack', 'attempt', 'atten', 'attend', 'attended', 'attending', 'attention', 'attitude', 'attractive', 'attracts', 'attributed', 'auction', 'audition', 'audrey', 'audrie', 'august', 'aunt', 'auntie', 'aunties', 'aunts', 'aunty', 'auto', 'autocorrect', 'ava', 'availa', 'available', 'avalarr', 'avatar', 'ave', 'avenge', 'avent', 'avenue', 'avin', 'avo', 'avoid', 'avoiding', 'avoids', 'await', 'awaiting', 'awake', 'award', 'awarded', 'away', 'awesome', 'awkward', 'aww', 'awww', 'ax', 'axel', 'axis', 'ay', 'ayo', 'b4', 'b4190604', 'b4280703', 'b4u', 'b4utele', 'ba', 'ba128nnfwfly150ppm', 'baaaaaaaabe', 'baaaaabe', 'babe', 'babes', 'babies', 'baby', 'babyjontet', 'babysit', 'babysitting', 'bad', 'badass', 'bag', 'bags', 'bahamas', 'bailiff', 'bajarangabali', 'bak', 'bakrid', 'balance', 'baller', 'balloon', 'balls', 'bam', 'bambling', 'band', 'bandages', 'bang', 'bangb', 'bangbabes', 'bank', 'banks', 'banned', 'banneduk', 'bao', 'bar', 'barbie', 'barcelona', 'bare', 'barely', 'barkleys', 'barmed', 'barred', 'barry', 'based', 'bash', 'basic', 'basically', 'basq', 'bat', 'batch', 'batchlor', 'bath', 'bathe', 'bathing', 'batsman', 'battery', 'battle', 'bawling', 'bay', 'bb', 'bbc', 'bbd', 'bbdeluxe', 'bc', 'bcaz', 'bck', 'bcm1896wc1n3xx', 'bcm4284', 'bcmsfwc1n3xx', 'bcoz', 'bcs', 'bcums', 'bday', 'beach', 'beads', 'bear', 'bears', 'beatings', 'beauties', 'beautiful', 'bec', 'becausethey', 'becoz', 'becz', 'bed', 'bedrm', 'bedroom', 'beendropping', 'beer', 'beerage', 'beers', 'befor', 'beg', 'beggar', 'begging', 'begin', 'begins', 'begun', 'behalf', 'behave', 'bein', 'believe', 'belive', 'bell', 'belligerent', 'belly', 'belong', 'belongs', 'belovd', 'beloved', 'belt', 'ben', 'beneath', 'beneficiary', 'benefits', 'bergkamp', 'best', 'best1', 'bet', 'beta', 'beth', 'better', 'bettr', 'beverage', 'bevies', 'beware', 'bf', 'bffs', 'bfore', 'bhaji', 'bhaskar', 'bian', 'bid', 'bids', 'big', 'bigger', 'biggest', 'bike', 'billed', 'billing', 'billion', 'bills', 'billy', 'bin', 'biola', 'bird', 'birds', 'birla', 'biro', 'birth', 'birthdate', 'birthday', 'bishan', 'bit', 'bitch', 'bitching', 'bite', 'bites', 'bits', 'biz', 'bk', 'black', 'blackberry', 'blacko', 'blah', 'blake', 'blame', 'blank', 'blanked', 'blanket', 'blankets', 'bleak', 'bleh', 'bless', 'blessed', 'blessing', 'blessings', 'blimey', 'blind', 'block', 'blocked', 'blog', 'blogging', 'blogspot', 'bloke', 'blokes', 'blonde', 'blood', 'bloody', 'bloomberg', 'blow', 'blowing', 'blu', 'blue', 'bluetooth', 'bluetoothhdset', 'bmw', 'board', 'boat', 'bob', 'body', 'bognor', 'bold', 'bold2', 'bollox', 'bomb', 'bone', 'bong', 'bonus', 'boo', 'boobs', 'book', 'booked', 'bookedthe', 'booking', 'bookmark', 'books', 'bookshelf', 'boooo', 'booty', 'bootydelious', 'bored', 'borin', 'boring', 'born', 'borrow', 'boss', 'boston', 'bot', 'bother', 'bothering', 'bottle', 'bought', 'boundaries', 'bout', 'bowa', 'bowl', 'bowls', 'box', 'box1146', 'box139', 'box177', 'box245c2150pm', 'box326', 'box334', 'box334sk38ch', 'box39822', 'box403', 'box42wr29c', 'box434sk38wp150ppm18', 'box61', 'box95qu', 'box97n7qp', 'boy', 'boye', 'boyf', 'boyfriend', 'boys', 'boytoy', 'bpo', 'brah', 'brain', 'braindance', 'brains', 'brand', 'brandy', 'bras', 'braved', 'bray', 'brb', 'brdget', 'bread', 'breadstick', 'break', 'breaker', 'breakfast', 'breaking', 'breaks', 'breathe', 'breathe1', 'breather', 'breathing', 'breeze', 'breezy', 'bribe', 'bridal', 'bridge', 'brief', 'bright', 'brighten', 'brilliant', 'brilliantly', 'brin', 'bring', 'bringing', 'brings', 'brison', 'bristol', 'british', 'britney', 'bro', 'broad', 'broke', 'broken', 'brolly', 'bros', 'broth', 'brothas', 'brother', 'brothers', 'brought', 'brown', 'brownies', 'browse', 'browser', 'bruce', 'brum', 'bruv', 'bslvyl', 'bsnl', 'bstfrnd', 'bt', 'bthere', 'btw', 'bubbletext', 'bucks', 'bud', 'buddy', 'buddys', 'budget', 'buen', 'buff', 'buffet', 'buffy', 'bugis', 'build', 'building', 'built', 'bulbs', 'bull', 'bullshit', 'buns', 'burden', 'burger', 'burgundy', 'burial', 'burn', 'burning', 'burns', 'burnt', 'burrito', 'bus', 'bus8', 'buses', 'busetop', 'business', 'busty', 'busy', 'butt', 'butting', 'buy', 'buyer', 'buyers', 'buying', 'buz', 'buzy', 'buzz', 'buzzzz', 'bx', 'bx420', 'bye', 'c52', 'cab', 'cabin', 'cable', 'cafe', 'cage', 'cake', 'cal', 'calculation', 'cali', 'calicut', 'california', 'call09050000327', 'call2optout', 'callback', 'callcost', 'calld', 'called', 'caller', 'callers', 'callertune', 'callfreefone', 'callin', 'calling', 'calls', 'calls1', 'calm', 'cam', 'camcorder', 'came', 'camera', 'campus', 'camry', 'canada', 'canal', 'canary', 'cancel', 'canceled', 'cancelled', 'cancer', 'canlove', 'cann', 'cantdo', 'canteen', 'capacity', 'cappuccino', 'caps', 'captain', 'captaining', 'car', 'card', 'cardiff', 'cards', 'care', 'careabout', 'cared', 'career', 'careers', 'careful', 'carefully', 'cares', 'caring', 'carlie', 'carlin', 'carlos', 'carly', 'carolina', 'caroline', 'carpark', 'carry', 'cars', 'cartons', 'cartoon', 'case', 'cash', 'cashbin', 'cashed', 'cashto', 'cast', 'castor', 'casualty', 'cat', 'catch', 'catches', 'catching', 'caught', 'cause', 'causing', 'cave', 'caveboy', 'cbe', 'cc', 'cc100p', 'cd', 'cdgt', 'cds', 'cedar', 'celeb', 'celebrate', 'celebrated', 'celebration', 'celebrations', 'cell', 'center', 'centre', 'century', 'cer', 'cereals', 'ceri', 'certainly', 'certificate', 'cha', 'chad', 'chain', 'challenge', 'champlaxigating', 'champneys', 'chance', 'chances', 'change', 'changed', 'changes', 'changing', 'channel', 'chapel', 'chaps', 'chapter', 'character', 'charge', 'charged', 'charges', 'charity', 'charlie', 'charming', 'chart', 'charts', 'chasing', 'chastity', 'chat', 'chat80155', 'chatlines', 'chatter', 'chatting', 'cheap', 'cheaper', 'cheat', 'cheating', 'chechi', 'check', 'checkboxes', 'checked', 'checkin', 'checking', 'checkmate', 'checkup', 'cheek', 'cheer', 'cheered', 'cheers', 'cheetos', 'chef', 'chennai', 'cheque', 'cherthala', 'chess', 'chest', 'chex', 'chgs', 'chic', 'chick', 'chicken', 'chickened', 'chief', 'chik', 'chikku', 'child', 'childish', 'childporn', 'children', 'childrens', 'chill', 'chillaxin', 'chillin', 'china', 'chinchillas', 'chinese', 'chinky', 'chinnu', 'chiong', 'chip', 'chit', 'chloe', 'chocolate', 'choice', 'choices', 'choose', 'chop', 'chords', 'chores', 'chosen', 'chrgd', 'christ', 'christians', 'christmas', 'christmassy', 'church', 'cine', 'cinema', 'citizen', 'city', 'citylink', 'claim', 'claims', 'claire', 'clarification', 'clarify', 'clark', 'clash', 'class', 'classes', 'classmates', 'clean', 'cleaning', 'clear', 'cleared', 'clearer', 'clearing', 'clearly', 'clever', 'click', 'cliff', 'clip', 'clock', 'clocks', 'clos1', 'close', 'closeby', 'closed', 'closer', 'closes', 'cloth', 'clothes', 'cloud', 'clover', 'club', 'club4', 'club4mobiles', 'clubsaisai', 'clubzed', 'clue', 'cm', 'cm2', 'cme', 'cmon', 'cn', 'cnl', 'cnn', 'cnupdates', 'coach', 'coast', 'coat', 'coaxing', 'coca', 'coccooning', 'cochin', 'cock', 'cocksuckers', 'coco', 'code', 'coffee', 'coherently', 'coimbatore', 'coin', 'coincidence', 'coins', 'cola', 'colany', 'cold', 'colin', 'colleagues', 'collect', 'collected', 'collecting', 'collection', 'colleg', 'college', 'color', 'colour', 'colourful', 'colours', 'com', 'com1win150ppmx3age16', 'com1win150ppmx3age16subscription', 'comb', 'combination', 'combine', 'come', 'comedy', 'comes', 'comfey', 'comfort', 'comin', 'coming', 'comingdown', 'comment', 'commercial', 'commit', 'common', 'community', 'como', 'comp', 'companies', 'companion', 'company', 'compare', 'compass', 'compensation', 'competition', 'complacent', 'complain', 'complaining', 'complaint', 'complementary', 'complete', 'completed', 'completely', 'completes', 'completing', 'complexities', 'complimentary', 'compliments', 'computational', 'computer', 'computerless', 'comuk', 'conacted', 'concentrate', 'concentrating', 'concentration', 'concern', 'concerned', 'concert', 'conclusion', 'conditions', 'conducts', 'conected', 'conference', 'confidence', 'configure', 'confirm', 'confirmd', 'confirmed', 'conform', 'confused', 'confuses', 'congrats', 'congratulation', 'congratulations', 'connect', 'connected', 'connection', 'connections', 'cons', 'conserve', 'consider', 'considering', 'consistently', 'console', 'constant', 'constantly', 'contact', 'contacted', 'contacts', 'contains', 'content', 'contented', 'contention', 'contents', 'continent', 'continue', 'contract', 'control', 'conversations', 'converted', 'converter', 'convey', 'conveying', 'convince', 'convinced', 'convincing', 'cook', 'cooked', 'cookies', 'cooking', 'cool', 'cooped', 'copies', 'coping', 'copy', 'cornwall', 'corporation', 'corrct', 'correct', 'correction', 'correctly', 'corrupt', 'corvettes', 'cos', 'cosign', 'cost', 'costa', 'costing', 'costs', 'costume', 'couch', 'cougar', 'coughing', 'coulda', 'couldn', 'count', 'countin', 'country', 'counts', 'couple', 'courage', 'courageous', 'course', 'court', 'courtroom', 'cover', 'coveragd', 'covers', 'coz', 'cozy', 'cps', 'cr', 'cr01327bt', 'cr9', 'crab', 'crack', 'craigslist', 'cramps', 'crap', 'crash', 'crashed', 'crashing', 'crave', 'craving', 'crazy', 'crazyin', 'crckt', 'cream', 'created', 'creative', 'creativity', 'credit', 'credited', 'credits', 'creep', 'creepy', 'cres', 'cribbs', 'cricket', 'cricketer', 'crickiting', 'cried', 'crisis', 'cro1327', 'crore', 'cross', 'croydon', 'crucial', 'cruel', 'cruise', 'cruisin', 'crushes', 'crying', 'cs', 'csbcm4235wc1n3xx', 'csh11', 'cstore', 'ctagg', 'ctargg', 'cthen', 'ctla', 'cts', 'cttargg', 'ctter', 'cttergg', 'ctxt', 'cu', 'cuck', 'cud', 'cuddle', 'cuddled', 'cuddling', 'cudnt', 'culdnt', 'cultures', 'cum', 'cumin', 'cup', 'curious', 'current', 'currently', 'curry', 'curtsey', 'cusoon', 'cust', 'custcare', 'custom', 'customer', 'customercare', 'customers', 'customersqueries', 'cut', 'cute', 'cutefrnd', 'cutest', 'cutie', 'cutter', 'cutting', 'cuz', 'cw25wx', 'cya', 'cyclists', 'cysts', 'da', 'daaaaa', 'dabbles', 'dad', 'daddy', 'dai', 'daily', 'damn', 'dancce', 'dance', 'dancin', 'dancing', 'dane', 'dang', 'danger', 'dangerous', 'dare', 'dark', 'darker', 'darlin', 'darling', 'darlings', 'darren', 'das', 'dasara', 'dat', 'data', 'date', 'datebox1282essexcm61xn', 'dates', 'dating', 'dats', 'datz', 'dave', 'dawns', 'day', 'days', 'daytime', 'daywith', 'db', 'dbuk', 'dd', 'dead', 'deal', 'dealer', 'dealing', 'dear', 'dear1', 'dearer', 'dearly', 'death', 'debating', 'dec', 'decades', 'december', 'decent', 'decide', 'decided', 'deciding', 'decimal', 'decision', 'decisions', 'deck', 'decking', 'declare', 'decorating', 'deduct', 'deep', 'deepak', 'deer', 'deeraj', 'def', 'defeat', 'defer', 'definite', 'definitely', 'definitly', 'defo', 'degrees', 'dehydration', 'del', 'delay', 'delayed', 'delete', 'deleted', 'delhi', 'delicious', 'deliver', 'delivered', 'deliveredtomorrow', 'delivery', 'deltomorrow', 'deluxe', 'dem', 'demand', 'den', 'dena', 'dengra', 'denis', 'dent', 'dental', 'dentists', 'deny', 'denying', 'department', 'dependable', 'depends', 'deposited', 'depressed', 'depression', 'dept', 'der', 'derek', 'description', 'desert', 'deserve', 'designation', 'desires', 'desk', 'desparate', 'desparately', 'desperate', 'despite', 'destination', 'destiny', 'detailed', 'details', 'determine', 'determined', 'detroit', 'deus', 'develop', 'developed', 'developer', 'device', 'devils', 'deviousbitch', 'devouring', 'dey', 'dha', 'dhanush', 'dhina', 'dhoni', 'di', 'dial', 'dialling', 'diamond', 'diamonds', 'diapers', 'dice', 'dick', 'dictionary', 'did', 'diddy', 'didn', 'didnt', 'die', 'died', 'diesel', 'diet', 'dieting', 'diff', 'differ', 'difference', 'different', 'difficult', 'difficulties', 'dificult', 'digital', 'digits', 'dignity', 'dileep', 'dimension', 'din', 'dine', 'dined', 'dinero', 'ding', 'dinner', 'dino', 'dint', 'dip', 'dippeditinadew', 'direct', 'directly', 'director', 'directors', 'dirt', 'dirtiest', 'dirty', 'dis', 'disagreeable', 'disappeared', 'disaster', 'disasters', 'disastrous', 'disclose', 'disconnect', 'disconnected', 'discount', 'discreet', 'discuss', 'discussed', 'diseases', 'disk', 'dislikes', 'dismay', 'display', 'distance', 'distract', 'disturb', 'disturbance', 'disturbing', 'ditto', 'division', 'divorce', 'diwali', 'dizzamn', 'dizzee', 'dlf', 'dload', 'dnot', 'dnt', 'dob', 'dobby', 'doc', 'dock', 'docs', 'doctor', 'doctors', 'documents', 'dodda', 'dodgey', 'does', 'doesdiscount', 'doesn', 'doesnt', 'dog', 'dogbreath', 'dogg', 'doggin', 'dogging', 'doggy', 'dogs', 'dogwood', 'doin', 'doing', 'doit', 'doke', 'dokey', 'dollar', 'dollars', 'dolls', 'dom', 'don', 'donate', 'donno', 'dont', 'dontignore', 'dontmatter', 'dontplease', 'dooms', 'door', 'doors', 'dorm', 'dormitory', 'dorothy', 'dosomething', 'dot', 'double', 'doublemins', 'doubletxt', 'doubt', 'doug', 'dough', 'download', 'downloaded', 'downloads', 'downon', 'downs', 'dozens', 'dr', 'dracula', 'dramastorm', 'dramatic', 'drastic', 'draw', 'draws', 'dream', 'dreams', 'dreamz', 'dress', 'dressed', 'dresser', 'drink', 'drinkin', 'drinking', 'drinks', 'drivby', 'drive', 'driver', 'drivin', 'driving', 'drizzling', 'drms', 'drop', 'dropped', 'drops', 'drove', 'drpd', 'drug', 'drugdealer', 'drugs', 'drum', 'drunk', 'drunkard', 'drunken', 'dry', 'dryer', 'dual', 'dubsack', 'duchess', 'ducking', 'dude', 'duffer', 'dull', 'dumb', 'dump', 'dun', 'dungerees', 'dunno', 'duo', 'durban', 'dusk', 'duvet', 'dvd', 'dwn', 'dying', 'dysentry', 'e14', 'eachother', 'ear', 'earlier', 'earliest', 'early', 'earn', 'earning', 'ears', 'earth', 'easier', 'easiest', 'easily', 'east', 'eastenders', 'easter', 'easy', 'eat', 'eaten', 'eatin', 'eating', 'ebay', 'ec2a', 'echo', 'eckankar', 'edison', 'edition', 'edrunk', 'edu', 'education', 'educational', 'edukkukayee', 'edward', 'ee', 'eek', 'eerie', 'effect', 'effects', 'egbon', 'egg', 'eggs', 'eh', 'eh74rr', 'eighth', 'eightish', 'eire', 'el', 'ela', 'elaborate', 'elaborating', 'elama', 'elaya', 'eldest', 'election', 'electricity', 'elephant', 'elliot', 'ello', 'elvis', 'em', 'email', 'emailed', 'embarassed', 'embarassing', 'embassy', 'emc1', 'emergency', 'emerging', 'emily', 'employee', 'employer', 'en', 'enc', 'end', 'ended', 'ending', 'endless', 'endof', 'ends', 'enemy', 'energy', 'eng', 'engaged', 'engagement', 'engalnd', 'engin', 'england', 'english', 'enjoy', 'enjoyed', 'enjoyin', 'enjoying', 'enketa', 'ente', 'enter', 'entered', 'enters', 'entertain', 'entire', 'entitled', 'entrepreneurs', 'entropication', 'entry', 'entry41', 'enufcredeit', 'enuff', 'envelope', 'environment', 'envy', 'epi', 'eppolum', 'epsilon', 'equally', 'er', 'ere', 'ericson', 'ericsson', 'erm', 'erode', 'err', 'error', 'errors', 'eruku', 'erupt', 'erutupalam', 'escalator', 'escape', 'ese', 'eshxxxxxxxxxxx', 'espe', 'especially', 'esplanade', 'essay', 'essential', 'establish', 'eta', 'ettans', 'euro', 'euro2004', 'eurodisinc', 'europe', 'evaluation', 'evaporated', 'eve', 'eveb', 'evening', 'evenings', 'event', 'events', 'eventually', 'every1', 'everybody', 'everyboy', 'everyday', 'everyones', 'everyso', 'everythin', 'evey', 'eviction', 'evil', 'evn', 'evng', 'evr', 'evry1', 'ew', 'ex', 'exact', 'exactly', 'exam', 'exams', 'excellent', 'exchanged', 'excited', 'exciting', 'excuse', 'excused', 'excuses', 'exe', 'executive', 'exercise', 'exeter', 'exhaust', 'exhausted', 'exhibition', 'exist', 'exorcism', 'exorcist', 'exp', 'expect', 'expected', 'expecting', 'expects', 'expensive', 'experience', 'expert', 'expired', 'expires', 'explain', 'explicit', 'explicitly', 'explosive', 'exposes', 'express', 'expression', 'expressoffer', 'exterminator', 'extra', 'extract', 'extreme', 'ey', 'eye', 'eyed', 'eyes', 'f4q', 'fa', 'fab', 'faber', 'face', 'facebook', 'fact', 'facts', 'faggy', 'faglord', 'failed', 'failing', 'fails', 'failure', 'fair', 'faith', 'fake', 'fakeye', 'fal', 'falconerf', 'fall', 'falling', 'falls', 'fals', 'famamus', 'familiar', 'family', 'famous', 'fan', 'fancied', 'fancies', 'fancy', 'fans', 'fantasies', 'fantastic', 'fantasy', 'far', 'farm', 'farrell', 'farting', 'fassyole', 'fast', 'faster', 'fastest', 'fat', 'fated', 'father', 'fathima', 'fats', 'fatty', 'fault', 'fav', 'fave', 'favor', 'favorite', 'favour', 'favourite', 'fb', 'fear', 'feathery', 'features', 'feb', 'february', 'fed', 'fedex', 'feel', 'feelin', 'feeling', 'feelingood', 'feellikw', 'feels', 'fees', 'feet', 'fell', 'felt', 'female', 'feng', 'festival', 'fetch', 'fetching', 'fever', 'fffff', 'ffffffffff', 'fgkslpo', 'fgkslpopw', 'fidalfication', 'field', 'fieldof', 'fiend', 'fifa', 'fight', 'fighting', 'fightng', 'fights', 'figure', 'figures', 'figuring', 'file', 'files', 'filled', 'filling', 'fills', 'film', 'films', 'filth', 'filthy', 'final', 'finalise', 'finally', 'finance', 'financial', 'finding', 'finds', 'fine', 'finest', 'fingers', 'finish', 'finished', 'finishes', 'finishing', 'fink', 'finn', 'fired', 'firefox', 'fireplace', 'fires', 'firsg', 'fish', 'fishrman', 'fit', 'fiting', 'fix', 'fixd', 'fixed', 'fixedline', 'fixes', 'fizz', 'flag', 'flaked', 'flaky', 'flash', 'flat', 'flatter', 'flavour', 'flea', 'fletcher', 'flies', 'flight', 'flights', 'flim', 'flip', 'flippin', 'flirt', 'flirting', 'flirtparty', 'floating', 'flood', 'floor', 'floppy', 'flow', 'flower', 'flowers', 'flowing', 'fluids', 'flung', 'flurries', 'flute', 'fly', 'flying', 'flyng', 'fm', 'fml', 'fne', 'fo', 'fold', 'foley', 'folks', 'follow', 'followed', 'following', 'follows', 'fond', 'fondly', 'fone', 'fones', 'fonin', 'food', 'fool', 'fooled', 'fools', 'foot', 'football', 'footbl', 'footie', 'footprints', 'footy', 'force', 'forced', 'foregate', 'foreign', 'forever', 'forevr', 'forfeit', 'forget', 'forgets', 'forgive', 'forgiven', 'forgiveness', 'forgot', 'forgotten', 'forgt', 'form', 'formal', 'formally', 'format', 'formatting', 'forms', 'forth', 'fortune', 'forum', 'forums', 'forward', 'forwarded', 'foundurself', 'fourth', 'foward', 'fowler', 'fox', 'fps', 'fr', 'fran', 'franxx', 'franyxxxxx', 'frauds', 'freak', 'freaked', 'freaking', 'freaky', 'fredericksburg', 'free', 'free2day', 'freedom', 'freeentry', 'freefone', 'freek', 'freely', 'freemsg', 'freephone', 'freezing', 'fren', 'french', 'frens', 'frequently', 'fresh', 'freshers', 'fret', 'fri', 'friday', 'fridays', 'fridge', 'fried', 'friend', 'friends', 'friendsare', 'friendship', 'friendships', 'fring', 'fringe', 'frm', 'frmcloud', 'frnd', 'frnds', 'frndship', 'frndshp', 'frndsship', 'frndz', 'frnt', 'fro', 'frog', 'fromm', 'fromwrk', 'frontierville', 'fruit', 'frwd', 'frying', 'ft', 'fuck', 'fucked', 'fuckin', 'fucking', 'fuckinnice', 'fudge', 'fuelled', 'fujitsu', 'ful', 'fulfil', 'fullonsms', 'fumbling', 'fun', 'function', 'functions', 'fund', 'fundamentals', 'funeral', 'funk', 'funky', 'funny', 'funs', 'furniture', 'fusion', 'future', 'fuuuuck', 'fwiw', 'fyi', 'g696ga', 'ga', 'gage', 'gail', 'gailxx', 'gain', 'gained', 'gal', 'galileo', 'gals', 'gam', 'gamb', 'game', 'games', 'gamestar', 'gandhipuram', 'ganesh', 'gang', 'gap', 'gaps', 'garage', 'garbage', 'garden', 'gardener', 'gari', 'gary', 'gas', 'gastroenteritis', 'gauge', 'gautham', 'gauti', 'gave', 'gay', 'gayle', 'gays', 'gaytextbuddy', 'gaze', 'gbp', 'gbp1', 'gbp4', 'gbp5', 'gd', 'ge', 'gee', 'geeee', 'geeeee', 'gek1510', 'gender', 'general', 'generally', 'genes', 'gent', 'gentle', 'gentleman', 'gently', 'genuine', 'genus', 'geoenvironmental', 'george', 'gep', 'ger', 'germany', 'getiing', 'geting', 'gets', 'getstop', 'gettin', 'getting', 'getzed', 'gf', 'ghost', 'gibbs', 'gift', 'gifted', 'gifts', 'giggle', 'gigolo', 'gimme', 'gimmi', 'gin', 'girl', 'girlfrnd', 'girlie', 'girls', 'gist', 'giv', 'given', 'gives', 'giving', 'glad', 'glands', 'glass', 'glo', 'global', 'glorious', 'gm', 'gmw', 'gn', 'gnarls', 'gnt', 'gnun', 'go2', 'goal', 'goals', 'god', 'gods', 'goes', 'goigng', 'goin', 'going', 'gokila', 'gold', 'golden', 'golf', 'gon', 'gona', 'gone', 'gong', 'gonna', 'good', 'goodevening', 'goodfriend', 'goodies', 'goodmate', 'goodmorning', 'goodnight', 'goodnite', 'goodnoon', 'goodo', 'goods', 'goodtime', 'google', 'gopalettan', 'gorgeous', 'goss', 'gossip', 'got', 'gota', 'gotany', 'gotbabes', 'gotmarried', 'goto', 'gotta', 'gotten', 'gotto', 'goverment', 'govt', 'gower', 'gprs', 'gpu', 'gr8', 'gr8prizes', 'grab', 'grace', 'grahmbell', 'gram', 'grams', 'gran', 'grand', 'grandfather', 'grandma', 'grandmas', 'granite', 'granted', 'graphics', 'grasp', 'gravity', 'gravy', 'gray', 'grazed', 'gre', 'great', 'greatest', 'greatness', 'greece', 'green', 'greet', 'greeting', 'greetings', 'grief', 'grinder', 'grins', 'grinule', 'grocers', 'grooved', 'groovy', 'groovying', 'ground', 'group', 'grow', 'growing', 'grown', 'grr', 'grumble', 'grumpy', 'gsex', 'gsoh', 'gt', 'gua', 'guarantee', 'guaranteed', 'gucci', 'gud', 'gudni8', 'gudnite', 'guess', 'guessed', 'guesses', 'guessin', 'guessing', 'guide', 'guild', 'guilty', 'guitar', 'gurl', 'gut', 'guy', 'guys', 'gym', 'gymnastics', 'gyno', 'ha', 'habba', 'hadn', 'haf', 'haha', 'hahaha', 'hai', 'hail', 'hair', 'haircut', 'haiyoh', 'half', 'hall', 'hallaq', 'halloween', 'ham', 'hamper', 'hamster', 'hand', 'handed', 'handing', 'handle', 'hands', 'handset', 'handsome', 'handsomes', 'hang', 'hanger', 'hangin', 'hanging', 'hannaford', 'hanuman', 'hanumanji', 'happen', 'happend', 'happened', 'happenin', 'happening', 'happens', 'happiness', 'happy', 'hard', 'hardcore', 'harder', 'hardest', 'hardly', 'hari', 'harlem', 'harri', 'harry', 'hasbro', 'hasn', 'hassling', 'hat', 'hate', 'haughaighgtujhyguj', 'haul', 'haunt', 'hav', 'hav2hear', 'hava', 'havbeen', 'havebeen', 'haven', 'havent', 'haventcn', 'havin', 'having', 'havn', 'havnt', 'hcl', 'head', 'headache', 'headin', 'heading', 'heads', 'headset', 'headstart', 'heal', 'healer', 'healthy', 'heap', 'hear', 'heard', 'hearin', 'heart', 'heat', 'heater', 'heaven', 'heavy', 'hectic', 'hee', 'heehee', 'hehe', 'height', 'held', 'helen', 'helens', 'hell', 'hella', 'hello', 'hellogorgeous', 'helloooo', 'help', 'help08700621170150p', 'help08714742804', 'help08718728876', 'helpful', 'helping', 'helpline', 'helps', 'heltini', 'hen', 'henry', 'hep', 'hero', 'heroes', 'hesitant', 'hesitate', 'hesitation', 'hex', 'hey', 'hf8', 'hg', 'hhahhaahahah', 'hi', 'hide', 'hiding', 'high', 'highest', 'hilarious', 'hill', 'hills', 'hillsborough', 'himso', 'hint', 'hip', 'hiphop', 'history', 'hit', 'hitler', 'hits', 'hittng', 'hiya', 'hl', 'hlp', 'hm', 'hme', 'hmm', 'hmmm', 'hmmmm', 'hmmross', 'hmph', 'hmv', 'hmv1', 'ho', 'hockey', 'hogidhe', 'hol', 'holby', 'hold', 'holder', 'holding', 'holiday', 'holla', 'hollalater', 'hols', 'holy', 'home', 'homeowners', 'hon', 'honest', 'honestly', 'honesty', 'honey', 'honeybee', 'honeymoon', 'honi', 'hont', 'hoo', 'hooch', 'hoody', 'hook', 'hooked', 'hoops', 'hop', 'hope', 'hopefully', 'hopeing', 'hopes', 'hopeu', 'hoping', 'hor', 'horniest', 'horny', 'horo', 'horrible', 'hos', 'hospital', 'host', 'hostel', 'hostile', 'hot', 'hotel', 'hotels', 'hotmail', 'hotmix', 'hottest', 'hour', 'hours', 'house', 'housewives', 'housing', 'howard', 'howda', 'howdy', 'hows', 'howu', 'howz', 'hp', 'hppnss', 'hr', 'hrishi', 'hrs', 'hsbc', 'html', 'http', 'huai', 'hubby', 'hug', 'huge', 'hugging', 'hugs', 'huh', 'hum', 'hun', 'hundreds', 'hungover', 'hungry', 'hunks', 'hunny', 'hunt', 'hurricanes', 'hurried', 'hurry', 'hurt', 'hurting', 'hurts', 'husband', 'hussey', 'hustle', 'hut', 'hv', 'hv9d', 'hvae', 'hw', 'hyde', 'hype', 'hypotheticalhuagauahahuagahyuhagga', 'iam', 'ias', 'ibh', 'ibhltd', 'ibiza', 'ibm', 'ibn', 'ibored', 'ibuprofens', 'ic', 'iccha', 'ice', 'icic', 'icicibank', 'icky', 'icmb3cktz8r7', 'icon', 'id', 'idea', 'ideal', 'ideas', 'identification', 'identifier', 'idew', 'idiot', 'idk', 'idps', 'idu', 'iff', 'ifink', 'ig11', 'ignorant', 'ignore', 'ihave', 'ijust', 'ikea', 'ikno', 'iknow', 'il', 'ileave', 'ill', 'illness', 'illspeak', 'ilol', 'im', 'image', 'images', 'imagination', 'imagine', 'imat', 'imf', 'img', 'imin', 'imma', 'immed', 'immediately', 'immunisation', 'imp', 'impatient', 'impede', 'implications', 'important', 'importantly', 'imposed', 'impossible', 'imposter', 'impress', 'impressed', 'impression', 'impressively', 'improve', 'improved', 'imprtant', 'in2', 'inch', 'inches', 'incident', 'inclu', 'include', 'includes', 'including', 'inclusive', 'incomm', 'inconsiderate', 'inconvenience', 'incorrect', 'increase', 'incredible', 'increments', 'inde', 'independence', 'independently', 'index', 'india', 'indian', 'indians', 'indicate', 'individual', 'indyarocks', 'infact', 'infernal', 'info', 'inform', 'information', 'informed', 'infra', 'infront', 'ing', 'ingredients', 'initiate', 'ink', 'innings', 'innocent', 'inperialmusic', 'inpersonation', 'inr', 'insects', 'insha', 'inshah', 'inside', 'inst', 'install', 'installing', 'instant', 'instantly', 'instead', 'instituitions', 'instructions', 'insurance', 'intelligent', 'intend', 'intention', 'interested', 'interesting', 'interflora', 'interfued', 'internal', 'internet', 'interview', 'interviews', 'interviw', 'intha', 'intrepid', 'intro', 'invaders', 'invention', 'invest', 'investigate', 'invitation', 'invite', 'invited', 'inviting', 'invnted', 'invoices', 'involve', 'involved', 'iouri', 'ip', 'ip4', 'ipad', 'ipaditan', 'ipads', 'iphone', 'ipod', 'iq', 'iraq', 'irene', 'iriver', 'iron', 'ironing', 'irritated', 'irritates', 'irritating', 'irritation', 'isaiah', 'iscoming', 'ish', 'ishtamayoo', 'island', 'islands', 'isn', 'isnt', 'issue', 'issues', 'isv', 'italian', 'itcould', 'items', 'iter', 'itna', 'itried2tell', 'itwhichturnedinto', 'itxt', 'itz', 'ivatte', 'ive', 'iwana', 'iwas', 'iyo', 'iz', 'izzit', 'j89', 'jabo', 'jack', 'jacket', 'jackpot', 'jada', 'jade', 'jaklin', 'jam', 'james', 'jamster', 'jan', 'janarige', 'jane', 'janinexx', 'january', 'jap', 'japanese', 'jas', 'jason', 'java', 'jay', 'jaykwon', 'jaz', 'jazz', 'jb', 'jd', 'jealous', 'jeans', 'jeetey', 'jelly', 'jen', 'jenny', 'jeremiah', 'jerk', 'jerry', 'jersey', 'jess', 'jesus', 'jet', 'jetton', 'jewelry', 'jez', 'ji', 'jia', 'jiayin', 'jiu', 'jjc', 'jo', 'joanna', 'job', 'jobs', 'jobyet', 'jocks', 'jod', 'jog', 'jogging', 'john', 'join', 'joined', 'joining', 'joke', 'joker', 'jokes', 'jokin', 'joking', 'jolly', 'jolt', 'jon', 'jones', 'jontin', 'jordan', 'jorge', 'jos', 'jot', 'journey', 'joy', 'joys', 'jp', 'js', 'jsco', 'jst', 'jstfrnd', 'juan', 'judgemental', 'juicy', 'jul', 'julianaland', 'july', 'jump', 'jumpers', 'june', 'jungle', 'junna', 'jurong', 'jus', 'just', 'justbeen', 'justfound', 'justify', 'justthought', 'juz', 'k52', 'k61', 'kaaj', 'kadeem', 'kaiez', 'kaitlyn', 'kalainar', 'kalisidare', 'kallis', 'kama', 'kane', 'kanji', 'kano', 'kappa', 'karaoke', 'karo', 'kate', 'katexxx', 'kath', 'kavalan', 'kay', 'kaypoh', 'kb', 'ke', 'keeping', 'keeps', 'kegger', 'keluviri', 'ken', 'kent', 'kept', 'kerala', 'keralacircle', 'keris', 'kettoda', 'key', 'keypad', 'keys', 'kfc', 'kg', 'ki', 'kicchu', 'kick', 'kickboxing', 'kickoff', 'kicks', 'kidding', 'kids', 'kidz', 'kiefer', 'kill', 'killed', 'killing', 'kills', 'kilos', 'kind', 'kinda', 'kindly', 'king', 'kingdom', 'kiosk', 'kip', 'kisi', 'kiss', 'kisses', 'kissing', 'kit', 'kl341', 'knee', 'knees', 'knew', 'knock', 'knocking', 'know', 'knowing', 'known', 'knows', 'knw', 'ko', 'kolathupalayam', 'korche', 'korean', 'korli', 'korte', 'kotees', 'kothi', 'kr', 'ktv', 'kuch', 'kudi', 'kusruthi', 'kvb', 'kz', 'l8', 'l8er', 'l8r', 'l8rs', 'l8tr', 'la', 'la1', 'la3', 'la32wu', 'lab', 'labor', 'lac', 'lacking', 'lacs', 'laden', 'ladies', 'lady', 'lag', 'lager', 'laid', 'lambu', 'lamp', 'lancaster', 'land', 'landing', 'landline', 'landlineonly', 'landlines', 'landmark', 'lands', 'lane', 'langport', 'language', 'lanre', 'laptop', 'lar', 'lara', 'laready', 'large', 'largest', 'lastest', 'late', 'lately', 'later', 'latest', 'latests', 'latr', 'laugh', 'laughed', 'laughing', 'laughs', 'laundry', 'lautech', 'lavender', 'law', 'laxinorficated', 'laying', 'lazy', 'lccltd', 'ld', 'ldew', 'ldn', 'ldnw15h', 'le', 'lead', 'leadership', 'leading', 'leads', 'leaf', 'leafcutter', 'learn', 'learned', 'least5times', 'leave', 'leaves', 'leaving', 'lect', 'lecture', 'lecturer', 'left', 'leftovers', 'leg', 'legal', 'legs', 'leh', 'lei', 'lekdog', 'lemme', 'lengths', 'leo', 'leona', 'leonardo', 'les', 'lesser', 'lesson', 'lessons', 'let', 'lets', 'letter', 'letters', 'level', 'lf56', 'li', 'liao', 'libertines', 'library', 'lick', 'licks', 'lido', 'lie', 'lies', 'life', 'lifebook', 'lifeis', 'lifetime', 'lifpartnr', 'lift', 'lifted', 'lifting', 'light', 'lighters', 'lightly', 'lik', 'like', 'liked', 'likely', 'likes', 'liking', 'lil', 'lily', 'lim', 'limit', 'limited', 'limiting', 'limits', 'line', 'linear', 'lined', 'linerental', 'lines', 'lingerie', 'lingo', 'link', 'links', 'linux', 'lionm', 'lionp', 'lions', 'lip', 'lips', 'liquor', 'list', 'listen', 'listened2the', 'listener', 'listening', 'listening2the', 'listn', 'lists', 'lit', 'literally', 'litres', 'little', 'live', 'liver', 'liverpool', 'lives', 'living', 'lk', 'lkpobox177hp51fl', 'll', 'llc', 'llspeak', 'lmao', 'lnly', 'lo', 'load', 'loads', 'loan', 'loans', 'lobby', 'local', 'location', 'locations', 'lock', 'lodge', 'lodging', 'log', 'logged', 'logging', 'login', 'logo', 'logon', 'logos', 'loko', 'lol', 'lolnice', 'lololo', 'londn', 'london', 'loneliness', 'lonely', 'long', 'longer', 'lonlines', 'look', 'lookatme', 'looked', 'lookin', 'looking', 'looks', 'lool', 'loooooool', 'looovvve', 'loose', 'loosing', 'lor', 'lord', 'lose', 'losers', 'loses', 'losing', 'loss', 'lost', 'lot', 'lotr', 'lots', 'lotta', 'lotz', 'lou', 'loud', 'lounge', 'lousy', 'lov', 'lovable', 'love', 'loved', 'lovejen', 'lovely', 'loveme', 'lover', 'loverboy', 'lovers', 'loves', 'lovin', 'loving', 'lovingly', 'lovly', 'low', 'lower', 'lowes', 'loxahatchee', 'loyal', 'loyalty', 'lrg', 'ls1', 'ls15hb', 'lst', 'lt', 'lubly', 'luck', 'lucky', 'lucozade', 'lucy', 'lucyxx', 'luks', 'lul', 'lunch', 'lush', 'luton', 'luv', 'luvd', 'luvs', 'lux', 'luxury', 'lvblefrnd', 'lying', 'lyk', 'lyricalladie', 'm100', 'm221bp', 'm227xy', 'm26', 'm263uz', 'm60', 'm8', 'm8s', 'm95', 'ma', 'maaaan', 'maangalyam', 'maat', 'mac', 'macedonia', 'macha', 'machan', 'machi', 'macho', 'mack', 'macleran', 'mad', 'mad1', 'mad2', 'madam', 'madodu', 'madurai', 'mag', 'maga', 'magazine', 'maggi', 'magic', 'magical', 'magicalsongs', 'mah', 'mahal', 'mahaveer', 'maid', 'mail', 'mailbox', 'mailed', 'main', 'maintain', 'major', 'make', 'makes', 'makin', 'making', 'malaria', 'malarky', 'male', 'mall', 'mallika', 'man', 'manage', 'manageable', 'managed', 'management', 'manchester', 'manda', 'mandan', 'mandy', 'maneesha', 'manege', 'mango', 'maniac', 'manual', 'map', 'mapquest', 'maps', 'maraikara', 'marandratha', 'march', 'maretare', 'margaret', 'margin', 'marine', 'mark', 'market', 'marketing', 'marking', 'marley', 'marrge', 'marriage', 'married', 'marry', 'marsms', 'maruti', 'mary', 'mas', 'massage', 'massive', 'masteriastering', 'masters', 'mat', 'match', 'matched', 'matches', 'mate', 'mates', 'math', 'mathe', 'mathematics', 'maths', 'matra', 'matric', 'matrix3', 'matter', 'matters', 'matthew', 'matured', 'maturity', 'max', 'max10mins', 'maximize', 'maximum', 'mayb', 'maybe', 'mb', 'mca', 'mcfly', 'mcr', 'meal', 'meals', 'mean', 'meaning', 'means', 'meant', 'measure', 'med', 'medical', 'medicine', 'meds', 'mee', 'meet', 'meetin', 'meeting', 'meetins', 'meets', 'meg', 'mega', 'meh', 'mei', 'meive', 'mel', 'melle', 'melnite', 'melody', 'melt', 'member', 'members', 'membership', 'memorable', 'memories', 'memory', 'men', 'mens', 'mental', 'mention', 'mentioned', 'mentionned', 'mentor', 'menu', 'merry', 'mess', 'message', 'messaged', 'messages', 'messaging', 'messed', 'messenger', 'messy', 'met', 'method', 'mfl', 'mgs', 'mi', 'mia', 'michael', 'mid', 'middle', 'midnight', 'mids', 'mike', 'mila', 'mileage', 'miles', 'milk', 'millers', 'million', 'millions', 'milta', 'min', 'mina', 'mind', 'mindset', 'minecraft', 'mini', 'minimum', 'minmobsmore', 'minmobsmorelkpobox177hp51fl', 'minmoremobsemspobox45po139wa', 'minnaminunginte', 'minor', 'mins', 'mint', 'minus', 'minute', 'minutes', 'minuts', 'miracle', 'mirror', 'misbehaved', 'miserable', 'mising', 'miss', 'misscall', 'missed', 'missin', 'missing', 'missionary', 'missions', 'misss', 'missunderstding', 'missy', 'mist', 'mistake', 'mistakes', 'misundrstud', 'mite', 'miwa', 'mix', 'mj', 'mjzgroup', 'mk17', 'mk45', 'mm', 'mmm', 'mmmm', 'mmmmmm', 'mmmmmmm', 'mmsto', 'mnth', 'mnths', 'mo', 'moan', 'mob', 'mobile', 'mobiles', 'mobilesdirect', 'mobilesvary', 'mobileupd8', 'mobs', 'mobsi', 'moby', 'mode', 'model', 'modl', 'module', 'modules', 'mofo', 'moji', 'mojibiola', 'mokka', 'molested', 'mom', 'moment', 'moments', 'moms', 'mon', 'monday', 'mone', 'money', 'monkeespeople', 'monkey', 'monkeyaround', 'monkeys', 'mono', 'monoc', 'monos', 'month', 'monthly', 'months', 'mood', 'moon', 'moral', 'morefrmmob', 'morn', 'mornin', 'morning', 'mornings', 'morphine', 'morrow', 'moseley', 'mother', 'motherfucker', 'motivating', 'motive', 'motor', 'motorola', 'mountain', 'mountains', 'mouse', 'mouth', 'moved', 'movie', 'movies', 'movietrivia', 'moving', 'mp3', 'mr', 'mre', 'mrng', 'mrt', 'ms', 'msg', 'msg150p', 'msging', 'msgrcvd', 'msgrcvd18', 'msgrcvdhg', 'msgs', 'msn', 'mt', 'mtalk', 'mth', 'mths', 'mtmsg', 'mtmsg18', 'mtmsgrcvd18', 'mtnl', 'mu', 'muah', 'muchand', 'mudyadhu', 'muhommad', 'multiply', 'multis', 'mum', 'mumbai', 'mumhas', 'mummy', 'mums', 'mumtaz', 'munsters', 'murali', 'murder', 'murdered', 'murderer', 'mush', 'music', 'musical', 'musicnews', 'musta', 'mustprovide', 'muz', 'mw', 'mwahs', 'mycalls', 'mymoby', 'myparents', 'mys', 'myspace', 'mystery', 'n9dx', 'na', 'naal', 'nachos', 'nag', 'nagar', 'nah', 'nahi', 'naked', 'nalla', 'nalli', 'named', 'names', 'nammanna', 'nan', 'nannys', 'nap', 'nasdaq', 'naseeb', 'nat', 'nat27081980', 'natalie', 'natalie2k9', 'natalja', 'national', 'nationwide', 'natural', 'nature', 'natwest', 'naughty', 'nauseous', 'nav', 'nb', 'nbme', 'nd', 'ndship', 'ne', 'near', 'nearer', 'nearly', 'necesity', 'necessarily', 'necessary', 'neck', 'necklace', 'ned', 'need', 'needed', 'needing', 'needle', 'needs', 'needy', 'neft', 'negative', 'neglect', 'neglet', 'neighbor', 'neighbour', 'nelson', 'nervous', 'neshanth', 'net', 'netcollex', 'netflix', 'nething', 'netun', 'netvision', 'network', 'networking', 'networks', 'neva', 'nevamind', 'nevering', 'neville', 'nevr', 'new', 'neway', 'newest', 'newport', 'newquay', 'news', 'newscaster', 'newsletter', 'newspapers', 'nhs', 'ni8', 'nic', 'nice', 'nichols', 'nick', 'nickey', 'nicky', 'nig', 'nigeria', 'nigh', 'night', 'nighters', 'nightnight', 'nights', 'nigpun', 'nimbomsons', 'nimya', 'ninish', 'nino', 'nipost', 'nit', 'nite', 'nitro', 'nitros', 'nitw', 'nitz', 'njan', 'nmde', 'no1', 'nobbing', 'noe', 'noi', 'noice', 'noisy', 'nok', 'nokia', 'nokia6600', 'nokia6650', 'nokias', 'noline', 'non', 'noncomittal', 'nookii', 'noon', 'nooooooo', 'noooooooo', 'nope', 'nora', 'norcorp', 'nordstrom', 'norm', 'norm150p', 'normal', 'normally', 'north', 'northampton', 'nos', 'nose', 'nosy', 'note', 'notebook', 'notes', 'nothin', 'notice', 'notifications', 'notified', 'notixiquating', 'notxt', 'noun', 'novelty', 'november', 'now1', 'nowadays', 'noworriesloans', 'nr31', 'nri', 'nt', 'ntt', 'ntwk', 'nuclear', 'nudist', 'nuerologist', 'num', 'number', 'numbers', 'nurses', 'nurungu', 'nus', 'nuther', 'nutter', 'nvm', 'nvq', 'nw', 'nxt', 'ny', 'nyc', 'nydc', 'nyt', 'nytho', 'nz', 'nìte', 'o2', 'o2fwd', 'oath', 'obedient', 'obese', 'objection', 'oblisingately', 'oblivious', 'obviously', 'occasion', 'occupied', 'occupy', 'occurs', 'oclock', 'october', 'odalebeku', 'odi', 'ofcourse', 'offc', 'offcampus', 'offdam', 'offense', 'offer', 'offered', 'offering', 'offers', 'office', 'official', 'officially', 'offline', 'ofice', 'ofstuff', 'ogunrinde', 'oh', 'oi', 'oic', 'oil', 'oja', 'ok', 'okay', 'okday', 'okey', 'okie', 'okies', 'okmail', 'ola', 'olage', 'olayiwola', 'old', 'oli', 'ollu', 'olol', 'olowoyey', 'omg', 'omw', 'onam', 'oncall', 'ondu', 'ones', 'oni', 'onion', 'online', 'onluy', 'onlyfound', 'onwards', 'onwords', 'ooh', 'oooooh', 'ooooooh', 'oops', 'open', 'opened', 'opener', 'openin', 'opening', 'openings', 'operate', 'operator', 'opinion', 'opinions', 'opportunity', 'opposed', 'opposite', 'opps', 'opt', 'opted', 'optimistic', 'optin', 'option', 'optout', 'or2optout', 'or2stoptxt', 'oral', 'orange', 'oranges', 'orchard', 'order', 'ordered', 'ordinator', 'ore', 'oredi', 'oreo', 'oreos', 'org', 'organizer', 'orh', 'orig', 'original', 'ors', 'ortxt', 'oru', 'os', 'oscar', 'oso', 'otbox', 'othrs', 'otside', 'ouch', 'ourbacks', 'outage', 'outages', 'outbid', 'outfit', 'outfor', 'outl8r', 'outrageous', 'outreach', 'outs', 'outside', 'outsider', 'outsomewhere', 'outstanding', 'outta', 'ovarian', 'overa', 'overdid', 'overemphasise', 'overheating', 'overtime', 'ovulate', 'ow', 'owe', 'owed', 'owl', 'owned', 'owns', 'owo', 'oyea', 'oyster', 'oz', 'pa', 'paces', 'pack', 'package', 'packing', 'packs', 'padhe', 'page', 'pages', 'pai', 'paid', 'pain', 'painful', 'paining', 'painting', 'pairs', 'pale', 'palm', 'pan', 'panasonic', 'pandy', 'panic', 'panicks', 'panren', 'pansy', 'panther', 'pants', 'pap', 'papa', 'paper', 'papers', 'paperwork', 'parachute', 'parade', 'paragon', 'paragraphs', 'paranoid', 'parchi', 'parco', 'parents', 'paris', 'parish', 'park', 'parked', 'parking', 'participate', 'particular', 'particularly', 'parties', 'partner', 'partnership', 'parts', 'party', 'paru', 'pases', 'pass', 'passable', 'passed', 'passes', 'passion', 'passionate', 'passport', 'password', 'past', 'patent', 'path', 'pathaya', 'paths', 'patients', 'patrick', 'pattern', 'patty', 'paul', 'pause', 'pavanaputra', 'pay', 'payback', 'payed', 'payed2day', 'payee', 'paying', 'payment', 'payments', 'payoh', 'paypal', 'pc', 'pc1323', 'pdate_now', 'peace', 'peaceful', 'pee', 'peeps', 'pehle', 'pei', 'pen', 'pence', 'pendent', 'pending', 'penis', 'penny', 'people', 'peoples', 'percent', 'percentages', 'perf', 'perfect', 'perform', 'performed', 'perfume', 'peril', 'period', 'permanent', 'permission', 'permissions', 'perpetual', 'persevered', 'persian', 'persolvo', 'person', 'person2die', 'personal', 'personality', 'personally', 'persons', 'perspective', 'perumbavoor', 'pesky', 'pest', 'pete', 'petexxx', 'petey', 'petrol', 'petticoatdreams', 'pg', 'ph', 'pharmacy', 'phasing', 'phb1', 'phd', 'phews', 'phil', 'philosophy', 'phne', 'phoenix', 'phone', 'phone750', 'phonebook', 'phoned', 'phones', 'photo', 'photos', 'photoshop', 'php', 'phrase', 'phyhcmk', 'physics', 'piah', 'pic', 'pick', 'picked', 'picking', 'pickle', 'pics', 'picture', 'pictures', 'pie', 'piece', 'pieces', 'pig', 'pilates', 'pile', 'pillows', 'pimples', 'pin', 'pink', 'pints', 'pisces', 'piss', 'pissed', 'pist', 'pity', 'pix', 'pixels', 'pizza', 'place', 'placed', 'placement', 'places', 'plaid', 'plan', 'plane', 'planet', 'planettalkinstant', 'planned', 'planning', 'plans', 'plate', 'platt', 'play', 'played', 'player', 'players', 'playin', 'playing', 'playng', 'plaza', 'pleased', 'pleasure', 'pleasured', 'plenty', 'plm', 'ploughing', 'pls', 'plum', 'plumbing', 'plural', 'plus', 'plyr', 'plz', 'pm', 'po', 'po19', 'pobox', 'pobox1', 'pobox114', 'pobox12n146tf15', 'pobox12n146tf150p', 'pobox202', 'pobox334', 'pobox36504w45wq', 'pobox365o4w45wq', 'pobox45w2tg150p', 'pobox75ldns7', 'pobox84', 'poboxox36504w45wq', 'pocay', 'pocketbabe', 'pockets', 'pocy', 'pod', 'poem', 'poet', 'point', 'points', 'poker', 'poking', 'pokkiri', 'pole', 'police', 'politicians', 'polo', 'poly', 'polyc', 'polyh', 'polyph', 'polyphonic', 'polys', 'pongal', 'ponnungale', 'poo', 'pooja', 'pookie', 'poop', 'poor', 'poorly', 'poortiyagi', 'pop', 'popcorn', 'popping', 'porn', 'port', 'portal', 'portege', 'portions', 'pos', 'pose', 'posh', 'posible', 'position', 'positions', 'positive', 'possession', 'possessive', 'possessiveness', 'possible', 'possibly', 'post', 'postcard', 'postcode', 'posted', 'posting', 'postponed', 'posts', 'potato', 'potential', 'potter', 'pouch', 'pound', 'pounded', 'pounds', 'poured', 'pours', 'pouts', 'power', 'powerful', 'poyyarikatur', 'ppl', 'pple', 'ppm', 'ppm150', 'ppt150x3', 'prabha', 'pract', 'practice', 'practicing', 'practicum', 'practising', 'prakesh', 'praps', 'prasanth', 'praveesh', 'pray', 'praying', 'pre', 'predicting', 'prediction', 'predictive', 'prefer', 'preferably', 'prem', 'premarica', 'premier', 'premium', 'prepaid', 'prepare', 'prepared', 'prepayment', 'preponed', 'preschoolco', 'prescribed', 'prescription', 'present', 'presents', 'presleys', 'press', 'pressies', 'pressure', 'pretend', 'pretsorginta', 'pretsovru', 'pretty', 'prevent', 'previous', 'previously', 'prey', 'price', 'prices', 'pride', 'priest', 'prin', 'prince', 'princes', 'princess', 'print', 'printed', 'printer', 'printing', 'prior', 'priority', 'priscilla', 'privacy', 'private', 'prix', 'prize', 'prizeawaiting', 'prizes', 'prizeswith', 'pro', 'prob', 'probably', 'problem', 'problematic', 'problems', 'problms', 'problum', 'probpop', 'process', 'processed', 'prods', 'professional', 'professors', 'profile', 'profit', 'program', 'programs', 'progress', 'project', 'projects', 'prolly', 'prominent', 'promise', 'promised', 'promises', 'promo', 'promoting', 'promptly', 'prompts', 'proof', 'proper', 'properly', 'property', 'propose', 'props', 'pros', 'prospects', 'prove', 'proverb', 'provided', 'provider', 'providing', 'province', 'proze', 'ps', 'ps3', 'pshew', 'psp', 'psxtra', 'psychiatrist', 'psychic', 'psychologist', 'pt2', 'pthis', 'pub', 'public', 'publish', 'pudunga', 'pull', 'pulls', 'pump', 'punch', 'punish', 'punishment', 'punj', 'punto', 'pura', 'purchase', 'purchases', 'purity', 'purple', 'purpose', 'push', 'pushes', 'pussy', 'puts', 'puttin', 'putting', 'puzzeles', 'puzzles', 'qatar', 'qbank', 'qet', 'qi', 'qing', 'qlynnbv', 'quality', 'que', 'queen', 'queries', 'ques', 'question', 'questioned', 'questions', 'quick', 'quickly', 'quiet', 'quit', 'quite', 'quiteamuzing', 'quitting', 'quiz', 'quizclub', 'quizzes', 'quote', 'quoting', 'racal', 'racing', 'radio', 'raglan', 'rahul', 'raiden', 'railway', 'rain', 'raining', 'raise', 'raised', 'raj', 'rajas', 'raji', 'rajini', 'rajitha', 'rakhesh', 'raksha', 'rally', 'ramaduth', 'ramen', 'ran', 'random', 'randomlly', 'randomly', 'randy', 'rang', 'range', 'ranjith', 'ranju', 'rate', 'rates', 'ratio', 'rats', 'rayan', 'rayman', 'rays', 'rcd', 'rct', 'rcv', 'rcvd', 'rd', 'rdy', 'reach', 'reached', 'reaching', 'reacting', 'reaction', 'read', 'readers', 'reading', 'ready', 'real', 'realise', 'realised', 'realising', 'reality', 'realize', 'realized', 'realizes', 'really', 'reallyneed', 'realy', 'reapply', 'rearrange', 'reason', 'reasonable', 'reasons', 'reassurance', 'rebel', 'reboot', 'rebooting', 'rebtel', 'rec', 'recd', 'receipt', 'receipts', 'receive', 'receivea', 'received', 'receiving', 'recent', 'recently', 'reception', 'recession', 'recharge', 'recieve', 'reckon', 'recognise', 'recognises', 'record', 'recorded', 'records', 'recount', 'recovery', 'recpt', 'recycling', 'red', 'redeemable', 'redeemed', 'reduce', 'ree', 'ref', 'reference', 'references', 'referin', 'reffering', 'refilled', 'reflection', 'reflex', 'reformat', 'refreshed', 'refund', 'refunded', 'refused', 'reg', 'regalportfolio', 'regard', 'regarding', 'regards', 'register', 'registered', 'registration', 'regret', 'regular', 'rejected', 'relation', 'relatives', 'relax', 'released', 'reliant', 'relieved', 'religiously', 'rem', 'remain', 'remains', 'remb', 'remember', 'remembered', 'rememberi', 'remembr', 'remind', 'reminder', 'reminding', 'reminds', 'remixed', 'removal', 'remove', 'removed', 'rencontre', 'renewal', 'renewed', 'renewing', 'rent', 'rental', 'renting', 'rentl', 'rents', 'repair', 'repeat', 'repeating', 'repent', 'replace', 'replacement', 'replacing', 'replied', 'replies', 'reply', 'replying', 'replys150', 'report', 'representative', 'republic', 'request', 'requests', 'required', 'requirements', 'requires', 'research', 'resent', 'reservations', 'reserve', 'reserves', 'reset', 'residency', 'resizing', 'reslove', 'resolved', 'respect', 'respectful', 'responce', 'respond', 'responding', 'response', 'responsibilities', 'responsibility', 'responsible', 'rest', 'restaurant', 'restock', 'restocked', 'restrict', 'restrictions', 'resubbing', 'result', 'results', 'resume', 'resuming', 'retired', 'retrieve', 'return', 'returned', 'returns', 'reunion', 'reveal', 'revealed', 'revealing', 'reverse', 'review', 'revision', 'reward', 'rewarding', 'rg21', 'rgds', 'rgent', 'rhode', 'rhythm', 'rich', 'riddance', 'ride', 'right', 'rightio', 'rightly', 'rights', 'riley', 'rimac', 'ring', 'rings', 'ringtone', 'ringtoneking', 'ringtones', 'rip', 'rise', 'risk', 'risks', 'rite', 'ritten', 'river', 'road', 'roads', 'roast', 'rob', 'robinson', 'robs', 'rock', 'rocking', 'rocks', 'rodds1', 'rofl', 'roger', 'role', 'roles', 'rolled', 'romantic', 'ron', 'room', 'roommate', 'roommates', 'rooms', 'ros', 'rose', 'roses', 'round', 'rounder', 'rounds', 'route', 'row', 'rowdy', 'rows', 'royal', 'rp176781', 'rpl', 'rply', 'rs', 'rstm', 'rt', 'rtf', 'rtm', 'rto', 'ru', 'rub', 'rubber', 'rude', 'rudi', 'rugby', 'ruin', 'ruining', 'rule', 'rum', 'rumbling', 'rummer', 'rumour', 'run', 'running', 'runs', 'rupaul', 'rush', 'rv', 'rvx', 'rwm', 'ryan', 's3xy', 's89', 'sac', 'sachin', 'sack', 'sacked', 'sacrifice', 'sad', 'sae', 'saeed', 'safe', 'safely', 'safety', 'sagamu', 'saibaba', 'said', 'sake', 'salad', 'salam', 'salary', 'sale', 'sales', 'salesman', 'sall', 'salmon', 'salon', 'salt', 'sam', 'samachara', 'samantha', 'sane', 'sankatmochan', 'sankranti', 'santa', 'santacalling', 'sapna', 'sar', 'sara', 'sarasota', 'sarcastic', 'saristar', 'sary', 'sashimi', 'sat', 'satanic', 'sathy', 'sathya', 'satisfied', 'satisfy', 'satsgettin', 'satthen', 'saturday', 'saucy', 'sausage', 'savamob', 'save', 'saved', 'savings', 'saw', 'say', 'sayhey', 'sayin', 'saying', 'says', 'sayy', 'scallies', 'scared', 'scary', 'scenario', 'sch', 'schedule', 'school', 'schools', 'science', 'scold', 'scool', 'score', 'scores', 'scoring', 'scotch', 'scotland', 'scotsman', 'scrappy', 'scratches', 'scream', 'screamed', 'screaming', 'screen', 'screwd', 'scrounge', 'sculpture', 'sd', 'sday', 'sdryb8i', 'se', 'sea', 'search', 'searching', 'season', 'seat', 'sec', 'second', 'secondary', 'seconds', 'secret', 'secretary', 'secretly', 'secs', 'section', 'sections', 'secure', 'secured', 'sed', 'seeds', 'seeing', 'seekers', 'seeking', 'seen', 'seh', 'sehwag', 'seing', 'select', 'selected', 'selection', 'self', 'selfindependence', 'selfish', 'selflessness', 'sell', 'selling', 'sells', 'semester', 'sen', 'send', 'sender', 'sending', 'sends', 'senor', 'senrd', 'sense', 'senses', 'sensible', 'sent', 'sentence', 'senthil', 'sentiment', 'seperated', 'sept', 'september', 'series', 'seriously', 'served', 'server', 'service', 'services', 'serving', 'servs', 'set', 'setting', 'settings', 'settle', 'settled', 'settling', 'seven', 'sex', 'sexiest', 'sexual', 'sexy', 'sexychat', 'sez', 'sf', 'sg', 'sh', 'sha', 'shade', 'shagged', 'shah', 'shahjahan', 'shakara', 'shake', 'shakespeare', 'shaking', 'shall', 'shame', 'shampain', 'shangela', 'shanghai', 'shanil', 'shant', 'shaping', 'share', 'shared', 'sharing', 'shattered', 'shb', 'shd', 'sheet', 'sheets', 'shelf', 'shell', 'shelves', 'sherawat', 'shes', 'shesil', 'shexy', 'shhhhh', 'shifad', 'shijas', 'shijutta', 'shinco', 'shindig', 'shining', 'shiny', 'ship', 'shipped', 'shipping', 'shirt', 'shirts', 'shit', 'shite', 'shitin', 'shitinnit', 'shitload', 'shitstorm', 'shivratri', 'shld', 'shock', 'shocking', 'shoes', 'shola', 'shoot', 'shop', 'shoppin', 'shopping', 'shoranur', 'shore', 'short', 'shortage', 'shortbreaks', 'shortcode', 'shorter', 'shortly', 'shorts', 'shot', 'shoul', 'shouldn', 'shouted', 'shouting', 'shove', 'shoving', 'showed', 'shower', 'showers', 'showing', 'showr', 'showrooms', 'shows', 'shracomorsglsuplt', 'shrek', 'shrink', 'shrub', 'shsex', 'shu', 'shud', 'shudvetold', 'shuhui', 'shun', 'shut', 'shy', 'si', 'sian', 'sic', 'sick', 'sickness', 'sigh', 'sighs', 'sight', 'sign', 'signal', 'significance', 'significant', 'signing', 'siguviri', 'silence', 'silent', 'silently', 'silly', 'silver', 'sim', 'simonwatson5120', 'simple', 'simpler', 'simply', 'simpsons', 'sinco', 'sindu', 'sing', 'singapore', 'singing', 'single', 'singles', 'sink', 'sip', 'sipix', 'sips', 'sir', 'sirji', 'sis', 'sister', 'sisters', 'sit', 'site', 'sitter', 'sittin', 'sitting', 'situation', 'situations', 'siva', 'size', 'sized', 'sk3', 'sk38xh', 'skateboarding', 'skilgme', 'skillgame', 'skills', 'skins', 'skint', 'skip', 'skirt', 'sky', 'skye', 'skype', 'skyped', 'skyving', 'slaaaaave', 'slacking', 'slap', 'slave', 'sleep', 'sleepin', 'sleeping', 'sleepingwith', 'sleeps', 'sleepwell', 'sleepy', 'slept', 'slice', 'slices', 'slide', 'sliding', 'slightly', 'slip', 'slippers', 'slots', 'slow', 'slower', 'slowing', 'slowly', 'slp', 'slurp', 'smacks', 'small', 'smaller', 'smart', 'smartcall', 'smarter', 'smash', 'smashed', 'smear', 'smell', 'smells', 'smeone', 'smidgin', 'smile', 'smiled', 'smiles', 'smiling', 'smith', 'smoke', 'smokes', 'smokin', 'smoking', 'sms', 'smsco', 'smsing', 'smsrewards', 'smsservices', 'smth', 'sn', 'snake', 'snap', 'snappy', 'snd', 'snickering', 'snogs', 'snoring', 'snow', 'snowball', 'snowboarding', 'snowman', 'snuggles', 'soc', 'sochte', 'social', 'sofa', 'soft', 'software', 'soil', 'soiree', 'sol', 'soladha', 'sold', 'solihull', 'solve', 'solved', 'some1', 'somebody', 'someday', 'someonone', 'someplace', 'somerset', 'sometext', 'somethin', 'sometme', 'somewhat', 'somewheresomeone', 'somewhr', 'somone', 'sonathaya', 'song', 'songs', 'sony', 'sonyericsson', 'soon', 'sooner', 'soonlots', 'sooo', 'soooo', 'sooooo', 'sophas', 'sore', 'sorrow', 'sorry', 'sort', 'sorted', 'sorting', 'sory', 'soryda', 'sos', 'soul', 'sound', 'sounding', 'sounds', 'soundtrack', 'soup', 'source', 'sources', 'south', 'southern', 'souveniers', 'soz', 'sozi', 'sp', 'space', 'spacebucks', 'spaces', 'spain', 'spam', 'spanish', 'spare', 'spares', 'sparkling', 'speak', 'speaking', 'special', 'speciale', 'specialisation', 'specially', 'specific', 'speechless', 'speed', 'speedchat', 'spell', 'spelled', 'spelling', 'spend', 'spending', 'spent', 'sphosting', 'spice', 'spiffing', 'spile', 'spiral', 'spirit', 'spiritual', 'spk', 'spl', 'splash', 'splashmobile', 'splat', 'splendid', 'spoil', 'spoiled', 'spoke', 'spoken', 'spontaneously', 'spook', 'spoon', 'spoons', 'sport', 'sports', 'spot', 'spotty', 'sppok', 'spreadsheet', 'spree', 'spring', 'springs', 'sptv', 'spun', 'squatting', 'squeeeeeze', 'squeezed', 'squid', 'squishy', 'srs', 'srsly', 'srt', 'sry', 'st', 'stability', 'stable', 'stadium', 'staff', 'stage', 'stagwood', 'stairs', 'stamped', 'stamps', 'stand', 'standard', 'standing', 'stands', 'stapati', 'star', 'starer', 'staring', 'stars', 'starshine', 'start', 'started', 'starting', 'starts', 'starve', 'starwars3', 'stash', 'statement', 'station', 'status', 'stay', 'stayed', 'stayin', 'staying', 'stays', 'std', 'stdtxtrate', 'steak', 'stealing', 'steam', 'steed', 'steering', 'step', 'steps', 'stereo', 'stereophonics', 'sterling', 'sterm', 'steve', 'steyn', 'sticky', 'stifled', 'stil', 'stitch', 'stock', 'stocked', 'stockport', 'stomach', 'stomps', 'stone', 'stoners', 'stones', 'stool', 'stop', 'stop2', 'stop2stop', 'stopbcm', 'stopcost', 'stopcs', 'stopped', 'stops', 'stopsms', 'stoptxtstop', 'store', 'stores', 'stories', 'storming', 'story', 'str', 'straight', 'strange', 'stranger', 'stream', 'street', 'stress', 'stressed', 'stressful', 'stressfull', 'stretch', 'strewn', 'strict', 'strike', 'strings', 'strip', 'stripes', 'strokes', 'strong', 'strongly', 'strtd', 'sts', 'stuck', 'student', 'studentfinancial', 'students', 'studies', 'studio', 'study', 'studying', 'studyn', 'stuff', 'stuff42moro', 'stuffed', 'stuffs', 'stunning', 'stupid', 'style', 'styles', 'styling', 'stylish', 'stylist', 'sub', 'subject', 'submitted', 'submitting', 'subpoly', 'subs', 'subs16', 'subscribe6gbp', 'subscribed', 'subscriber', 'subscribers', 'subscription', 'subscriptions', 'subscriptn3gbp', 'subscrition', 'subsequent', 'subtoitles', 'success', 'successful', 'successfully', 'sucks', 'suddenly', 'sudn', 'suffer', 'suffering', 'suffers', 'sufficient', 'sugababes', 'suganya', 'sugar', 'sugardad', 'suggest', 'suggestion', 'suggestions', 'suite', 'suite342', 'suitemates', 'suits', 'sullivan', 'sum', 'sum1', 'suman', 'summer', 'summers', 'summon', 'sumthin', 'sun', 'sun0819', 'sunday', 'sundayish', 'sunny', 'sunoco', 'sunshine', 'sup', 'super', 'superb', 'superior', 'supervisor', 'suply', 'supose', 'suppliers', 'supply', 'support', 'supports', 'suppose', 'supposed', 'suprman', 'sura', 'sure', 'surely', 'surf', 'surfing', 'surgical', 'surly', 'surname', 'surprise', 'surprised', 'surrender', 'surrounded', 'survey', 'surya', 'sutra', 'sux', 'suzy', 'svc', 'sw7', 'sw73ss', 'swalpa', 'swann', 'swap', 'swashbuckling', 'swat', 'swatch', 'sway', 'swayze', 'swear', 'sweater', 'sweatter', 'sweet', 'sweetest', 'sweetheart', 'sweetie', 'sweets', 'swell', 'swimming', 'swimsuit', 'swing', 'swiss', 'switch', 'swollen', 'swoop', 'swt', 'swtheart', 'syd', 'syllabus', 'symbol', 'sympathetic', 'symptoms', 'synced', 'syria', 'systems', 't4get2text', 't91', 'ta', 'table', 'tablets', 'tackle', 'tacos', 'tactful', 'tactless', 'tag', 'tagged', 'tahan', 'tai', 'taj', 'takecare', 'taken', 'takes', 'takin', 'taking', 'talent', 'talents', 'talk', 'talkbut', 'talked', 'talkin', 'talking', 'talks', 'tall', 'tallahassee', 'tamilnadu', 'tampa', 'tank', 'tantrum', 'tap', 'tape', 'tariffs', 'tarot', 'tarpon', 'taste', 'tat', 'tata', 'tats', 'tau', 'taunton', 'taxes', 'taxi', 'taxless', 'taxt', 'taylor', 'tayseer', 'tb', 'tbs', 'tc', 'tcr', 'tcs', 'tddnewsletter', 'tea', 'teach', 'teacher', 'teachers', 'teaches', 'teaching', 'team', 'tear', 'tears', 'tease', 'teasing', 'tech', 'technical', 'tee', 'teenager', 'teeth', 'teju', 'tel', 'telediscount', 'telephone', 'telephonic', 'teletext', 'tell', 'telling', 'tellmiss', 'tells', 'telly', 'telphone', 'telugu', 'temales', 'temp', 'temper', 'temple', 'tenants', 'tendencies', 'tenerife', 'tensed', 'tension', 'teresa', 'term', 'terminated', 'terms', 'termsapply', 'terrible', 'terrific', 'terror', 'terrorist', 'terry', 'tescos', 'tessy', 'test', 'testing', 'tests', 'texas', 'texd', 'text', 'text82228', 'textand', 'textbook', 'textbuddy', 'textcomp', 'texted', 'textin', 'texting', 'textoperator', 'textpod', 'texts', 'tgxxrz', 'th', 'thandiyachu', 'thangam', 'thank', 'thanks', 'thanksgiving', 'thanku', 'thankyou', 'thanx', 'thanx4', 'thasa', 'that2worzels', 'thatmum', 'thats', 'the4th', 'theacusations', 'theater', 'theatre', 'thecd', 'thedailydraw', 'theirs', 'thekingshead', 'themed', 'themes', 'themob', 'thenampet', 'theoretically', 'theory', 'theplace', 'theres', 'thesis', 'thew', 'thgt', 'thing', 'things', 'think', 'thinked', 'thinkin', 'thinking', 'thinks', 'thinkthis', 'thinl', 'thirtyeight', 'thirunelvali', 'thk', 'thkin', 'thm', 'thnk', 'thnq', 'thnx', 'tho', 'thot', 'thought', 'thoughts', 'thout', 'thread', 'threats', 'thriller', 'throat', 'throw', 'throwin', 'throwing', 'thrown', 'throws', 'ths', 'tht', 'thts', 'thuglyfe', 'thurs', 'thursday', 'thx', 'tick', 'ticket', 'tickets', 'tie', 'tiempo', 'tiger', 'tight', 'tightly', 'tiime', 'til', 'till', 'tim', 'time', 'times', 'timing', 'timings', 'tiny', 'tip', 'tips', 'tired', 'tiring', 'tirunelvai', 'tirunelvali', 'tirupur', 'tis', 'tissco', 'title', 'titles', 'tiwary', 'tix', 'tke', 'tkls', 'tkts', 'tlk', 'tlp', 'tm', 'tming', 'tmorow', 'tmorrow', 'tmr', 'tmrw', 'tms', 'tmw', 'tnc', 'tncs', 'toa', 'toaday', 'tobacco', 'tobed', 'tocall', 'toclaim', 'today', 'todays', 'todo', 'tog', 'token', 'toking', 'tol', 'told', 'toledo', 'tolerance', 'tolerat', 'toll', 'tom', 'tomarrow', 'tome', 'tomeandsaid', 'tomo', 'tomorro', 'tomorrow', 'tomorw', 'tone', 'tones', 'tones2u', 'tones2you', 'tonexs', 'tongued', 'tonight', 'tonights', 'tonite', 'tons', 'took', 'tool', 'toot', 'tooth', 'toothpaste', 'tootsie', 'topic', 'toplay', 'topped', 'toppoly', 'tops', 'tor', 'torch', 'torrents', 'tortilla', 'tosend', 'toshiba', 'toss', 'tot', 'total', 'totally', 'totes', 'touch', 'touched', 'tough', 'toughest', 'tour', 'town', 'toyota', 'tp', 'track', 'traditions', 'traffic', 'train', 'trained', 'training', 'trains', 'tranquility', 'transaction', 'transfer', 'transfered', 'transferred', 'transfr', 'transport', 'trauma', 'trav', 'travel', 'traveling', 'travelled', 'treacle', 'treadmill', 'treasure', 'treat', 'treatin', 'tree', 'trek', 'trends', 'trial', 'tried', 'trip', 'triple', 'trips', 'triumphed', 'trivia', 'trouble', 'troubleshooting', 'trouser', 'true', 'true18', 'truffles', 'truly', 'trust', 'trusting', 'truth', 'try', 'trying', 'ts', 'tsandcs', 'tscs', 'tscs08714740323', 'tscs087147403231winawk', 'tsunami', 'tsunamis', 'tt', 'ttyl', 'tue', 'tues', 'tuesday', 'tui', 'tuition', 'tul', 'tulip', 'tune', 'tunji', 'turkeys', 'turn', 'turning', 'turns', 'tuth', 'tv', 'twat', 'twice', 'twiggs', 'twilight', 'twinks', 'twins', 'twittering', 'tx', 'txt', 'txt250', 'txt43', 'txt82228', 'txtauction', 'txtin', 'txting', 'txts', 'txtstar', 'txtstop', 'txttowin', 'txtx', 'tyler', 'type', 'types', 'typical', 'tyrone', 'u2moro', 'u4', 'uawake', 'ubandu', 'ubi', 'ugadi', 'ugh', 'uh', 'uhhhhrmm', 'uk', 'ukp', 'uks', 'ultimately', 'ultimatum', 'um', 'umma', 'ummifying', 'ummmmmaah', 'unable', 'unbelievable', 'unbreakable', 'uncle', 'uncles', 'uncomfortable', 'unconditionally', 'unconsciously', 'unconvinced', 'uncountable', 'uncut', 'understand', 'understanding', 'understood', 'underwear', 'undrstnd', 'undrstndng', 'unemployed', 'uneventful', 'unfolds', 'unfortuntly', 'unhappiness', 'unhappy', 'uni', 'unicef', 'uniform', 'unique', 'united', 'units', 'univ', 'university', 'unjalur', 'unkempt', 'unknown', 'unless', 'unlike', 'unlimited', 'unmits', 'unnecessarily', 'unni', 'unrecognized', 'unredeemed', 'unsecured', 'unsold', 'unspoken', 'unsub', 'unsubscribe', 'unsubscribed', 'untamed', 'unusual', 'up4', 'upcharge', 'upd8', 'update', 'update_now', 'upgrade', 'upgrading', 'upload', 'uploaded', 'upping', 'ups', 'upset', 'upstairs', 'upto', 'ur', 'urawinner', 'ure', 'urgent', 'urgently', 'urgh', 'urgnt', 'urgoin', 'urgran', 'url', 'urmom', 'urn', 'urself', 'usa', 'usb', 'usc', 'use', 'used', 'useful', 'user', 'uses', 'usf', 'usher', 'using', 'usmle', 'usps', 'usual', 'usually', 'uterus', 'utter', 'uttered', 'uve', 'uwant', 'uworld', 'va', 'vaazhthukkal', 'vague', 'vale', 'valentine', 'valentines', 'valid', 'valid12hrs', 'valuable', 'value', 'valued', 'values', 'valuing', 'varaya', 'various', 'varma', 'varunnathu', 'vary', 'vasai', 'vat', 'vatian', 'vava', 'vco', 'vday', 've', 'vegas', 'vegetables', 'veggie', 'velachery', 'velly', 'venaam', 'venugopal', 'verified', 'verify', 'version', 'versus', 'vettam', 'vewy', 'vibrant', 'vibrate', 'vibrator', 'victoria', 'victors', 'video', 'videochat', 'videophones', 'videos', 'videosound', 'videosounds', 'view', 'vijay', 'vijaykanth', 'vikky', 'vilikkam', 'villa', 'village', 'violated', 'violence', 'violet', 'vip', 'virgil', 'virgins', 'virtual', 'visa', 'visionsms', 'visit', 'visitor', 'visitors', 'vital', 'vitamin', 'viva', 'vivek', 'vivekanand', 'vl', 'voda', 'vodafone', 'vodka', 'voice', 'voicemail', 'voila', 'volcanoes', 'vomit', 'vomitin', 'vomiting', 'vote', 'voucher', 'vouchers', 'vpod', 'vry', 'vs', 'vth', 'vu', 'w1', 'w111wx', 'w14rg', 'w1a', 'w1j', 'w1j6hl', 'w1t1jy', 'w45wq', 'w8in', 'wa', 'wa14', 'waaaat', 'wah', 'wahala', 'wahay', 'waheed', 'waheeda', 'wahleykkum', 'wait', 'waited', 'waitin', 'waiting', 'wake', 'waking', 'wales', 'walk', 'walkabout', 'walked', 'walkin', 'walking', 'wall', 'wallet', 'wallpaper', 'walmart', 'walsall', 'wamma', 'wan', 'wan2', 'wana', 'wanna', 'wannatell', 'want', 'want2come', 'wanted', 'wanting', 'wants', 'wap', 'waqt', 'warm', 'warming', 'warner', 'warning', 'warranty', 'warwick', 'washob', 'wasn', 'waste', 'wasted', 'wat', 'watch', 'watched', 'watchin', 'watching', 'watchng', 'water', 'watever', 'watevr', 'wating', 'watr', 'wats', 'watts', 'wave', 'wavering', 'waves', 'way', 'way2sms', 'waz', 'wc1n', 'wc1n3xx', 'weak', 'weakness', 'weaknesses', 'weapon', 'wear', 'wearing', 'weather', 'web', 'web2mobile', 'webadres', 'webpage', 'website', 'wed', 'weddin', 'wedding', 'weddingfriend', 'wedlunch', 'wednesday', 'weds', 'wee', 'weed', 'week', 'weekend', 'weekends', 'weekly', 'weeks', 'weigh', 'weight', 'weightloss', 'weird', 'weirdest', 'weirdo', 'weirdy', 'weiyi', 'welcome', 'welcomes', 'wellda', 'welp', 'wen', 'wendy', 'wenever', 'went', 'wenwecan', 'wer', 'weren', 'werethe', 'wesley', 'wesleys', 'west', 'western', 'westlife', 'westonzoyland', 'wet', 'wetherspoons', 'wewa', 'whats', 'whatsup', 'wheat', 'wheel', 'wheellock', 'whenevr', 'whereare', 'wherre', 'whilltake', 'whispers', 'white', 'whn', 'whos', 'whr', 'wi', 'wicked', 'wicket', 'wicklow', 'wid', 'widelive', 'wif', 'wife', 'wifes', 'wifi', 'wikipedia', 'wil', 'wild', 'wildest', 'wildlife', 'willing', 'willpower', 'win', 'win150ppmx3age16', 'wind', 'window', 'windows', 'winds', 'windy', 'wine', 'wined', 'wings', 'wining', 'winner', 'winnersclub', 'winning', 'wins', 'winterstone', 'wipro', 'wisdom', 'wise', 'wish', 'wishes', 'wishin', 'wishing', 'wishlist', 'wiskey', 'wit', 'withdraw', 'witot', 'witout', 'wiv', 'wizzle', 'wk', 'wkend', 'wkent', 'wkg', 'wkly', 'wknd', 'wks', 'wld', 'wml', 'wnevr', 'wnt', 'wo', 'woah', 'wocay', 'woke', 'woken', 'woman', 'women', 'won', 'wondar', 'wondarfull', 'wonder', 'wonderful', 'wondering', 'wonders', 'wont', 'woo', 'woodland', 'woods', 'woould', 'worc', 'word', 'words', 'work', 'workage', 'workand', 'workin', 'working', 'workout', 'works', 'world', 'worlds', 'worms', 'worried', 'worries', 'worry', 'worrying', 'worse', 'worst', 'worth', 'worthless', 'wot', 'wotu', 'wotz', 'woulda', 'wouldn', 'wounds', 'wow', 'wrc', 'wrecked', 'wrenching', 'wright', 'write', 'writhing', 'wrkin', 'wrking', 'wrld', 'wrong', 'wrongly', 'wrote', 'ws', 'wt', 'wtc', 'wtf', 'wth', 'wthout', 'wud', 'wudn', 'wuld', 'wuldnt', 'wun', 'www', 'wylie', 'x2', 'x49', 'xam', 'xavier', 'xchat', 'xclusive', 'xin', 'xmas', 'xt', 'xuhui', 'xx', 'xxsp', 'xxx', 'xxxx', 'xxxxx', 'xxxxxx', 'xxxxxxx', 'xxxxxxxx', 'xxxxxxxxxxxxxx', 'xy', 'ya', 'yah', 'yahoo', 'yalrigu', 'yan', 'yar', 'yarasu', 'yards', 'yavnt', 'yaxxx', 'yay', 'yck', 'yeah', 'year', 'years', 'yeesh', 'yeh', 'yelling', 'yellow', 'yelow', 'yen', 'yeovil', 'yep', 'yer', 'yes', 'yest', 'yesterday', 'yetty', 'yetunde', 'yhl', 'yi', 'yifeng', 'yijue', 'ym', 'ymca', 'yo', 'yoga', 'yogasana', 'yor', 'young', 'younger', 'youre', 'yourinclusive', 'yourjob', 'youuuuu', 'yoville', 'yoyyooo', 'yr', 'yrs', 'ystrday', 'yummy', 'yun', 'yunny', 'yuou', 'yup', 'yupz', 'zac', 'zaher', 'zealand', 'zebra', 'zed', 'zeros', 'zhong', 'zindgi', 'zoe', 'zouk', 'zyada', 'èn', 'ú1', '〨ud']\n"
          ],
          "name": "stdout"
        }
      ]
    },
    {
      "cell_type": "code",
      "metadata": {
        "id": "80eV9mibugrW",
        "colab_type": "code",
        "colab": {
          "base_uri": "https://localhost:8080/",
          "height": 70
        },
        "outputId": "d9781ab2-a721-4da4-9b9c-7dd1b0682ef8"
      },
      "source": [
        "# Next we create the feature vectors for both the training data and the test data\n",
        "X_train = vectorizer.transform(df_train_msgs).toarray() # code to turn the training emails into a feature vector\n",
        "X_test = vectorizer.transform(df_test_msgs).toarray() # code to turn the test email into a feature vector\n",
        "\n",
        "# Changing the target vectors data type  \n",
        "y_train=df_ytrain.to_numpy() # Convereting from a Panda series to a numpy array\n",
        "y_test = df_ytest.to_numpy()\n",
        "\n",
        "# To observe what the data looks like \n",
        "print(\"The label of the first training example: \", y_train[0])\n",
        "print(\"The first training example: \", X_train[0].tolist())# I needed to covernt the datatype to list so all the feature values would be printed"
      ],
      "execution_count": 310,
      "outputs": [
        {
          "output_type": "stream",
          "text": [
            "The label of the first training example:  0\n",
            "The first training example:  [0, 0, 0, 0, 0, 0, 0, 0, 0, 0, 0, 0, 0, 0, 0, 0, 0, 0, 0, 0, 0, 0, 0, 0, 0, 0, 0, 0, 0, 0, 0, 0, 0, 0, 0, 0, 0, 0, 0, 0, 0, 0, 0, 0, 0, 0, 0, 0, 0, 0, 0, 0, 0, 0, 0, 0, 0, 0, 0, 0, 0, 0, 0, 0, 0, 0, 0, 0, 0, 0, 0, 0, 0, 0, 0, 0, 0, 0, 0, 0, 0, 0, 0, 0, 0, 0, 0, 0, 0, 0, 0, 0, 0, 0, 0, 0, 0, 0, 0, 0, 0, 0, 0, 0, 0, 0, 0, 0, 0, 0, 0, 0, 0, 0, 0, 0, 0, 0, 0, 0, 0, 0, 0, 0, 0, 0, 0, 0, 0, 0, 0, 0, 0, 0, 0, 0, 0, 0, 0, 0, 0, 0, 0, 0, 0, 0, 0, 0, 0, 0, 0, 0, 0, 0, 0, 0, 0, 0, 0, 0, 0, 0, 0, 0, 0, 0, 0, 0, 0, 0, 0, 0, 0, 0, 0, 0, 0, 0, 0, 0, 0, 0, 0, 0, 0, 0, 0, 0, 0, 0, 0, 0, 0, 0, 0, 0, 0, 0, 0, 0, 0, 0, 0, 0, 0, 0, 0, 0, 0, 0, 0, 0, 0, 0, 0, 0, 0, 0, 0, 0, 0, 0, 0, 0, 0, 0, 0, 0, 0, 0, 0, 0, 0, 0, 0, 0, 0, 0, 0, 0, 0, 0, 0, 0, 0, 0, 0, 0, 0, 0, 0, 0, 0, 0, 0, 0, 0, 0, 0, 0, 0, 0, 0, 0, 0, 0, 0, 0, 0, 0, 0, 0, 0, 0, 0, 0, 0, 0, 0, 0, 0, 0, 0, 0, 0, 0, 0, 0, 0, 0, 0, 0, 0, 0, 0, 0, 0, 0, 0, 0, 0, 0, 0, 0, 0, 0, 0, 0, 0, 0, 0, 0, 0, 0, 0, 0, 0, 0, 0, 0, 0, 0, 0, 0, 0, 0, 0, 0, 0, 0, 0, 0, 0, 0, 0, 0, 0, 0, 0, 0, 0, 0, 0, 0, 0, 0, 0, 0, 0, 0, 0, 0, 0, 0, 0, 0, 0, 0, 0, 0, 0, 0, 0, 0, 0, 0, 0, 0, 0, 0, 0, 0, 0, 0, 0, 0, 0, 0, 0, 0, 0, 0, 0, 0, 0, 0, 0, 0, 0, 0, 0, 0, 0, 0, 0, 0, 0, 0, 0, 0, 0, 0, 0, 0, 0, 0, 0, 0, 0, 0, 0, 0, 0, 0, 0, 0, 0, 0, 0, 0, 0, 0, 0, 0, 0, 0, 0, 0, 0, 0, 0, 0, 0, 0, 0, 0, 0, 0, 0, 0, 0, 0, 0, 0, 0, 0, 0, 0, 0, 0, 0, 0, 0, 0, 0, 0, 0, 0, 0, 0, 0, 0, 0, 0, 0, 0, 0, 0, 0, 0, 0, 0, 0, 0, 0, 0, 0, 0, 0, 0, 0, 0, 0, 0, 0, 0, 0, 0, 0, 0, 0, 0, 0, 0, 0, 0, 0, 0, 0, 0, 0, 0, 0, 0, 0, 0, 0, 0, 0, 0, 0, 0, 0, 0, 0, 0, 0, 0, 0, 0, 0, 0, 0, 0, 0, 0, 0, 0, 0, 0, 0, 0, 0, 0, 0, 0, 0, 0, 0, 0, 0, 0, 0, 0, 0, 0, 0, 0, 0, 0, 0, 0, 0, 0, 0, 0, 0, 0, 0, 0, 0, 0, 0, 0, 0, 0, 0, 0, 0, 0, 0, 0, 0, 0, 0, 0, 0, 0, 0, 0, 0, 0, 0, 0, 0, 0, 0, 0, 0, 0, 0, 0, 0, 0, 0, 0, 0, 0, 0, 0, 0, 0, 0, 0, 0, 0, 0, 0, 0, 0, 0, 0, 0, 0, 0, 0, 0, 0, 0, 0, 0, 0, 0, 0, 0, 0, 0, 0, 0, 0, 0, 0, 0, 0, 0, 0, 0, 0, 0, 0, 0, 0, 0, 0, 0, 0, 0, 0, 0, 0, 0, 0, 0, 0, 0, 0, 0, 0, 0, 0, 0, 0, 0, 0, 0, 0, 0, 0, 0, 0, 0, 0, 0, 0, 0, 0, 0, 0, 0, 0, 0, 0, 0, 0, 0, 0, 0, 0, 0, 0, 0, 0, 0, 0, 0, 0, 0, 0, 0, 0, 0, 0, 0, 0, 0, 0, 0, 0, 0, 0, 0, 0, 0, 0, 0, 0, 0, 0, 0, 0, 0, 0, 0, 0, 0, 0, 0, 0, 0, 0, 0, 0, 0, 0, 0, 0, 0, 0, 0, 0, 0, 0, 0, 0, 0, 0, 0, 0, 0, 0, 0, 0, 0, 0, 0, 0, 0, 0, 0, 0, 0, 0, 0, 0, 0, 0, 0, 0, 0, 0, 0, 0, 0, 0, 0, 0, 0, 0, 0, 0, 0, 0, 0, 0, 0, 0, 0, 0, 0, 0, 0, 0, 0, 0, 0, 0, 0, 0, 0, 0, 0, 0, 0, 0, 0, 0, 0, 0, 0, 0, 0, 0, 0, 0, 0, 0, 0, 0, 0, 0, 0, 0, 0, 0, 0, 0, 0, 0, 0, 0, 0, 0, 0, 0, 0, 0, 0, 0, 0, 0, 0, 0, 0, 0, 0, 0, 0, 0, 0, 0, 0, 0, 0, 0, 0, 0, 0, 0, 0, 0, 0, 0, 0, 0, 0, 0, 0, 0, 0, 0, 0, 0, 0, 0, 0, 0, 0, 0, 0, 0, 0, 0, 0, 0, 0, 0, 0, 0, 0, 0, 0, 0, 0, 0, 0, 0, 0, 0, 0, 0, 1, 0, 0, 0, 0, 0, 0, 0, 0, 0, 0, 0, 0, 0, 0, 0, 0, 0, 0, 0, 0, 0, 0, 0, 0, 0, 0, 0, 0, 0, 0, 0, 0, 0, 0, 0, 0, 0, 0, 0, 0, 0, 0, 0, 0, 0, 0, 0, 0, 0, 0, 0, 0, 0, 0, 0, 0, 0, 0, 0, 0, 0, 0, 0, 0, 0, 0, 0, 0, 0, 0, 0, 0, 0, 0, 0, 0, 0, 0, 0, 0, 0, 0, 0, 0, 0, 0, 0, 0, 0, 0, 0, 0, 0, 0, 0, 0, 0, 0, 0, 0, 0, 0, 0, 0, 0, 0, 0, 0, 0, 0, 0, 0, 0, 0, 0, 0, 0, 0, 0, 0, 0, 0, 0, 0, 0, 0, 0, 0, 0, 0, 0, 0, 0, 0, 0, 0, 0, 0, 0, 0, 0, 0, 0, 0, 0, 0, 0, 0, 0, 0, 0, 0, 0, 0, 0, 0, 0, 0, 0, 0, 0, 0, 0, 0, 0, 0, 0, 0, 0, 0, 0, 0, 0, 0, 0, 0, 0, 0, 0, 0, 0, 0, 0, 0, 0, 0, 0, 0, 0, 0, 0, 0, 0, 0, 0, 0, 0, 0, 0, 0, 0, 0, 0, 0, 0, 0, 0, 0, 0, 0, 0, 0, 0, 0, 0, 0, 0, 0, 0, 0, 0, 0, 0, 0, 0, 0, 0, 0, 0, 0, 0, 0, 0, 0, 0, 0, 0, 0, 0, 0, 0, 0, 0, 0, 0, 0, 0, 0, 0, 0, 0, 0, 0, 0, 0, 0, 0, 0, 0, 0, 0, 0, 0, 0, 0, 0, 0, 0, 0, 0, 0, 0, 0, 0, 0, 0, 0, 0, 0, 0, 0, 0, 0, 0, 0, 0, 0, 0, 0, 0, 0, 0, 0, 0, 0, 0, 0, 0, 0, 0, 0, 0, 0, 0, 0, 0, 0, 0, 0, 0, 0, 0, 0, 0, 0, 0, 0, 0, 0, 0, 0, 0, 0, 0, 0, 0, 0, 0, 0, 0, 0, 0, 0, 0, 0, 0, 0, 0, 0, 0, 0, 0, 0, 0, 0, 0, 0, 0, 0, 0, 0, 0, 0, 0, 0, 0, 0, 0, 0, 0, 0, 0, 0, 0, 0, 0, 0, 0, 0, 0, 0, 0, 0, 0, 0, 0, 0, 0, 0, 0, 0, 0, 0, 0, 0, 0, 0, 0, 0, 0, 0, 0, 0, 0, 0, 0, 0, 0, 0, 0, 0, 0, 0, 0, 0, 0, 0, 0, 0, 0, 0, 0, 0, 0, 0, 0, 0, 0, 0, 0, 0, 0, 0, 0, 0, 0, 0, 0, 0, 0, 0, 0, 0, 0, 0, 0, 0, 0, 0, 0, 0, 0, 0, 0, 0, 0, 0, 0, 0, 0, 0, 0, 0, 0, 0, 0, 0, 0, 0, 0, 0, 0, 0, 0, 0, 0, 0, 0, 0, 0, 0, 0, 0, 0, 0, 0, 0, 0, 0, 0, 0, 0, 0, 0, 0, 0, 0, 0, 0, 0, 0, 0, 0, 0, 0, 0, 0, 0, 0, 0, 0, 0, 0, 0, 0, 0, 0, 0, 0, 0, 0, 0, 0, 0, 0, 0, 0, 0, 0, 0, 0, 0, 0, 0, 0, 0, 0, 0, 0, 0, 0, 0, 0, 0, 0, 0, 0, 0, 0, 0, 0, 0, 0, 0, 0, 0, 0, 0, 0, 0, 0, 0, 0, 0, 0, 0, 0, 0, 0, 0, 0, 0, 0, 0, 0, 0, 0, 0, 0, 0, 0, 0, 0, 0, 0, 0, 0, 0, 0, 0, 0, 0, 0, 0, 0, 0, 0, 0, 0, 0, 0, 0, 0, 0, 0, 0, 0, 0, 0, 0, 0, 0, 0, 0, 0, 0, 0, 0, 0, 0, 0, 0, 0, 0, 0, 0, 0, 0, 0, 0, 0, 0, 0, 0, 0, 0, 0, 0, 0, 0, 0, 0, 0, 0, 0, 0, 0, 0, 0, 0, 0, 0, 0, 0, 0, 0, 0, 0, 0, 0, 0, 0, 0, 0, 0, 0, 0, 0, 0, 0, 0, 0, 0, 0, 0, 0, 0, 0, 0, 0, 0, 0, 0, 0, 0, 0, 0, 0, 0, 0, 0, 0, 0, 0, 0, 0, 0, 0, 0, 0, 0, 0, 0, 0, 0, 0, 0, 0, 0, 0, 0, 0, 0, 0, 0, 0, 0, 0, 0, 0, 0, 0, 0, 0, 0, 0, 0, 0, 0, 0, 0, 0, 0, 0, 0, 0, 0, 0, 0, 0, 0, 0, 0, 0, 0, 0, 0, 0, 0, 0, 0, 0, 0, 0, 0, 0, 0, 0, 0, 0, 0, 0, 0, 0, 0, 0, 0, 0, 0, 0, 0, 0, 0, 0, 0, 0, 0, 0, 0, 0, 0, 0, 0, 0, 0, 0, 0, 0, 0, 0, 0, 0, 0, 0, 0, 0, 0, 0, 0, 0, 0, 0, 0, 0, 0, 0, 0, 0, 0, 0, 0, 0, 0, 0, 0, 0, 0, 0, 0, 0, 0, 0, 0, 0, 0, 0, 0, 0, 0, 0, 0, 0, 0, 0, 0, 0, 0, 0, 0, 0, 0, 0, 0, 0, 0, 0, 0, 0, 0, 0, 0, 0, 0, 0, 0, 0, 0, 0, 0, 0, 0, 0, 0, 0, 0, 0, 0, 0, 0, 0, 0, 0, 0, 0, 0, 0, 0, 0, 0, 0, 0, 0, 0, 0, 0, 0, 0, 0, 0, 0, 0, 0, 0, 0, 0, 0, 0, 0, 0, 0, 0, 0, 0, 0, 0, 0, 0, 0, 0, 0, 0, 0, 0, 0, 0, 0, 0, 0, 0, 0, 0, 0, 0, 0, 0, 0, 0, 0, 0, 0, 0, 0, 0, 0, 0, 0, 0, 0, 0, 0, 0, 0, 0, 0, 0, 0, 0, 0, 0, 0, 0, 0, 0, 0, 0, 0, 0, 0, 0, 0, 0, 0, 0, 0, 0, 0, 0, 0, 0, 0, 0, 0, 0, 0, 0, 0, 0, 0, 0, 0, 0, 0, 0, 0, 0, 0, 0, 0, 0, 0, 0, 0, 0, 0, 0, 0, 0, 0, 0, 0, 0, 0, 0, 0, 0, 0, 0, 0, 0, 0, 0, 0, 0, 0, 0, 0, 0, 0, 0, 0, 0, 0, 0, 0, 0, 0, 0, 0, 0, 0, 0, 0, 0, 0, 0, 0, 0, 0, 0, 0, 0, 0, 0, 0, 0, 0, 0, 0, 0, 0, 0, 0, 0, 0, 0, 0, 0, 0, 0, 0, 0, 0, 0, 0, 0, 0, 0, 0, 0, 0, 0, 0, 0, 0, 0, 0, 0, 0, 0, 0, 0, 0, 0, 0, 0, 0, 0, 0, 0, 0, 0, 0, 0, 0, 0, 0, 0, 0, 0, 0, 0, 0, 0, 0, 0, 0, 0, 0, 0, 0, 0, 0, 0, 0, 0, 1, 0, 0, 0, 0, 0, 0, 0, 0, 0, 0, 0, 0, 0, 0, 0, 0, 0, 0, 0, 0, 0, 0, 0, 0, 0, 0, 0, 0, 0, 0, 0, 0, 0, 0, 0, 0, 0, 0, 0, 0, 0, 0, 0, 0, 0, 0, 0, 0, 0, 0, 0, 0, 0, 0, 0, 0, 0, 0, 0, 0, 0, 0, 0, 0, 0, 0, 0, 0, 0, 0, 0, 0, 0, 0, 0, 0, 0, 0, 0, 0, 0, 0, 0, 0, 0, 0, 0, 0, 0, 0, 0, 0, 0, 0, 0, 0, 0, 0, 0, 0, 0, 0, 0, 0, 0, 0, 0, 0, 0, 0, 0, 0, 0, 0, 0, 0, 0, 0, 0, 0, 0, 0, 0, 0, 0, 0, 0, 0, 0, 0, 0, 0, 0, 0, 0, 0, 0, 0, 0, 0, 0, 0, 0, 0, 0, 0, 0, 0, 0, 0, 0, 0, 0, 0, 0, 0, 0, 0, 0, 0, 0, 0, 0, 0, 0, 0, 0, 0, 0, 0, 0, 0, 0, 0, 0, 0, 0, 0, 0, 0, 0, 0, 0, 0, 0, 0, 0, 0, 0, 0, 0, 0, 0, 0, 0, 0, 0, 0, 0, 0, 0, 0, 0, 0, 0, 0, 0, 0, 0, 0, 0, 0, 0, 0, 0, 0, 0, 0, 0, 0, 0, 0, 0, 0, 0, 0, 0, 0, 0, 0, 0, 0, 0, 0, 0, 0, 0, 0, 0, 0, 0, 0, 0, 0, 0, 0, 0, 0, 0, 0, 0, 0, 0, 0, 0, 0, 0, 0, 0, 0, 0, 0, 0, 0, 0, 0, 0, 0, 0, 0, 0, 0, 0, 0, 0, 0, 0, 0, 0, 0, 0, 0, 0, 0, 0, 0, 0, 0, 0, 0, 0, 0, 0, 0, 0, 0, 0, 0, 0, 0, 0, 0, 0, 0, 0, 0, 0, 0, 0, 0, 0, 0, 0, 0, 0, 0, 0, 0, 0, 0, 0, 0, 0, 0, 0, 0, 0, 0, 0, 0, 0, 0, 0, 0, 0, 0, 0, 0, 0, 0, 0, 0, 0, 0, 0, 0, 0, 0, 0, 0, 0, 0, 0, 0, 0, 0, 0, 0, 0, 0, 0, 0, 0, 0, 0, 0, 0, 0, 0, 0, 0, 0, 0, 0, 0, 0, 0, 0, 0, 0, 0, 0, 0, 0, 0, 0, 0, 0, 0, 0, 0, 0, 0, 0, 0, 0, 0, 0, 0, 0, 0, 0, 0, 0, 0, 0, 0, 0, 0, 0, 0, 0, 0, 0, 0, 0, 0, 0, 0, 0, 0, 0, 0, 0, 0, 0, 0, 0, 0, 0, 0, 0, 0, 0, 0, 0, 0, 0, 0, 0, 0, 0, 0, 0, 0, 0, 0, 0, 0, 0, 0, 0, 0, 0, 0, 0, 0, 0, 0, 0, 0, 0, 0, 0, 0, 0, 0, 0, 0, 0, 0, 0, 0, 0, 0, 0, 0, 0, 0, 0, 0, 0, 0, 0, 0, 0, 0, 0, 0, 0, 0, 0, 0, 0, 0, 0, 0, 0, 0, 0, 0, 0, 0, 0, 0, 0, 0, 0, 0, 0, 0, 0, 0, 0, 0, 0, 0, 0, 0, 0, 0, 0, 0, 0, 0, 0, 0, 0, 0, 0, 0, 0, 0, 0, 0, 0, 0, 0, 0, 0, 0, 0, 0, 0, 0, 0, 0, 1, 0, 0, 0, 0, 0, 0, 0, 0, 0, 0, 0, 0, 0, 0, 0, 0, 0, 0, 0, 0, 0, 0, 0, 0, 0, 0, 0, 0, 0, 0, 0, 0, 0, 0, 0, 0, 0, 0, 0, 0, 0, 0, 0, 0, 0, 0, 0, 0, 0, 0, 0, 0, 0, 0, 0, 0, 0, 0, 0, 0, 0, 0, 0, 0, 0, 0, 0, 0, 0, 0, 0, 0, 0, 0, 0, 0, 0, 0, 0, 0, 0, 0, 0, 0, 0, 0, 0, 0, 0, 0, 0, 0, 0, 0, 0, 0, 0, 0, 0, 0, 0, 0, 0, 0, 0, 0, 0, 0, 0, 0, 0, 0, 0, 0, 0, 0, 0, 0, 0, 0, 0, 0, 0, 0, 0, 0, 0, 0, 0, 0, 0, 0, 0, 0, 0, 0, 0, 0, 0, 0, 0, 0, 0, 0, 0, 0, 0, 0, 0, 0, 0, 0, 0, 0, 0, 0, 0, 0, 0, 0, 0, 0, 0, 0, 0, 0, 0, 0, 0, 0, 0, 0, 0, 0, 0, 0, 0, 0, 0, 0, 0, 0, 0, 0, 0, 0, 0, 0, 0, 0, 0, 0, 0, 0, 0, 0, 0, 0, 0, 0, 0, 0, 0, 0, 0, 0, 0, 0, 0, 0, 0, 0, 0, 0, 0, 0, 0, 0, 0, 0, 0, 0, 0, 0, 0, 0, 0, 0, 0, 0, 0, 0, 0, 0, 0, 0, 0, 0, 0, 0, 0, 0, 0, 0, 0, 0, 0, 0, 0, 0, 0, 0, 0, 0, 0, 0, 0, 0, 0, 0, 0, 0, 0, 0, 0, 0, 0, 0, 0, 0, 0, 0, 0, 0, 0, 0, 0, 0, 0, 0, 0, 0, 0, 0, 0, 0, 0, 0, 0, 0, 0, 0, 0, 0, 0, 0, 0, 0, 0, 0, 0, 0, 0, 0, 0, 0, 0, 0, 0, 0, 0, 0, 0, 0, 0, 0, 0, 0, 0, 0, 0, 0, 0, 0, 0, 0, 0, 0, 0, 0, 0, 0, 0, 0, 0, 0, 0, 0, 0, 0, 0, 0, 0, 0, 0, 0, 0, 0, 0, 0, 0, 0, 0, 0, 0, 0, 0, 0, 0, 0, 0, 0, 0, 0, 0, 0, 0, 0, 0, 0, 0, 0, 0, 0, 0, 0, 0, 0, 0, 0, 0, 0, 0, 0, 0, 0, 0, 0, 0, 0, 0, 0, 0, 0, 0, 0, 0, 0, 0, 0, 0, 0, 0, 0, 0, 0, 0, 0, 0, 0, 0, 0, 0, 0, 0, 0, 0, 0, 0, 0, 0, 0, 0, 0, 0, 0, 0, 0, 0, 0, 0, 0, 0, 0, 0, 0, 0, 0, 0, 0, 0, 0, 1, 0, 0, 0, 0, 0, 0, 0, 0, 0, 1, 0, 0, 0, 0, 0, 0, 0, 0, 0, 0, 0, 0, 0, 0, 0, 0, 0, 0, 0, 0, 0, 0, 0, 0, 0, 0, 0, 0, 0, 0, 0, 0, 0, 0, 0, 0, 0, 0, 0, 0, 0, 0, 0, 0, 0, 0, 0, 0, 0, 0, 0, 0, 0, 0, 0, 0, 0, 0, 0, 0, 0, 0, 0, 0, 0, 0, 0, 0, 0, 0, 0, 0, 0, 0, 0, 0, 0, 0, 0, 0, 0, 0, 0, 0, 0, 0, 0, 0, 0, 0, 0, 0, 0, 0, 0, 0, 0, 0, 0, 0, 0, 0, 0, 0, 0, 0, 0, 0, 0, 0, 0, 0, 0, 0, 0, 0, 0, 0, 0, 0, 0, 0, 0, 0, 0, 0, 0, 0, 0, 0, 0, 0, 0, 0, 0, 0, 0, 0, 0, 0, 0, 0, 0, 0, 0, 0, 0, 0, 0, 0, 0, 0, 0, 0, 0, 0, 0, 0, 0, 0, 0, 0, 0, 0, 0, 0, 0, 0, 0, 0, 0, 0, 0, 0, 0, 0, 0, 0, 0, 0, 0, 0, 0, 0, 0, 0, 0, 0, 0, 0, 0, 0, 0, 0, 0, 0, 0, 0, 0, 0, 0, 0, 0, 0, 0, 0, 0, 0, 0, 0, 0, 0, 0, 0, 0, 0, 0, 0, 0, 0, 0, 0, 0, 0, 0, 0, 0, 0, 0, 0, 0, 0, 0, 0, 0, 0, 0, 0, 0, 0, 0, 0, 0, 0, 0, 0, 0, 0, 0, 0, 0, 0, 0, 0, 0, 0, 0, 0, 0, 0, 0, 0, 0, 0, 0, 0, 0, 0, 0, 0, 0, 0, 0, 0, 0, 0, 0, 0, 0, 0, 0, 0, 0, 0, 0, 0, 0, 0, 0, 0, 0, 0, 0, 0, 0, 0, 0, 0, 0, 0, 0, 0, 0, 0, 0, 0, 0, 0, 0, 0, 0, 0, 0, 0, 0, 0, 0, 0, 0, 0, 0, 0, 0, 0, 0, 0, 0, 0, 0, 0, 0, 0, 0, 0, 0, 0, 0, 0, 0, 0, 0, 0, 0, 0, 0, 0, 0, 0, 0, 0, 0, 0, 0, 0, 0, 0, 0, 0, 0, 0, 0, 0, 0, 0, 0, 0, 0, 0, 0, 0, 0, 0, 0, 0, 0, 0, 0, 0, 0, 0, 0, 0, 0, 0, 0, 0, 0, 0, 0, 0, 0, 0, 0, 0, 0, 0, 0, 0, 0, 0, 0, 0, 0, 0, 0, 0, 0, 0, 0, 0, 0, 0, 0, 0, 0, 0, 0, 0, 0, 0, 0, 0, 0, 0, 0, 0, 0, 0, 0, 0, 0, 0, 0, 0, 0, 0, 0, 0, 0, 0, 0, 0, 0, 0, 0, 0, 0, 0, 0, 0, 0, 0, 0, 0, 0, 0, 0, 0, 0, 0, 0, 0, 0, 0, 0, 0, 0, 0, 0, 0, 0, 0, 0, 0, 0, 0, 0, 0, 0, 0, 0, 0, 0, 0, 0, 0, 0, 0, 0, 0, 0, 0, 0, 0, 0, 0, 0, 0, 0, 0, 0, 0, 0, 0, 0, 0, 0, 0, 0, 0, 0, 0, 0, 0, 0, 0, 0, 0, 0, 0, 0, 0, 0, 0, 0, 0, 0, 0, 0, 0, 0, 0, 0, 0, 0, 0, 0, 0, 0, 0, 0, 0, 0, 0, 0, 0, 0, 0, 0, 0, 0, 0, 0, 0, 0, 0, 0, 0, 0, 0, 0, 0, 0, 0, 0, 0, 0, 0, 0, 0, 0, 0, 0, 0, 0, 0, 0, 0, 0, 0, 0, 0, 0, 0, 0, 0, 0, 0, 0, 0, 0, 0, 0, 0, 0, 0, 0, 0, 0, 0, 0, 0, 0, 0, 0, 0, 0, 0, 0, 0, 0, 0, 0, 0, 0, 0, 0, 0, 0, 0, 0, 0, 0, 0, 0, 0, 0, 0, 0, 0, 0, 0, 0, 0, 0, 0, 0, 0, 0, 0, 0, 0, 0, 0, 0, 0, 0, 0, 0, 0, 0, 0, 0, 0, 0, 0, 0, 0, 0, 0, 0, 0, 0, 0, 0, 0, 0, 0, 0, 0, 0, 0, 0, 0, 0, 0, 0, 0, 0, 0, 0, 0, 0, 0, 0, 0, 0, 0, 0, 0, 0, 0, 0, 0, 0, 0, 0, 0, 0, 0, 0, 0, 0, 0, 0, 0, 0, 0, 0, 0, 0, 0, 0, 0, 0, 0, 0, 0, 0, 0, 0, 0, 0, 0, 0, 0, 0, 0, 0, 0, 0, 0, 0, 0, 0, 0, 0, 0, 0, 0, 0, 0, 0, 0, 0, 0, 0, 0, 0, 0, 0, 0, 0, 0, 0, 0, 0, 0, 0, 0, 0, 0, 0, 0, 0, 0, 0, 0, 0, 0, 0, 0, 0, 0, 0, 0, 0, 0, 0, 0, 0, 0, 0, 0, 0, 0, 0, 0, 0, 0, 0, 0, 0, 0, 0, 0, 0, 0, 0, 0, 0, 0, 0, 0, 0, 0, 0, 0, 0, 0, 0, 0, 0, 0, 0, 0, 0, 0, 0, 0, 0, 0, 0, 0, 0, 0, 0, 0, 0, 0, 0, 0, 0, 0, 0, 0, 0, 0, 0, 0, 0, 0, 0, 0, 0, 0, 0, 0, 0, 0, 0, 0, 0, 0, 0, 0, 0, 0, 0, 0, 0, 0, 0, 0, 0, 0, 0, 0, 0, 0, 0, 0, 0, 0, 0, 0, 0, 0, 0, 0, 0, 0, 0, 0, 0, 0, 0, 0, 0, 0, 0, 0, 0, 0, 0, 0, 0, 0, 0, 0, 0, 0, 0, 0, 0, 0, 0, 0, 0, 0, 0, 0, 0, 0, 0, 0, 0, 0, 1, 0, 0, 0, 0, 0, 0, 0, 0, 0, 0, 0, 0, 0, 0, 0, 0, 0, 0, 0, 0, 0, 0, 0, 0, 0, 0, 0, 0, 0, 0, 0, 0, 0, 0, 0, 0, 0, 0, 0, 0, 0, 0, 0, 0, 0, 0, 0, 0, 0, 0, 0, 0, 0, 0, 0, 0, 0, 0, 0, 0, 0, 0, 0, 0, 0, 0, 0, 0, 0, 0, 0, 0, 0, 0, 0, 0, 0, 0, 0, 0, 0, 0, 0, 0, 0, 0, 0, 0, 0, 0, 0, 0, 0, 0, 0, 0, 0, 0, 0, 0, 0, 0, 0, 0, 0, 0, 0, 0, 0, 0, 0, 0, 0, 0, 0, 0, 0, 0, 0, 0, 0, 0, 0, 0, 0, 0, 0, 0, 0, 0, 0, 0, 0, 0, 0, 0, 0, 0, 0, 0, 0, 0, 0, 0, 0, 0, 0, 0, 0, 0, 0, 0, 0, 0, 0, 0, 0, 0, 0, 0, 0, 0, 0, 0, 0, 0, 0, 0, 0, 0, 0, 0, 0, 0, 0, 0, 0, 0, 0, 0, 0, 0, 0, 0, 0, 0, 0, 0, 0, 0, 0, 0, 0, 0, 0, 0, 0, 0, 0, 0, 0, 0, 0, 0, 0, 0, 0, 0, 0, 0, 0, 0, 0, 0, 0, 0, 0, 0, 0, 0, 0, 0, 0, 0, 0, 0, 0, 0, 0, 0, 0, 0, 0, 0, 0, 0, 0, 0, 0, 0, 0, 0, 0, 0, 0, 0, 0, 0, 0, 0, 0, 0, 0, 0, 0, 0, 0, 0, 0, 0, 0, 0, 0, 0, 0, 0, 0, 0, 0, 0, 0, 0, 0, 0, 0, 0, 0, 0, 0, 0, 0, 0, 0, 0, 0, 0, 0, 0, 0, 0, 0, 0, 0, 0, 0, 0, 0, 0, 0, 0, 0, 0, 0, 0, 0, 0, 0, 0, 0, 0, 0, 0, 0, 0, 0, 0, 0, 0, 0, 0, 0, 0, 0, 0, 0, 0, 0, 0, 0, 0, 0, 0, 0, 0, 0, 0, 0, 0, 0, 0, 0, 0, 0, 0, 0, 0, 0, 0, 0, 0, 0, 0, 0, 0, 0, 0, 0, 0, 0, 0, 0, 0, 0, 0, 0, 0, 0, 0, 0, 0, 0, 0, 0, 0, 0, 0, 0, 0, 0, 0, 0, 0, 0, 0, 0, 0, 0, 0, 0, 0, 0, 0, 0, 0, 0, 0, 0, 0, 0, 0, 0, 0, 0, 0, 0, 0, 0, 0, 0, 0, 0, 0, 0, 0, 0, 0, 0, 0, 0, 0, 0, 0, 0, 0, 0, 0, 0, 0, 0, 0, 0, 0, 0, 0, 0, 0, 0, 0, 0, 0, 0, 0, 0, 0, 0, 0, 0, 0, 0, 0, 0, 0, 0, 0, 0, 0, 0, 0, 0, 0, 0, 0, 0, 0, 0, 0, 0, 0, 0, 0, 0, 0, 0, 0, 0, 0, 0, 0, 0, 0, 0, 0, 0, 0, 0, 0, 0, 0, 0, 0, 0, 0, 0, 0, 0, 0, 0, 0, 0, 0, 0, 0, 0, 0, 0, 0, 0, 0, 0, 0, 0, 0, 0, 0, 0, 0, 0, 0, 0, 0, 0, 0, 0, 0, 0, 0, 1, 0, 0, 0, 0, 0, 0, 0, 0, 0, 0, 0, 0, 0, 0, 0, 0, 0, 0, 0, 0, 0, 0, 0, 0, 0, 0, 0, 0, 0, 0, 0, 0, 0, 0, 0, 0, 0, 0, 0, 0, 0, 0, 0, 0, 0, 0, 0, 0, 0, 0, 0, 0, 0, 0, 0, 0, 0, 0, 0, 0, 0, 0, 0, 0, 0, 0, 0, 0, 0, 0, 0, 0, 0, 0, 0, 0, 0, 0, 0, 0, 0, 0, 0, 0, 0, 0, 0, 0, 0, 0, 0, 0, 0, 0, 0, 0, 0, 0, 0, 0, 0, 0, 0, 0, 0, 0, 0, 0, 0, 0, 0, 0, 0, 0, 0, 0, 0, 0, 0, 0, 0, 0, 0, 0, 0, 0, 0, 0, 0, 0, 0, 0, 0, 0, 0, 0, 0, 0, 0, 0, 0, 0, 0, 0, 0, 0, 0, 0, 0, 0, 0, 0, 0, 0, 0, 0, 0, 0, 0, 0, 0, 0, 0, 0, 0, 0, 0, 0, 0, 0, 0, 0, 0, 0, 0, 0, 0, 0, 0, 0, 0, 0, 0, 0, 0, 0, 0, 0, 0, 0, 0, 0, 0, 0, 0, 0, 0, 0, 0, 0, 0, 0, 0, 0, 0, 0, 0, 0, 0, 0, 0, 0, 0, 0, 0, 0, 0, 0, 0, 0, 0, 0, 0, 0, 0, 0, 0, 0, 0, 0, 0, 0, 0, 0, 0, 0, 0, 0, 0, 0, 0, 0, 0, 0, 0, 0, 0, 0, 0, 0, 0, 0, 0, 0, 0, 0, 0, 0, 0, 0, 0, 0, 0, 0, 0, 0, 0, 0, 0, 0, 0, 0, 0, 0, 0, 0, 0, 0, 0, 0, 0, 0, 0, 0, 0, 0, 0, 0, 0, 0, 0, 0, 0, 0, 0, 0, 0, 0, 0, 0, 0, 0, 0, 0, 0, 0, 0, 0, 0, 0, 0, 0, 0, 0, 0, 0, 0, 0, 0, 0, 0, 0, 0, 0, 0, 0, 0, 0, 0, 0, 0, 0, 0, 0, 0, 0, 0, 0, 0, 0, 0, 0, 0, 0, 0, 0, 0, 0, 0, 0, 0, 0, 0, 0, 0, 0, 0, 0, 0, 0, 0, 0, 0, 0, 0, 0, 0, 0, 0, 0, 0, 0, 0, 0, 0, 0, 0, 0, 0, 0, 0, 0, 0, 0, 0, 0, 0, 0, 0, 0, 0, 0, 0, 0, 0, 0, 0, 0, 0, 0, 0, 0, 0, 0, 0, 0, 0, 0, 0, 0, 0, 0, 0, 0, 0, 0, 0, 0, 0, 0, 0, 0, 0, 0, 0, 0, 0, 0, 0, 0, 0, 0, 0, 0, 0, 0, 0, 0, 0, 0, 0, 0, 0, 0, 0, 0, 0, 0, 0, 0, 0, 0, 0, 0, 0, 0, 0, 0, 0, 0, 0, 0, 0, 0, 0, 0, 0, 0, 0, 0, 0, 0, 0, 0, 0, 0, 0, 0, 0, 0, 0, 0, 0, 0, 0, 0, 0, 0, 0, 0, 0, 0, 0, 0, 0, 0, 0, 0, 0, 0, 0, 0, 0, 0, 0, 0, 0, 0, 0, 0, 0, 0, 0, 0, 0, 0, 0, 0, 0, 0, 0, 0, 0, 0, 0, 0, 0, 0, 0, 0, 0, 0, 0, 0, 0, 0, 0, 0, 0, 0, 0, 0, 0, 0, 0, 0, 0, 0, 0, 0, 0, 0, 0, 0, 0, 0, 0, 0, 0, 0, 0, 0, 0, 0, 0, 0, 0, 0, 0, 0, 0, 0, 0, 0, 0, 0, 0, 0, 0, 0, 0, 0, 0, 0, 0, 0, 0, 0, 0, 0, 0, 0, 0, 0, 0, 0, 0, 0, 0, 0, 0, 0, 0, 0, 0, 0, 0, 0, 0, 0, 0, 0, 0, 0, 0, 0, 0, 0, 0, 0, 0, 0, 0, 0, 0, 0, 0, 0, 0, 0, 0, 0, 0, 0, 0, 0, 0, 0, 0, 0, 0, 0, 0, 0, 0, 0, 0, 0, 0, 0, 0, 0, 0, 0, 0, 0, 0, 0, 0, 0, 0, 0, 0, 0, 0, 0, 0, 0, 0, 1, 0, 0, 0, 0, 0, 0, 0, 0, 0, 0, 0, 0, 0, 0, 0, 0, 0, 0, 0, 0, 0, 0, 0, 0, 0, 0, 0, 0, 0, 0, 0, 0, 0, 0, 0, 0, 0, 0, 0, 0, 0, 0, 0, 0, 0, 0, 0, 0, 0, 0, 0, 0, 0, 0, 0, 0, 0, 0, 0, 0, 0, 0, 0, 0, 0, 0, 0, 0, 0, 0, 0, 0, 0, 0, 0, 0, 0, 0, 0, 0, 0, 0, 0, 0, 0, 0, 0, 0, 0, 0, 0, 0, 0, 0, 0, 0, 0, 0, 0, 0, 0, 0, 0, 0, 0, 0, 0, 0, 0, 0, 0, 0, 0, 0, 0, 0, 0, 0, 0, 0, 0, 0, 0, 0, 0, 0, 0, 0, 0, 0, 0, 0, 0, 0, 0, 0, 0, 0, 0, 0, 0, 0, 0, 0, 0, 0, 0, 0, 0, 0, 0, 0, 0, 0, 0, 0, 0, 0, 0, 0, 0, 0, 0, 0, 0, 0, 0, 0, 0, 0, 0, 0, 0, 0, 0, 0, 0, 0, 0, 0, 0, 0, 0, 0, 0, 0, 0, 0, 0, 0, 0, 0, 0, 0, 0, 0, 0, 0, 0, 0, 0, 0, 0, 0, 0, 0, 0, 0, 0, 0, 0, 0, 0, 0, 0, 0, 0, 0, 0, 0, 0, 0, 0, 0, 0, 0, 0, 0, 0, 0, 0, 0, 0, 0, 0, 0, 0, 0, 0, 0, 0, 0, 0, 0, 0, 0, 0, 0, 0, 0, 0, 0, 0, 0, 0, 0, 0, 0, 0, 0, 0, 0, 0, 0, 0, 0, 0, 0, 0, 0, 0, 0, 0, 0, 0, 0, 0, 0, 0, 0, 0, 0, 0, 0, 0, 0, 0, 0, 0, 0, 0, 0, 0, 0, 0, 0, 0, 0, 0, 0, 0, 0, 0, 0, 0, 0, 0, 0, 0, 0, 0, 0, 0, 0, 0, 0, 0, 0, 0, 0, 0, 0, 0, 0, 0, 0, 0, 0, 0, 0, 0, 0, 0, 0, 0, 0, 0, 0, 0, 0, 0, 0, 0, 0, 0, 0, 0, 0, 0, 0, 0, 0, 0, 0, 0, 0, 0, 0, 0, 0, 0, 0, 0, 0, 0, 0, 0, 0, 0, 0, 0, 0, 0, 0, 0, 0, 0, 0, 0, 0, 0, 0, 0, 0, 0, 0, 0, 0, 0, 0, 0, 0, 0, 0, 0, 0, 0, 0, 0, 0, 0, 0, 0, 0, 0, 0, 0, 0, 0, 0, 0, 0, 0, 0, 0, 0, 0, 0, 0, 0, 0, 0, 0, 0, 0, 0, 0, 0, 0, 0, 0, 0, 0, 0, 0, 0, 0, 0, 0, 0, 0, 0, 0, 0, 0, 0, 0, 0, 0, 0, 0, 0, 0, 0, 0, 0, 0, 0, 0, 0, 0, 0, 0, 0, 0, 0, 0, 0, 0, 0, 0, 0, 0, 0, 0, 0, 0, 0, 0, 0, 0, 0, 0, 0, 0, 0, 0, 0, 0, 0, 0, 0, 0, 0, 0, 0, 0, 0, 0, 0, 0, 0, 0, 0, 0, 0, 0, 0, 0, 0, 0, 0, 0, 0, 0, 0, 0, 0, 0, 0, 0, 0, 0, 0, 0, 0, 0, 0, 0, 0, 0, 0, 0, 0, 0, 0, 0, 0, 0, 0, 0, 0, 0, 0, 0, 0, 0, 0, 0, 0, 0, 0, 0, 0, 0, 0, 0, 0, 0, 0, 0, 0, 0, 0, 0, 0, 0, 0, 0, 0, 0, 0, 0, 0, 0, 0, 0, 0, 0, 0, 0, 0, 0, 0, 0, 0, 0, 0, 0, 0, 0, 0, 0, 0, 0, 0, 0, 0, 0, 0, 0, 0, 0, 0, 0, 0, 0, 0, 0, 0, 0, 0, 0, 0, 0, 0, 0, 0, 0, 0, 0, 0, 0, 0, 0, 0, 0, 0, 0, 0, 0, 0, 0, 0, 0, 0, 0, 0, 0, 0, 0, 0, 0, 0, 0, 0, 0, 0, 0, 0, 0, 0, 0, 0, 0, 0, 0, 0, 0, 0, 0, 0, 0, 0, 0, 0, 0, 0, 0, 0, 0, 0, 0, 0, 0, 0, 0, 0, 0, 0, 0, 0, 0, 0, 0, 0, 0, 0, 0, 0, 0, 0, 0, 0, 0, 0, 0, 0, 0, 0, 0, 0, 0, 0, 0, 0, 0, 0, 0, 0, 0, 0, 0, 0, 0, 0, 0, 0, 0, 0, 0, 0, 0, 0, 0, 0, 0, 0, 0, 0, 0, 0, 0, 0, 0, 0, 0, 0, 0, 0, 0, 0, 0, 0, 0, 0, 0, 0, 0, 0, 0, 0, 0, 0, 0, 0, 0, 0, 0, 0, 0, 0, 0, 0, 0, 0, 0, 0, 0, 0, 0, 0, 0, 0, 0, 0, 0, 0, 0, 0, 0, 0, 0, 0, 0, 0, 0, 0, 0, 0, 0, 0, 0, 0, 0, 0, 0, 0, 0, 0, 0, 0, 0, 0, 0, 0, 0, 0, 0, 0, 0, 0, 0, 0, 0, 0, 0, 0, 0, 0, 0, 0, 0, 0, 0, 0, 0, 0, 0, 0, 0, 0, 0, 0, 0, 0, 0, 0, 0, 0, 0, 0, 0, 0, 0, 0, 0, 0, 0, 0, 0, 0, 0, 0, 0, 0, 0, 0, 0, 0, 0, 0, 0, 0, 0, 0, 0, 0, 0, 0, 0, 0, 0, 0, 0, 0, 0, 0, 0, 0, 0, 0, 0, 0, 0, 0, 0, 0, 0, 0, 0, 0, 0, 0, 0, 0, 0, 0, 0, 0, 0, 0, 0, 0, 0, 0, 0, 0, 0, 0, 0, 0, 0, 0, 0, 0, 0, 0, 0, 0, 0, 0, 0, 0, 0, 0, 0, 0, 0, 0, 0, 0, 0, 0, 0, 0, 0, 0, 0, 0, 0, 0, 0, 0, 0, 0, 0, 0, 0, 0, 0, 0, 0, 0, 0, 0, 0, 0, 0, 0, 0, 0, 0, 0, 0, 0, 0, 0, 0, 0, 0, 0, 0, 0, 0, 0, 0, 0, 0, 0, 0, 0, 0, 0, 0, 0, 0, 0, 0, 0, 0, 0, 0, 0, 0, 0, 0, 0, 0, 0, 0, 0, 0, 0, 0, 0, 0, 0, 0, 0, 0, 0, 0, 0, 0, 0, 0, 0, 0, 0, 0, 0, 0, 0, 0, 0, 0, 0, 0, 0, 0, 0, 0, 0, 0, 0, 0, 0, 0, 0, 0, 0, 0, 0, 0, 0, 0, 0, 0, 0, 0, 0, 0, 0, 0, 0, 0, 0, 0, 0, 0, 0, 0, 0, 0, 0, 0, 0, 0, 0, 0, 0, 0, 0, 0, 0, 0, 0, 0, 0, 0, 0, 0, 0, 0, 0, 0, 0, 0, 0, 0, 0, 0, 0, 0, 0, 0, 0, 0, 0, 0, 0, 0, 0, 0, 0, 0, 0, 0, 0, 0, 0, 0, 0, 0, 0, 0, 0, 0, 0, 0, 0, 0, 0, 0, 0, 0, 0, 0, 0, 0, 0, 0, 0, 0, 0, 0, 0, 0, 0, 0, 0, 0, 0, 0, 0, 0, 0, 0, 0, 0, 0, 0, 0, 0, 0, 0, 0, 0, 0, 0, 0, 0, 0, 0, 0, 0, 0, 0, 0, 0, 0, 0, 0, 0, 0, 0, 0, 0, 0, 0, 0, 0, 0, 0, 0, 0, 0, 0, 0, 0, 0, 0, 0, 0, 0, 0, 0, 0, 0, 0, 0, 0, 0, 0, 0, 0, 0, 0, 0, 0, 0, 0, 0, 0, 0, 0, 0, 0, 0, 0, 0, 0, 0, 0, 0, 0, 0, 0, 0, 0, 0, 0, 0, 0, 0, 0, 0, 0, 0, 0, 0, 0, 0, 0, 0, 0, 0, 0, 0, 0, 0, 0, 0, 0, 0, 0, 0, 0, 0, 0, 0, 0, 0, 0, 0, 0, 0, 0, 0, 0, 0, 0, 0, 0, 0, 0, 0, 0, 0, 0, 0, 0, 0, 0, 0, 0, 0, 0, 0, 0, 0, 0, 0, 0, 0, 0, 0, 0, 0, 0, 0, 0, 0, 0, 0, 0, 0, 0, 0, 0, 0, 0, 0, 0, 0, 0, 0, 0, 0, 0, 0, 0, 0, 0, 0, 0, 0, 0, 0, 0, 0, 0, 0, 0, 0, 0, 0, 0, 0, 0, 0, 0, 0, 0, 0, 0, 0, 0, 0, 0, 0, 0, 0, 0, 0, 0, 0, 0, 0, 0, 0, 0, 0, 0, 0, 0, 0, 0, 0, 0, 0, 0, 0, 0, 0, 0, 0, 0, 0, 0, 0, 0, 0, 0, 0, 0, 0, 0, 0, 0, 0, 0, 0, 0, 0, 0, 0, 0, 0, 0, 0, 0, 0, 0, 0, 0, 0, 0, 0, 0, 0, 0, 0, 0, 0, 0, 0, 0, 0, 0, 0, 0, 0, 0, 0, 0, 0, 0, 0, 0, 0, 0, 0, 0, 0, 0, 0, 0, 0, 0, 0, 0, 0, 0, 0, 0, 0, 0, 0, 0, 0, 0, 0, 0, 0, 0, 0, 0, 0, 0, 0, 0, 0, 0, 0, 0, 0, 0, 0, 0, 0, 0, 0, 0, 0, 0, 0, 0, 0, 0, 0, 0, 0, 0, 0, 0, 0, 0, 0, 0, 0, 0, 0, 0, 0, 0, 0, 0, 0, 0, 0, 0, 0, 0, 0, 0, 0, 0, 0, 0, 0, 0, 0, 0, 0, 0, 0, 0, 0, 0, 0, 0, 0, 0, 0, 0, 0, 0, 0, 0, 0, 0, 0, 0, 0, 0, 0, 0, 0, 0, 0, 0, 0, 0, 0, 0, 0, 0, 0, 0, 0, 0, 0, 0, 0, 0, 0, 0, 0, 0, 0, 0, 0, 0, 0, 0, 0, 0, 0, 0, 0, 0, 0, 0, 0, 0, 0, 0, 0, 0, 0, 0, 0, 0, 0, 0, 0, 0, 0, 0, 0, 0, 0, 0, 0, 0, 0, 0, 0, 0, 0, 0, 0, 0, 0, 0, 0, 0, 0, 0, 0, 0, 0, 0, 1, 0, 0, 0, 0, 0, 0, 0, 0, 0, 0, 0, 0, 0, 0, 0, 0, 0, 0, 0, 0, 0, 0, 0, 0, 0, 0, 0, 0, 0, 0, 0, 0, 0, 0, 0, 0, 0, 0, 0, 0, 0, 0, 0, 0, 0, 0, 0, 0, 0, 0, 0, 0, 0, 0, 0, 0, 0, 0, 0, 0, 0, 0, 0, 0, 0, 0, 0, 0, 0, 0, 0, 0, 0, 0, 0, 0, 0, 0, 0, 0, 0, 0, 0, 0, 0, 0, 0, 0, 0, 0, 0, 0, 0, 0, 0, 0, 0, 0, 0, 0, 0, 0, 0, 0, 0, 0, 0, 0, 0, 0, 0, 0, 0, 0, 0, 0, 0, 0, 0, 0, 0, 0, 0, 0, 0, 0, 0, 0, 0, 0, 0, 0, 0, 0, 0, 0, 0, 0, 0, 0, 0, 0, 0, 0, 0, 0, 0, 0, 0, 0, 0, 0, 0, 0, 0, 0, 0, 0, 0, 0, 0, 0, 0, 1, 0, 0, 0, 0, 0, 0, 0, 0, 0, 0, 0, 0, 0, 0, 0, 0, 0, 0, 0, 0, 0, 0, 0, 0, 0, 0, 0, 0, 0, 0, 0, 0, 0, 0, 0, 0, 0, 0, 0, 0, 0, 0, 0, 0, 0, 0, 0, 0, 0, 0, 0, 0, 0, 0, 0, 0, 0, 0, 0, 0, 0, 0, 0, 0, 0, 0, 0, 0, 0, 0, 0, 0, 0, 0, 0, 0, 0, 0, 0, 0, 0, 0, 0, 0, 0, 0, 0, 0, 0, 0, 0, 0, 0, 0, 0, 0, 0, 0, 0, 0, 0, 0, 0, 0, 0, 0, 0, 0, 0, 0, 0, 0, 0, 0, 0, 0, 0, 0, 0, 0, 0, 0, 0, 0, 0, 0, 0, 0, 0, 0, 0, 0, 0, 0, 0, 0, 0, 0, 0, 0, 0, 0, 0, 0, 0, 0, 0, 0, 0, 0, 0, 0, 0, 0, 0, 0, 0, 0, 0, 0, 0, 0, 0, 0, 0, 0, 0, 0, 0, 0, 0, 0, 0, 0, 0, 0, 0, 0, 0, 0, 0, 0, 0, 0, 0, 0, 0, 0, 0, 0, 0, 0, 0, 0, 0, 0, 0, 0, 0, 0, 0, 0, 0, 0, 0, 0, 0, 0, 0, 0, 0, 0, 0, 0, 0, 0, 0, 0, 0, 0, 0, 0, 0, 0, 0, 0, 0, 0, 0, 0, 0, 0, 0, 0, 0, 0, 0, 0, 0, 0, 0, 0, 0, 0, 0, 0, 0, 0, 0, 0, 0, 0, 0, 0, 0, 0, 0, 0, 0, 0, 0, 0, 0, 0, 0, 0, 0, 0, 0, 0, 0, 0, 0, 0, 0, 0, 0, 0, 0, 0, 0, 0, 0, 0, 0, 0, 0, 0, 0, 0, 0, 0, 0, 0, 0, 0, 0, 0, 0, 0, 0, 0, 0, 0, 0, 0, 0, 0, 0, 0, 0, 0, 0, 0, 0, 0, 0, 0, 0, 0, 0, 0, 0, 0, 0, 0, 0, 0, 0, 0, 0, 0, 0, 0, 0, 0, 0, 0, 0, 0, 0, 0, 0, 0, 0, 0, 0, 0, 0, 0, 0, 0, 0, 0, 0, 0, 0, 0, 0, 0, 0, 0, 0, 0, 0, 0, 0, 0, 0, 0, 0, 0, 0, 0, 0, 0, 0, 0, 0, 0, 0, 0, 0]\n"
          ],
          "name": "stdout"
        }
      ]
    },
    {
      "cell_type": "markdown",
      "metadata": {
        "id": "ufAqEtipGj2b",
        "colab_type": "text"
      },
      "source": [
        "# Your code goes here"
      ]
    },
    {
      "cell_type": "code",
      "metadata": {
        "id": "MQ1QYTIwGj2c",
        "colab_type": "code",
        "colab": {
          "base_uri": "https://localhost:8080/",
          "height": 116
        },
        "outputId": "0f73161a-9e86-403d-dc13-5dde0e66f5bd"
      },
      "source": [
        "# Check with the TA's on Piazza before you use the features of sklearn library in your code.\n",
        "sum=y_train.shape[0]\n",
        "print(\"sum of the train data\",sum)\n",
        "\n",
        "unique, frequency = np.unique(y_train, return_counts = True)  \n",
        "# convert both into one numpy array \n",
        "count = np.asarray((unique, frequency )) \n",
        "print(\"The values and their frequency are:\\n\", count)\n",
        "class0 = count[1,0]\n",
        "class1 = count[1,1]\n",
        "py0=class0/sum\n",
        "py1=class1/sum\n",
        "\n",
        "print(\"P(y=0)=\",py0)\n",
        "print(\"P(y=1)=\",py1)"
      ],
      "execution_count": 311,
      "outputs": [
        {
          "output_type": "stream",
          "text": [
            "sum of the train data 4179\n",
            "The values and their frequency are:\n",
            " [[   0    1]\n",
            " [3617  562]]\n",
            "P(y=0)= 0.8655180665230916\n",
            "P(y=1)= 0.13448193347690834\n"
          ],
          "name": "stdout"
        }
      ]
    },
    {
      "cell_type": "code",
      "metadata": {
        "id": "bu_O31fR3q3M",
        "colab_type": "code",
        "colab": {
          "base_uri": "https://localhost:8080/",
          "height": 50
        },
        "outputId": "b27d8c08-0916-4b6c-b915-19b0ad105892"
      },
      "source": [
        "print(X_train.shape)\n",
        "print(y_train.shape)"
      ],
      "execution_count": 312,
      "outputs": [
        {
          "output_type": "stream",
          "text": [
            "(4179, 7287)\n",
            "(4179,)\n"
          ],
          "name": "stdout"
        }
      ]
    },
    {
      "cell_type": "code",
      "metadata": {
        "id": "eEx-tTd7YBld",
        "colab_type": "code",
        "colab": {}
      },
      "source": [
        "#class 0\n",
        "#class 1\n",
        "c0=np.zeros((1,X_train.shape[1]),dtype=np.int16)\n",
        "c1=np.zeros((1,X_train.shape[1]),dtype=np.int16)\n"
      ],
      "execution_count": 313,
      "outputs": []
    },
    {
      "cell_type": "code",
      "metadata": {
        "id": "qJEMnNIO7Lkv",
        "colab_type": "code",
        "colab": {
          "base_uri": "https://localhost:8080/",
          "height": 33
        },
        "outputId": "3bfd353c-8457-428f-fb35-77da4bd9f8b8"
      },
      "source": [
        "for i in range(y_train.shape[0]):\n",
        "  row=X_train[i]\n",
        "  row.reshape(1,X_train.shape[1])\n",
        "  if y_train[i]==0:\n",
        "    c0=np.vstack((c0,row))\n",
        "  else:\n",
        "    c1=np.vstack((c1,row))\n",
        "\n",
        "c0=np.delete(c0,0,0)\n",
        "c1=np.delete(c1,0,0)\n",
        "print(c0.shape)"
      ],
      "execution_count": 314,
      "outputs": [
        {
          "output_type": "stream",
          "text": [
            "(3617, 7287)\n"
          ],
          "name": "stdout"
        }
      ]
    },
    {
      "cell_type": "code",
      "metadata": {
        "id": "94lAR-Zi8ftg",
        "colab_type": "code",
        "colab": {
          "base_uri": "https://localhost:8080/",
          "height": 33
        },
        "outputId": "1fae3e61-093a-4178-cc27-f025fe0deb5b"
      },
      "source": [
        "print(c1.shape)"
      ],
      "execution_count": 315,
      "outputs": [
        {
          "output_type": "stream",
          "text": [
            "(562, 7287)\n"
          ],
          "name": "stdout"
        }
      ]
    },
    {
      "cell_type": "code",
      "metadata": {
        "id": "5y9a7pJB8kOo",
        "colab_type": "code",
        "colab": {}
      },
      "source": [
        "numofclass0 = c0.sum(axis=0)\n",
        "numofclass1 = c1.sum(axis=0)\n",
        "numofall = X_train.sum(axis=0)"
      ],
      "execution_count": 316,
      "outputs": []
    },
    {
      "cell_type": "code",
      "metadata": {
        "id": "7J3MgaUF8-H-",
        "colab_type": "code",
        "colab": {
          "base_uri": "https://localhost:8080/",
          "height": 86
        },
        "outputId": "453e2795-d7bd-4072-cb6a-167dc5f7283f"
      },
      "source": [
        "print(numofclass0.tolist())\n",
        "print(numofclass1.tolist())\n",
        "print(numofall.tolist())"
      ],
      "execution_count": 317,
      "outputs": [
        {
          "output_type": "stream",
          "text": [
            "[0, 0, 1, 0, 0, 0, 0, 1, 0, 0, 0, 0, 0, 0, 0, 0, 0, 0, 0, 0, 0, 0, 0, 0, 0, 0, 0, 0, 0, 0, 0, 0, 0, 0, 0, 0, 0, 0, 0, 0, 0, 0, 0, 0, 0, 0, 0, 0, 0, 0, 0, 0, 0, 0, 0, 0, 0, 0, 0, 0, 0, 0, 0, 0, 0, 0, 0, 0, 0, 0, 0, 0, 0, 0, 0, 0, 0, 0, 0, 0, 0, 0, 0, 0, 0, 0, 0, 0, 0, 0, 0, 0, 0, 0, 0, 0, 0, 0, 0, 0, 0, 0, 0, 0, 0, 0, 0, 0, 0, 0, 0, 0, 0, 0, 0, 0, 0, 0, 0, 0, 0, 0, 0, 0, 0, 0, 0, 0, 0, 0, 0, 0, 0, 0, 0, 0, 0, 0, 0, 0, 0, 0, 0, 0, 0, 0, 0, 0, 0, 0, 0, 0, 0, 0, 0, 0, 0, 0, 0, 0, 0, 0, 0, 0, 0, 0, 0, 0, 0, 0, 0, 0, 0, 0, 0, 0, 0, 0, 0, 0, 0, 0, 0, 0, 0, 0, 0, 0, 0, 0, 0, 0, 0, 0, 0, 0, 0, 0, 0, 0, 0, 0, 0, 0, 0, 0, 0, 0, 0, 0, 0, 0, 0, 0, 0, 0, 0, 0, 0, 0, 0, 0, 0, 0, 0, 0, 0, 0, 0, 0, 0, 0, 0, 0, 0, 0, 0, 0, 0, 0, 0, 0, 0, 0, 0, 0, 0, 0, 0, 0, 0, 1, 10, 1, 0, 1, 0, 0, 0, 1, 0, 0, 0, 0, 0, 3, 1, 0, 0, 0, 0, 1, 0, 0, 0, 0, 5, 1, 0, 0, 0, 0, 0, 0, 0, 1, 0, 0, 0, 1, 0, 0, 0, 1, 1, 0, 0, 0, 0, 0, 0, 1, 0, 0, 0, 0, 0, 0, 0, 0, 0, 0, 0, 0, 0, 0, 1, 0, 0, 0, 1, 1, 0, 0, 0, 0, 1, 0, 1, 0, 1, 1, 1, 1, 0, 1, 8, 0, 1, 1, 0, 0, 0, 0, 3, 0, 0, 0, 0, 0, 0, 0, 0, 0, 1, 0, 1, 1, 0, 0, 0, 0, 0, 0, 1, 0, 0, 1, 0, 0, 0, 0, 0, 0, 0, 0, 0, 1, 1, 0, 0, 2, 1, 0, 0, 0, 0, 1, 1, 2, 1, 1, 0, 2, 3, 2, 1, 1, 1, 1, 4, 1, 8, 1, 0, 6, 0, 0, 0, 0, 0, 0, 0, 2, 1, 1, 1, 1, 0, 0, 0, 7, 0, 0, 0, 0, 0, 0, 2, 0, 0, 0, 0, 0, 0, 0, 0, 1, 0, 0, 1, 1, 0, 0, 0, 0, 0, 0, 0, 0, 0, 0, 1, 0, 0, 2, 1, 2, 0, 0, 0, 0, 1, 0, 0, 1, 0, 0, 4, 0, 0, 1, 0, 0, 0, 0, 1, 0, 0, 0, 0, 0, 0, 1, 0, 0, 1, 0, 0, 0, 0, 0, 0, 0, 0, 0, 0, 0, 0, 0, 0, 0, 0, 1, 2, 0, 0, 0, 1, 1, 2, 2, 1, 0, 1, 1, 0, 0, 0, 1, 0, 0, 6, 1, 1, 0, 5, 0, 1, 1, 0, 1, 4, 0, 0, 0, 0, 0, 0, 0, 0, 0, 0, 0, 1, 0, 0, 0, 3, 0, 0, 1, 1, 0, 0, 3, 0, 1, 4, 0, 0, 1, 1, 1, 0, 0, 0, 1, 0, 0, 0, 0, 0, 0, 2, 1, 2, 1, 0, 0, 1, 0, 0, 0, 0, 0, 0, 0, 0, 0, 0, 0, 0, 0, 0, 0, 2, 1, 0, 1, 1, 4, 0, 2, 0, 0, 1, 0, 0, 0, 0, 0, 0, 0, 0, 0, 0, 0, 0, 0, 0, 1, 1, 4, 0, 0, 0, 0, 0, 0, 0, 0, 0, 0, 0, 0, 0, 0, 0, 0, 0, 0, 0, 0, 0, 0, 0, 0, 0, 0, 0, 0, 0, 0, 0, 0, 0, 0, 0, 0, 0, 0, 0, 0, 0, 0, 0, 0, 0, 0, 0, 0, 0, 0, 0, 0, 0, 0, 0, 0, 0, 0, 0, 0, 0, 0, 0, 0, 0, 0, 0, 0, 0, 0, 0, 0, 0, 0, 0, 0, 0, 0, 0, 0, 1, 1, 1, 3, 0, 3, 0, 0, 0, 2, 0, 0, 0, 0, 0, 1, 0, 0, 0, 0, 3, 0, 3, 0, 0, 2, 0, 2, 1, 1, 6, 0, 1, 0, 4, 2, 7, 2, 20, 0, 1, 2, 1, 18, 0, 1, 0, 1, 3, 1, 1, 3, 1, 0, 0, 2, 0, 0, 1, 1, 1, 2, 11, 1, 2, 1, 4, 1, 1, 1, 0, 0, 1, 1, 2, 0, 0, 1, 0, 2, 1, 2, 25, 4, 4, 0, 3, 1, 3, 1, 15, 1, 1, 2, 1, 0, 1, 1, 2, 2, 0, 1, 0, 1, 1, 1, 5, 1, 1, 0, 0, 2, 2, 1, 2, 1, 4, 1, 1, 1, 1, 1, 3, 1, 1, 12, 1, 24, 1, 4, 0, 3, 0, 0, 1, 0, 4, 1, 10, 2, 26, 7, 6, 1, 6, 1, 1, 1, 30, 3, 4, 4, 1, 3, 1, 4, 5, 3, 6, 1, 1, 2, 0, 7, 1, 2, 3, 3, 1, 0, 0, 1, 8, 0, 1, 1, 1, 1, 1, 4, 1, 1, 1, 1, 0, 2, 19, 7, 1, 1, 0, 1, 2, 0, 2, 1, 3, 1, 1, 1, 1, 1, 1, 1, 58, 1, 1, 1, 3, 2, 1, 1, 1, 1, 1, 1, 1, 1, 12, 1, 1, 1, 1, 2, 2, 1, 0, 1, 2, 2, 5, 0, 11, 2, 4, 3, 1, 1, 1, 2, 3, 7, 1, 2, 1, 4, 3, 0, 1, 6, 1, 1, 1, 2, 3, 1, 2, 4, 1, 1, 1, 2, 1, 1, 2, 1, 1, 3, 1, 4, 1, 1, 1, 1, 1, 3, 1, 5, 1, 1, 1, 8, 1, 1, 0, 16, 4, 4, 1, 1, 1, 0, 1, 3, 3, 1, 3, 1, 0, 1, 1, 1, 1, 5, 1, 4, 2, 1, 1, 1, 1, 3, 5, 1, 1, 0, 0, 3, 0, 1, 2, 1, 2, 1, 1, 1, 1, 1, 0, 0, 64, 10, 13, 5, 10, 3, 4, 0, 1, 11, 1, 1, 1, 1, 1, 2, 1, 1, 1, 1, 1, 1, 3, 1, 3, 2, 1, 1, 1, 1, 2, 1, 2, 1, 3, 1, 1, 1, 1, 1, 1, 1, 2, 1, 1, 1, 1, 1, 1, 1, 2, 3, 2, 1, 1, 0, 10, 1, 2, 4, 1, 2, 1, 1, 1, 2, 2, 1, 1, 0, 4, 0, 0, 18, 14, 1, 2, 1, 1, 0, 1, 1, 1, 6, 0, 0, 0, 0, 1, 0, 1, 1, 50, 2, 2, 20, 1, 1, 1, 26, 0, 6, 3, 0, 0, 1, 8, 1, 2, 1, 1, 1, 1, 1, 0, 1, 1, 0, 0, 7, 3, 0, 0, 1, 2, 0, 1, 1, 5, 0, 1, 1, 0, 1, 1, 3, 5, 1, 1, 2, 1, 10, 8, 3, 1, 6, 1, 1, 3, 9, 0, 1, 0, 1, 1, 1, 0, 0, 0, 8, 1, 4, 3, 1, 1, 2, 0, 1, 1, 15, 2, 0, 4, 1, 21, 2, 5, 1, 5, 1, 1, 2, 1, 1, 1, 3, 1, 1, 1, 1, 3, 15, 2, 3, 1, 5, 1, 1, 1, 2, 1, 0, 1, 2, 1, 0, 26, 1, 1, 1, 1, 31, 1, 1, 1, 2, 4, 1, 1, 1, 1, 1, 0, 1, 23, 2, 0, 1, 0, 0, 2, 1, 1, 4, 2, 2, 3, 3, 1, 2, 2, 21, 3, 29, 2, 1, 2, 1, 1, 0, 1, 5, 4, 1, 1, 3, 2, 1, 1, 1, 1, 1, 1, 2, 1, 2, 2, 1, 0, 1, 1, 1, 1, 1, 2, 1, 0, 7, 4, 0, 1, 1, 0, 6, 0, 0, 2, 1, 2, 0, 4, 1, 7, 1, 1, 1, 1, 1, 0, 4, 1, 12, 8, 1, 2, 0, 3, 1, 1, 3, 0, 16, 0, 3, 2, 1, 6, 1, 1, 6, 1, 2, 4, 1, 10, 1, 3, 1, 5, 0, 0, 0, 0, 0, 0, 0, 0, 0, 0, 0, 0, 0, 0, 15, 1, 1, 2, 2, 13, 1, 2, 2, 1, 1, 1, 2, 1, 1, 0, 1, 1, 2, 1, 8, 0, 1, 1, 0, 2, 0, 1, 1, 1, 1, 1, 0, 1, 1, 3, 1, 3, 1, 1, 19, 3, 3, 1, 2, 0, 0, 3, 1, 3, 2, 1, 3, 1, 2, 11, 1, 2, 1, 1, 0, 1, 2, 1, 1, 7, 1, 1, 11, 1, 4, 0, 5, 4, 1, 0, 5, 1, 1, 2, 0, 6, 2, 3, 1, 0, 1, 1, 4, 1, 1, 1, 1, 1, 1, 1, 1, 1, 22, 1, 2, 1, 2, 0, 15, 1, 1, 41, 1, 1, 6, 1, 1, 5, 1, 0, 0, 2, 0, 1, 4, 1, 3, 1, 5, 5, 2, 2, 3, 2, 0, 0, 0, 0, 2, 20, 0, 4, 4, 0, 2, 11, 11, 0, 2, 1, 0, 19, 2, 4, 1, 2, 1, 0, 1, 1, 2, 6, 1, 3, 1, 1, 1, 2, 1, 1, 1, 24, 11, 1, 1, 58, 1, 2, 3, 0, 1, 3, 2, 1, 0, 1, 16, 1, 1, 2, 1, 2, 4, 1, 5, 12, 8, 0, 1, 0, 0, 2, 1, 2, 8, 1, 2, 2, 14, 2, 1, 1, 5, 0, 0, 1, 0, 0, 1, 0, 2, 1, 2, 1, 6, 1, 5, 1, 1, 1, 1, 3, 1, 2, 1, 2, 2, 1, 0, 9, 0, 14, 3, 2, 1, 1, 1, 0, 1, 5, 7, 0, 2, 0, 1, 1, 0, 0, 1, 1, 11, 0, 0, 0, 1, 4, 1, 2, 2, 2, 25, 1, 4, 1, 10, 1, 1, 1, 2, 1, 4, 1, 1, 12, 1, 1, 1, 1, 1, 0, 1, 1, 1, 1, 1, 0, 13, 1, 6, 1, 5, 1, 3, 1, 3, 3, 1, 3, 1, 1, 1, 2, 0, 0, 1, 2, 1, 7, 1, 1, 1, 0, 0, 1, 1, 8, 1, 4, 4, 4, 2, 1, 1, 0, 0, 0, 1, 1, 1, 1, 31, 2, 1, 9, 3, 2, 2, 1, 1, 2, 1, 1, 1, 0, 3, 1, 1, 11, 1, 5, 3, 2, 1, 2, 1, 1, 1, 0, 0, 0, 0, 1, 1, 0, 1, 0, 1, 0, 2, 0, 1, 1, 1, 1, 0, 1, 2, 2, 1, 1, 1, 7, 1, 1, 1, 0, 2, 0, 1, 5, 0, 4, 3, 0, 3, 0, 1, 11, 2, 3, 1, 1, 12, 0, 0, 1, 1, 2, 147, 4, 14, 1, 2, 9, 43, 1, 1, 1, 1, 4, 1, 1, 2, 0, 1, 12, 0, 1, 0, 1, 1, 1, 1, 1, 0, 6, 1, 6, 1, 1, 1, 0, 1, 1, 5, 1, 0, 0, 3, 1, 1, 1, 1, 2, 1, 1, 1, 1, 1, 4, 1, 9, 2, 1, 1, 2, 2, 5, 1, 1, 2, 0, 2, 1, 1, 1, 1, 4, 1, 0, 2, 3, 10, 0, 2, 1, 1, 1, 1, 2, 1, 1, 1, 1, 1, 1, 1, 7, 1, 1, 1, 2, 4, 1, 2, 4, 31, 1, 1, 2, 8, 1, 1, 1, 5, 1, 1, 1, 1, 53, 1, 4, 0, 0, 1, 1, 1, 1, 1, 1, 5, 2, 1, 2, 1, 10, 2, 1, 11, 1, 1, 7, 1, 1, 18, 1, 1, 1, 0, 0, 1, 2, 1, 3, 1, 1, 1, 1, 9, 1, 7, 0, 1, 4, 3, 1, 1, 2, 3, 0, 1, 1, 1, 1, 1, 1, 1, 1, 2, 0, 1, 1, 0, 1, 1, 1, 1, 1, 1, 0, 0, 0, 1, 1, 1, 1, 1, 1, 1, 1, 1, 0, 1, 1, 4, 3, 1, 1, 1, 1, 1, 8, 0, 3, 2, 2, 1, 1, 1, 1, 0, 0, 1, 8, 0, 0, 0, 9, 5, 1, 1, 1, 1, 2, 5, 0, 1, 1, 1, 110, 1, 1, 20, 5, 3, 1, 3, 1, 1, 1, 2, 1, 1, 1, 1, 3, 1, 1, 12, 2, 2, 7, 1, 1, 30, 1, 7, 0, 2, 0, 1, 2, 1, 1, 142, 23, 0, 1, 1, 0, 1, 8, 3, 1, 2, 80, 1, 1, 2, 3, 1, 1, 1, 0, 1, 6, 11, 1, 18, 4, 2, 0, 1, 1, 1, 1, 10, 2, 1, 2, 3, 2, 1, 2, 4, 1, 1, 1, 1, 1, 2, 1, 1, 2, 2, 1, 2, 0, 0, 1, 0, 0, 1, 2, 23, 0, 1, 1, 1, 1, 1, 1, 1, 2, 1, 5, 1, 2, 1, 0, 1, 5, 1, 2, 1, 1, 2, 1, 2, 1, 2, 2, 1, 1, 1, 16, 1, 1, 1, 2, 1, 1, 1, 1, 0, 1, 1, 4, 1, 1, 2, 2, 2, 1, 0, 1, 2, 1, 1, 2, 4, 82, 1, 38, 24, 6, 4, 1, 2, 1, 2, 1, 2, 8, 8, 2, 2, 0, 0, 3, 1, 1, 6, 1, 1, 1, 2, 34, 1, 4, 1, 2, 2, 4, 1, 1, 1, 0, 2, 17, 1, 1, 0, 1, 1, 2, 2, 1, 1, 0, 4, 2, 1, 1, 2, 1, 2, 2, 1, 7, 1, 1, 1, 2, 1, 2, 1, 0, 1, 0, 1, 10, 0, 2, 2, 1, 3, 6, 1, 1, 1, 1, 22, 1, 12, 7, 4, 1, 1, 0, 0, 3, 0, 1, 8, 61, 0, 1, 2, 1, 4, 1, 1, 106, 0, 1, 97, 1, 1, 1, 1, 6, 3, 2, 1, 0, 1, 1, 4, 0, 0, 1, 1, 1, 5, 1, 0, 1, 1, 0, 2, 0, 1, 1, 1, 5, 0, 6, 13, 1, 2, 2, 3, 15, 1, 1, 3, 1, 13, 2, 2, 17, 1, 1, 11, 4, 1, 1, 2, 3, 1, 5, 1, 3, 1, 2, 1, 1, 1, 1, 0, 1, 18, 1, 1, 2, 1, 37, 1, 22, 1, 2, 1, 1, 1, 1, 1, 1, 0, 1, 1, 7, 1, 23, 2, 1, 1, 6, 4, 1, 2, 1, 0, 1, 14, 28, 1, 5, 5, 1, 0, 0, 1, 2, 1, 1, 2, 1, 2, 1, 1, 1, 2, 0, 1, 2, 1, 5, 1, 12, 0, 2, 1, 0, 1, 1, 1, 1, 1, 1, 1, 1, 1, 1, 1, 1, 0, 9, 14, 1, 3, 1, 1, 0, 1, 1, 1, 1, 1, 1, 1, 18, 4, 0, 1, 1, 7, 1, 2, 1, 1, 1, 1, 2, 0, 5, 24, 2, 2, 1, 1, 1, 3, 4, 1, 1, 1, 0, 1, 1, 0, 0, 1, 3, 0, 2, 1, 1, 1, 2, 1, 3, 1, 1, 2, 2, 1, 1, 1, 1, 1, 1, 1, 1, 4, 1, 1, 1, 6, 3, 1, 2, 1, 2, 1, 0, 0, 0, 1, 1, 1, 12, 1, 20, 2, 1, 1, 1, 1, 2, 1, 2, 1, 1, 1, 1, 1, 1, 3, 4, 2, 1, 1, 10, 3, 5, 9, 5, 6, 1, 1, 1, 3, 1, 1, 2, 3, 1, 1, 1, 2, 1, 1, 1, 0, 0, 3, 1, 5, 1, 5, 6, 1, 1, 0, 4, 0, 1, 0, 1, 3, 2, 0, 1, 4, 1, 0, 1, 1, 0, 8, 0, 0, 1, 1, 14, 4, 9, 1, 2, 1, 2, 1, 2, 1, 3, 2, 2, 1, 1, 1, 4, 2, 2, 1, 1, 1, 16, 1, 1, 1, 0, 4, 0, 0, 2, 0, 12, 1, 0, 1, 1, 10, 3, 0, 5, 1, 7, 3, 1, 1, 6, 1, 2, 2, 1, 2, 2, 3, 2, 1, 0, 4, 4, 1, 1, 39, 1, 18, 1, 1, 6, 2, 3, 2, 12, 1, 1, 1, 1, 1, 3, 1, 1, 0, 0, 1, 2, 1, 1, 0, 2, 4, 2, 1, 6, 1, 1, 2, 1, 2, 2, 4, 6, 1, 0, 0, 1, 1, 12, 1, 1, 1, 1, 43, 0, 5, 27, 16, 3, 2, 0, 1, 1, 1, 1, 1, 1, 3, 1, 1, 1, 2, 1, 5, 0, 1, 1, 0, 3, 1, 1, 4, 1, 1, 1, 1, 2, 1, 0, 1, 2, 1, 1, 1, 0, 1, 1, 3, 0, 1, 4, 0, 2, 1, 1, 1, 1, 2, 1, 0, 0, 1, 1, 2, 1, 0, 0, 0, 0, 2, 0, 1, 1, 6, 0, 1, 15, 4, 1, 1, 2, 1, 1, 1, 1, 0, 3, 1, 1, 2, 8, 1, 1, 11, 1, 1, 2, 1, 22, 2, 1, 1, 1, 1, 0, 1, 1, 1, 1, 2, 2, 7, 3, 1, 1, 1, 1, 1, 1, 12, 2, 1, 1, 2, 4, 1, 1, 1, 1, 44, 0, 1, 0, 0, 1, 1, 0, 0, 3, 2, 1, 5, 1, 1, 1, 1, 10, 11, 1, 1, 1, 31, 38, 1, 15, 1, 1, 1, 8, 1, 8, 7, 3, 1, 1, 1, 1, 1, 0, 0, 1, 1, 1, 1, 2, 1, 23, 2, 3, 12, 1, 1, 1, 2, 2, 1, 3, 1, 15, 1, 1, 0, 1, 1, 0, 1, 5, 1, 1, 1, 2, 1, 1, 4, 0, 1, 0, 1, 1, 2, 1, 3, 1, 4, 1, 0, 8, 1, 0, 1, 2, 3, 4, 3, 2, 2, 0, 3, 1, 1, 10, 2, 1, 2, 1, 7, 1, 1, 1, 0, 1, 0, 0, 0, 0, 17, 9, 4, 3, 2, 1, 0, 1, 3, 1, 0, 3, 3, 4, 0, 1, 1, 0, 1, 1, 0, 1, 1, 11, 0, 4, 34, 0, 2, 0, 1, 3, 2, 1, 1, 0, 3, 1, 2, 18, 1, 1, 7, 2, 2, 2, 3, 6, 7, 1, 1, 1, 0, 1, 4, 0, 8, 0, 2, 1, 0, 1, 0, 29, 1, 19, 1, 17, 125, 1, 0, 1, 0, 1, 3, 13, 1, 46, 172, 1, 1, 0, 1, 10, 6, 2, 1, 2, 1, 1, 3, 1, 3, 1, 1, 157, 1, 1, 0, 1, 1, 10, 2, 0, 1, 3, 1, 0, 2, 9, 0, 1, 2, 1, 1, 1, 1, 3, 1, 1, 1, 0, 1, 0, 1, 3, 1, 1, 1, 1, 73, 2, 1, 1, 3, 3, 1, 2, 1, 1, 11, 1, 1, 1, 1, 1, 3, 3, 2, 0, 1, 1, 1, 1, 0, 0, 187, 1, 0, 0, 1, 47, 1, 1, 21, 1, 1, 1, 2, 3, 1, 2, 1, 1, 1, 21, 24, 12, 1, 1, 7, 1, 1, 17, 36, 2, 4, 1, 19, 1, 1, 21, 1, 2, 0, 3, 1, 2, 10, 3, 1, 4, 2, 0, 1, 1, 1, 1, 1, 1, 1, 1, 1, 12, 3, 13, 1, 4, 5, 7, 66, 9, 1, 1, 1, 2, 1, 1, 1, 0, 1, 4, 1, 1, 4, 1, 1, 1, 20, 1, 0, 1, 1, 20, 14, 1, 0, 30, 1, 2, 1, 17, 2, 2, 2, 2, 0, 1, 1, 1, 1, 1, 25, 3, 1, 30, 1, 1, 1, 6, 1, 10, 1, 1, 4, 0, 1, 1, 2, 3, 24, 1, 2, 23, 0, 0, 0, 1, 1, 0, 1, 1, 1, 0, 1, 1, 0, 1, 1, 1, 2, 73, 0, 0, 1, 80, 0, 1, 3, 0, 1, 3, 1, 1, 1, 1, 2, 1, 3, 8, 1, 1, 1, 6, 0, 0, 2, 1, 12, 12, 1, 0, 1, 0, 0, 4, 0, 1, 1, 1, 13, 0, 5, 14, 4, 1, 1, 2, 122, 0, 1, 1, 1, 1, 4, 2, 1, 1, 1, 1, 1, 0, 1, 1, 1, 3, 80, 5, 1, 1, 1, 7, 1, 0, 0, 0, 2, 1, 6, 1, 4, 1, 5, 3, 0, 1, 0, 0, 21, 14, 26, 0, 1, 2, 1, 1, 12, 1, 5, 1, 1, 5, 1, 2, 2, 0, 0, 1, 1, 3, 2, 1, 2, 15, 1, 4, 1, 1, 10, 0, 3, 1, 1, 2, 3, 13, 1, 6, 3, 1, 1, 1, 2, 0, 0, 5, 1, 1, 1, 4, 2, 0, 0, 0, 1, 2, 1, 1, 3, 1, 6, 1, 2, 1, 0, 1, 14, 5, 2, 2, 1, 0, 0, 2, 4, 1, 1, 1, 1, 0, 1, 4, 1, 1, 3, 1, 1, 6, 1, 25, 2, 1, 1, 54, 1, 1, 1, 5, 1, 1, 0, 1, 5, 1, 4, 1, 1, 2, 1, 1, 10, 1, 1, 1, 1, 1, 1, 1, 1, 2, 0, 1, 2, 2, 1, 3, 0, 1, 1, 6, 0, 1, 2, 1, 0, 1, 0, 0, 1, 1, 1, 0, 9, 5, 3, 0, 2, 2, 1, 2, 2, 3, 2, 4, 1, 1, 2, 1, 1, 1, 2, 2, 1, 1, 1, 1, 2, 2, 4, 1, 0, 2, 0, 0, 7, 3, 1, 2, 3, 1, 1, 7, 5, 0, 1, 1, 4, 3, 1, 1, 1, 1, 5, 0, 1, 1, 1, 1, 2, 6, 0, 1, 1, 1, 1, 2, 1, 0, 2, 1, 1, 1, 0, 4, 1, 1, 1, 1, 1, 1, 2, 2, 1, 1, 1, 6, 1, 2, 1, 14, 6, 3, 2, 1, 4, 0, 1, 1, 1, 1, 2, 1, 3, 1, 6, 1, 1, 1, 4, 4, 0, 1, 1, 2, 0, 4, 1, 1, 1, 2, 0, 3, 1, 1, 0, 5, 1, 2, 2, 3, 0, 12, 1, 1, 4, 1, 2, 2, 2, 1, 1, 4, 1, 1, 1, 2, 0, 3, 2, 1, 1, 1, 1, 1, 2, 2, 4, 1, 1, 2, 33, 2, 1, 0, 1, 1, 1, 6, 11, 3, 1, 5, 1, 3, 2, 6, 1, 2, 1, 1, 1, 0, 0, 1, 1, 4, 6, 1, 1, 1, 0, 5, 1, 2, 1, 3, 0, 1, 0, 1, 1, 1, 1, 1, 1, 26, 220, 1, 1, 1, 1, 19, 0, 0, 1, 2, 2, 1, 1, 1, 3, 1, 1, 1, 3, 2, 2, 1, 7, 1, 0, 2, 1, 1, 5, 1, 4, 2, 1, 1, 0, 1, 2, 6, 1, 1, 4, 2, 1, 2, 1, 2, 1, 1, 5, 1, 0, 2, 2, 4, 3, 0, 1, 2, 2, 1, 1, 13, 6, 3, 4, 0, 0, 1, 1, 24, 3, 1, 0, 0, 1, 1, 9, 0, 1, 173, 2, 1, 8, 10, 1, 1, 1, 1, 1, 1, 1, 2, 1, 1, 1, 2, 4, 1, 1, 1, 0, 4, 1, 1, 7, 0, 0, 0, 2, 1, 1, 1, 2, 1, 2, 4, 2, 1, 1, 1, 1, 1, 0, 1, 1, 0, 0, 0, 1, 1, 1, 1, 1, 10, 31, 1, 1, 0, 0, 0, 41, 2, 100, 3, 0, 4, 7, 2, 1, 1, 2, 1, 1, 2, 1, 1, 6, 0, 1, 0, 0, 0, 0, 3, 0, 0, 1, 1, 1, 5, 1, 1, 43, 7, 15, 5, 2, 1, 26, 1, 1, 3, 2, 20, 16, 1, 6, 1, 1, 3, 1, 1, 1, 8, 6, 52, 13, 2, 4, 1, 0, 1, 27, 0, 7, 2, 2, 3, 4, 2, 46, 1, 1, 0, 1, 3, 1, 1, 9, 1, 1, 2, 158, 6, 1, 2, 1, 3, 0, 1, 1, 1, 2, 1, 6, 1, 1, 0, 0, 0, 1, 4, 1, 1, 0, 0, 0, 2, 1, 1, 5, 11, 1, 1, 4, 1, 1, 1, 1, 1, 1, 23, 15, 1, 0, 2, 2, 2, 0, 196, 0, 1, 5, 0, 2, 1, 6, 5, 1, 1, 1, 1, 0, 1, 1, 1, 7, 1, 1, 2, 0, 0, 0, 1, 63, 1, 1, 1, 2, 1, 3, 30, 4, 1, 20, 0, 4, 5, 14, 4, 1, 1, 1, 2, 1, 113, 0, 9, 1, 3, 3, 3, 8, 33, 1, 9, 2, 1, 2, 2, 2, 3, 2, 10, 125, 7, 1, 12, 1, 5, 4, 1, 6, 1, 12, 2, 1, 2, 2, 1, 1, 0, 0, 1, 0, 0, 1, 188, 1, 5, 5, 0, 0, 1, 1, 1, 30, 1, 1, 21, 1, 2, 0, 1, 1, 1, 2, 0, 1, 0, 0, 0, 0, 0, 1, 0, 0, 4, 1, 2, 1, 2, 0, 1, 3, 1, 3, 1, 1, 4, 0, 0, 2, 1, 1, 1, 2, 1, 1, 1, 3, 1, 7, 2, 1, 6, 18, 0, 1, 2, 3, 2, 64, 16, 2, 16, 2, 1, 0, 2, 1, 32, 2, 1, 1, 3, 0, 4, 1, 0, 3, 1, 1, 0, 1, 2, 1, 1, 1, 1, 9, 1, 1, 0, 1, 7, 2, 0, 1, 0, 1, 5, 5, 6, 0, 1, 1, 3, 1, 2, 1, 3, 0, 4, 0, 0, 9, 2, 1, 1, 2, 1, 1, 1, 0, 3, 1, 0, 4, 2, 1, 0, 0, 0, 8, 20, 2, 1, 0, 1, 2, 1, 13, 4, 17, 10, 2, 1, 4, 3, 5, 1, 62, 3, 31, 0, 2, 0, 1, 6, 2, 1, 2, 2, 1, 1, 1, 2, 0, 1, 1, 1, 1, 5, 0, 2, 1, 1, 1, 1, 3, 8, 2, 41, 2, 7, 0, 1, 2, 1, 9, 1, 0, 0, 1, 1, 1, 3, 3, 5, 1, 1, 0, 1, 2, 4, 1, 1, 1, 1, 18, 1, 28, 1, 1, 2, 2, 0, 0, 0, 2, 2, 9, 1, 1, 11, 22, 4, 6, 1, 2, 2, 1, 47, 1, 19, 2, 12, 1, 1, 1, 1, 1, 1, 2, 2, 1, 4, 1, 0, 1, 0, 0, 0, 8, 4, 2, 2, 1, 0, 1, 0, 6, 3, 0, 13, 0, 0, 0, 0, 0, 0, 0, 7, 5, 1, 1, 1, 1, 4, 1, 2, 1, 14, 7, 2, 3, 8, 9, 1, 42, 1, 1, 1, 2, 0, 0, 0, 19, 1, 7, 7, 4, 4, 0, 3, 1, 57, 1, 3, 1, 1, 5, 1, 1, 1, 1, 2, 1, 1, 1, 2, 3, 11, 7, 0, 1, 1, 10, 0, 12, 6, 1, 37, 0, 1, 0, 0, 0, 5, 2, 2, 0, 1, 1, 0, 0, 0, 1, 10, 2, 1, 1, 1, 1, 1, 15, 1, 1, 3, 1, 1, 0, 1, 6, 6, 6, 1, 3, 1, 0, 1, 0, 7, 1, 1, 1, 0, 1, 1, 1, 1, 0, 11, 1, 1, 2, 1, 6, 1, 4, 1, 1, 1, 1, 1, 2, 1, 3, 0, 1, 0, 0, 0, 0, 0, 0, 1, 1, 5, 1, 6, 1, 1, 1, 1, 2, 1, 2, 6, 1, 2, 1, 1, 1, 2, 1, 2, 126, 3, 1, 1, 11, 1, 2, 1, 1, 1, 1, 3, 1, 1, 1, 5, 0, 1, 1, 0, 0, 4, 3, 0, 14, 1, 1, 1, 1, 51, 2, 0, 1, 1, 7, 1, 0, 1, 1, 11, 2, 47, 2, 0, 1, 1, 1, 6, 1, 80, 1, 1, 3, 1, 1, 4, 1, 1, 1, 2, 12, 1, 1, 1, 1, 1, 1, 0, 1, 11, 1, 1, 1, 0, 3, 0, 0, 0, 0, 1, 1, 0, 9, 1, 1, 11, 1, 0, 1, 0, 0, 5, 3, 1, 2, 1, 1, 1, 3, 1, 1, 1, 4, 0, 0, 1, 0, 2, 1, 0, 0, 2, 0, 0, 1, 13, 0, 0, 1, 1, 1, 4, 43, 3, 1, 2, 1, 1, 1, 5, 1, 5, 5, 0, 1, 1, 12, 1, 1, 1, 0, 0, 1, 1, 1, 1, 1, 1, 2, 1, 1, 1, 1, 1, 1, 1, 1, 1, 1, 1, 1, 1, 5, 1, 0, 1, 25, 1, 1, 1, 1, 1, 1, 75, 2, 1, 1, 0, 203, 19, 1, 3, 14, 1, 0, 2, 1, 1, 13, 1, 1, 1, 1, 5, 5, 1, 0, 1, 5, 3, 1, 18, 1, 1, 2, 1, 1, 1, 1, 7, 13, 1, 1, 1, 2, 1, 1, 0, 8, 0, 3, 1, 1, 1, 0, 1, 1, 0, 2, 0, 0, 0, 1, 3, 0, 9, 4, 1, 1, 1, 11, 2, 1, 0, 1, 1, 0, 1, 1, 1, 3, 1, 1, 18, 0, 1, 1, 1, 1, 1, 1, 0, 1, 1, 1, 1, 1, 1, 12, 1, 1, 3, 4, 1, 1, 1, 1, 1, 1, 1, 1, 1, 1, 1, 1, 2, 1, 1, 1, 3, 20, 1, 2, 3, 1, 0, 1, 4, 2, 1, 3, 19, 2, 1, 2, 1, 1, 1, 1, 0, 1, 2, 1, 1, 1, 0, 1, 1, 1, 6, 1, 2, 1, 1, 2, 1, 1, 1, 1, 9, 0, 1, 8, 2, 2, 1, 1, 1, 0, 1, 1, 1, 11, 1, 1, 6, 1, 1, 0, 0, 4, 1, 1, 5, 1, 1, 1, 1, 1, 1, 2, 2, 1, 0, 1, 21, 1, 1, 1, 2, 4, 1, 1, 2, 1, 2, 1, 0, 2, 1, 2, 1, 1, 1, 2, 0, 1, 2, 2, 1, 33, 1, 1, 1, 1, 2, 1, 1, 1, 1, 2, 1, 1, 1, 1, 1, 1, 0, 28, 1, 3, 4, 1, 4, 1, 1, 1, 1, 8, 1, 2, 3, 0, 1, 1, 1, 1, 0, 1, 1, 1, 3, 1, 0, 55, 0, 1, 1, 1, 4, 4, 1, 0, 1, 1, 1, 1, 4, 49, 3, 9, 1, 4, 1, 3, 3, 2, 3, 4, 4, 1, 1, 1, 3, 2, 1, 1, 1, 5, 1, 1, 3, 1, 6, 40, 1, 2, 3, 1, 21, 3, 1, 0, 7, 7, 9, 1, 1, 12, 2, 2, 5, 1, 4, 1, 1, 2, 5, 1, 3, 2, 1, 65, 1, 1, 1, 13, 0, 14, 8, 3, 0, 0, 0, 0, 0, 0, 0, 0, 0, 0, 0, 0, 0, 0, 1, 0, 1, 1, 0, 2, 1, 11, 4, 1, 1, 1, 1, 4, 1, 0, 0, 0, 0, 0, 0, 0, 5, 1, 1, 1, 1, 1, 8, 1, 1, 3, 1, 1, 0, 1, 1, 1, 1, 1, 1, 0, 1, 1, 1, 1, 3, 1, 1, 8, 1, 13, 1, 0, 6, 1, 1, 0, 1, 2, 0, 1, 2, 1, 0, 1, 2, 2, 5, 1, 1, 5, 4, 0, 0, 0, 2, 1, 1, 2, 1, 1, 1, 1, 1, 1, 7, 3, 1, 1, 1, 1, 2, 1, 1, 1, 0, 0, 1, 4, 1, 0, 1, 1, 1, 2, 7, 1, 0, 8, 1, 1, 1, 1, 1, 10, 1, 2, 0, 2, 7, 1, 1, 1, 1, 2, 1, 22, 2, 2, 1, 1, 1, 1, 2, 1, 1, 1, 0, 0, 0, 0, 0, 10, 26, 28, 1, 6, 1, 1, 1, 6, 0, 0, 0, 2, 1, 0, 1, 1, 1, 10, 1, 2, 1, 5, 0, 2, 0, 1, 1, 0, 1, 1, 2, 2, 1, 1, 1, 2, 2, 2, 0, 1, 1, 1, 0, 2, 1, 1, 0, 1, 1, 0, 1, 0, 1, 9, 3, 1, 1, 2, 1, 1, 1, 1, 1, 1, 1, 1, 1, 1, 2, 1, 0, 2, 1, 4, 1, 2, 5, 1, 1, 3, 1, 1, 1, 1, 0, 3, 1, 4, 0, 1, 11, 3, 4, 4, 2, 1, 3, 26, 1, 1, 0, 0, 1, 4, 0, 0, 1, 1, 1, 1, 1, 3, 8, 4, 2, 1, 2, 1, 2, 1, 1, 8, 1, 0, 1, 1, 3, 5, 1, 1, 0, 2, 2, 2, 1, 1, 1, 1, 1, 1, 0, 4, 0, 0, 0, 0, 3, 1, 19, 9, 7, 1, 2, 11, 0, 8, 25, 18, 1, 1, 1, 1, 1, 3, 1, 61, 1, 6, 1, 1, 10, 1, 3, 1, 1, 2, 1, 1, 0, 0, 2, 2, 5, 0, 1, 1, 0, 2, 1, 2, 2, 0, 2, 2, 1, 2, 1, 0, 1, 2, 0, 1, 6, 0, 0, 2, 0, 0, 4, 1, 1, 1, 1, 1, 1, 1, 1, 1, 0, 0, 1, 0, 0, 3, 5, 0, 4, 1, 4, 1, 1, 3, 2, 5, 2, 1, 1, 1, 3, 4, 3, 1, 24, 2, 1, 2, 4, 1, 2, 1, 1, 0, 5, 1, 1, 1, 0, 0, 7, 0, 1, 0, 2, 1, 1, 1, 1, 2, 2, 1, 3, 0, 33, 0, 0, 5, 0, 1, 5, 1, 1, 1, 1, 4, 0, 1, 1, 1, 1, 1, 1, 1, 1, 4, 1, 3, 3, 2, 2, 1, 1, 0, 9, 1, 1, 1, 1, 0, 1, 4, 2, 2, 1, 1, 0, 6, 3, 3, 1, 0, 0, 1, 2, 2, 2, 0, 2, 0, 1, 0, 1, 1, 3, 1, 4, 59, 1, 2, 2, 1, 1, 13, 0, 0, 0, 0, 1, 1, 1, 1, 14, 1, 1, 7, 2, 1, 1, 1, 1, 5, 1, 2, 0, 2, 1, 4, 1, 1, 2, 4, 22, 4, 3, 1, 1, 6, 0, 6, 1, 1, 1, 2, 1, 1, 2, 0, 0, 2, 8, 0, 0, 0, 1, 1, 4, 2, 1, 1, 1, 1, 2, 2, 1, 2, 1, 1, 1, 15, 2, 2, 1, 3, 1, 1, 0, 2, 0, 0, 2, 2, 1, 1, 2, 15, 0, 1, 6, 1, 1, 1, 1, 58, 1, 1, 2, 4, 3, 2, 1, 1, 1, 2, 1, 2, 1, 1, 1, 1, 1, 0, 0, 1, 1, 0, 1, 1, 0, 2, 1, 20, 1, 1, 1, 3, 0, 1, 1, 6, 0, 1, 0, 5, 1, 1, 16, 68, 1, 1, 16, 19, 1, 0, 4, 2, 1, 11, 1, 17, 2, 2, 2, 1, 3, 1, 0, 2, 1, 0, 1, 1, 3, 1, 4, 3, 1, 1, 1, 2, 1, 1, 2, 11, 10, 5, 2, 1, 3, 14, 1, 3, 2, 2, 0, 0, 1, 1, 1, 0, 4, 0, 10, 1, 1, 8, 1, 1, 1, 0, 2, 0, 6, 1, 1, 1, 6, 3, 2, 10, 2, 93, 1, 6, 2, 1, 1, 7, 1, 1, 43, 3, 3, 1, 1, 0, 1, 4, 9, 1, 1, 4, 0, 2, 0, 15, 2, 1, 1, 2, 1, 1, 2, 0, 0, 10, 0, 1, 0, 1, 3, 4, 1, 0, 1, 1, 1, 1, 1, 1, 21, 3, 2, 1, 1, 1, 1, 1, 5, 2, 2, 1, 1, 5, 1, 3, 2, 1, 1, 1, 1, 2, 1, 1, 1, 2, 1, 0, 1, 1, 1, 2, 1, 2, 5, 3, 27, 1, 1, 1, 2, 1, 1, 2, 1, 1, 1, 1, 3, 9, 1, 19, 1, 2, 5, 2, 0, 0, 2, 1, 1, 1, 1, 1, 1, 1, 1, 2, 1, 4, 1, 5, 1, 1, 4, 0, 1, 1, 1, 0, 1, 1, 1, 5, 1, 2, 2, 3, 1, 0, 9, 1, 2, 4, 4, 6, 1, 1, 1, 2, 1, 2, 8, 1, 1, 1, 4, 0, 7, 2, 3, 0, 2, 1, 2, 1, 1, 5, 0, 1, 1, 0, 1, 23, 1, 15, 13, 1, 6, 3, 1, 1, 7, 8, 1, 2, 2, 1, 0, 0, 1, 0, 0, 0, 0, 1, 2, 1, 0, 1, 3, 1, 1, 1, 1, 3, 8, 41, 2, 15, 0, 1, 2, 1, 4, 2, 1, 1, 1, 2, 1, 2, 2, 5, 0, 1, 5, 2, 1, 1, 6, 1, 1, 0, 1, 1, 1, 1, 1, 1, 2, 1, 27, 1, 5, 12, 1, 11, 4, 1, 2, 14, 0, 1, 0, 0, 14, 2, 2, 0, 0, 1, 1, 2, 1, 11, 1, 1, 1, 1, 1, 1, 3, 8, 3, 3, 1, 0, 0, 1, 1, 1, 4, 1, 4, 7, 1, 0, 1, 1, 1, 3, 1, 1, 1, 1, 1, 1, 4, 2, 2, 0, 44, 3, 1, 1, 1, 1, 1, 3, 1, 110, 6, 3, 1, 2, 2, 1, 1, 7, 1, 15, 0, 2, 2, 1, 6, 1, 1, 1, 1, 0, 4, 1, 1, 1, 0, 1, 1, 1, 0, 16, 2, 20, 0, 1, 0, 2, 3, 1, 0, 2, 1, 1, 8, 4, 7, 0, 1, 1, 1, 1, 1, 1, 2, 5, 1, 0, 1, 1, 1, 2, 5, 4, 1, 0, 1, 1, 1, 1, 1, 1, 0, 1, 0, 1, 1, 0, 1, 1, 1, 1, 1, 1, 1, 1, 1, 3, 6, 1, 1, 0, 3, 1, 1, 1, 0, 2, 8, 0, 3, 1, 1, 0, 1, 1, 2, 1, 21, 15, 4, 4, 1, 0, 1, 1, 5, 2, 13, 2, 2, 8, 2, 0, 0, 1, 1, 2, 1, 1, 3, 1, 1, 0, 1, 1, 1, 1, 1, 1, 1, 1, 4, 1, 0, 3, 2, 2, 1, 1, 1, 32, 0, 0, 0, 0, 0, 3, 3, 0, 0, 2, 2, 0, 1, 12, 2, 2, 1, 3, 0, 7, 3, 1, 1, 1, 1, 1, 1, 3, 0, 0, 1, 0, 4, 1, 1, 1, 3, 1, 1, 3, 1, 1, 7, 8, 1, 27, 1, 1, 1, 1, 9, 7, 1, 1, 5, 1, 0, 0, 1, 1, 0, 1, 0, 0, 0, 0, 0, 0, 0, 0, 0, 0, 1, 1, 3, 1, 4, 1, 1, 1, 1, 1, 1, 0, 1, 3, 1, 3, 1, 1, 1, 0, 1, 1, 0, 2, 2, 1, 1, 0, 1, 1, 13, 0, 9, 1, 4, 1, 1, 4, 3, 0, 2, 2, 1, 1, 0, 0, 9, 1, 1, 7, 0, 4, 53, 4, 1, 4, 1, 1, 1, 5, 4, 1, 1, 0, 1, 1, 1, 1, 0, 0, 0, 1, 1, 0, 1, 0, 2, 1, 1, 1, 1, 1, 24, 2, 2, 1, 2, 1, 1, 1, 10, 1, 1, 1, 2, 6, 1, 1, 1, 1, 1, 1, 1, 1, 1, 1, 0, 4, 2, 3, 1, 2, 1, 1, 1, 1, 2, 1, 1, 1, 4, 11, 2, 14, 2, 1, 26, 1, 1, 1, 10, 2, 1, 1, 1, 7, 2, 1, 1, 1, 0, 0, 1, 2, 3, 1, 1, 1, 3, 1, 1, 1, 1, 3, 2, 3, 0, 2, 0, 0, 0, 6, 5, 1, 1, 2, 1, 1, 5, 1, 1, 4, 2, 4, 1, 0, 2, 1, 8, 0, 1, 1, 0, 91, 9, 1, 2, 2, 1, 2, 1, 3, 1, 4, 0, 1, 0, 1, 2, 1, 2, 1, 1, 0, 2, 2, 1, 2, 1, 1, 2, 15, 2, 1, 1, 1, 51, 0, 0, 1, 0, 0, 2, 1, 2, 0, 0, 7, 0, 9, 1, 1, 22, 45, 3, 1, 1, 25, 1, 1, 1, 1, 30, 1, 1, 1, 5, 1, 0, 0, 1, 1, 1, 0, 1, 1, 4, 1, 2, 2, 1, 1, 40, 30, 95, 1, 7, 12, 3, 1, 1, 0, 1, 28, 1, 1, 7, 0, 1, 17, 2, 36, 1, 1, 1, 1, 1, 4, 2, 1, 1, 1, 1, 3, 7, 4, 1, 3, 3, 2, 2, 4, 3, 1, 1, 0, 2, 1, 1, 17, 12, 1, 147, 18, 2, 1, 1, 1, 0, 7, 1, 1, 2, 2, 5, 2, 1, 0, 1, 1, 1, 0, 0, 1, 0, 4, 1, 1, 1, 23, 2, 0, 1, 0, 0, 2, 1, 1, 1, 1, 0, 97, 2, 1, 2, 1, 1, 1, 38, 1, 1, 1, 3, 1, 2, 1, 2, 14, 1, 58, 1, 0, 0, 0, 0, 0, 1, 45, 0, 6, 1, 17, 2, 1, 0, 1, 1, 2, 1, 0, 0, 1, 1, 6, 1, 1, 1, 2, 1, 11, 1, 4, 1, 12, 2, 4, 1, 2, 23, 1, 1, 6, 1, 1, 6, 0, 7, 1, 1, 4, 2, 2, 0, 1, 2, 1, 0, 2, 1, 1, 1, 1, 1, 14, 1, 3, 1, 1, 0, 4, 11, 0, 2, 1, 0, 7, 1, 1, 19, 0, 2, 2, 5, 1, 9, 31, 19, 0, 0, 0, 0, 0, 0, 1, 4, 5, 1, 2, 7, 1, 6, 1, 0, 0, 1, 1, 3, 2, 6, 1, 17, 1, 4, 1, 0, 0, 1, 1, 1, 12, 0, 0, 0, 0, 0, 1, 0, 0, 0, 0, 0, 4, 12, 0, 1, 0, 1, 0, 1, 1, 1, 1, 12, 1, 1, 0, 0, 0, 1, 1, 1, 4, 1, 2, 2, 1, 0, 9, 4, 1, 1, 1, 1, 1, 1, 11, 3, 1, 2, 1, 1, 1, 1, 1, 1, 1, 1, 5, 0, 1, 1, 0, 1, 1, 1, 1, 0, 2, 7, 1, 4, 1, 2, 1, 1, 0, 0, 3, 1, 0, 0, 0, 0, 1, 2, 1, 0, 3, 0, 0, 0, 1, 1, 1, 1, 3, 2, 1, 149, 0, 3, 5, 2, 1, 5, 1, 1, 2, 1, 2, 8, 0, 2, 3, 27, 9, 2, 1, 1, 8, 0, 6, 1, 1, 7, 5, 1, 1, 1, 0, 1, 1, 1, 2, 1, 1, 5, 4, 0, 0, 1, 2, 2, 1, 1, 1, 2, 1, 1, 0, 1, 0, 0, 3, 0, 2, 55, 1, 3, 1, 1, 1, 1, 1, 2, 0, 4, 1, 2, 1, 1, 1, 1, 1, 1, 1, 0, 0, 0, 0, 0, 1, 1, 1, 3, 1, 0, 2, 1, 2, 0, 0, 1, 0, 1, 1, 0, 6, 1, 1, 1, 1, 2, 2, 1, 6, 0, 0, 2, 10, 0, 1, 1, 4, 1, 1, 3, 0, 0, 0, 4, 1, 1, 0, 0, 0, 0, 0, 0, 0, 0, 0, 0, 2, 0, 1, 4, 1, 1, 2, 1, 1, 44, 2, 4, 22, 22, 3, 2, 13, 1, 3, 1, 6, 1, 1, 0, 2, 1, 0, 33, 0, 9, 24, 1, 120, 1, 21, 2, 13, 0, 1, 7, 1, 0, 1, 0, 1, 1, 10, 5, 2, 69, 24, 1, 1, 23, 1, 9, 2, 1, 2, 1, 5, 1, 0, 1, 1, 73, 1, 1, 0, 0, 3, 1, 1, 1, 5, 3, 6, 0, 0, 1, 1, 5, 5, 1, 2, 0, 1, 6, 1, 1, 7, 47, 18, 3, 0, 4, 2, 5, 1, 3, 2, 1, 1, 1, 3, 2, 1, 2, 16, 1, 1, 36, 1, 2, 1, 1, 1, 1, 1, 1, 0, 1, 1, 1, 1, 11, 2, 1, 1, 1, 1, 1, 1, 1, 1, 4, 2, 2, 2, 1, 1, 1, 0, 11, 0, 17, 17, 1, 2, 1, 17, 0, 0, 1, 4, 1, 6, 0, 1, 1, 1, 1, 1, 10, 1, 0, 0, 0, 0, 1, 3, 1, 1, 1, 3, 31, 6, 1, 8, 1, 2, 9, 1, 1, 1, 3, 1, 3, 3, 0, 1, 0, 1, 0, 1, 0, 1, 4, 1, 1, 1, 7, 1, 3, 2, 15, 1, 1, 5, 11, 6, 4, 25, 1, 1, 0, 1, 1, 10, 15, 63, 1, 1, 4, 21, 1, 6, 26, 1, 1, 8, 8, 20, 1, 6, 2, 3, 1, 16, 1, 1, 2, 5, 1, 8, 0, 1, 1, 1, 8, 1, 1, 1, 1, 14, 1, 1, 3, 1, 1, 3, 1, 1, 3, 1, 2, 1, 6, 1, 3, 1, 0, 1, 3, 0, 0, 1, 2, 0, 1, 13, 0, 17, 3, 0, 0, 1, 1, 1, 4, 37, 1, 5, 1, 4, 9, 2, 0, 1, 1, 3, 2, 63, 28, 14, 1, 3, 2, 1, 1, 1, 1, 10, 0, 59, 5, 19, 1, 4, 0, 1, 1, 4, 5, 0, 25, 5, 5, 3, 1, 1, 2, 0, 1, 1, 1, 1, 3, 4, 1, 3, 1, 2, 1, 30, 1, 1, 1, 1, 0, 0, 1, 1, 1, 1, 0, 1, 1, 0, 1]\n",
            "[7, 20, 0, 1, 1, 1, 1, 0, 6, 1, 1, 2, 2, 11, 8, 1, 4, 2, 2, 6, 2, 1, 1, 1, 1, 1, 2, 1, 1, 1, 1, 1, 1, 1, 1, 1, 2, 1, 1, 1, 1, 1, 2, 1, 9, 2, 1, 12, 8, 3, 1, 2, 3, 1, 2, 1, 1, 1, 1, 1, 1, 3, 1, 1, 3, 2, 6, 1, 2, 1, 2, 2, 1, 1, 1, 1, 2, 1, 4, 1, 1, 1, 2, 1, 4, 1, 1, 1, 1, 1, 2, 1, 2, 1, 1, 4, 1, 2, 1, 2, 1, 2, 1, 1, 1, 1, 4, 2, 4, 1, 1, 2, 1, 1, 1, 1, 1, 1, 1, 1, 1, 1, 1, 1, 3, 1, 1, 1, 1, 1, 1, 1, 6, 1, 1, 2, 3, 1, 1, 1, 1, 3, 1, 2, 1, 1, 1, 1, 2, 1, 2, 1, 1, 1, 1, 2, 1, 1, 1, 1, 1, 1, 1, 1, 1, 1, 1, 1, 4, 1, 2, 1, 1, 1, 1, 2, 1, 1, 2, 1, 1, 1, 1, 1, 2, 1, 3, 2, 1, 3, 1, 2, 1, 1, 2, 2, 2, 1, 1, 1, 1, 1, 1, 1, 1, 2, 1, 2, 2, 1, 1, 1, 1, 2, 1, 1, 2, 1, 1, 1, 2, 1, 1, 1, 1, 1, 1, 1, 1, 1, 2, 2, 2, 1, 1, 2, 1, 1, 1, 1, 2, 1, 1, 1, 1, 1, 1, 1, 1, 1, 1, 0, 19, 29, 35, 3, 1, 2, 1, 0, 7, 3, 18, 2, 1, 7, 0, 2, 1, 3, 1, 0, 1, 1, 8, 1, 5, 0, 1, 2, 1, 1, 1, 2, 2, 0, 1, 13, 2, 0, 5, 1, 3, 0, 0, 1, 1, 2, 1, 1, 1, 0, 14, 2, 51, 2, 5, 3, 27, 1, 1, 1, 1, 1, 39, 1, 0, 2, 2, 35, 0, 0, 2, 2, 1, 2, 0, 1, 0, 1, 0, 0, 0, 0, 1, 0, 19, 1, 0, 0, 2, 3, 1, 4, 5, 8, 19, 9, 8, 3, 1, 1, 1, 7, 4, 2, 2, 1, 3, 1, 1, 3, 2, 1, 5, 15, 1, 0, 4, 2, 1, 2, 5, 1, 1, 1, 2, 0, 0, 1, 1, 3, 0, 1, 1, 1, 2, 0, 0, 0, 0, 0, 8, 0, 1, 1, 1, 0, 0, 0, 0, 0, 16, 0, 1, 3, 4, 1, 1, 2, 1, 1, 1, 1, 0, 0, 0, 1, 2, 1, 1, 2, 2, 1, 2, 2, 6, 1, 0, 1, 1, 1, 2, 1, 1, 1, 1, 0, 1, 2, 2, 0, 8, 2, 1, 2, 5, 2, 1, 1, 1, 1, 0, 1, 2, 0, 0, 3, 3, 2, 1, 2, 0, 3, 1, 0, 1, 4, 0, 2, 1, 0, 1, 1, 1, 5, 0, 1, 1, 1, 1, 5, 2, 0, 1, 1, 0, 3, 2, 1, 1, 1, 2, 1, 1, 1, 1, 1, 1, 1, 3, 1, 1, 0, 0, 2, 1, 1, 0, 0, 0, 0, 0, 1, 0, 0, 4, 1, 3, 0, 1, 3, 0, 0, 0, 2, 4, 1, 0, 0, 1, 0, 31, 33, 19, 1, 1, 1, 3, 7, 1, 1, 1, 1, 0, 1, 1, 1, 0, 1, 2, 0, 0, 1, 2, 0, 1, 0, 0, 5, 5, 0, 0, 0, 2, 2, 3, 0, 1, 2, 1, 1, 6, 1, 0, 0, 0, 0, 1, 1, 0, 1, 1, 1, 2, 1, 1, 1, 1, 1, 1, 1, 1, 1, 1, 1, 0, 0, 2, 0, 0, 0, 1, 0, 1, 2, 0, 1, 1, 2, 13, 1, 1, 1, 1, 1, 1, 4, 2, 1, 1, 0, 5, 0, 1, 1, 16, 1, 3, 12, 2, 2, 1, 1, 1, 3, 3, 2, 2, 2, 1, 3, 2, 2, 2, 2, 2, 1, 2, 1, 1, 2, 1, 1, 2, 1, 4, 1, 2, 1, 3, 1, 1, 3, 1, 3, 1, 1, 1, 5, 1, 1, 1, 1, 1, 2, 1, 1, 13, 2, 3, 12, 1, 3, 4, 2, 2, 3, 3, 1, 2, 2, 1, 2, 3, 1, 1, 1, 2, 1, 3, 2, 1, 1, 0, 0, 1, 0, 2, 7, 1, 1, 1, 0, 1, 1, 1, 1, 1, 0, 1, 1, 4, 1, 0, 2, 0, 1, 1, 0, 1, 0, 0, 0, 0, 1, 0, 1, 0, 0, 0, 0, 0, 1, 0, 0, 0, 0, 3, 0, 10, 0, 0, 0, 0, 0, 4, 1, 2, 0, 1, 1, 0, 0, 0, 1, 14, 0, 0, 0, 0, 0, 0, 0, 2, 2, 0, 0, 0, 4, 1, 3, 1, 0, 0, 0, 0, 0, 0, 2, 2, 0, 0, 0, 4, 0, 0, 0, 0, 8, 0, 0, 0, 0, 1, 0, 1, 0, 0, 2, 0, 0, 0, 2, 1, 0, 0, 0, 0, 0, 0, 0, 0, 0, 0, 0, 1, 0, 0, 0, 0, 0, 0, 0, 2, 6, 6, 1, 0, 1, 1, 0, 0, 0, 0, 0, 0, 0, 0, 0, 0, 0, 0, 0, 0, 0, 0, 1, 0, 0, 0, 0, 0, 0, 0, 0, 1, 0, 0, 0, 0, 0, 0, 3, 1, 0, 0, 2, 0, 0, 0, 0, 0, 0, 0, 0, 0, 0, 1, 0, 0, 0, 0, 0, 1, 0, 0, 1, 2, 0, 0, 0, 0, 0, 0, 0, 0, 0, 0, 0, 0, 0, 0, 0, 1, 0, 0, 0, 0, 0, 0, 0, 0, 0, 1, 0, 0, 0, 0, 0, 4, 0, 0, 0, 3, 1, 5, 0, 0, 0, 0, 0, 0, 0, 0, 0, 0, 0, 0, 9, 0, 1, 0, 0, 0, 0, 0, 0, 0, 0, 3, 0, 0, 0, 0, 0, 0, 0, 22, 0, 0, 0, 0, 0, 0, 0, 0, 0, 0, 0, 0, 0, 0, 0, 0, 0, 0, 0, 2, 0, 5, 0, 0, 0, 0, 1, 0, 0, 0, 0, 0, 0, 1, 0, 0, 0, 0, 0, 0, 0, 0, 0, 0, 0, 0, 0, 0, 2, 0, 1, 1, 0, 1, 0, 0, 0, 5, 0, 0, 0, 0, 0, 1, 1, 0, 0, 2, 0, 0, 0, 0, 1, 0, 0, 0, 0, 0, 0, 0, 0, 0, 0, 0, 0, 0, 0, 0, 0, 0, 0, 0, 0, 0, 0, 0, 0, 17, 0, 0, 0, 0, 0, 0, 0, 0, 0, 6, 0, 0, 0, 2, 0, 0, 0, 0, 0, 0, 0, 0, 1, 2, 0, 0, 3, 0, 0, 0, 0, 0, 0, 0, 0, 14, 8, 0, 13, 28, 4, 0, 0, 0, 0, 0, 1, 0, 0, 0, 5, 2, 1, 1, 1, 0, 1, 0, 0, 5, 2, 0, 1, 0, 0, 0, 1, 1, 0, 0, 1, 1, 0, 0, 0, 7, 0, 0, 0, 0, 0, 1, 0, 0, 1, 1, 1, 0, 1, 1, 0, 0, 1, 0, 0, 0, 1, 0, 0, 1, 0, 0, 0, 0, 0, 0, 0, 0, 0, 0, 0, 0, 0, 0, 0, 0, 0, 1, 0, 1, 0, 0, 0, 2, 2, 1, 0, 0, 0, 0, 0, 0, 0, 2, 0, 0, 0, 0, 1, 0, 0, 0, 0, 0, 0, 0, 0, 0, 0, 0, 0, 0, 1, 0, 0, 0, 0, 0, 2, 0, 0, 0, 0, 0, 0, 0, 0, 0, 1, 0, 0, 1, 1, 6, 0, 0, 0, 0, 1, 0, 0, 0, 0, 0, 0, 0, 0, 0, 0, 3, 1, 2, 0, 3, 0, 3, 1, 0, 0, 0, 1, 0, 0, 1, 0, 0, 0, 0, 1, 0, 0, 0, 0, 0, 0, 0, 6, 0, 1, 0, 0, 0, 0, 0, 0, 0, 0, 0, 0, 0, 0, 0, 0, 0, 0, 1, 1, 0, 0, 0, 0, 1, 0, 1, 0, 0, 1, 2, 0, 1, 1, 9, 1, 0, 0, 0, 1, 0, 0, 0, 0, 0, 0, 0, 0, 17, 0, 0, 5, 0, 0, 1, 1, 0, 0, 0, 0, 1, 3, 1, 0, 0, 0, 0, 0, 0, 0, 0, 0, 1, 0, 0, 0, 0, 0, 27, 1, 1, 1, 1, 2, 1, 1, 1, 1, 1, 1, 1, 2, 2, 0, 0, 0, 0, 1, 0, 0, 0, 0, 0, 0, 4, 0, 0, 0, 2, 0, 0, 0, 0, 2, 1, 0, 0, 1, 0, 1, 0, 0, 0, 0, 0, 1, 0, 0, 0, 0, 0, 0, 0, 0, 0, 1, 0, 0, 1, 1, 0, 0, 0, 0, 0, 0, 0, 0, 1, 0, 2, 0, 0, 1, 0, 0, 0, 0, 0, 0, 0, 11, 0, 0, 1, 0, 0, 0, 1, 0, 0, 0, 0, 1, 0, 0, 0, 0, 2, 0, 0, 0, 0, 1, 0, 0, 0, 0, 0, 0, 0, 0, 0, 0, 0, 0, 1, 1, 0, 0, 3, 0, 0, 0, 0, 0, 0, 0, 1, 5, 0, 1, 0, 0, 0, 0, 0, 0, 0, 0, 0, 0, 0, 2, 9, 1, 2, 0, 0, 10, 0, 0, 1, 0, 6, 14, 1, 0, 2, 7, 1, 20, 0, 0, 0, 0, 1, 5, 0, 0, 0, 0, 0, 0, 0, 0, 0, 0, 0, 0, 0, 4, 0, 0, 5, 0, 0, 1, 1, 2, 0, 0, 0, 1, 0, 0, 0, 0, 0, 0, 0, 0, 0, 0, 0, 54, 1, 0, 2, 1, 0, 0, 0, 0, 0, 0, 0, 0, 0, 0, 0, 0, 5, 1, 7, 1, 4, 0, 3, 0, 0, 0, 0, 0, 1, 0, 0, 0, 0, 0, 0, 0, 0, 0, 0, 1, 0, 1, 24, 1, 0, 1, 0, 0, 1, 0, 1, 0, 0, 7, 6, 2, 2, 0, 0, 2, 1, 1, 0, 27, 1, 1, 1, 2, 2, 0, 0, 0, 0, 4, 0, 0, 0, 0, 0, 0, 0, 0, 0, 0, 0, 0, 0, 0, 0, 0, 0, 0, 1, 0, 0, 0, 0, 0, 1, 0, 1, 0, 0, 2, 0, 0, 0, 0, 0, 0, 0, 0, 0, 0, 0, 1, 1, 0, 3, 0, 9, 0, 0, 0, 2, 1, 0, 0, 1, 0, 0, 0, 3, 0, 1, 0, 87, 2, 1, 0, 0, 0, 0, 1, 0, 0, 0, 0, 0, 0, 0, 0, 0, 0, 3, 0, 1, 0, 0, 0, 4, 0, 0, 0, 0, 0, 0, 0, 0, 13, 1, 1, 1, 1, 0, 1, 3, 0, 1, 0, 1, 0, 1, 0, 0, 0, 0, 1, 0, 0, 1, 0, 0, 25, 0, 0, 0, 0, 1, 0, 1, 0, 0, 1, 0, 20, 1, 0, 21, 0, 0, 0, 9, 0, 1, 41, 4, 1, 0, 0, 0, 1, 0, 3, 0, 0, 0, 0, 0, 0, 0, 0, 0, 2, 0, 9, 1, 0, 2, 2, 0, 1, 2, 0, 0, 0, 0, 1, 1, 0, 1, 0, 0, 0, 10, 0, 0, 5, 0, 4, 1, 0, 0, 0, 0, 0, 1, 0, 3, 0, 0, 0, 0, 0, 0, 0, 0, 0, 0, 0, 8, 0, 11, 2, 1, 1, 0, 0, 0, 0, 0, 0, 1, 0, 0, 40, 5, 0, 0, 11, 0, 0, 0, 0, 0, 3, 0, 0, 0, 0, 0, 0, 0, 0, 0, 0, 0, 0, 0, 2, 0, 0, 0, 0, 1, 0, 0, 3, 0, 0, 0, 0, 0, 0, 23, 5, 2, 3, 0, 0, 0, 0, 0, 0, 0, 0, 1, 0, 1, 0, 0, 0, 0, 0, 0, 0, 0, 0, 0, 0, 0, 2, 5, 0, 0, 0, 0, 0, 0, 0, 0, 0, 0, 4, 1, 0, 0, 1, 0, 0, 6, 1, 8, 0, 0, 0, 0, 0, 0, 0, 0, 0, 1, 0, 1, 5, 0, 0, 1, 0, 0, 0, 32, 2, 1, 0, 0, 0, 0, 0, 0, 0, 0, 0, 2, 0, 0, 0, 0, 0, 0, 0, 0, 0, 4, 1, 5, 0, 2, 9, 0, 0, 0, 4, 9, 0, 33, 1, 2, 1, 0, 1, 0, 0, 0, 0, 0, 0, 4, 0, 0, 0, 0, 0, 0, 0, 0, 0, 3, 0, 0, 0, 0, 0, 0, 0, 0, 0, 0, 1, 0, 0, 2, 0, 0, 0, 0, 0, 0, 8, 1, 2, 12, 0, 0, 2, 0, 17, 10, 1, 0, 0, 1, 0, 0, 0, 0, 0, 11, 0, 0, 0, 0, 0, 0, 0, 4, 0, 0, 0, 0, 0, 0, 0, 1, 0, 0, 0, 0, 0, 0, 0, 0, 0, 0, 0, 0, 1, 0, 0, 0, 0, 7, 0, 0, 0, 0, 0, 0, 0, 3, 1, 13, 1, 1, 0, 0, 0, 1, 0, 0, 0, 0, 0, 0, 0, 0, 0, 0, 0, 0, 0, 1, 0, 0, 0, 0, 0, 0, 0, 0, 0, 0, 0, 0, 0, 0, 0, 7, 0, 0, 1, 0, 0, 0, 0, 0, 1, 0, 0, 0, 0, 0, 0, 0, 0, 0, 1, 0, 0, 0, 0, 1, 0, 1, 0, 0, 0, 0, 1, 0, 0, 0, 0, 0, 0, 0, 0, 0, 0, 6, 1, 0, 0, 0, 0, 0, 0, 0, 0, 0, 0, 0, 0, 0, 7, 0, 0, 0, 0, 1, 1, 2, 0, 0, 1, 0, 0, 0, 0, 0, 7, 2, 0, 0, 0, 0, 0, 0, 0, 0, 0, 0, 0, 0, 0, 0, 1, 0, 0, 1, 0, 3, 0, 0, 1, 0, 0, 0, 0, 0, 0, 0, 0, 0, 3, 0, 0, 0, 0, 0, 0, 1, 4, 0, 1, 0, 0, 0, 1, 0, 0, 0, 0, 0, 0, 7, 1, 0, 11, 0, 0, 0, 0, 1, 0, 0, 0, 1, 0, 2, 10, 1, 1, 0, 0, 0, 3, 1, 2, 0, 0, 1, 0, 2, 0, 0, 0, 31, 1, 2, 0, 0, 0, 0, 0, 0, 0, 0, 2, 0, 0, 0, 0, 1, 0, 0, 2, 0, 0, 0, 0, 0, 0, 0, 0, 0, 0, 0, 0, 0, 0, 0, 1, 0, 0, 0, 0, 0, 0, 0, 0, 0, 0, 0, 0, 0, 3, 0, 0, 0, 1, 0, 0, 0, 0, 0, 0, 0, 0, 0, 0, 0, 0, 0, 2, 1, 11, 0, 0, 0, 0, 0, 3, 1, 0, 0, 0, 0, 0, 0, 0, 0, 0, 0, 0, 5, 0, 0, 0, 0, 0, 0, 1, 0, 0, 2, 0, 0, 0, 0, 0, 0, 0, 0, 0, 0, 0, 0, 1, 1, 0, 0, 0, 0, 0, 1, 0, 0, 0, 0, 0, 0, 0, 9, 0, 7, 0, 0, 3, 0, 2, 1, 0, 0, 0, 0, 5, 0, 8, 2, 0, 0, 0, 0, 7, 5, 0, 0, 0, 5, 0, 0, 18, 2, 0, 0, 2, 0, 0, 0, 0, 0, 0, 0, 0, 0, 0, 0, 0, 0, 1, 0, 0, 0, 0, 0, 0, 0, 0, 0, 0, 0, 0, 0, 0, 0, 0, 2, 4, 2, 1, 0, 0, 3, 0, 0, 0, 0, 0, 0, 0, 0, 0, 0, 0, 0, 0, 0, 0, 0, 0, 0, 0, 0, 0, 0, 0, 0, 0, 0, 0, 0, 0, 2, 0, 0, 0, 0, 0, 0, 0, 0, 0, 0, 0, 0, 2, 1, 0, 0, 0, 0, 0, 0, 0, 1, 13, 0, 2, 0, 1, 0, 0, 0, 1, 0, 5, 0, 1, 0, 2, 1, 0, 1, 2, 0, 0, 0, 0, 1, 0, 0, 0, 1, 0, 0, 0, 0, 0, 0, 0, 0, 0, 1, 0, 0, 0, 0, 0, 0, 0, 0, 0, 2, 7, 1, 3, 7, 4, 0, 0, 1, 0, 0, 1, 1, 2, 0, 0, 0, 0, 0, 0, 0, 0, 0, 0, 0, 0, 0, 0, 0, 0, 1, 0, 0, 0, 0, 0, 1, 2, 0, 0, 0, 0, 0, 0, 0, 1, 0, 0, 0, 0, 0, 0, 0, 1, 1, 0, 0, 0, 0, 1, 0, 0, 0, 0, 0, 0, 0, 0, 0, 0, 0, 0, 2, 1, 1, 2, 14, 0, 1, 0, 0, 0, 0, 0, 1, 0, 0, 0, 0, 0, 1, 0, 0, 0, 0, 0, 0, 0, 0, 1, 0, 0, 0, 1, 2, 0, 0, 2, 0, 0, 0, 0, 0, 0, 0, 0, 0, 1, 5, 0, 0, 0, 4, 1, 1, 0, 0, 0, 1, 0, 2, 1, 0, 0, 0, 0, 0, 0, 0, 1, 1, 1, 0, 0, 0, 2, 1, 2, 1, 3, 1, 0, 0, 2, 1, 0, 0, 0, 0, 0, 0, 1, 0, 0, 0, 1, 0, 0, 0, 0, 0, 0, 0, 2, 0, 0, 0, 0, 0, 0, 0, 0, 0, 0, 1, 0, 0, 0, 0, 0, 0, 0, 2, 0, 0, 0, 0, 0, 0, 0, 0, 0, 0, 0, 0, 0, 0, 0, 0, 128, 2, 0, 1, 4, 0, 0, 13, 3, 0, 0, 0, 0, 0, 0, 0, 0, 2, 0, 0, 0, 0, 10, 5, 0, 0, 0, 0, 0, 0, 0, 5, 0, 0, 0, 0, 0, 0, 0, 2, 3, 0, 0, 0, 0, 0, 0, 0, 0, 0, 0, 0, 0, 0, 0, 0, 0, 0, 0, 8, 0, 0, 1, 0, 0, 1, 1, 0, 0, 0, 0, 3, 0, 0, 0, 2, 0, 1, 0, 0, 0, 0, 0, 0, 0, 0, 1, 5, 11, 1, 0, 0, 0, 0, 0, 0, 0, 2, 0, 0, 0, 0, 0, 0, 0, 0, 0, 3, 0, 0, 1, 0, 3, 1, 1, 1, 0, 0, 0, 0, 0, 0, 1, 0, 0, 0, 2, 0, 0, 0, 2, 0, 0, 2, 0, 0, 2, 0, 0, 0, 2, 1, 3, 8, 0, 2, 0, 15, 0, 0, 0, 1, 0, 0, 0, 3, 0, 0, 4, 0, 1, 0, 0, 1, 0, 0, 0, 0, 1, 0, 0, 1, 0, 1, 0, 0, 2, 1, 2, 0, 0, 0, 0, 0, 3, 0, 1, 0, 1, 0, 0, 0, 0, 0, 8, 0, 0, 1, 0, 0, 0, 0, 0, 0, 0, 0, 0, 0, 0, 0, 1, 6, 0, 0, 1, 0, 5, 0, 0, 1, 0, 0, 0, 1, 0, 6, 1, 0, 0, 0, 0, 0, 0, 0, 0, 0, 0, 1, 0, 1, 0, 0, 0, 0, 0, 0, 8, 0, 0, 0, 1, 2, 0, 0, 0, 0, 0, 0, 0, 0, 0, 0, 0, 0, 0, 2, 0, 0, 0, 0, 1, 1, 0, 0, 1, 37, 0, 0, 0, 0, 3, 0, 0, 0, 0, 0, 0, 0, 0, 0, 0, 0, 3, 0, 0, 0, 0, 0, 0, 0, 0, 0, 0, 0, 0, 0, 0, 9, 0, 0, 3, 0, 0, 0, 0, 0, 0, 0, 0, 5, 0, 0, 0, 0, 0, 0, 0, 0, 0, 0, 0, 0, 0, 0, 0, 0, 1, 2, 2, 0, 0, 0, 0, 0, 0, 2, 0, 0, 0, 0, 0, 0, 0, 0, 0, 0, 1, 0, 0, 1, 0, 0, 1, 0, 0, 0, 0, 0, 0, 0, 0, 0, 1, 0, 0, 0, 0, 0, 2, 1, 0, 0, 0, 0, 0, 0, 0, 0, 0, 0, 0, 1, 1, 0, 0, 0, 4, 0, 0, 15, 1, 1, 1, 0, 0, 2, 0, 0, 0, 1, 0, 0, 1, 0, 0, 0, 0, 5, 1, 6, 0, 14, 1, 0, 2, 1, 0, 0, 0, 0, 0, 0, 0, 0, 0, 2, 0, 0, 0, 0, 5, 2, 0, 0, 0, 0, 0, 1, 0, 3, 1, 0, 1, 0, 1, 0, 0, 3, 0, 25, 0, 0, 2, 0, 2, 2, 0, 0, 0, 0, 0, 0, 0, 0, 0, 0, 0, 1, 0, 0, 0, 0, 4, 0, 0, 0, 0, 0, 0, 1, 5, 1, 0, 0, 0, 0, 0, 0, 10, 2, 1, 0, 1, 1, 0, 5, 0, 1, 0, 0, 0, 0, 0, 0, 0, 0, 0, 0, 0, 1, 0, 1, 16, 0, 2, 0, 0, 0, 0, 0, 0, 0, 0, 0, 1, 1, 0, 0, 0, 0, 1, 0, 0, 0, 0, 0, 0, 0, 0, 1, 1, 0, 0, 0, 0, 0, 0, 1, 2, 3, 0, 0, 0, 0, 0, 0, 1, 0, 0, 0, 1, 0, 2, 0, 0, 0, 0, 12, 2, 1, 0, 0, 0, 0, 0, 1, 0, 1, 0, 0, 0, 0, 0, 0, 0, 1, 0, 0, 0, 5, 0, 0, 0, 0, 0, 0, 1, 0, 0, 0, 4, 0, 0, 0, 0, 0, 9, 0, 0, 0, 0, 0, 0, 0, 0, 0, 1, 0, 0, 0, 0, 0, 1, 2, 0, 0, 4, 0, 0, 0, 1, 0, 2, 1, 0, 0, 0, 1, 1, 0, 0, 2, 0, 0, 0, 0, 10, 0, 8, 1, 0, 0, 0, 0, 0, 0, 0, 0, 0, 0, 0, 0, 0, 0, 0, 0, 1, 0, 1, 1, 0, 0, 2, 0, 0, 0, 0, 0, 0, 1, 0, 0, 1, 0, 0, 0, 0, 0, 0, 1, 0, 0, 0, 0, 0, 3, 5, 0, 0, 0, 0, 0, 0, 5, 0, 0, 0, 0, 11, 0, 0, 0, 0, 0, 0, 0, 0, 0, 0, 0, 2, 0, 0, 0, 1, 0, 0, 0, 1, 0, 0, 1, 0, 0, 0, 0, 0, 0, 0, 0, 0, 0, 0, 0, 0, 0, 1, 0, 0, 0, 1, 0, 0, 0, 0, 1, 2, 0, 0, 1, 1, 0, 0, 0, 0, 0, 3, 0, 0, 0, 0, 0, 0, 0, 0, 0, 0, 0, 0, 0, 0, 0, 1, 0, 0, 0, 0, 0, 0, 0, 0, 0, 0, 0, 0, 0, 0, 0, 0, 1, 0, 0, 0, 0, 12, 0, 0, 0, 0, 0, 0, 0, 0, 0, 0, 0, 0, 4, 1, 0, 0, 0, 0, 0, 0, 0, 1, 1, 0, 0, 0, 0, 1, 0, 1, 0, 0, 1, 0, 0, 0, 0, 64, 0, 0, 0, 0, 0, 3, 1, 0, 0, 0, 0, 0, 0, 0, 0, 0, 0, 0, 0, 0, 0, 0, 0, 1, 0, 0, 0, 0, 0, 0, 0, 0, 0, 1, 0, 2, 0, 0, 0, 0, 1, 0, 0, 0, 0, 0, 0, 3, 0, 1, 0, 0, 0, 0, 1, 0, 0, 0, 0, 0, 0, 1, 0, 3, 1, 1, 0, 0, 0, 0, 0, 1, 2, 0, 0, 0, 1, 0, 13, 0, 0, 1, 0, 0, 0, 0, 0, 0, 0, 0, 0, 0, 0, 0, 0, 0, 0, 0, 0, 1, 0, 0, 0, 0, 1, 1, 1, 0, 0, 0, 0, 0, 0, 2, 0, 0, 0, 2, 0, 0, 0, 13, 0, 26, 1, 1, 1, 0, 0, 0, 0, 0, 0, 0, 0, 0, 1, 2, 1, 1, 0, 0, 24, 1, 0, 1, 0, 0, 0, 0, 0, 0, 0, 0, 0, 0, 1, 0, 9, 7, 2, 1, 0, 1, 1, 0, 0, 0, 2, 0, 0, 2, 0, 0, 0, 0, 0, 0, 0, 0, 0, 0, 0, 0, 0, 0, 0, 0, 0, 0, 0, 0, 0, 0, 4, 0, 0, 0, 0, 2, 0, 0, 1, 0, 0, 0, 0, 0, 0, 3, 0, 0, 2, 0, 0, 0, 0, 0, 0, 0, 0, 9, 0, 0, 0, 0, 0, 2, 0, 0, 0, 0, 0, 24, 0, 0, 3, 2, 1, 0, 3, 0, 0, 2, 2, 2, 0, 0, 0, 0, 1, 0, 0, 1, 0, 0, 0, 0, 0, 0, 3, 17, 0, 2, 0, 1, 0, 1, 1, 1, 0, 0, 1, 0, 0, 1, 3, 1, 0, 4, 0, 3, 0, 0, 0, 7, 0, 0, 4, 3, 1, 2, 0, 0, 0, 0, 0, 3, 0, 2, 0, 0, 0, 2, 1, 0, 1, 7, 0, 0, 0, 0, 0, 0, 0, 1, 1, 0, 0, 0, 0, 2, 0, 1, 2, 0, 0, 0, 0, 1, 0, 0, 0, 5, 0, 0, 0, 0, 0, 0, 0, 0, 0, 0, 0, 0, 0, 0, 0, 0, 2, 5, 0, 2, 1, 0, 0, 0, 3, 8, 1, 1, 0, 0, 0, 0, 0, 0, 4, 0, 0, 2, 1, 0, 0, 0, 1, 0, 1, 2, 1, 4, 1, 2, 2, 1, 0, 0, 0, 0, 0, 1, 0, 0, 0, 0, 0, 0, 0, 1, 1, 0, 0, 0, 0, 0, 0, 0, 0, 0, 0, 0, 0, 0, 0, 0, 2, 0, 0, 0, 0, 10, 0, 0, 0, 0, 0, 1, 0, 0, 1, 0, 0, 0, 0, 1, 0, 0, 1, 0, 0, 0, 1, 0, 0, 0, 0, 0, 0, 0, 0, 0, 1, 0, 0, 0, 1, 0, 1, 0, 0, 2, 0, 1, 0, 0, 0, 0, 0, 0, 0, 1, 5, 1, 6, 0, 9, 0, 0, 0, 0, 0, 0, 3, 0, 0, 1, 0, 0, 2, 4, 6, 1, 0, 1, 0, 0, 1, 0, 0, 0, 0, 0, 0, 0, 0, 3, 0, 0, 0, 0, 6, 0, 0, 1, 0, 1, 1, 0, 0, 0, 0, 0, 0, 0, 0, 4, 2, 1, 0, 0, 0, 1, 1, 0, 0, 0, 0, 0, 1, 0, 0, 23, 0, 10, 2, 0, 0, 0, 1, 0, 1, 1, 0, 0, 0, 1, 0, 1, 0, 0, 1, 0, 0, 0, 0, 0, 0, 0, 24, 0, 2, 0, 0, 1, 0, 1, 3, 2, 0, 0, 26, 0, 0, 6, 2, 0, 0, 0, 0, 0, 0, 7, 0, 1, 0, 1, 0, 0, 0, 0, 0, 0, 1, 0, 0, 0, 0, 2, 0, 1, 1, 2, 0, 0, 0, 0, 0, 1, 2, 1, 0, 1, 19, 78, 10, 3, 2, 11, 1, 1, 3, 0, 0, 0, 0, 0, 0, 0, 0, 0, 0, 0, 0, 0, 0, 0, 0, 0, 3, 0, 0, 0, 0, 2, 1, 1, 4, 1, 1, 0, 2, 0, 2, 0, 0, 0, 0, 0, 0, 0, 0, 0, 0, 0, 0, 9, 0, 0, 0, 0, 0, 1, 0, 2, 0, 4, 2, 1, 0, 0, 0, 43, 2, 0, 1, 1, 2, 5, 0, 1, 1, 0, 2, 2, 3, 3, 0, 0, 0, 0, 0, 0, 0, 0, 0, 0, 0, 0, 0, 0, 2, 0, 0, 0, 0, 0, 17, 0, 1, 0, 1, 0, 0, 0, 0, 1, 0, 0, 0, 0, 2, 0, 0, 0, 0, 0, 0, 0, 1, 0, 0, 0, 0, 0, 0, 0, 0, 1, 0, 1, 2, 1, 1, 2, 15, 0, 0, 0, 0, 0, 0, 0, 0, 0, 1, 0, 0, 0, 0, 1, 0, 0, 0, 0, 0, 0, 7, 0, 0, 0, 1, 0, 0, 0, 0, 0, 0, 0, 0, 0, 0, 9, 3, 0, 0, 1, 1, 18, 0, 3, 0, 0, 0, 0, 0, 49, 0, 3, 0, 0, 8, 0, 1, 0, 0, 0, 0, 0, 1, 1, 0, 0, 0, 0, 0, 5, 0, 0, 1, 0, 0, 0, 0, 0, 0, 0, 0, 0, 0, 0, 0, 0, 0, 6, 0, 0, 0, 0, 0, 2, 35, 1, 2, 2, 3, 0, 0, 1, 0, 0, 0, 0, 0, 1, 0, 1, 5, 2, 0, 0, 0, 0, 0, 0, 0, 0, 0, 0, 3, 1, 1, 0, 2, 0, 0, 1, 1, 0, 1, 1, 0, 0, 8, 1, 0, 0, 0, 0, 19, 7, 0, 0, 0, 0, 0, 0, 0, 0, 0, 1, 0, 0, 2, 0, 0, 0, 5, 2, 0, 0, 0, 0, 0, 0, 0, 0, 0, 0, 0, 0, 0, 0, 0, 0, 0, 0, 0, 0, 17, 0, 1, 9, 1, 1, 0, 0, 0, 0, 0, 0, 0, 0, 0, 1, 4, 0, 0, 0, 0, 0, 1, 0, 0, 0, 0, 0, 0, 0, 0, 0, 0, 0, 1, 0, 2, 0, 0, 0, 0, 0, 0, 0, 0, 0, 0, 0, 1, 0, 0, 0, 0, 0, 0, 11, 0, 1, 0, 0, 0, 0, 11, 0, 0, 1, 0, 4, 1, 3, 0, 20, 2, 0, 9, 2, 0, 0, 0, 0, 0, 1, 0, 0, 1, 3, 0, 0, 0, 0, 0, 0, 1, 0, 0, 0, 0, 0, 0, 1, 0, 0, 0, 0, 0, 0, 0, 0, 0, 0, 0, 0, 0, 0, 0, 0, 0, 0, 1, 0, 0, 0, 0, 0, 0, 0, 0, 1, 0, 0, 0, 0, 0, 1, 0, 1, 0, 0, 1, 0, 0, 0, 0, 0, 0, 0, 0, 1, 0, 0, 0, 0, 0, 1, 0, 0, 0, 0, 0, 0, 0, 0, 0, 0, 0, 0, 0, 0, 3, 0, 0, 0, 0, 0, 0, 0, 1, 5, 0, 0, 0, 0, 0, 5, 0, 0, 1, 1, 0, 0, 2, 0, 0, 0, 0, 0, 0, 0, 0, 0, 0, 1, 0, 1, 0, 0, 0, 0, 1, 0, 0, 0, 0, 3, 0, 1, 0, 0, 0, 0, 0, 0, 0, 2, 0, 0, 0, 0, 2, 0, 0, 0, 0, 1, 0, 0, 0, 0, 0, 0, 0, 0, 0, 0, 0, 1, 1, 0, 2, 0, 0, 0, 0, 0, 0, 0, 1, 0, 0, 0, 1, 1, 2, 0, 0, 1, 0, 0, 0, 0, 0, 2, 37, 1, 0, 0, 7, 3, 0, 0, 2, 0, 0, 0, 0, 10, 1, 4, 0, 0, 10, 1, 0, 0, 0, 0, 0, 0, 0, 0, 0, 1, 1, 0, 0, 0, 0, 0, 0, 2, 0, 0, 2, 0, 0, 0, 0, 0, 0, 0, 1, 0, 0, 0, 0, 0, 13, 1, 7, 0, 0, 0, 0, 0, 2, 0, 0, 0, 0, 0, 7, 0, 0, 0, 7, 1, 0, 5, 25, 1, 12, 1, 1, 1, 1, 1, 4, 3, 1, 2, 1, 4, 1, 0, 3, 0, 0, 4, 0, 0, 0, 12, 0, 0, 0, 1, 0, 0, 1, 9, 1, 1, 2, 5, 5, 0, 0, 0, 0, 0, 0, 0, 0, 0, 0, 1, 0, 3, 0, 0, 0, 0, 0, 0, 1, 0, 0, 0, 0, 0, 0, 0, 0, 0, 4, 0, 1, 0, 0, 0, 1, 0, 0, 2, 0, 5, 0, 12, 0, 0, 0, 0, 0, 0, 0, 0, 3, 1, 1, 0, 0, 0, 0, 0, 0, 0, 0, 0, 0, 0, 0, 0, 0, 0, 0, 0, 0, 0, 0, 2, 1, 0, 0, 0, 1, 0, 0, 0, 0, 0, 0, 1, 2, 0, 0, 0, 0, 0, 0, 0, 1, 2, 0, 12, 0, 0, 0, 0, 0, 0, 0, 0, 0, 0, 0, 0, 0, 0, 1, 13, 0, 67, 1, 2, 1, 1, 0, 0, 0, 0, 0, 0, 0, 0, 0, 1, 1, 1, 0, 0, 2, 0, 0, 0, 0, 0, 0, 0, 0, 1, 0, 2, 0, 0, 2, 0, 0, 0, 0, 0, 0, 0, 0, 0, 0, 3, 0, 0, 0, 1, 0, 0, 0, 1, 0, 0, 1, 0, 2, 0, 1, 0, 0, 0, 0, 0, 0, 0, 0, 0, 0, 0, 0, 2, 0, 0, 0, 3, 0, 0, 0, 0, 0, 0, 0, 0, 0, 0, 0, 0, 0, 1, 1, 0, 0, 1, 0, 5, 0, 5, 0, 0, 0, 0, 0, 0, 0, 10, 1, 0, 1, 4, 1, 0, 1, 0, 0, 0, 0, 0, 0, 0, 0, 0, 0, 0, 0, 0, 0, 0, 1, 0, 0, 0, 0, 0, 2, 2, 0, 0, 0, 0, 20, 7, 0, 0, 0, 1, 0, 1, 1, 2, 8, 0, 0, 4, 0, 0, 0, 0, 1, 2, 0, 6, 9, 0, 0, 0, 2, 0, 0, 0, 1, 0, 0, 0, 0, 0, 0, 0, 0, 0, 0, 0, 0, 1, 4, 2, 0, 24, 2, 1, 2, 2, 2, 0, 0, 0, 1, 0, 0, 0, 0, 0, 3, 0, 0, 1, 0, 3, 1, 8, 0, 1, 2, 2, 0, 0, 0, 0, 0, 0, 0, 0, 0, 1, 3, 0, 1, 1, 0, 0, 1, 3, 0, 0, 0, 0, 0, 0, 0, 1, 0, 0, 0, 0, 0, 0, 0, 0, 0, 0, 0, 0, 1, 0, 0, 0, 1, 2, 1, 0, 1, 1, 1, 0, 8, 0, 3, 0, 0, 1, 0, 0, 0, 0, 0, 1, 1, 70, 4, 1, 0, 7, 0, 0, 1, 0, 0, 0, 0, 1, 0, 0, 0, 0, 0, 0, 0, 0, 0, 0, 0, 0, 0, 0, 0, 0, 1, 0, 0, 0, 0, 0, 1, 0, 0, 2, 0, 0, 0, 2, 1, 0, 0, 0, 8, 1, 0, 0, 3, 0, 9, 0, 1, 1, 1, 0, 0, 0, 0, 0, 2, 0, 0, 0, 0, 0, 3, 1, 17, 2, 7, 0, 0, 0, 0, 0, 0, 0, 0, 0, 0, 0, 0, 0, 1, 0, 0, 1, 0, 0, 0, 0, 0, 1, 0, 0, 0, 0, 0, 0, 0, 1, 1, 0, 0, 0, 9, 0, 0, 0, 1, 1, 5, 0, 2, 1, 1, 0, 0, 0, 0, 0, 1, 0, 0, 0, 0, 0, 0, 0, 0, 0, 0, 0, 0, 0, 0, 0, 0, 1, 0, 1, 1, 0, 0, 0, 0, 0, 0, 16, 0, 0, 0, 0, 0, 0, 0, 0, 0, 0, 0, 1, 0, 0, 0, 0, 0, 0, 2, 0, 0, 0, 0, 0, 2, 1, 0, 0, 1, 0, 0, 1, 0, 0, 2, 0, 0, 0, 0, 2, 0, 0, 6, 3, 0, 6, 2, 0, 0, 0, 1, 0, 0, 0, 0, 0, 1, 0, 0, 0, 0, 2, 0, 0, 0, 0, 0, 0, 1, 1, 0, 1, 2, 0, 0, 0, 0, 0, 0, 0, 0, 0, 0, 0, 0, 0, 0, 1, 0, 1, 0, 0, 0, 0, 0, 8, 0, 1, 2, 0, 0, 0, 1, 1, 2, 0, 0, 0, 0, 0, 0, 0, 1, 20, 5, 2, 0, 0, 0, 1, 1, 0, 0, 0, 52, 1, 1, 0, 0, 0, 0, 0, 0, 7, 0, 0, 0, 0, 3, 0, 0, 0, 0, 0, 42, 10, 0, 1, 1, 0, 2, 0, 0, 0, 0, 8, 1, 1, 11, 1, 0, 1, 0, 0, 0, 0, 1, 0, 0, 0, 0, 0, 0, 0, 0, 0, 0, 0, 0, 0, 0, 0, 0, 0, 0, 0, 0, 0, 0, 0, 0, 0, 0, 0, 0, 0, 0, 0, 0, 0, 1, 0, 0, 0, 0, 0, 0, 0, 0, 1, 0, 0, 0, 0, 0, 0, 0, 1, 0, 0, 0, 0, 6, 0, 4, 0, 0, 0, 0, 1, 1, 0, 3, 0, 1, 0, 0, 0, 0, 0, 0, 0, 0, 0, 0, 0, 0, 24, 2, 0, 0, 0, 1, 0, 0, 0, 0, 0, 0, 0, 0, 0, 1, 0, 0, 0, 0, 0, 2, 0, 0, 0, 0, 0, 0, 0, 0, 0, 0, 2, 1, 1, 0, 2, 1, 0, 0, 0, 0, 0, 1, 2, 0, 0, 4, 0, 1, 0, 0, 0, 0, 0, 0, 0, 0, 0, 0, 0, 0, 0, 0, 2, 5, 0, 2, 3, 1, 1, 0, 1, 0, 1, 0, 0, 0, 0, 0, 0, 0, 0, 0, 0, 0, 1, 0, 0, 0, 0, 0, 0, 0, 0, 0, 0, 0, 0, 0, 1, 0, 0, 0, 0, 0, 0, 0, 1, 1, 0, 0, 1, 0, 0, 0, 0, 0, 0, 0, 0, 0, 1, 0, 0, 0, 0, 28, 1, 0, 1, 1, 0, 1, 0, 1, 1, 0, 0, 0, 0, 0, 0, 0, 0, 0, 0, 0, 0, 0, 0, 0, 0, 1, 5, 0, 0, 0, 0, 0, 0, 1, 0, 1, 0, 0, 0, 0, 0, 0, 0, 0, 0, 0, 2, 0, 4, 5, 3, 0, 0, 0, 0, 0, 0, 0, 0, 2, 1, 0, 0, 0, 0, 0, 0, 1, 0, 1, 1, 0, 0, 0, 0, 0, 0, 0, 0, 4, 1, 0, 0, 0, 1, 2, 0, 0, 1, 7, 0, 16, 1, 0, 7, 0, 0, 1, 1, 0, 0, 0, 0, 0, 0, 1, 0, 0, 0, 0, 0, 0, 0, 0, 0, 1, 0, 0, 0, 0, 0, 0, 0, 3, 0, 0, 5, 1, 0, 0, 1, 0, 3, 0, 0, 1, 0, 0, 0, 0, 0, 0, 0, 0, 0, 0, 2, 0, 0, 1, 0, 0, 0, 0, 2, 0, 0, 4, 0, 0, 0, 2, 0, 0, 0, 0, 6, 1, 4, 3, 0, 3, 0, 12, 0, 0, 2, 0, 0, 0, 0, 9, 1, 0, 0, 0, 0, 0, 0, 0, 0, 1, 0, 0, 0, 0, 1, 0, 0, 0, 0, 0, 4, 0, 0, 0, 0, 0, 0, 81, 1, 1, 1, 1, 1, 0, 0, 1, 1, 6, 0, 1, 0, 0, 1, 2, 0, 0, 1, 1, 0, 0, 0, 0, 0, 0, 0, 0, 1, 1, 0, 1, 2, 0, 0, 0, 0, 0, 0, 0, 0, 0, 0, 0, 0, 1, 0, 0, 0, 0, 0, 0, 0, 0, 0, 0, 5, 1, 0, 0, 2, 3, 2, 2, 3, 3, 1, 3, 1, 1, 1, 1, 0, 0, 0, 0, 0, 0, 0, 0, 0, 0, 1, 1, 0, 0, 0, 0, 0, 0, 1, 8, 0, 0, 1, 0, 0, 0, 4, 1, 0, 0, 0, 1, 0, 0, 0, 0, 3, 0, 2, 1, 0, 0, 0, 0, 1, 2, 1, 0, 0, 0, 3, 0, 0, 0, 0, 0, 0, 0, 0, 5, 0, 0, 0, 1, 0, 0, 0, 0, 1, 2, 1, 0, 0, 1, 0, 1, 0, 0, 0, 0, 0, 0, 0, 0, 0, 0, 0, 0, 0, 0, 0, 0, 1, 0, 0, 0, 0, 0, 0, 1, 0, 0, 0, 0, 0, 0, 1, 1, 0, 0, 0, 0, 0, 0, 0, 0, 0, 0, 0, 0, 0, 2, 0, 1, 0, 0, 5, 0, 0, 0, 0, 0, 0, 0, 0, 0, 0, 0, 0, 0, 3, 1, 0, 0, 0, 0, 0, 0, 0, 0, 0, 0, 0, 0, 0, 1, 1, 9, 3, 3, 1, 0, 0, 0, 0, 0, 0, 2, 0, 0, 0, 0, 0, 0, 0, 1, 0, 0, 1, 1, 1, 0, 1, 12, 0, 0, 2, 0, 0, 0, 0, 0, 0, 0, 3, 0, 6, 0, 0, 0, 1, 0, 6, 1, 0, 0, 0, 0, 0, 0, 0, 0, 0, 0, 0, 0, 77, 1, 1, 0, 1, 2, 0, 0, 1, 2, 2, 11, 1, 0, 0, 0, 1, 8, 0, 0, 0, 0, 0, 0, 0, 0, 0, 0, 0, 0, 0, 0, 1, 1, 0, 0, 0, 4, 0, 0, 0, 0, 0, 0, 0, 0, 0, 2, 3, 0, 0, 0, 8, 0, 0, 1, 0, 0, 0, 0, 0, 1, 0, 0, 0, 1, 0, 0, 0, 0, 0, 0, 0, 0, 0, 0, 0, 0, 0, 0, 0, 2, 0, 0, 0, 1, 2, 0, 0, 1, 0, 0, 0, 0, 3, 0, 16, 0, 0, 0, 0, 0, 1, 0, 0, 0, 0, 0, 0, 0, 3, 3, 0, 0, 0, 1, 4, 0, 2, 0, 0, 0, 0, 0, 0, 1, 0, 2, 5, 0, 0, 0, 0, 0, 4, 20, 13, 0, 0, 0, 0, 0, 0, 0, 0, 0, 0, 1, 0, 0, 0, 0, 0, 6, 0, 29, 17, 1, 2, 1, 0, 1, 1, 0, 1, 0, 0, 0, 1, 0, 0, 0, 0, 1, 1, 0, 0, 0, 0, 0, 0, 0, 0, 0, 1, 1, 0, 1, 0, 0, 0, 2, 1, 0, 0, 0, 0, 0, 0, 1, 0, 0, 0, 0, 0, 0, 1, 0, 0, 0, 2, 2, 0, 0, 0, 0, 0, 0, 0, 0, 0, 0, 1, 12, 4, 1, 0, 0, 1, 0, 0, 0, 3, 1, 0, 3, 0, 0, 0, 7, 12, 7, 1, 3, 1, 1, 1, 0, 0, 0, 0, 0, 0, 0, 0, 0, 2, 1, 0, 0, 1, 0, 0, 0, 8, 0, 0, 0, 2, 1, 0, 0, 0, 109, 1, 1, 1, 5, 4, 7, 11, 1, 2, 2, 1, 0, 0, 1, 0, 1, 0, 1, 0, 0, 0, 0, 0, 0, 0, 56, 1, 3, 0, 0, 0, 0, 0, 0, 2, 0, 2, 0, 0, 0, 0, 0, 0, 0, 0, 0, 0, 0, 0, 0, 0, 0, 0, 0, 0, 0, 0, 0, 1, 0, 2, 1, 0, 0, 0, 0, 2, 0, 0, 0, 8, 0, 0, 0, 0, 4, 1, 0, 0, 5, 14, 1, 2, 0, 0, 0, 2, 9, 1, 2, 1, 2, 0, 0, 0, 0, 0, 0, 87, 6, 0, 48, 0, 0, 0, 0, 0, 0, 0, 0, 0, 1, 0, 0, 7, 0, 0, 8, 0, 0, 1, 2, 0, 0, 0, 0, 0, 0, 0, 1, 0, 0, 0, 0, 0, 0, 1, 2, 19, 2, 0, 0, 8, 0, 0, 0, 1, 0, 0, 6, 0, 1, 1, 0, 1, 0, 8, 0, 0, 0, 0, 0, 0, 0, 0, 2, 0, 0, 0, 0, 0, 0, 0, 0, 0, 21, 3, 3, 1, 1, 1, 0, 0, 0, 0, 0, 1, 1, 0, 0, 2, 2, 0, 1, 0, 0, 2, 6, 0, 0, 0, 0, 0, 0, 0, 0, 4, 5, 0, 0, 2, 0, 0, 0, 0, 0, 0, 11, 17, 1, 0, 0, 0, 2, 4, 1, 1, 1, 1, 8, 1, 5, 1, 0, 1, 0, 0, 0, 0, 0, 0, 0, 1, 0, 0, 13, 0, 0, 1, 1, 0, 0, 0, 0, 0, 0, 1, 0, 0, 1, 1, 2, 0, 8, 0, 19, 0, 1, 1, 1, 6, 0, 1, 0, 1, 0, 1, 0, 0, 0, 0, 0, 0, 0, 0, 0, 0, 0, 0, 0, 0, 0, 0, 0, 0, 1, 0, 0, 1, 0, 0, 1, 3, 0, 0, 0, 0, 0, 0, 0, 1, 1, 0, 0, 0, 1, 0, 1, 1, 0, 0, 0, 0, 0, 41, 7, 5, 21, 6, 0, 0, 0, 0, 0, 0, 0, 0, 8, 0, 0, 0, 0, 0, 0, 0, 0, 0, 0, 0, 0, 0, 0, 0, 2, 0, 2, 0, 0, 1, 0, 0, 0, 0, 0, 0, 0, 0, 0, 0, 0, 0, 0, 0, 0, 0, 2, 3, 1, 0, 1, 0, 0, 0, 0, 1, 1, 0, 0, 0, 46, 1, 0, 0, 0, 0, 0, 0, 0, 1, 1, 14, 1, 0, 1, 0, 0, 0, 0, 2, 0, 0, 0, 0, 0, 0, 0, 0, 0, 2, 0, 19, 1, 2, 0, 9, 0, 1, 0, 1, 0, 0, 0, 0, 0, 0, 0, 1, 1, 57, 0, 0, 0, 0, 0, 0, 0, 0, 0, 1, 0, 0, 20, 0, 2, 0, 0, 0, 0, 0, 0, 1, 1, 0, 0, 0, 0, 0, 0, 0, 11, 0, 1, 0, 0, 0, 0, 0, 1, 1, 0, 0, 0, 0, 0, 0, 0, 0, 0, 0, 1, 0, 0, 0, 0, 0, 0, 0, 0, 0, 0, 0, 81, 0, 0, 1, 0, 0, 3, 1, 0, 14, 1, 0, 3, 1, 8, 0, 1, 1, 0, 0, 0, 0, 0, 0, 0, 0, 0, 0, 0, 1, 0, 0, 0, 0, 0, 6, 4, 0, 0, 0, 0, 0, 0, 0, 0, 1, 13, 0, 3, 0, 0, 1, 0, 0, 0, 0, 1, 1, 0, 0, 0, 0, 0, 0, 1, 0, 0, 0, 0, 9, 0, 0, 0, 0, 0, 0, 0, 0, 0, 0, 0, 1, 5, 0, 0, 0, 1, 1, 0, 0, 1, 0]\n",
            "[7, 20, 1, 1, 1, 1, 1, 1, 6, 1, 1, 2, 2, 11, 8, 1, 4, 2, 2, 6, 2, 1, 1, 1, 1, 1, 2, 1, 1, 1, 1, 1, 1, 1, 1, 1, 2, 1, 1, 1, 1, 1, 2, 1, 9, 2, 1, 12, 8, 3, 1, 2, 3, 1, 2, 1, 1, 1, 1, 1, 1, 3, 1, 1, 3, 2, 6, 1, 2, 1, 2, 2, 1, 1, 1, 1, 2, 1, 4, 1, 1, 1, 2, 1, 4, 1, 1, 1, 1, 1, 2, 1, 2, 1, 1, 4, 1, 2, 1, 2, 1, 2, 1, 1, 1, 1, 4, 2, 4, 1, 1, 2, 1, 1, 1, 1, 1, 1, 1, 1, 1, 1, 1, 1, 3, 1, 1, 1, 1, 1, 1, 1, 6, 1, 1, 2, 3, 1, 1, 1, 1, 3, 1, 2, 1, 1, 1, 1, 2, 1, 2, 1, 1, 1, 1, 2, 1, 1, 1, 1, 1, 1, 1, 1, 1, 1, 1, 1, 4, 1, 2, 1, 1, 1, 1, 2, 1, 1, 2, 1, 1, 1, 1, 1, 2, 1, 3, 2, 1, 3, 1, 2, 1, 1, 2, 2, 2, 1, 1, 1, 1, 1, 1, 1, 1, 2, 1, 2, 2, 1, 1, 1, 1, 2, 1, 1, 2, 1, 1, 1, 2, 1, 1, 1, 1, 1, 1, 1, 1, 1, 2, 2, 2, 1, 1, 2, 1, 1, 1, 1, 2, 1, 1, 1, 1, 1, 1, 1, 1, 1, 1, 1, 29, 30, 35, 4, 1, 2, 1, 1, 7, 3, 18, 2, 1, 10, 1, 2, 1, 3, 1, 1, 1, 1, 8, 1, 10, 1, 1, 2, 1, 1, 1, 2, 2, 1, 1, 13, 2, 1, 5, 1, 3, 1, 1, 1, 1, 2, 1, 1, 1, 1, 14, 2, 51, 2, 5, 3, 27, 1, 1, 1, 1, 1, 39, 1, 1, 2, 2, 35, 1, 1, 2, 2, 1, 2, 1, 1, 1, 1, 1, 1, 1, 1, 1, 1, 27, 1, 1, 1, 2, 3, 1, 4, 8, 8, 19, 9, 8, 3, 1, 1, 1, 7, 5, 2, 3, 2, 3, 1, 1, 3, 2, 1, 6, 15, 1, 1, 4, 2, 1, 2, 5, 1, 1, 1, 2, 1, 1, 1, 1, 5, 1, 1, 1, 1, 2, 1, 1, 2, 1, 1, 8, 2, 4, 3, 2, 1, 1, 1, 4, 1, 24, 1, 1, 9, 4, 1, 1, 2, 1, 1, 1, 3, 1, 1, 1, 2, 2, 1, 1, 9, 2, 1, 2, 2, 6, 1, 2, 1, 1, 1, 2, 1, 1, 1, 1, 1, 1, 2, 3, 1, 8, 2, 1, 2, 5, 2, 1, 1, 1, 1, 1, 1, 2, 2, 1, 5, 3, 2, 1, 2, 1, 3, 1, 1, 1, 4, 4, 2, 1, 1, 1, 1, 1, 5, 1, 1, 1, 1, 1, 5, 2, 1, 1, 1, 1, 3, 2, 1, 1, 1, 2, 1, 1, 1, 1, 1, 1, 1, 3, 1, 1, 1, 2, 2, 1, 1, 1, 1, 2, 2, 1, 1, 1, 1, 4, 1, 3, 1, 1, 3, 6, 1, 1, 2, 9, 1, 1, 1, 1, 1, 35, 33, 19, 1, 1, 1, 3, 7, 1, 1, 1, 1, 1, 1, 1, 1, 3, 1, 2, 1, 1, 1, 2, 3, 1, 1, 4, 5, 5, 1, 1, 1, 2, 2, 3, 1, 1, 2, 1, 1, 6, 1, 2, 1, 2, 1, 1, 1, 1, 1, 1, 1, 2, 1, 1, 1, 1, 1, 1, 1, 1, 1, 1, 1, 2, 1, 2, 1, 1, 4, 1, 2, 1, 2, 1, 1, 1, 2, 13, 1, 1, 1, 1, 1, 1, 4, 2, 1, 1, 1, 6, 4, 1, 1, 16, 1, 3, 12, 2, 2, 1, 1, 1, 3, 3, 2, 2, 2, 1, 3, 2, 2, 2, 2, 2, 1, 2, 1, 1, 2, 1, 1, 2, 1, 4, 1, 2, 1, 3, 1, 1, 3, 1, 3, 1, 1, 1, 5, 1, 1, 1, 1, 1, 2, 1, 1, 13, 2, 3, 12, 1, 3, 4, 2, 2, 3, 3, 1, 2, 2, 1, 2, 3, 1, 1, 1, 2, 1, 3, 2, 1, 1, 1, 1, 2, 3, 2, 10, 1, 1, 1, 2, 1, 1, 1, 1, 1, 1, 1, 1, 4, 1, 3, 2, 3, 1, 1, 2, 1, 2, 1, 1, 6, 1, 1, 1, 4, 2, 7, 2, 20, 1, 1, 2, 1, 18, 3, 1, 10, 1, 3, 1, 1, 3, 5, 1, 2, 2, 1, 1, 1, 1, 1, 3, 25, 1, 2, 1, 4, 1, 1, 1, 2, 2, 1, 1, 2, 4, 1, 4, 1, 2, 1, 2, 25, 4, 4, 2, 5, 1, 3, 1, 19, 1, 1, 2, 1, 8, 1, 1, 2, 2, 1, 1, 1, 1, 1, 3, 5, 1, 1, 2, 1, 2, 2, 1, 2, 1, 4, 1, 1, 1, 1, 1, 4, 1, 1, 12, 1, 24, 1, 4, 2, 9, 6, 1, 1, 1, 5, 1, 10, 2, 26, 7, 6, 1, 6, 1, 1, 1, 30, 3, 4, 4, 1, 4, 1, 4, 5, 3, 6, 1, 1, 2, 1, 7, 1, 2, 3, 3, 1, 3, 1, 1, 8, 2, 1, 1, 1, 1, 1, 4, 1, 1, 1, 1, 1, 2, 19, 7, 1, 1, 1, 1, 2, 1, 4, 1, 3, 1, 1, 1, 1, 1, 1, 1, 58, 1, 1, 1, 3, 2, 2, 1, 1, 1, 1, 1, 1, 1, 12, 1, 2, 1, 1, 2, 2, 1, 4, 1, 2, 2, 8, 1, 16, 2, 4, 3, 1, 1, 1, 2, 3, 7, 1, 2, 1, 13, 3, 1, 1, 6, 1, 1, 1, 2, 3, 1, 5, 4, 1, 1, 1, 2, 1, 1, 24, 1, 1, 3, 1, 4, 1, 1, 1, 1, 1, 3, 1, 5, 1, 1, 1, 8, 1, 1, 2, 16, 9, 4, 1, 1, 1, 1, 1, 3, 3, 1, 3, 1, 1, 1, 1, 1, 1, 5, 1, 4, 2, 1, 1, 1, 1, 3, 5, 3, 1, 1, 1, 3, 1, 1, 2, 1, 7, 1, 1, 1, 1, 1, 1, 1, 64, 10, 15, 5, 10, 3, 4, 1, 1, 11, 1, 1, 1, 1, 1, 2, 1, 1, 1, 1, 1, 1, 3, 1, 3, 2, 1, 1, 1, 1, 2, 1, 19, 1, 3, 1, 1, 1, 1, 1, 1, 1, 8, 1, 1, 1, 3, 1, 1, 1, 2, 3, 2, 1, 1, 1, 12, 1, 2, 7, 1, 2, 1, 1, 1, 2, 2, 1, 15, 8, 4, 13, 28, 22, 14, 1, 2, 1, 1, 1, 1, 1, 1, 11, 2, 1, 1, 1, 1, 1, 1, 1, 55, 4, 2, 21, 1, 1, 1, 27, 1, 6, 3, 1, 1, 1, 8, 1, 9, 1, 1, 1, 1, 1, 1, 1, 1, 1, 1, 8, 3, 1, 1, 1, 2, 1, 1, 1, 5, 1, 1, 1, 1, 1, 1, 3, 5, 1, 1, 2, 1, 10, 8, 3, 1, 6, 1, 1, 3, 9, 1, 1, 1, 1, 1, 1, 2, 2, 1, 8, 1, 4, 3, 1, 1, 2, 2, 1, 1, 15, 2, 1, 4, 1, 21, 2, 5, 1, 5, 1, 1, 2, 1, 1, 1, 4, 1, 1, 1, 1, 3, 17, 2, 3, 1, 5, 1, 1, 1, 2, 1, 1, 1, 2, 2, 1, 32, 1, 1, 1, 1, 32, 1, 1, 1, 2, 4, 1, 1, 1, 1, 1, 3, 2, 25, 2, 3, 1, 3, 1, 2, 1, 1, 5, 2, 2, 4, 3, 1, 2, 2, 22, 3, 29, 2, 1, 2, 1, 1, 6, 1, 6, 4, 1, 1, 3, 2, 1, 1, 1, 1, 1, 1, 2, 1, 2, 2, 1, 1, 2, 1, 1, 1, 1, 3, 1, 1, 7, 4, 1, 3, 1, 1, 7, 9, 1, 2, 1, 2, 1, 4, 1, 7, 1, 1, 1, 1, 1, 17, 4, 1, 17, 8, 1, 3, 1, 3, 1, 1, 3, 1, 19, 1, 3, 2, 1, 6, 1, 1, 6, 1, 2, 5, 1, 10, 1, 3, 1, 32, 1, 1, 1, 1, 2, 1, 1, 1, 1, 1, 1, 1, 2, 2, 15, 1, 1, 2, 3, 13, 1, 2, 2, 1, 1, 5, 2, 1, 1, 2, 1, 1, 2, 1, 10, 1, 1, 1, 1, 2, 1, 1, 1, 1, 1, 1, 1, 1, 1, 3, 1, 3, 1, 1, 19, 3, 4, 1, 2, 1, 1, 3, 1, 3, 2, 1, 3, 1, 2, 12, 1, 4, 1, 1, 1, 1, 2, 1, 1, 7, 1, 1, 22, 1, 4, 1, 5, 4, 1, 1, 5, 1, 1, 2, 1, 6, 2, 3, 1, 2, 1, 1, 4, 1, 2, 1, 1, 1, 1, 1, 1, 1, 22, 1, 2, 1, 2, 1, 16, 1, 1, 44, 1, 1, 6, 1, 1, 5, 1, 1, 5, 2, 1, 1, 4, 1, 3, 1, 5, 5, 2, 2, 3, 2, 2, 9, 1, 2, 2, 20, 10, 4, 4, 1, 2, 17, 25, 1, 2, 3, 7, 20, 22, 4, 1, 2, 1, 1, 6, 1, 2, 6, 1, 3, 1, 1, 1, 2, 1, 1, 1, 24, 15, 1, 1, 63, 1, 2, 4, 1, 3, 3, 2, 1, 1, 1, 16, 1, 1, 2, 1, 2, 4, 1, 5, 12, 62, 1, 1, 2, 1, 2, 1, 2, 8, 1, 2, 2, 14, 2, 1, 1, 5, 5, 1, 8, 1, 4, 1, 3, 2, 1, 2, 1, 6, 2, 5, 1, 1, 1, 1, 3, 1, 2, 1, 2, 3, 1, 1, 33, 1, 14, 4, 2, 1, 2, 1, 1, 1, 5, 14, 6, 4, 2, 1, 1, 2, 1, 2, 1, 38, 1, 1, 1, 3, 6, 1, 2, 2, 2, 29, 1, 4, 1, 10, 1, 1, 1, 2, 1, 4, 1, 1, 12, 1, 1, 1, 1, 1, 1, 1, 1, 1, 1, 1, 1, 13, 2, 6, 1, 7, 1, 3, 1, 3, 3, 1, 3, 1, 1, 1, 2, 1, 1, 1, 5, 1, 16, 1, 1, 1, 2, 1, 1, 1, 9, 1, 4, 4, 7, 2, 2, 1, 87, 2, 1, 1, 1, 1, 1, 32, 2, 1, 9, 3, 2, 2, 1, 1, 2, 1, 4, 1, 1, 3, 1, 1, 15, 1, 5, 3, 2, 1, 2, 1, 1, 14, 1, 1, 1, 1, 1, 2, 3, 1, 1, 1, 1, 2, 1, 1, 1, 1, 1, 1, 1, 2, 3, 1, 1, 26, 7, 1, 1, 1, 1, 2, 1, 1, 5, 1, 4, 23, 1, 3, 21, 1, 11, 2, 12, 1, 2, 53, 4, 1, 1, 1, 2, 148, 4, 17, 1, 2, 9, 43, 1, 1, 1, 1, 4, 3, 1, 11, 1, 1, 14, 2, 1, 1, 3, 1, 1, 1, 1, 1, 7, 1, 7, 1, 1, 1, 10, 1, 1, 10, 1, 4, 1, 3, 1, 1, 1, 1, 3, 1, 4, 1, 1, 1, 4, 1, 9, 2, 1, 1, 2, 2, 13, 1, 12, 4, 1, 3, 1, 1, 1, 1, 4, 1, 1, 2, 3, 50, 5, 2, 1, 12, 1, 1, 2, 1, 1, 4, 1, 1, 1, 1, 7, 1, 1, 1, 2, 4, 1, 2, 4, 33, 1, 1, 2, 8, 2, 1, 1, 8, 1, 1, 1, 1, 53, 1, 27, 5, 2, 4, 1, 1, 1, 1, 1, 5, 2, 1, 3, 1, 11, 2, 1, 11, 1, 1, 7, 1, 1, 18, 1, 1, 1, 2, 5, 1, 2, 1, 3, 1, 1, 1, 1, 9, 1, 11, 1, 1, 4, 4, 1, 1, 8, 4, 8, 1, 1, 1, 1, 1, 1, 1, 1, 2, 1, 1, 2, 5, 1, 1, 2, 1, 1, 1, 32, 2, 1, 1, 1, 1, 1, 1, 1, 1, 1, 1, 2, 1, 1, 4, 3, 1, 1, 1, 1, 1, 12, 1, 8, 2, 4, 10, 1, 1, 1, 4, 9, 1, 41, 1, 2, 1, 9, 6, 1, 1, 1, 1, 2, 5, 4, 1, 1, 1, 110, 1, 1, 20, 5, 3, 4, 3, 1, 1, 1, 2, 1, 1, 1, 1, 3, 2, 1, 12, 4, 2, 7, 1, 1, 30, 1, 15, 1, 4, 12, 1, 2, 3, 1, 159, 33, 1, 1, 1, 1, 1, 8, 3, 1, 2, 91, 1, 1, 2, 3, 1, 1, 1, 4, 1, 6, 11, 1, 18, 4, 2, 1, 1, 1, 1, 1, 10, 2, 1, 2, 3, 2, 1, 2, 5, 1, 1, 1, 1, 8, 2, 1, 1, 2, 2, 1, 2, 3, 1, 14, 1, 1, 1, 2, 23, 1, 1, 1, 1, 1, 1, 1, 1, 2, 1, 5, 1, 2, 1, 1, 1, 5, 1, 2, 1, 1, 2, 1, 2, 1, 2, 2, 1, 1, 1, 23, 1, 1, 2, 2, 1, 1, 1, 1, 1, 1, 1, 4, 1, 1, 2, 2, 2, 1, 1, 1, 2, 1, 1, 3, 4, 83, 1, 38, 24, 6, 5, 1, 2, 1, 2, 1, 2, 8, 8, 2, 2, 6, 1, 3, 1, 1, 6, 1, 1, 1, 2, 34, 1, 4, 1, 2, 9, 4, 1, 1, 1, 1, 3, 19, 1, 1, 1, 1, 1, 2, 2, 1, 8, 2, 4, 2, 1, 1, 2, 1, 2, 2, 1, 7, 1, 1, 1, 2, 2, 2, 1, 1, 1, 3, 1, 10, 1, 2, 2, 1, 3, 6, 1, 1, 1, 1, 25, 1, 12, 7, 4, 1, 1, 1, 4, 3, 1, 1, 8, 61, 1, 1, 2, 1, 4, 1, 1, 113, 1, 1, 108, 1, 1, 1, 1, 7, 3, 2, 1, 1, 1, 3, 14, 1, 1, 1, 1, 1, 8, 2, 2, 1, 1, 1, 2, 2, 1, 1, 1, 36, 1, 8, 13, 1, 2, 2, 3, 15, 1, 1, 5, 1, 13, 2, 2, 18, 1, 1, 13, 4, 1, 1, 2, 3, 1, 5, 1, 3, 1, 2, 1, 1, 1, 1, 1, 1, 18, 1, 1, 2, 1, 37, 1, 22, 1, 2, 1, 1, 4, 1, 1, 1, 1, 1, 1, 7, 1, 23, 2, 1, 1, 6, 4, 1, 2, 1, 2, 2, 25, 28, 1, 5, 5, 1, 3, 1, 1, 2, 1, 1, 2, 1, 2, 1, 1, 1, 2, 5, 1, 2, 1, 5, 1, 12, 1, 2, 1, 2, 1, 1, 1, 1, 1, 1, 1, 1, 1, 1, 1, 1, 1, 10, 14, 1, 3, 1, 1, 1, 1, 1, 1, 1, 1, 1, 1, 27, 4, 7, 1, 1, 10, 1, 4, 2, 1, 1, 1, 2, 5, 5, 32, 4, 2, 1, 1, 1, 10, 9, 1, 1, 1, 5, 1, 1, 18, 2, 1, 3, 2, 2, 1, 1, 1, 2, 1, 3, 1, 1, 2, 2, 1, 1, 2, 1, 1, 1, 1, 1, 4, 1, 1, 1, 6, 3, 1, 2, 1, 2, 1, 2, 4, 2, 2, 1, 1, 15, 1, 20, 2, 1, 1, 1, 1, 2, 1, 2, 1, 1, 1, 1, 1, 1, 3, 4, 2, 1, 1, 10, 3, 5, 9, 5, 6, 1, 1, 3, 3, 1, 1, 2, 3, 1, 1, 1, 2, 1, 1, 1, 2, 1, 3, 1, 5, 1, 5, 6, 1, 2, 13, 4, 2, 1, 1, 1, 3, 2, 1, 1, 9, 1, 1, 1, 3, 1, 8, 1, 2, 1, 1, 14, 4, 10, 1, 2, 1, 3, 1, 2, 1, 3, 2, 2, 1, 1, 1, 5, 2, 2, 1, 1, 1, 16, 1, 1, 1, 2, 11, 1, 3, 9, 4, 12, 1, 1, 1, 1, 11, 4, 2, 5, 1, 7, 3, 1, 1, 6, 1, 2, 2, 1, 2, 2, 3, 2, 1, 1, 4, 4, 1, 1, 39, 2, 20, 1, 1, 6, 2, 3, 2, 12, 2, 1, 1, 1, 1, 3, 1, 1, 1, 1, 1, 2, 1, 1, 1, 2, 4, 2, 1, 6, 1, 1, 2, 1, 2, 2, 4, 8, 2, 1, 2, 15, 1, 13, 1, 1, 1, 1, 43, 1, 5, 27, 16, 3, 2, 1, 1, 1, 1, 1, 1, 1, 3, 1, 2, 1, 2, 1, 6, 2, 1, 1, 2, 3, 1, 1, 4, 1, 1, 1, 1, 2, 2, 5, 1, 2, 1, 5, 2, 1, 1, 1, 3, 1, 1, 6, 1, 2, 1, 1, 1, 1, 2, 1, 1, 1, 2, 1, 2, 1, 2, 1, 2, 1, 5, 1, 1, 1, 8, 1, 1, 15, 4, 1, 1, 2, 2, 1, 1, 1, 1, 3, 1, 1, 2, 8, 1, 1, 13, 1, 1, 2, 1, 22, 2, 1, 1, 1, 1, 1, 1, 1, 1, 1, 2, 2, 7, 5, 1, 1, 1, 1, 1, 1, 12, 2, 1, 1, 2, 4, 1, 1, 1, 1, 172, 2, 1, 1, 4, 1, 1, 13, 3, 3, 2, 1, 5, 1, 1, 1, 1, 12, 11, 1, 1, 1, 41, 43, 1, 15, 1, 1, 1, 8, 1, 13, 7, 3, 1, 1, 1, 1, 1, 2, 3, 1, 1, 1, 1, 2, 1, 23, 2, 3, 12, 1, 1, 1, 2, 2, 1, 3, 1, 23, 1, 1, 1, 1, 1, 1, 2, 5, 1, 1, 1, 5, 1, 1, 4, 2, 1, 1, 1, 1, 2, 1, 3, 1, 4, 1, 1, 13, 12, 1, 1, 2, 3, 4, 3, 2, 2, 2, 3, 1, 1, 10, 2, 1, 2, 1, 7, 4, 1, 1, 1, 1, 3, 1, 1, 1, 17, 9, 4, 3, 2, 1, 1, 1, 3, 1, 2, 3, 3, 4, 2, 1, 1, 2, 1, 1, 2, 1, 1, 11, 2, 5, 37, 8, 2, 2, 1, 18, 2, 1, 1, 1, 3, 1, 2, 21, 1, 1, 11, 2, 3, 2, 3, 7, 7, 1, 1, 1, 1, 1, 4, 1, 8, 1, 2, 1, 2, 2, 2, 29, 1, 19, 1, 17, 128, 1, 1, 1, 1, 1, 3, 13, 1, 46, 180, 1, 1, 1, 1, 10, 6, 2, 1, 2, 1, 1, 3, 1, 3, 1, 2, 163, 1, 1, 1, 1, 6, 10, 2, 1, 1, 3, 1, 1, 2, 15, 1, 1, 2, 1, 1, 1, 1, 3, 1, 1, 1, 1, 1, 1, 1, 3, 1, 1, 1, 1, 81, 2, 1, 1, 4, 5, 1, 2, 1, 1, 11, 1, 1, 1, 1, 1, 3, 3, 2, 2, 1, 1, 1, 1, 1, 1, 187, 1, 1, 37, 1, 47, 1, 1, 24, 1, 1, 1, 2, 3, 1, 2, 1, 1, 1, 21, 27, 12, 1, 1, 7, 1, 1, 17, 36, 2, 4, 1, 19, 1, 1, 30, 1, 2, 3, 3, 1, 2, 10, 3, 1, 4, 2, 5, 1, 1, 1, 1, 1, 1, 1, 1, 1, 12, 3, 13, 1, 4, 5, 7, 67, 11, 3, 1, 1, 2, 1, 1, 1, 2, 1, 4, 1, 1, 4, 1, 1, 1, 20, 1, 1, 1, 1, 21, 14, 1, 1, 30, 1, 2, 1, 17, 2, 2, 2, 2, 1, 1, 1, 1, 1, 1, 27, 4, 1, 30, 1, 1, 1, 6, 1, 10, 1, 1, 4, 1, 2, 1, 2, 3, 28, 1, 2, 38, 1, 1, 1, 1, 1, 2, 1, 1, 1, 1, 1, 1, 1, 1, 1, 1, 2, 78, 1, 6, 1, 94, 1, 1, 5, 1, 1, 3, 1, 1, 1, 1, 2, 1, 3, 10, 1, 1, 1, 6, 5, 2, 2, 1, 12, 12, 1, 1, 1, 3, 1, 4, 1, 1, 2, 1, 13, 3, 5, 39, 4, 1, 3, 2, 124, 2, 1, 1, 1, 1, 4, 2, 1, 1, 1, 1, 1, 1, 1, 1, 1, 3, 84, 5, 1, 1, 1, 7, 1, 1, 5, 1, 2, 1, 6, 1, 4, 1, 15, 5, 1, 1, 1, 1, 21, 19, 26, 1, 1, 2, 1, 1, 12, 1, 5, 1, 1, 5, 1, 3, 2, 1, 16, 1, 3, 3, 2, 1, 2, 15, 1, 4, 1, 1, 11, 1, 3, 1, 1, 2, 4, 13, 1, 6, 3, 1, 1, 1, 2, 1, 1, 5, 1, 1, 1, 4, 2, 1, 2, 3, 1, 2, 1, 1, 3, 1, 7, 1, 2, 1, 1, 1, 16, 5, 2, 2, 1, 12, 2, 3, 4, 1, 1, 1, 1, 1, 1, 5, 1, 1, 3, 1, 1, 6, 1, 26, 2, 1, 1, 59, 1, 1, 1, 5, 1, 1, 1, 1, 5, 1, 8, 1, 1, 2, 1, 1, 19, 1, 1, 1, 1, 1, 1, 1, 1, 2, 1, 1, 2, 2, 1, 3, 1, 3, 1, 6, 4, 1, 2, 1, 1, 1, 2, 1, 1, 1, 1, 1, 10, 5, 3, 2, 2, 2, 1, 2, 12, 3, 10, 5, 1, 1, 2, 1, 1, 1, 2, 2, 1, 1, 1, 1, 2, 2, 4, 1, 1, 2, 1, 1, 7, 3, 3, 2, 3, 1, 1, 7, 5, 1, 1, 1, 5, 3, 1, 1, 1, 1, 5, 1, 1, 1, 1, 1, 2, 9, 5, 1, 1, 1, 1, 2, 1, 5, 2, 1, 1, 1, 11, 4, 1, 1, 1, 1, 1, 1, 2, 2, 1, 1, 3, 6, 1, 2, 2, 14, 6, 3, 3, 1, 4, 1, 1, 1, 1, 1, 2, 1, 3, 1, 6, 1, 1, 1, 4, 4, 1, 1, 1, 2, 1, 4, 1, 1, 1, 3, 2, 3, 1, 2, 1, 5, 1, 2, 2, 3, 3, 12, 1, 1, 4, 1, 2, 2, 2, 1, 1, 4, 1, 1, 1, 2, 1, 3, 2, 1, 1, 1, 1, 1, 2, 2, 4, 1, 1, 2, 33, 2, 1, 1, 1, 1, 1, 6, 23, 3, 1, 5, 1, 3, 2, 6, 1, 2, 1, 1, 1, 4, 1, 1, 1, 4, 6, 1, 1, 1, 1, 6, 1, 2, 1, 3, 1, 1, 1, 1, 1, 2, 1, 1, 1, 26, 284, 1, 1, 1, 1, 19, 3, 1, 1, 2, 2, 1, 1, 1, 3, 1, 1, 1, 3, 2, 2, 1, 7, 1, 1, 2, 1, 1, 5, 1, 4, 2, 1, 1, 1, 1, 4, 6, 1, 1, 4, 3, 1, 2, 1, 2, 1, 1, 8, 1, 1, 2, 2, 4, 3, 1, 1, 2, 2, 1, 1, 13, 7, 3, 7, 1, 1, 1, 1, 24, 3, 1, 1, 2, 1, 1, 9, 1, 1, 186, 2, 1, 9, 10, 1, 1, 1, 1, 1, 1, 1, 2, 1, 1, 1, 2, 4, 1, 1, 1, 1, 4, 1, 1, 7, 1, 1, 1, 2, 1, 1, 1, 2, 1, 4, 4, 2, 1, 3, 1, 1, 1, 13, 1, 27, 1, 1, 1, 1, 1, 1, 1, 1, 10, 31, 1, 1, 1, 2, 1, 42, 2, 100, 27, 1, 4, 8, 2, 1, 1, 2, 1, 1, 2, 1, 1, 6, 1, 1, 9, 7, 2, 1, 3, 1, 1, 1, 1, 1, 7, 1, 1, 45, 7, 15, 5, 2, 1, 26, 1, 1, 3, 2, 20, 16, 1, 6, 1, 1, 3, 1, 1, 1, 8, 6, 56, 13, 2, 4, 1, 2, 1, 27, 1, 7, 2, 2, 3, 4, 2, 49, 1, 1, 2, 1, 3, 1, 1, 9, 1, 1, 2, 167, 6, 1, 2, 1, 3, 2, 1, 1, 1, 2, 1, 30, 1, 1, 3, 2, 1, 1, 7, 1, 1, 2, 2, 2, 2, 1, 1, 5, 12, 1, 1, 5, 1, 1, 1, 1, 1, 1, 26, 32, 1, 2, 2, 3, 2, 1, 197, 1, 1, 5, 1, 2, 1, 7, 8, 2, 1, 5, 1, 3, 1, 1, 1, 14, 1, 1, 6, 3, 1, 2, 1, 63, 1, 1, 1, 5, 1, 5, 30, 4, 1, 22, 1, 4, 6, 21, 4, 1, 1, 1, 2, 1, 113, 1, 10, 1, 3, 3, 3, 10, 33, 2, 11, 2, 1, 2, 2, 3, 3, 2, 10, 130, 7, 1, 12, 1, 5, 4, 1, 6, 1, 12, 2, 1, 2, 2, 1, 1, 2, 5, 1, 2, 1, 1, 188, 1, 8, 13, 1, 1, 1, 1, 1, 30, 1, 1, 25, 1, 2, 2, 2, 1, 1, 2, 1, 1, 1, 2, 1, 4, 1, 3, 2, 1, 4, 1, 2, 1, 2, 1, 1, 3, 1, 3, 1, 1, 4, 1, 1, 2, 1, 1, 1, 2, 1, 1, 1, 3, 1, 7, 2, 1, 6, 18, 2, 1, 2, 3, 2, 74, 16, 2, 16, 2, 1, 1, 2, 1, 33, 2, 1, 1, 3, 1, 4, 1, 1, 3, 1, 1, 1, 1, 2, 1, 1, 1, 1, 9, 1, 1, 1, 1, 7, 2, 1, 1, 1, 1, 5, 7, 6, 1, 1, 1, 3, 1, 2, 1, 3, 1, 9, 1, 6, 9, 11, 1, 1, 2, 1, 1, 1, 3, 3, 1, 1, 4, 2, 3, 4, 6, 1, 8, 21, 2, 1, 1, 1, 2, 1, 13, 4, 17, 10, 2, 4, 4, 3, 5, 1, 68, 3, 31, 1, 2, 1, 2, 6, 2, 1, 2, 2, 1, 1, 1, 6, 2, 2, 1, 1, 1, 6, 1, 2, 1, 1, 1, 1, 4, 8, 2, 64, 2, 17, 2, 1, 2, 1, 10, 1, 1, 1, 1, 1, 1, 4, 3, 6, 1, 1, 1, 1, 2, 4, 1, 1, 1, 1, 42, 1, 30, 1, 1, 3, 2, 1, 3, 2, 2, 2, 35, 1, 1, 17, 24, 4, 6, 1, 2, 2, 1, 54, 1, 20, 2, 13, 1, 1, 1, 1, 1, 1, 3, 2, 1, 4, 1, 2, 1, 1, 1, 2, 8, 4, 2, 2, 1, 1, 3, 1, 6, 4, 19, 91, 10, 3, 2, 11, 1, 1, 3, 7, 5, 1, 1, 1, 1, 4, 1, 2, 1, 14, 7, 2, 3, 8, 9, 1, 45, 1, 1, 1, 2, 2, 1, 1, 23, 2, 8, 7, 6, 4, 2, 3, 1, 57, 1, 3, 1, 1, 5, 1, 1, 1, 1, 11, 1, 1, 1, 2, 3, 12, 7, 2, 1, 5, 12, 1, 12, 6, 1, 80, 2, 1, 1, 1, 2, 10, 2, 3, 1, 1, 3, 2, 3, 3, 1, 10, 2, 1, 1, 1, 1, 1, 15, 1, 1, 3, 1, 1, 2, 1, 6, 6, 6, 1, 20, 1, 1, 1, 1, 7, 1, 1, 1, 1, 1, 1, 1, 1, 2, 11, 1, 1, 2, 1, 6, 1, 5, 1, 1, 1, 1, 1, 2, 1, 3, 1, 1, 1, 2, 1, 1, 2, 15, 1, 1, 5, 1, 6, 1, 1, 1, 1, 3, 1, 2, 6, 1, 3, 1, 1, 1, 2, 1, 2, 133, 3, 1, 1, 12, 1, 2, 1, 1, 1, 1, 3, 1, 1, 1, 14, 3, 1, 1, 1, 1, 22, 3, 3, 14, 1, 1, 1, 1, 100, 2, 3, 1, 1, 15, 1, 1, 1, 1, 11, 2, 47, 3, 1, 1, 1, 1, 6, 1, 85, 1, 1, 4, 1, 1, 4, 1, 1, 1, 2, 12, 1, 1, 1, 1, 1, 1, 6, 1, 11, 1, 1, 1, 2, 38, 1, 2, 2, 3, 1, 1, 1, 9, 1, 1, 11, 1, 1, 1, 1, 5, 7, 3, 1, 2, 1, 1, 1, 3, 1, 1, 1, 7, 1, 1, 1, 2, 2, 1, 1, 1, 2, 1, 1, 1, 13, 8, 1, 1, 1, 1, 4, 62, 10, 1, 2, 1, 1, 1, 5, 1, 5, 5, 1, 1, 1, 14, 1, 1, 1, 5, 2, 1, 1, 1, 1, 1, 1, 2, 1, 1, 1, 1, 1, 1, 1, 1, 1, 1, 1, 1, 1, 22, 1, 1, 10, 26, 2, 1, 1, 1, 1, 1, 75, 2, 1, 1, 1, 207, 19, 1, 3, 14, 1, 1, 2, 1, 1, 13, 1, 1, 1, 1, 5, 5, 1, 1, 1, 7, 3, 1, 18, 1, 1, 2, 1, 1, 1, 1, 7, 14, 1, 1, 1, 2, 1, 1, 11, 8, 1, 3, 1, 1, 1, 11, 1, 1, 1, 2, 4, 1, 3, 1, 23, 2, 9, 13, 3, 1, 1, 11, 2, 1, 1, 1, 1, 1, 4, 1, 1, 3, 1, 1, 18, 1, 1, 1, 1, 1, 1, 1, 1, 1, 1, 1, 1, 1, 1, 12, 1, 1, 3, 4, 1, 1, 1, 1, 1, 1, 1, 2, 1, 1, 1, 1, 2, 1, 1, 1, 4, 20, 1, 2, 3, 1, 1, 1, 5, 2, 1, 4, 19, 2, 1, 2, 1, 1, 1, 1, 1, 1, 2, 1, 1, 1, 1, 1, 1, 1, 6, 1, 2, 1, 1, 2, 1, 1, 1, 1, 9, 3, 1, 8, 2, 2, 1, 1, 1, 1, 6, 1, 1, 11, 1, 1, 11, 1, 1, 1, 1, 4, 1, 3, 5, 1, 1, 1, 1, 1, 1, 2, 2, 1, 1, 1, 22, 1, 1, 1, 2, 5, 1, 1, 2, 1, 5, 1, 1, 2, 1, 2, 1, 1, 1, 2, 2, 1, 2, 2, 1, 35, 1, 1, 1, 1, 3, 1, 1, 1, 1, 2, 1, 1, 1, 1, 1, 1, 1, 29, 1, 5, 4, 1, 4, 1, 1, 1, 1, 9, 1, 2, 3, 1, 2, 3, 1, 1, 1, 1, 1, 1, 3, 1, 2, 92, 1, 1, 1, 8, 7, 4, 1, 2, 1, 1, 1, 1, 14, 50, 7, 9, 1, 14, 2, 3, 3, 2, 3, 4, 4, 1, 1, 1, 4, 3, 1, 1, 1, 5, 1, 1, 5, 1, 6, 42, 1, 2, 3, 1, 21, 3, 1, 1, 7, 7, 9, 1, 1, 25, 3, 9, 5, 1, 4, 1, 1, 4, 5, 1, 3, 2, 1, 72, 1, 1, 1, 20, 1, 14, 13, 28, 1, 12, 1, 1, 1, 1, 1, 4, 3, 1, 2, 1, 4, 1, 1, 3, 1, 1, 4, 2, 1, 11, 16, 1, 1, 1, 2, 4, 1, 1, 9, 1, 1, 2, 5, 5, 5, 1, 1, 1, 1, 1, 8, 1, 1, 3, 2, 1, 3, 1, 1, 1, 1, 1, 1, 1, 1, 1, 1, 1, 3, 1, 1, 8, 1, 17, 1, 1, 6, 1, 1, 1, 1, 2, 2, 1, 7, 1, 12, 1, 2, 2, 5, 1, 1, 5, 4, 3, 1, 1, 2, 1, 1, 2, 1, 1, 1, 1, 1, 1, 7, 3, 1, 1, 1, 1, 2, 1, 1, 1, 2, 1, 1, 4, 1, 1, 1, 1, 1, 2, 7, 1, 1, 10, 1, 1, 1, 1, 1, 10, 1, 3, 2, 2, 19, 1, 1, 1, 1, 2, 1, 22, 2, 2, 1, 1, 1, 1, 2, 2, 14, 1, 67, 1, 2, 1, 1, 10, 26, 28, 1, 6, 1, 1, 1, 6, 1, 1, 1, 2, 1, 2, 1, 1, 1, 10, 1, 2, 1, 5, 1, 2, 2, 1, 1, 2, 1, 1, 2, 2, 1, 1, 1, 2, 2, 2, 3, 1, 1, 1, 1, 2, 1, 1, 1, 1, 1, 1, 1, 2, 1, 10, 3, 1, 1, 2, 1, 1, 1, 1, 1, 1, 1, 1, 3, 1, 2, 1, 3, 2, 1, 4, 1, 2, 5, 1, 1, 3, 1, 1, 1, 1, 1, 4, 1, 4, 1, 1, 16, 3, 9, 4, 2, 1, 3, 26, 1, 1, 10, 1, 1, 5, 4, 1, 1, 2, 1, 1, 1, 3, 8, 4, 2, 1, 2, 1, 2, 1, 1, 8, 1, 1, 1, 1, 3, 5, 1, 3, 2, 2, 2, 2, 1, 21, 8, 1, 1, 1, 1, 4, 1, 1, 2, 8, 3, 1, 23, 9, 7, 1, 2, 12, 2, 8, 31, 27, 1, 1, 1, 3, 1, 3, 1, 62, 1, 6, 1, 1, 10, 1, 3, 1, 1, 2, 1, 1, 1, 4, 4, 2, 29, 2, 2, 3, 2, 4, 1, 2, 2, 1, 2, 2, 1, 2, 1, 3, 1, 2, 1, 1, 9, 1, 8, 2, 1, 2, 6, 1, 1, 1, 1, 1, 1, 1, 1, 1, 1, 3, 1, 1, 1, 3, 5, 1, 7, 1, 4, 1, 1, 3, 2, 5, 3, 1, 1, 1, 3, 4, 3, 1, 24, 2, 1, 2, 4, 2, 2, 1, 1, 1, 7, 2, 1, 2, 1, 1, 7, 8, 1, 3, 2, 1, 2, 1, 1, 2, 2, 1, 4, 1, 103, 4, 1, 5, 7, 1, 5, 2, 1, 1, 1, 4, 1, 1, 1, 1, 1, 1, 1, 1, 1, 4, 1, 3, 3, 2, 2, 1, 1, 1, 9, 1, 1, 1, 1, 1, 1, 4, 4, 2, 1, 1, 2, 7, 3, 3, 1, 8, 1, 1, 2, 5, 2, 9, 2, 1, 2, 1, 1, 1, 3, 1, 4, 61, 1, 2, 2, 1, 1, 16, 1, 17, 2, 7, 1, 1, 1, 1, 14, 1, 1, 7, 2, 1, 1, 1, 1, 6, 1, 2, 1, 2, 1, 4, 1, 1, 3, 4, 22, 4, 3, 1, 1, 6, 1, 7, 1, 1, 1, 11, 1, 1, 2, 1, 1, 7, 8, 2, 1, 1, 1, 1, 4, 2, 1, 2, 1, 1, 2, 2, 1, 2, 1, 1, 1, 15, 2, 2, 1, 3, 1, 1, 1, 2, 1, 1, 2, 2, 1, 1, 2, 15, 16, 1, 6, 1, 1, 1, 1, 58, 1, 1, 2, 4, 4, 2, 1, 1, 1, 2, 1, 4, 1, 1, 1, 1, 1, 2, 1, 1, 1, 1, 1, 1, 1, 2, 1, 22, 1, 1, 1, 3, 2, 1, 1, 12, 3, 1, 6, 7, 1, 1, 16, 69, 1, 1, 16, 19, 1, 1, 4, 2, 1, 11, 3, 17, 2, 2, 2, 1, 3, 2, 1, 2, 2, 2, 1, 1, 3, 1, 4, 3, 1, 1, 1, 2, 1, 1, 2, 11, 11, 5, 3, 1, 3, 14, 1, 3, 10, 2, 1, 2, 1, 1, 1, 1, 5, 2, 10, 1, 1, 8, 1, 1, 1, 1, 22, 5, 8, 1, 1, 1, 7, 4, 2, 10, 2, 145, 2, 7, 2, 1, 1, 7, 1, 1, 50, 3, 3, 1, 1, 3, 1, 4, 9, 1, 1, 46, 10, 2, 1, 16, 2, 3, 1, 2, 1, 1, 10, 1, 1, 21, 1, 1, 1, 1, 3, 4, 1, 1, 1, 1, 1, 1, 1, 1, 21, 3, 2, 1, 1, 1, 1, 1, 5, 2, 2, 1, 1, 5, 1, 3, 2, 1, 1, 1, 1, 2, 1, 1, 1, 2, 1, 1, 1, 1, 1, 2, 1, 2, 5, 3, 28, 1, 1, 1, 2, 1, 1, 2, 2, 1, 1, 1, 3, 15, 1, 23, 1, 2, 5, 2, 1, 1, 2, 4, 1, 2, 1, 1, 1, 1, 1, 2, 1, 4, 1, 5, 1, 1, 28, 2, 1, 1, 1, 1, 1, 1, 1, 5, 1, 2, 2, 3, 1, 1, 9, 1, 2, 4, 4, 8, 1, 1, 1, 2, 1, 2, 8, 1, 1, 1, 6, 1, 8, 2, 5, 1, 2, 1, 2, 1, 1, 6, 2, 1, 1, 4, 1, 24, 1, 15, 13, 1, 6, 3, 1, 1, 7, 8, 1, 2, 2, 1, 2, 5, 1, 2, 3, 1, 1, 1, 3, 1, 1, 1, 3, 1, 1, 1, 1, 3, 8, 41, 2, 15, 1, 1, 2, 1, 4, 2, 1, 1, 1, 2, 1, 2, 2, 5, 1, 1, 5, 2, 1, 1, 6, 1, 2, 1, 1, 1, 2, 1, 1, 1, 2, 1, 27, 1, 5, 12, 2, 11, 4, 1, 2, 42, 1, 1, 1, 1, 14, 3, 2, 1, 1, 1, 1, 2, 1, 11, 1, 1, 1, 1, 1, 1, 3, 8, 3, 3, 1, 1, 5, 1, 1, 1, 4, 1, 4, 8, 1, 1, 1, 1, 1, 3, 1, 1, 1, 1, 1, 1, 6, 2, 6, 5, 47, 3, 1, 1, 1, 1, 1, 3, 1, 112, 7, 3, 1, 2, 2, 1, 1, 8, 1, 16, 1, 2, 2, 1, 6, 1, 1, 1, 1, 4, 5, 1, 1, 1, 1, 3, 1, 1, 1, 23, 2, 36, 1, 1, 7, 2, 3, 2, 1, 2, 1, 1, 8, 4, 7, 1, 1, 1, 1, 1, 1, 1, 2, 5, 1, 1, 1, 1, 1, 2, 5, 4, 1, 3, 1, 1, 6, 2, 1, 1, 1, 1, 3, 1, 1, 1, 1, 1, 1, 1, 1, 1, 1, 1, 1, 3, 8, 1, 1, 1, 3, 1, 1, 1, 2, 2, 8, 4, 3, 1, 1, 2, 1, 1, 2, 1, 27, 16, 8, 7, 1, 3, 1, 13, 5, 2, 15, 2, 2, 8, 2, 9, 1, 1, 1, 2, 1, 1, 3, 1, 1, 1, 1, 1, 1, 1, 2, 1, 1, 1, 4, 1, 4, 3, 2, 2, 1, 1, 1, 113, 1, 1, 1, 1, 1, 3, 3, 1, 1, 8, 2, 1, 1, 12, 3, 4, 1, 3, 1, 8, 3, 1, 1, 1, 1, 1, 1, 3, 1, 1, 1, 1, 6, 1, 1, 1, 3, 1, 1, 3, 1, 1, 7, 8, 1, 28, 1, 1, 1, 1, 9, 7, 1, 1, 5, 1, 5, 1, 1, 1, 2, 4, 2, 2, 3, 3, 1, 3, 1, 1, 1, 1, 1, 1, 3, 1, 4, 1, 1, 1, 1, 1, 2, 1, 1, 3, 1, 3, 1, 1, 2, 8, 1, 1, 1, 2, 2, 1, 5, 1, 1, 1, 13, 1, 9, 1, 4, 1, 4, 4, 5, 1, 2, 2, 1, 1, 1, 2, 10, 1, 1, 7, 3, 4, 53, 4, 1, 4, 1, 1, 1, 10, 4, 1, 1, 1, 1, 1, 1, 1, 1, 2, 1, 1, 1, 1, 1, 1, 2, 1, 1, 1, 1, 1, 24, 2, 2, 1, 2, 1, 1, 1, 10, 1, 2, 1, 2, 6, 1, 1, 1, 2, 1, 1, 1, 1, 1, 1, 1, 5, 2, 3, 1, 2, 1, 1, 1, 1, 2, 1, 1, 1, 4, 13, 2, 15, 2, 1, 31, 1, 1, 1, 10, 2, 1, 1, 1, 7, 2, 1, 1, 1, 3, 1, 1, 2, 3, 1, 1, 1, 3, 1, 1, 1, 1, 3, 2, 4, 1, 11, 3, 3, 1, 6, 5, 1, 1, 2, 1, 3, 5, 1, 1, 4, 2, 4, 1, 1, 2, 1, 9, 1, 2, 1, 1, 103, 9, 1, 4, 2, 1, 2, 1, 3, 1, 4, 3, 1, 6, 1, 2, 1, 3, 1, 7, 1, 2, 2, 1, 2, 1, 1, 2, 15, 2, 1, 1, 1, 128, 1, 1, 1, 1, 2, 2, 1, 3, 2, 2, 18, 1, 9, 1, 1, 23, 53, 3, 1, 1, 25, 1, 1, 1, 1, 30, 1, 1, 1, 5, 1, 1, 1, 1, 1, 1, 4, 1, 1, 4, 1, 2, 2, 1, 1, 40, 32, 98, 1, 7, 12, 11, 1, 1, 1, 1, 28, 1, 1, 7, 1, 1, 17, 2, 37, 1, 1, 1, 1, 1, 4, 2, 1, 1, 1, 1, 3, 7, 4, 1, 5, 3, 2, 2, 5, 5, 1, 1, 1, 2, 1, 1, 17, 15, 1, 163, 18, 2, 1, 1, 1, 1, 7, 1, 1, 2, 2, 5, 2, 4, 3, 1, 1, 1, 1, 4, 1, 2, 4, 1, 1, 1, 23, 2, 1, 1, 2, 5, 2, 1, 1, 1, 1, 4, 117, 15, 1, 2, 1, 1, 1, 38, 1, 1, 1, 3, 2, 2, 1, 2, 14, 1, 64, 1, 29, 17, 1, 2, 1, 1, 46, 1, 6, 2, 17, 2, 1, 1, 1, 1, 2, 1, 1, 1, 1, 1, 6, 1, 1, 1, 2, 1, 11, 2, 5, 1, 13, 2, 4, 1, 4, 24, 1, 1, 6, 1, 1, 6, 1, 7, 1, 1, 4, 2, 2, 1, 1, 2, 1, 2, 4, 1, 1, 1, 1, 1, 14, 1, 3, 1, 1, 1, 16, 15, 1, 2, 1, 1, 7, 1, 1, 22, 1, 2, 5, 5, 1, 9, 38, 31, 7, 1, 3, 1, 1, 1, 1, 4, 5, 1, 2, 7, 1, 6, 1, 2, 1, 1, 1, 4, 2, 6, 1, 25, 1, 4, 1, 2, 1, 1, 1, 1, 121, 1, 1, 1, 5, 4, 8, 11, 1, 2, 2, 1, 4, 12, 1, 1, 1, 1, 1, 1, 1, 1, 1, 12, 1, 1, 56, 1, 3, 1, 1, 1, 4, 1, 2, 4, 1, 2, 9, 4, 1, 1, 1, 1, 1, 1, 11, 3, 1, 2, 1, 1, 1, 1, 1, 1, 1, 1, 5, 1, 1, 3, 1, 1, 1, 1, 1, 2, 2, 7, 1, 12, 1, 2, 1, 1, 4, 1, 3, 1, 5, 14, 1, 2, 1, 2, 1, 2, 12, 1, 2, 1, 3, 1, 1, 1, 3, 2, 1, 236, 6, 3, 53, 2, 1, 5, 1, 1, 2, 1, 2, 8, 1, 2, 3, 34, 9, 2, 9, 1, 8, 1, 8, 1, 1, 7, 5, 1, 1, 1, 1, 1, 1, 1, 2, 1, 1, 6, 6, 19, 2, 1, 2, 10, 1, 1, 1, 3, 1, 1, 6, 1, 1, 1, 3, 1, 2, 63, 1, 3, 1, 1, 1, 1, 1, 2, 2, 4, 1, 2, 1, 1, 1, 1, 1, 1, 22, 3, 3, 1, 1, 1, 1, 1, 1, 3, 1, 1, 3, 1, 2, 2, 2, 1, 1, 1, 1, 2, 12, 1, 1, 1, 1, 2, 2, 1, 6, 4, 5, 2, 10, 2, 1, 1, 4, 1, 1, 3, 11, 17, 1, 4, 1, 1, 2, 4, 1, 1, 1, 1, 8, 1, 5, 1, 2, 1, 1, 4, 1, 1, 2, 1, 1, 45, 2, 4, 35, 22, 3, 3, 14, 1, 3, 1, 6, 1, 1, 1, 2, 1, 1, 34, 2, 9, 32, 1, 139, 1, 22, 3, 14, 6, 1, 8, 1, 1, 1, 1, 1, 1, 10, 5, 2, 69, 24, 1, 1, 23, 1, 9, 2, 1, 2, 1, 5, 1, 1, 1, 1, 74, 1, 1, 1, 3, 3, 1, 1, 1, 5, 3, 6, 1, 1, 1, 1, 5, 6, 1, 3, 1, 1, 6, 1, 1, 7, 88, 25, 8, 21, 10, 2, 5, 1, 3, 2, 1, 1, 1, 11, 2, 1, 2, 16, 1, 1, 36, 1, 2, 1, 1, 1, 1, 1, 1, 2, 1, 3, 1, 1, 12, 2, 1, 1, 1, 1, 1, 1, 1, 1, 4, 2, 2, 2, 1, 1, 1, 2, 14, 1, 17, 18, 1, 2, 1, 17, 1, 1, 1, 4, 1, 52, 1, 1, 1, 1, 1, 1, 10, 1, 1, 1, 14, 1, 1, 4, 1, 1, 1, 3, 33, 6, 1, 8, 1, 2, 9, 1, 1, 1, 5, 1, 22, 4, 2, 1, 9, 1, 1, 1, 1, 1, 4, 1, 1, 1, 7, 1, 4, 3, 72, 1, 1, 5, 11, 6, 4, 25, 1, 1, 1, 1, 1, 30, 15, 65, 1, 1, 4, 21, 1, 6, 27, 2, 1, 8, 8, 20, 1, 6, 2, 14, 1, 17, 1, 1, 2, 5, 1, 9, 1, 1, 1, 1, 8, 1, 1, 1, 1, 14, 1, 2, 3, 1, 1, 3, 1, 1, 3, 1, 2, 1, 6, 82, 3, 1, 1, 1, 3, 3, 1, 1, 16, 1, 1, 16, 1, 25, 3, 1, 1, 1, 1, 1, 4, 37, 1, 5, 1, 4, 9, 2, 1, 1, 1, 3, 2, 63, 34, 18, 1, 3, 2, 1, 1, 1, 1, 10, 1, 72, 5, 22, 1, 4, 1, 1, 1, 4, 5, 1, 26, 5, 5, 3, 1, 1, 2, 1, 1, 1, 1, 1, 12, 4, 1, 3, 1, 2, 1, 30, 1, 1, 1, 1, 1, 5, 1, 1, 1, 2, 1, 1, 1, 1, 1]\n"
          ],
          "name": "stdout"
        }
      ]
    },
    {
      "cell_type": "code",
      "metadata": {
        "id": "OxD2o8k19PlI",
        "colab_type": "code",
        "colab": {}
      },
      "source": [
        "def est_value(m):\n",
        "  px0=(numofclass0+m)/(m*2+class0)\n",
        "  px1=(numofclass1+m)/(m*2+class1)\n",
        "  return px0,px1"
      ],
      "execution_count": 318,
      "outputs": []
    },
    {
      "cell_type": "code",
      "metadata": {
        "id": "tlMlxgCdJg9p",
        "colab_type": "code",
        "colab": {
          "base_uri": "https://localhost:8080/",
          "height": 66
        },
        "outputId": "381a2177-b860-4172-b194-a1414f58ca21"
      },
      "source": [
        "pxclass0,pxclass1=est_value(0.1)\n",
        "print(\"theta of class0\",pxclass0)\n",
        "print(\"theta of class1\",pxclass1)"
      ],
      "execution_count": 319,
      "outputs": [
        {
          "output_type": "stream",
          "text": [
            "theta of class0 [2.76456928e-05 2.76456928e-05 3.04102621e-04 ... 3.04102621e-04\n",
            " 2.76456928e-05 3.04102621e-04]\n",
            "theta of class1 [0.01262896 0.0357524  0.00017787 ... 0.00017787 0.0019566  0.00017787]\n"
          ],
          "name": "stdout"
        }
      ]
    },
    {
      "cell_type": "code",
      "metadata": {
        "id": "rFT4-BgN97pU",
        "colab_type": "code",
        "colab": {
          "base_uri": "https://localhost:8080/",
          "height": 83
        },
        "outputId": "77efae14-1032-4d88-f120-7bca6440242d"
      },
      "source": [
        "index_admirer=feature.index('admirer')\n",
        "index_secret=feature.index('secret')\n",
        "print(\"Theta admirer given y=0:\",pxclass0[index_admirer])\n",
        "print(\"Theta admirer given y=1:\",pxclass1[index_admirer])\n",
        "print(\"Theta secret given y=0:\",pxclass0[index_secret])\n",
        "print(\"Theta secret given y=1:\",pxclass1[index_secret])\n"
      ],
      "execution_count": 320,
      "outputs": [
        {
          "output_type": "stream",
          "text": [
            "Theta admirer given y=0: 2.7645692801061596e-05\n",
            "Theta admirer given y=1: 0.014407684098185698\n",
            "Theta secret given y=0: 0.0005805595488222935\n",
            "Theta secret given y=1: 0.014407684098185698\n"
          ],
          "name": "stdout"
        }
      ]
    },
    {
      "cell_type": "code",
      "metadata": {
        "id": "h7pq_IXiB64Q",
        "colab_type": "code",
        "colab": {}
      },
      "source": [
        "def predict(xtest,xtrain,pxclass0,pxclass1):\n",
        "  label0=np.array([0])\n",
        "  label1=np.array([1])\n",
        "  predy=np.zeros((1,1),dtype=np.int16)\n",
        "  predy=predy.reshape(1,1)\n",
        "  for i in range(xtest.shape[0]):\n",
        "    temp0=0\n",
        "    temp1=0\n",
        "    row=xtest[i]\n",
        "    row=row.reshape(1,xtrain.shape[1])\n",
        "    for j in range(xtest.shape[1]):\n",
        "      if row[0][j]!=0:\n",
        "        temp0=temp0+np.log(row[0][j]*pxclass0[j])\n",
        "        temp1=temp1+np.log(row[0][j]*pxclass1[j])\n",
        "\n",
        "    t0=temp0+np.log(py0)\n",
        "    t1=temp1+np.log(py1)\n",
        "    if t0>=t1:\n",
        "      predy=np.vstack((predy,label0)) \n",
        "    else: \n",
        "      predy=np.vstack((predy,label1))\n",
        "\n",
        "  predy=np.delete(predy,0,0)\n",
        "  predy=predy.reshape(predy.shape[0],)\n",
        "  return predy"
      ],
      "execution_count": 321,
      "outputs": []
    },
    {
      "cell_type": "code",
      "metadata": {
        "id": "u3WptqLLD0fG",
        "colab_type": "code",
        "colab": {}
      },
      "source": [
        "result=predict(X_test,X_train,pxclass0,pxclass1)"
      ],
      "execution_count": 322,
      "outputs": []
    },
    {
      "cell_type": "code",
      "metadata": {
        "id": "dPAufFtxIpJs",
        "colab_type": "code",
        "colab": {
          "base_uri": "https://localhost:8080/",
          "height": 70
        },
        "outputId": "2fd65d6f-d811-4ca9-8ea7-1978c036656c"
      },
      "source": [
        "print(result.tolist())\n",
        "print(result.shape)"
      ],
      "execution_count": 323,
      "outputs": [
        {
          "output_type": "stream",
          "text": [
            "[0, 1, 0, 0, 0, 0, 1, 0, 0, 0, 0, 0, 0, 0, 0, 0, 1, 0, 0, 0, 0, 0, 0, 0, 1, 0, 0, 0, 0, 0, 0, 0, 1, 0, 0, 0, 1, 0, 1, 1, 0, 0, 0, 0, 0, 0, 0, 0, 0, 1, 0, 0, 0, 0, 0, 0, 0, 0, 1, 0, 0, 0, 0, 0, 0, 0, 0, 0, 0, 0, 0, 1, 0, 1, 0, 0, 0, 1, 0, 0, 0, 0, 0, 1, 0, 0, 0, 0, 0, 1, 0, 0, 0, 0, 0, 0, 0, 0, 0, 0, 0, 0, 0, 0, 1, 0, 0, 1, 0, 0, 0, 0, 0, 0, 0, 0, 1, 0, 0, 0, 0, 0, 0, 0, 1, 1, 0, 0, 0, 1, 0, 0, 1, 0, 0, 0, 1, 0, 0, 0, 0, 0, 0, 0, 0, 0, 0, 0, 0, 0, 0, 0, 0, 0, 0, 0, 0, 1, 1, 0, 0, 0, 1, 1, 0, 1, 0, 0, 0, 0, 0, 0, 0, 1, 0, 0, 0, 0, 1, 0, 0, 1, 0, 0, 0, 0, 1, 0, 0, 0, 0, 0, 0, 0, 0, 0, 0, 0, 0, 0, 0, 0, 1, 0, 0, 0, 1, 0, 0, 0, 1, 0, 0, 1, 0, 0, 0, 0, 0, 0, 1, 0, 1, 0, 0, 0, 1, 0, 0, 0, 0, 0, 0, 1, 0, 0, 0, 0, 0, 0, 0, 0, 0, 0, 0, 0, 0, 0, 1, 1, 0, 0, 0, 0, 0, 0, 0, 0, 1, 0, 1, 0, 0, 0, 0, 0, 0, 0, 1, 0, 1, 0, 0, 0, 0, 0, 0, 0, 0, 0, 0, 0, 0, 0, 0, 0, 0, 0, 1, 0, 1, 1, 0, 0, 0, 0, 0, 0, 0, 0, 1, 0, 0, 0, 0, 0, 1, 1, 0, 1, 0, 0, 0, 0, 0, 1, 0, 1, 0, 0, 1, 0, 0, 0, 0, 0, 0, 0, 0, 0, 0, 1, 0, 0, 0, 0, 0, 0, 0, 0, 0, 0, 1, 0, 0, 0, 0, 0, 0, 0, 0, 0, 0, 0, 0, 0, 0, 0, 0, 0, 0, 0, 0, 1, 0, 0, 1, 1, 0, 0, 0, 0, 0, 1, 0, 0, 0, 1, 0, 0, 0, 0, 0, 0, 0, 0, 0, 0, 0, 0, 0, 0, 0, 0, 0, 1, 0, 1, 0, 0, 1, 0, 0, 0, 0, 0, 0, 1, 0, 1, 0, 0, 0, 0, 0, 0, 0, 0, 0, 0, 0, 0, 1, 0, 0, 1, 1, 0, 0, 1, 1, 0, 0, 1, 1, 0, 0, 0, 1, 0, 0, 0, 0, 0, 0, 1, 0, 1, 0, 0, 0, 0, 0, 0, 1, 0, 0, 0, 1, 0, 0, 0, 1, 0, 0, 0, 0, 0, 0, 0, 0, 0, 0, 0, 1, 0, 0, 0, 0, 0, 0, 0, 0, 0, 0, 0, 0, 1, 1, 0, 0, 1, 0, 0, 0, 0, 0, 0, 0, 1, 0, 0, 0, 0, 0, 1, 1, 0, 0, 0, 0, 0, 0, 1, 0, 0, 0, 0, 0, 1, 0, 1, 0, 0, 1, 0, 0, 0, 1, 0, 0, 0, 0, 0, 0, 1, 0, 0, 0, 0, 0, 0, 0, 0, 0, 0, 0, 0, 0, 0, 0, 0, 1, 0, 0, 0, 0, 0, 0, 0, 0, 0, 0, 0, 0, 0, 1, 0, 0, 1, 0, 0, 0, 0, 1, 1, 1, 0, 0, 1, 0, 0, 1, 0, 0, 0, 0, 0, 0, 1, 1, 0, 0, 1, 1, 0, 0, 0, 0, 0, 1, 1, 0, 1, 0, 1, 0, 0, 0, 1, 0, 0, 0, 0, 0, 0, 0, 1, 0, 0, 0, 0, 0, 0, 0, 1, 0, 0, 0, 0, 0, 0, 0, 0, 0, 0, 0, 0, 0, 0, 0, 1, 1, 0, 0, 0, 0, 1, 0, 0, 0, 0, 0, 0, 1, 1, 0, 0, 0, 0, 0, 0, 0, 0, 0, 1, 0, 1, 0, 0, 0, 1, 0, 0, 0, 1, 0, 0, 0, 0, 1, 0, 0, 0, 0, 0, 0, 0, 0, 0, 0, 1, 0, 0, 0, 0, 0, 0, 0, 0, 0, 0, 0, 1, 0, 0, 1, 0, 0, 0, 0, 0, 1, 0, 0, 0, 0, 0, 0, 0, 1, 1, 0, 0, 0, 0, 1, 0, 0, 0, 0, 0, 0, 0, 0, 0, 0, 0, 0, 0, 0, 0, 0, 0, 0, 0, 0, 0, 0, 1, 0, 0, 1, 1, 0, 0, 0, 0, 0, 0, 0, 0, 0, 0, 0, 0, 1, 0, 0, 0, 0, 0, 0, 0, 0, 1, 0, 1, 0, 0, 0, 0, 0, 0, 0, 0, 0, 0, 0, 0, 1, 0, 0, 0, 0, 0, 1, 1, 0, 0, 0, 0, 1, 0, 0, 0, 0, 0, 1, 0, 0, 0, 1, 0, 0, 0, 1, 0, 0, 0, 0, 0, 0, 0, 0, 0, 1, 0, 0, 0, 0, 0, 0, 0, 0, 0, 0, 0, 0, 1, 0, 0, 1, 1, 0, 0, 1, 0, 0, 0, 0, 0, 1, 0, 0, 0, 0, 0, 0, 0, 1, 0, 0, 0, 0, 0, 0, 1, 0, 1, 0, 0, 0, 0, 1, 0, 0, 0, 0, 1, 1, 0, 0, 0, 0, 0, 0, 0, 0, 0, 0, 0, 0, 0, 0, 0, 0, 0, 0, 1, 0, 0, 0, 0, 0, 0, 1, 0, 1, 0, 0, 1, 0, 0, 0, 0, 0, 0, 0, 1, 0, 0, 1, 0, 0, 0, 0, 1, 1, 1, 0, 1, 1, 0, 0, 0, 0, 1, 0, 1, 0, 1, 0, 0, 0, 1, 0, 0, 0, 0, 0, 1, 0, 0, 0, 0, 0, 0, 0, 0, 0, 0, 0, 0, 0, 0, 0, 0, 0, 1, 1, 1, 0, 0, 0, 0, 0, 0, 1, 0, 0, 0, 0, 0, 0, 0, 0, 1, 1, 0, 1, 0, 0, 0, 1, 0, 1, 0, 0, 0, 0, 0, 1, 0, 0, 0, 0, 1, 0, 0, 0, 0, 0, 0, 0, 0, 0, 0, 0, 0, 0, 0, 0, 1, 0, 0, 0, 0, 1, 0, 0, 0, 0, 0, 0, 0, 0, 0, 0, 1, 0, 0, 0, 1, 1, 1, 0, 1, 0, 0, 0, 0, 0, 0, 0, 0, 0, 0, 0, 0, 0, 0, 1, 0, 0, 0, 0, 0, 0, 0, 1, 0, 1, 1, 0, 0, 0, 0, 0, 0, 0, 1, 0, 0, 1, 0, 0, 0, 0, 0, 0, 0, 0, 0, 0, 0, 1, 0, 0, 0, 0, 0, 0, 0, 1, 1, 0, 0, 0, 0, 0, 0, 0, 1, 0, 0, 1, 0, 0, 0, 0, 0, 0, 0, 0, 0, 0, 0, 0, 0, 0, 0, 0, 0, 0, 0, 0, 0, 0, 0, 0, 0, 0, 0, 0, 0, 0, 0, 1, 0, 0, 0, 0, 1, 0, 0, 0, 0, 0, 1, 0, 0, 0, 0, 0, 0, 0, 0, 1, 0, 0, 0, 0, 0, 0, 0, 0, 1, 0, 0, 0, 0, 0, 0, 0, 0, 0, 0, 0, 0, 1, 0, 0, 0, 0, 0, 0, 0, 0, 0, 0, 0, 0, 0, 0, 0, 0, 0, 0, 0, 0, 0, 0, 0, 0, 0, 0, 0, 0, 0, 0, 0, 1, 0, 0, 0, 0, 0, 1, 0, 0, 0, 0, 0, 0, 0, 0, 0, 0, 0, 0, 0, 0, 0, 0, 0, 0, 0, 1, 0, 0, 1, 0, 0, 0, 0, 0, 1, 0, 0, 0, 0, 0, 0, 0, 0, 0, 0, 0, 1, 0, 0, 0, 0, 0, 0, 0, 0, 0, 0, 0, 0, 0, 0, 0, 0, 1, 0, 0, 0, 0, 0, 0, 0, 0, 1, 1, 0, 0, 1, 0, 1, 0, 0, 1, 0, 1, 0, 1, 0, 0, 0, 0, 0, 0, 0, 0, 0, 1, 0, 0, 0, 0, 1, 0, 0, 0, 0, 0, 0, 0, 0, 0, 0, 0, 0, 0, 1, 1, 0, 0, 1, 1, 0, 0, 0, 0, 0, 1, 0, 0, 0, 0, 0, 0, 1, 0, 0, 0, 0, 0, 0, 0, 0, 0, 0, 0, 0, 0, 0, 0, 1, 1, 0, 0, 0, 0, 0, 0, 0, 0, 0, 0, 0, 0, 0, 0, 0, 0, 1, 1, 0, 0]\n",
            "(1393,)\n"
          ],
          "name": "stdout"
        }
      ]
    },
    {
      "cell_type": "code",
      "metadata": {
        "id": "zDsBZpBJgr1k",
        "colab_type": "code",
        "colab": {
          "base_uri": "https://localhost:8080/",
          "height": 50
        },
        "outputId": "cd9f1436-607b-44a4-d1e3-cce844ab7c81"
      },
      "source": [
        "print(\"first 5 values:\",result[0:5,])\n",
        "print(\"last 5 values:\",result[result.shape[0]-5:result.shape[0],])"
      ],
      "execution_count": 324,
      "outputs": [
        {
          "output_type": "stream",
          "text": [
            "first 5 values: [0 1 0 0 0]\n",
            "last 5 values: [0 1 1 0 0]\n"
          ],
          "name": "stdout"
        }
      ]
    },
    {
      "cell_type": "code",
      "metadata": {
        "id": "KvNIhmKrD4Zg",
        "colab_type": "code",
        "colab": {
          "base_uri": "https://localhost:8080/",
          "height": 70
        },
        "outputId": "c6f0614e-2c98-496c-c3ca-28ff580eea7d"
      },
      "source": [
        "print(y_test.tolist())\n",
        "print(y_test.shape)"
      ],
      "execution_count": 325,
      "outputs": [
        {
          "output_type": "stream",
          "text": [
            "[0, 1, 0, 0, 0, 0, 1, 0, 0, 0, 0, 0, 0, 0, 0, 0, 1, 0, 0, 0, 0, 0, 0, 0, 1, 0, 0, 0, 0, 0, 0, 0, 1, 0, 0, 0, 1, 0, 0, 1, 0, 0, 0, 0, 0, 0, 0, 0, 0, 1, 0, 0, 0, 0, 0, 0, 0, 0, 0, 0, 0, 0, 0, 0, 0, 0, 0, 0, 0, 0, 0, 1, 0, 1, 0, 0, 0, 0, 0, 0, 0, 0, 0, 1, 0, 0, 0, 0, 0, 0, 0, 0, 0, 0, 0, 0, 0, 0, 0, 0, 0, 0, 0, 0, 1, 0, 0, 1, 0, 0, 0, 0, 0, 0, 0, 0, 1, 0, 0, 0, 0, 0, 0, 0, 1, 1, 0, 0, 0, 0, 0, 0, 1, 0, 0, 0, 0, 0, 0, 0, 0, 0, 0, 0, 0, 0, 0, 0, 0, 0, 0, 0, 0, 0, 0, 0, 0, 0, 1, 0, 0, 0, 1, 1, 0, 1, 0, 0, 0, 0, 0, 0, 0, 0, 0, 0, 0, 0, 0, 0, 0, 1, 0, 0, 0, 0, 1, 0, 0, 0, 0, 0, 0, 0, 0, 0, 0, 0, 0, 0, 0, 0, 1, 0, 0, 0, 1, 0, 0, 0, 1, 0, 0, 1, 0, 0, 0, 0, 0, 0, 1, 0, 1, 0, 0, 0, 1, 0, 0, 0, 0, 0, 0, 1, 0, 0, 0, 0, 0, 0, 0, 0, 0, 0, 0, 0, 0, 0, 0, 1, 0, 0, 0, 0, 0, 0, 0, 0, 1, 0, 1, 0, 0, 0, 0, 0, 0, 0, 0, 0, 1, 0, 0, 0, 0, 0, 0, 0, 0, 0, 0, 0, 0, 0, 0, 0, 0, 0, 0, 0, 1, 1, 0, 0, 0, 0, 0, 0, 0, 0, 1, 0, 0, 0, 0, 0, 1, 1, 0, 1, 0, 0, 0, 0, 0, 1, 0, 1, 0, 0, 1, 0, 0, 0, 0, 0, 0, 0, 0, 0, 0, 1, 0, 0, 0, 0, 0, 0, 0, 0, 0, 0, 1, 0, 0, 0, 0, 0, 0, 0, 0, 0, 0, 0, 0, 0, 0, 0, 0, 0, 0, 0, 0, 1, 0, 0, 1, 1, 0, 0, 0, 0, 0, 1, 0, 0, 0, 0, 0, 0, 0, 0, 0, 0, 0, 0, 0, 0, 0, 0, 0, 0, 0, 0, 0, 1, 0, 1, 0, 0, 1, 0, 0, 0, 0, 0, 0, 0, 0, 0, 0, 0, 0, 0, 0, 0, 0, 0, 0, 0, 0, 0, 1, 0, 0, 1, 1, 0, 0, 1, 1, 0, 0, 1, 1, 0, 0, 0, 1, 0, 0, 0, 0, 0, 0, 1, 0, 1, 0, 0, 0, 0, 0, 0, 0, 0, 0, 0, 1, 0, 0, 0, 1, 0, 0, 0, 0, 0, 0, 0, 0, 0, 0, 0, 0, 0, 0, 0, 0, 0, 0, 0, 0, 0, 0, 0, 0, 1, 1, 0, 0, 0, 0, 0, 0, 0, 0, 0, 0, 1, 0, 0, 0, 0, 0, 1, 0, 0, 0, 0, 0, 0, 0, 1, 0, 0, 0, 0, 0, 1, 0, 1, 0, 0, 0, 0, 0, 0, 1, 0, 0, 0, 0, 0, 0, 1, 0, 0, 1, 0, 0, 0, 0, 0, 0, 0, 0, 0, 0, 1, 0, 0, 1, 0, 0, 0, 0, 0, 0, 0, 0, 0, 0, 0, 0, 0, 1, 0, 0, 1, 0, 0, 0, 0, 1, 0, 1, 0, 0, 1, 0, 0, 0, 0, 0, 0, 0, 0, 0, 1, 0, 0, 0, 1, 1, 0, 0, 0, 0, 0, 1, 0, 0, 1, 0, 1, 0, 0, 0, 1, 0, 0, 0, 0, 0, 0, 0, 1, 0, 0, 0, 0, 0, 0, 0, 1, 0, 0, 0, 0, 0, 0, 0, 0, 0, 0, 0, 0, 0, 0, 0, 0, 1, 0, 0, 0, 0, 1, 0, 0, 0, 0, 0, 0, 1, 1, 0, 0, 0, 0, 0, 0, 0, 0, 0, 0, 0, 1, 0, 0, 0, 1, 0, 0, 0, 1, 0, 0, 0, 0, 1, 0, 0, 0, 0, 0, 0, 0, 0, 0, 0, 1, 0, 0, 0, 0, 0, 0, 0, 0, 0, 0, 0, 0, 0, 0, 0, 0, 0, 0, 0, 0, 1, 0, 0, 0, 0, 0, 0, 0, 1, 1, 0, 0, 0, 0, 0, 0, 0, 0, 0, 0, 0, 0, 0, 0, 0, 0, 0, 0, 0, 0, 0, 0, 0, 0, 0, 0, 0, 0, 0, 0, 0, 1, 0, 0, 0, 0, 0, 0, 0, 0, 0, 0, 0, 0, 1, 0, 0, 0, 0, 0, 0, 0, 0, 1, 0, 1, 0, 0, 0, 0, 0, 0, 0, 0, 0, 0, 0, 0, 1, 0, 0, 0, 0, 0, 1, 1, 0, 0, 0, 0, 0, 0, 0, 0, 0, 0, 1, 0, 0, 0, 1, 0, 0, 0, 1, 0, 0, 0, 0, 0, 0, 0, 0, 0, 1, 0, 0, 0, 0, 0, 0, 0, 0, 0, 0, 0, 0, 1, 0, 0, 1, 1, 0, 0, 1, 0, 0, 0, 0, 0, 1, 0, 0, 0, 0, 0, 0, 0, 1, 0, 0, 0, 0, 0, 0, 1, 0, 1, 0, 0, 0, 0, 1, 0, 0, 0, 0, 1, 1, 0, 0, 0, 0, 0, 0, 0, 0, 0, 0, 0, 0, 0, 0, 0, 0, 0, 0, 1, 0, 0, 0, 0, 0, 0, 1, 0, 1, 0, 0, 1, 0, 0, 0, 0, 0, 0, 0, 1, 0, 0, 1, 0, 0, 0, 0, 0, 1, 0, 0, 1, 1, 0, 0, 0, 0, 1, 0, 1, 0, 1, 0, 0, 0, 1, 0, 0, 0, 0, 0, 1, 0, 0, 0, 0, 0, 0, 0, 0, 0, 0, 0, 0, 0, 0, 0, 0, 0, 0, 1, 1, 0, 0, 0, 0, 0, 0, 0, 0, 0, 0, 0, 0, 0, 0, 0, 1, 0, 0, 1, 0, 0, 0, 0, 0, 1, 0, 0, 0, 0, 0, 1, 0, 0, 0, 0, 1, 0, 0, 0, 0, 0, 0, 0, 0, 0, 0, 0, 0, 0, 0, 0, 1, 0, 0, 0, 0, 0, 0, 0, 0, 0, 0, 0, 0, 0, 0, 0, 1, 0, 0, 0, 1, 1, 0, 0, 1, 0, 0, 0, 0, 0, 0, 0, 0, 0, 0, 0, 0, 0, 0, 1, 0, 0, 0, 0, 0, 0, 0, 1, 0, 1, 0, 0, 0, 0, 0, 0, 0, 0, 1, 0, 0, 1, 0, 0, 0, 0, 0, 0, 0, 0, 0, 0, 0, 1, 0, 0, 0, 0, 0, 0, 0, 1, 1, 0, 0, 0, 0, 0, 0, 0, 1, 0, 0, 0, 0, 0, 0, 0, 0, 0, 0, 0, 0, 0, 0, 0, 0, 0, 0, 0, 0, 0, 0, 0, 0, 0, 0, 0, 0, 0, 0, 0, 0, 0, 0, 1, 0, 0, 0, 0, 1, 0, 0, 0, 0, 0, 1, 0, 0, 0, 0, 0, 0, 0, 0, 1, 0, 0, 0, 0, 0, 0, 0, 0, 0, 0, 0, 0, 0, 0, 0, 0, 0, 0, 0, 0, 0, 1, 0, 0, 0, 0, 0, 0, 0, 0, 0, 0, 0, 0, 0, 0, 0, 0, 0, 0, 0, 0, 0, 0, 0, 0, 0, 0, 0, 0, 0, 0, 0, 0, 0, 0, 0, 0, 0, 0, 0, 0, 0, 0, 0, 0, 0, 0, 0, 0, 0, 0, 0, 0, 0, 0, 0, 0, 0, 1, 0, 0, 1, 0, 0, 0, 0, 0, 1, 0, 0, 0, 0, 0, 0, 0, 0, 0, 0, 0, 1, 0, 0, 0, 0, 0, 0, 0, 0, 0, 0, 0, 0, 0, 0, 0, 0, 1, 0, 0, 0, 0, 0, 0, 0, 0, 0, 1, 0, 0, 1, 0, 1, 0, 0, 1, 0, 0, 0, 0, 0, 0, 0, 0, 0, 0, 0, 0, 0, 1, 0, 0, 0, 0, 1, 0, 0, 0, 0, 0, 0, 0, 0, 0, 0, 0, 0, 0, 1, 1, 0, 0, 0, 0, 0, 0, 0, 0, 0, 1, 0, 0, 0, 0, 0, 1, 1, 0, 0, 0, 0, 0, 0, 0, 0, 0, 0, 0, 0, 0, 0, 0, 1, 1, 0, 0, 0, 0, 0, 0, 0, 0, 0, 0, 0, 0, 0, 0, 0, 0, 1, 1, 0, 0]\n",
            "(1393,)\n"
          ],
          "name": "stdout"
        }
      ]
    },
    {
      "cell_type": "code",
      "metadata": {
        "id": "JbNxOuGjKhrg",
        "colab_type": "code",
        "colab": {}
      },
      "source": [
        "def percentage_error(res,ytest):\n",
        "  correct=0\n",
        "  incorrect=0\n",
        "  for i in range(ytest.shape[0]):\n",
        "    if res[i]!=ytest[i]:\n",
        "      incorrect=incorrect+1\n",
        "    else:\n",
        "      correct=correct+1\n",
        "  print(\"number of test example classfied incorrectly:\",incorrect)\n",
        "  print(\"number of test example classfied correctly:\",correct)\n",
        "  per_error=incorrect/(incorrect+correct)\n",
        "  return per_error\n"
      ],
      "execution_count": 326,
      "outputs": []
    },
    {
      "cell_type": "code",
      "metadata": {
        "id": "rqbQZZ1eMNmN",
        "colab_type": "code",
        "colab": {
          "base_uri": "https://localhost:8080/",
          "height": 66
        },
        "outputId": "6462e7e9-955e-443b-f4d9-844a8dfd16ac"
      },
      "source": [
        "percentage_error(result,y_test)"
      ],
      "execution_count": 327,
      "outputs": [
        {
          "output_type": "stream",
          "text": [
            "number of test example classfied incorrectly: 53\n",
            "number of test example classfied correctly: 1340\n"
          ],
          "name": "stdout"
        },
        {
          "output_type": "execute_result",
          "data": {
            "text/plain": [
              "0.03804737975592247"
            ]
          },
          "metadata": {
            "tags": []
          },
          "execution_count": 327
        }
      ]
    },
    {
      "cell_type": "code",
      "metadata": {
        "id": "kJR0Rzz5P7CZ",
        "colab_type": "code",
        "colab": {
          "base_uri": "https://localhost:8080/",
          "height": 750
        },
        "outputId": "ce9f1ba9-448f-47dd-fa71-fad0d6e2a0f7"
      },
      "source": [
        "eArray=np.zeros((1,),dtype=np.int16)\n",
        "for i in np.arange(0.0, 1.0, 0.05):\n",
        "  px0,px1=est_value(i)\n",
        "  res=predict(X_test,X_train,px0,px1)\n",
        "  per=percentage_error(res,y_test)\n",
        "  eArray=np.hstack((eArray,per)) \n",
        "eArray=np.delete(eArray,0)\n"
      ],
      "execution_count": 328,
      "outputs": [
        {
          "output_type": "stream",
          "text": [
            "/usr/local/lib/python3.6/dist-packages/ipykernel_launcher.py:14: RuntimeWarning: divide by zero encountered in log\n",
            "  \n",
            "/usr/local/lib/python3.6/dist-packages/ipykernel_launcher.py:13: RuntimeWarning: divide by zero encountered in log\n",
            "  del sys.path[0]\n"
          ],
          "name": "stderr"
        },
        {
          "output_type": "stream",
          "text": [
            "number of test example classfied incorrectly: 69\n",
            "number of test example classfied correctly: 1324\n",
            "number of test example classfied incorrectly: 47\n",
            "number of test example classfied correctly: 1346\n",
            "number of test example classfied incorrectly: 53\n",
            "number of test example classfied correctly: 1340\n",
            "number of test example classfied incorrectly: 58\n",
            "number of test example classfied correctly: 1335\n",
            "number of test example classfied incorrectly: 68\n",
            "number of test example classfied correctly: 1325\n",
            "number of test example classfied incorrectly: 75\n",
            "number of test example classfied correctly: 1318\n",
            "number of test example classfied incorrectly: 88\n",
            "number of test example classfied correctly: 1305\n",
            "number of test example classfied incorrectly: 94\n",
            "number of test example classfied correctly: 1299\n",
            "number of test example classfied incorrectly: 97\n",
            "number of test example classfied correctly: 1296\n",
            "number of test example classfied incorrectly: 108\n",
            "number of test example classfied correctly: 1285\n",
            "number of test example classfied incorrectly: 117\n",
            "number of test example classfied correctly: 1276\n",
            "number of test example classfied incorrectly: 124\n",
            "number of test example classfied correctly: 1269\n",
            "number of test example classfied incorrectly: 127\n",
            "number of test example classfied correctly: 1266\n",
            "number of test example classfied incorrectly: 133\n",
            "number of test example classfied correctly: 1260\n",
            "number of test example classfied incorrectly: 146\n",
            "number of test example classfied correctly: 1247\n",
            "number of test example classfied incorrectly: 162\n",
            "number of test example classfied correctly: 1231\n",
            "number of test example classfied incorrectly: 172\n",
            "number of test example classfied correctly: 1221\n",
            "number of test example classfied incorrectly: 179\n",
            "number of test example classfied correctly: 1214\n",
            "number of test example classfied incorrectly: 186\n",
            "number of test example classfied correctly: 1207\n",
            "number of test example classfied incorrectly: 196\n",
            "number of test example classfied correctly: 1197\n"
          ],
          "name": "stdout"
        }
      ]
    },
    {
      "cell_type": "code",
      "metadata": {
        "id": "OAIkLNGySvGF",
        "colab_type": "code",
        "colab": {
          "base_uri": "https://localhost:8080/",
          "height": 83
        },
        "outputId": "f09e9504-9fc2-4656-a9c7-520b4225d082"
      },
      "source": [
        "print(eArray)"
      ],
      "execution_count": 329,
      "outputs": [
        {
          "output_type": "stream",
          "text": [
            "[0.04953338 0.03374013 0.03804738 0.04163676 0.04881551 0.05384063\n",
            " 0.06317301 0.06748026 0.06963388 0.07753051 0.08399139 0.08901651\n",
            " 0.09117014 0.09547739 0.10480976 0.11629576 0.12347452 0.12849964\n",
            " 0.13352477 0.14070352]\n"
          ],
          "name": "stdout"
        }
      ]
    },
    {
      "cell_type": "code",
      "metadata": {
        "id": "ftFUD7AsPGo-",
        "colab_type": "code",
        "colab": {
          "base_uri": "https://localhost:8080/",
          "height": 278
        },
        "outputId": "72dfeeb9-d7eb-476b-afc3-dec4ea16de2b"
      },
      "source": [
        "import matplotlib.pyplot as plt\n",
        "\n",
        "x = np.arange(0.0, 1.0, 0.05)\n",
        "plt.plot(x,eArray,'s-',color = 'r',label=\"ATT-RLSTM\")\n",
        "plt.xlabel(\"m\")\n",
        "plt.ylabel(\"percentage error\")\n",
        "plt.show()"
      ],
      "execution_count": 330,
      "outputs": [
        {
          "output_type": "display_data",
          "data": {
            "image/png": "[encoded data removed]",
            "text/plain": [
              "<Figure size 432x288 with 1 Axes>"
            ]
          },
          "metadata": {
            "tags": [],
            "needs_background": "light"
          }
        }
      ]
    },
    {
      "cell_type": "code",
      "metadata": {
        "id": "g3K-aOtFctMG",
        "colab_type": "code",
        "colab": {
          "base_uri": "https://localhost:8080/",
          "height": 50
        },
        "outputId": "b1b0a30c-bc98-4f23-aab0-1c0ebd31537e"
      },
      "source": [
        "import collections\n",
        "print(collections.Counter(y_test))\n",
        "print(\"Zero-R accuracy=\",1208/1393)"
      ],
      "execution_count": 331,
      "outputs": [
        {
          "output_type": "stream",
          "text": [
            "Counter({0: 1208, 1: 185})\n",
            "Zero-R accuracy= 0.8671931083991385\n"
          ],
          "name": "stdout"
        }
      ]
    }
  ]
}