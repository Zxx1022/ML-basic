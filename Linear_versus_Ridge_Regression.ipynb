{
  "nbformat": 4,
  "nbformat_minor": 0,
  "metadata": {
    "kernelspec": {
      "display_name": "Python 3",
      "language": "python",
      "name": "python3"
    },
    "language_info": {
      "codemirror_mode": {
        "name": "ipython",
        "version": 3
      },
      "file_extension": ".py",
      "mimetype": "text/x-python",
      "name": "python",
      "nbconvert_exporter": "python",
      "pygments_lexer": "ipython3",
      "version": "3.7.2"
    },
    "colab": {
      "name": "Programming Assignment 4 - Linear versus Ridge Regression-Fall 2020.ipynb",
      "provenance": [],
      "collapsed_sections": [],
      "toc_visible": true
    }
  },
  "cells": [
    {
      "cell_type": "markdown",
      "metadata": {
        "id": "UEMfOb2pC6O9"
      },
      "source": [
        "# Programming Assignment 4 - Linear versus Ridge Regression "
      ]
    },
    {
      "cell_type": "markdown",
      "metadata": {
        "id": "AUiuZ5cbC6O-"
      },
      "source": [
        "The Boston housing data set was collected in the 1970s to study the relationship between house price and various factors such as the house size, crime rate, socio-economic status, etc. \n",
        "\n",
        " \n",
        "\n"
      ]
    },
    {
      "cell_type": "markdown",
      "metadata": {
        "id": "gubvDdyUC6O_"
      },
      "source": [
        "In this notebook, you are to explore the effects of ridge regression.  We will use a dataset that is part of the sklearn.dataset package.  Learn more at https://scikit-learn.org/stable/modules/generated/sklearn.datasets.load_boston.html"
      ]
    },
    {
      "cell_type": "markdown",
      "metadata": {
        "id": "Xv5UuueDC6O_"
      },
      "source": [
        "## Step 1:  Getting, understanding, and preprocessing the dataset\n",
        "\n",
        "We first import the standard libaries and some libraries that will help us scale the data and perform some \"feature engineering\" by transforming the data into $\\Phi_2({\\bf x})$"
      ]
    },
    {
      "cell_type": "code",
      "metadata": {
        "id": "uZhRsNlSC6PA"
      },
      "source": [
        "import numpy as np\n",
        "import sklearn\n",
        "from sklearn.datasets import load_boston\n",
        "from sklearn.preprocessing import PolynomialFeatures\n",
        "from sklearn import preprocessing\n",
        "from sklearn.model_selection import train_test_split\n",
        "import sklearn.linear_model\n",
        "from sklearn.model_selection import KFold"
      ],
      "execution_count": 204,
      "outputs": []
    },
    {
      "cell_type": "markdown",
      "metadata": {
        "id": "wuve0dE-C6PE"
      },
      "source": [
        "###  Importing the dataset"
      ]
    },
    {
      "cell_type": "code",
      "metadata": {
        "id": "nN9b-Ol-C6PE"
      },
      "source": [
        "# Import the boston dataset from sklearn\n",
        "boston_data = load_boston()"
      ],
      "execution_count": 205,
      "outputs": []
    },
    {
      "cell_type": "code",
      "metadata": {
        "id": "fYLJ6141C6PG",
        "outputId": "d68cfbe9-6145-487f-cb69-36e94412bc98",
        "colab": {
          "base_uri": "https://localhost:8080/",
          "height": 183
        }
      },
      "source": [
        "#  Create X and Y variables - X holding the design matrix and Y holding target vector\n",
        "X_orig = boston_data.data \n",
        "y = boston_data.target\n",
        "\n",
        "# Proprocesing by adding a column of 1's to the front of X_orig to create X\n",
        "one_col = np.ones((X_orig.shape[0],1))\n",
        "X = np.hstack((one_col, X_orig))\n",
        "\n",
        "#  Reshape Y to be a rank 2 matrix \n",
        "y = y.reshape(X_orig.shape[0], 1)\n",
        "\n",
        "# Observe the number of features and the number of labels\n",
        "print('The number of features +1 (for the intercept) is: ', X.shape[1])\n",
        "# Printing out the features\n",
        "print('The features: ', boston_data.feature_names)\n",
        "# The number of examples\n",
        "print('The number of exampels in our dataset: ', X.shape[0])\n",
        "#Observing the first 2 rows of the data\n",
        "print(X[0:2])\n"
      ],
      "execution_count": 206,
      "outputs": [
        {
          "output_type": "stream",
          "text": [
            "The number of features +1 (for the intercept) is:  14\n",
            "The features:  ['CRIM' 'ZN' 'INDUS' 'CHAS' 'NOX' 'RM' 'AGE' 'DIS' 'RAD' 'TAX' 'PTRATIO'\n",
            " 'B' 'LSTAT']\n",
            "The number of exampels in our dataset:  506\n",
            "[[1.0000e+00 6.3200e-03 1.8000e+01 2.3100e+00 0.0000e+00 5.3800e-01\n",
            "  6.5750e+00 6.5200e+01 4.0900e+00 1.0000e+00 2.9600e+02 1.5300e+01\n",
            "  3.9690e+02 4.9800e+00]\n",
            " [1.0000e+00 2.7310e-02 0.0000e+00 7.0700e+00 0.0000e+00 4.6900e-01\n",
            "  6.4210e+00 7.8900e+01 4.9671e+00 2.0000e+00 2.4200e+02 1.7800e+01\n",
            "  3.9690e+02 9.1400e+00]]\n"
          ],
          "name": "stdout"
        }
      ]
    },
    {
      "cell_type": "markdown",
      "metadata": {
        "id": "Pt7eD3HjC6PJ"
      },
      "source": [
        "Since we will test linear and ridge regression on data with degree = 1 and data with degree = 2, we next create polynomial features of  degree 2 using the original dataset.  Feel free to increase the # of degress and see what effect it has on the training and test error. "
      ]
    },
    {
      "cell_type": "code",
      "metadata": {
        "id": "juuW6-NfC6PK"
      },
      "source": [
        "# Create a PolynomialFeatures object with degree = 2. \n",
        "# Transform X and save it into X_2. Simply copy Y into Y_2 \n",
        "# Note: PolynomialFeatures creates a column of ones as the first feature\n",
        "poly = PolynomialFeatures(degree=2,include_bias = True) \n",
        "X_2 = poly.fit_transform(X_orig)\n",
        "y_2 = y"
      ],
      "execution_count": 207,
      "outputs": []
    },
    {
      "cell_type": "code",
      "metadata": {
        "id": "-9e4tm88C6PM",
        "outputId": "066ee942-c94d-45e3-91ef-929c1264624e",
        "colab": {
          "base_uri": "https://localhost:8080/",
          "height": 66
        }
      },
      "source": [
        "# the shape of X_2 and Y_2 - should be (506, 105) and (506, 1) respectively\n",
        "print(X.shape)\n",
        "print(X_2.shape)\n",
        "print(y_2.shape)"
      ],
      "execution_count": 208,
      "outputs": [
        {
          "output_type": "stream",
          "text": [
            "(506, 14)\n",
            "(506, 105)\n",
            "(506, 1)\n"
          ],
          "name": "stdout"
        }
      ]
    },
    {
      "cell_type": "markdown",
      "metadata": {
        "id": "ZTKo4R3mC6PO"
      },
      "source": [
        "# Your code goes here"
      ]
    },
    {
      "cell_type": "code",
      "metadata": {
        "id": "7jKUMKzboQ9T"
      },
      "source": [
        "#linear regression\n",
        "def linear_reg(X_train,y_train,alpha):\n",
        "  psd_inverse = np.linalg.pinv(X_train)\n",
        "  wlin = np.dot(psd_inverse, y_train)\n",
        "  return wlin"
      ],
      "execution_count": 209,
      "outputs": []
    },
    {
      "cell_type": "code",
      "metadata": {
        "id": "7inppc3IC6PP"
      },
      "source": [
        "# TODO - Define the get_coeff_ridge_normaleq function. \n",
        "# Use the normal equation method.\n",
        "# TODO - Return w values\n",
        "\n",
        "def get_coeff_ridge_normaleq(X_train, y_train, alpha):\n",
        "    # use np.linalg.pinv(a)\n",
        "    #### TO-DO #####\n",
        "    Xt = np.transpose(X_train)\n",
        "    #print(Xt.shape)\n",
        "    #print(Xt.shape)\n",
        "    #print(X_train.shape)\n",
        "    XtX = np.dot(Xt,X_train)\n",
        "    #print(XtX.shape)\n",
        "    N = X_train.shape[0]\n",
        "    I = np.identity(X_train.shape[1])\n",
        "    \n",
        "    I.itemset((0,0),0)\n",
        "    #print(I)\n",
        "    #print(I.shape)\n",
        "    N_alpa_I = N*alpha*I\n",
        "    part1 = np.linalg.inv(XtX+N_alpa_I)\n",
        "    w = np.dot(np.dot(part1,Xt),y_train)\n",
        "    ##############\n",
        "    return w"
      ],
      "execution_count": 210,
      "outputs": []
    },
    {
      "cell_type": "code",
      "metadata": {
        "id": "Hs-NgFMqC6PS"
      },
      "source": [
        "# TODO - Define the evaluate_err_ridge function.\n",
        "# TODO - Return the train_error and test_error values\n",
        "\n",
        "def evaluate_err(X_train, X_test, y_train, y_test, w): \n",
        "    #### TO-DO #####\n",
        "    y_train_hat =  np.dot(X_train,w)\n",
        "    y_test_hat = np.dot(X_test,w)\n",
        "    n_train = X_train.shape[0]\n",
        "    n_test = X_test.shape[0]\n",
        "    temp_tr = np.power((y_train_hat-y_train),2)\n",
        "    temp_ts = np.power((y_test_hat-y_test),2)\n",
        "    MSE_tr = np.sum(temp_tr, axis=0)/n_train\n",
        "    MSE_ts = np.sum(temp_ts, axis=0)/n_test\n",
        "    ##############\n",
        "    return MSE_tr, MSE_ts"
      ],
      "execution_count": 211,
      "outputs": []
    },
    {
      "cell_type": "code",
      "metadata": {
        "id": "B8e2Y6qiC6PU"
      },
      "source": [
        "# TODO - Finish writting the k_fold_cross_validation function. \n",
        "# TODO - Returns the average training error and average test error from the k-fold cross validation\n",
        "# use Sklearns K-Folds cross-validator: https://scikit-learn.org/stable/modules/generated/sklearn.model_selection.KFold.html\n",
        "\n",
        "def k_fold_cross_validation(k, X, y, alpha,regression_model):\n",
        "    kf = KFold(n_splits=k, random_state=10, shuffle=True)\n",
        "    total_E_val_test = 0\n",
        "    total_E_val_train = 0\n",
        "    n = 0\n",
        "    for train_index, test_index in kf.split(X):\n",
        "        n=n+1\n",
        "        X_train, X_test = X[train_index], X[test_index]\n",
        "        y_train, y_test = y[train_index], y[test_index]\n",
        "        \n",
        "        # scaling the data matrix (except for for the first column of ones)\n",
        "        scaler = preprocessing.StandardScaler().fit(X_train[:,1:(X_train.shape[1]+1)])\n",
        "        X_train[:,1:(X_train.shape[1]+1)] = scaler.transform(X_train[:,1:(X_train.shape[1]+1)])\n",
        "        X_test[:,1:(X_train.shape[1]+1)] = scaler.transform(X_test[:,1:(X_train.shape[1]+1)])\n",
        "\n",
        "        \n",
        "        # determine the training error and the test error\n",
        "        #### TO-DO #####\n",
        "        print(n,\"folds\")\n",
        "        w = regression_model(X_train,y_train,alpha)\n",
        "        MSE_tr,MSE_ts = evaluate_err(X_train,X_test,y_train,y_test,w)\n",
        "        print(\"train MSE\",MSE_tr)\n",
        "        print(\"validation MSE\",MSE_ts)\n",
        "        total_E_val_test = total_E_val_test+MSE_ts\n",
        "        total_E_val_train = total_E_val_train +MSE_tr\n",
        "    E_val_test = total_E_val_test/k\n",
        "    E_val_train = total_E_val_train/k\n",
        "       ##############\n",
        "    return  E_val_test, E_val_train\n",
        "    \n"
      ],
      "execution_count": 212,
      "outputs": []
    },
    {
      "cell_type": "code",
      "metadata": {
        "id": "2y-Ab-WAC6PW",
        "outputId": "dfed9f6c-666c-41c6-804d-0e07ecdb904d",
        "colab": {
          "base_uri": "https://localhost:8080/",
          "height": 83
        }
      },
      "source": [
        "alpha = np.logspace(-5, 1, num=15)\n",
        "print(alpha)"
      ],
      "execution_count": 213,
      "outputs": [
        {
          "output_type": "stream",
          "text": [
            "[1.00000000e-05 2.68269580e-05 7.19685673e-05 1.93069773e-04\n",
            " 5.17947468e-04 1.38949549e-03 3.72759372e-03 1.00000000e-02\n",
            " 2.68269580e-02 7.19685673e-02 1.93069773e-01 5.17947468e-01\n",
            " 1.38949549e+00 3.72759372e+00 1.00000000e+01]\n"
          ],
          "name": "stdout"
        }
      ]
    },
    {
      "cell_type": "markdown",
      "metadata": {
        "id": "2jkSvAnOJzWu"
      },
      "source": [
        "linear regression with X and X_2"
      ]
    },
    {
      "cell_type": "code",
      "metadata": {
        "id": "hhlfhMaGB5nt",
        "outputId": "e5952dd1-d347-421e-b996-fe1369b2de48",
        "colab": {
          "base_uri": "https://localhost:8080/",
          "height": 400
        }
      },
      "source": [
        "#linear regression\n",
        "# x,y\n",
        "E_val_test,E_val_train = k_fold_cross_validation(3,X,y,0,linear_reg)\n",
        "print(\"avarage MSE of test\",E_val_train)\n",
        "print(\"avarage MSE of test\",E_val_test)\n",
        "# x_2,y_2\n",
        "print(\" creating a polynomial transformation\")\n",
        "E_val_test,E_val_train = k_fold_cross_validation(3,X_2,y_2,0,linear_reg)\n",
        "print(\"avarage MSE of train\",E_val_train)\n",
        "print(\"avarage MSE of test\",E_val_test)"
      ],
      "execution_count": 214,
      "outputs": [
        {
          "output_type": "stream",
          "text": [
            "1 folds\n",
            "train MSE [20.17653041]\n",
            "validation MSE [26.94958751]\n",
            "2 folds\n",
            "train MSE [22.33224469]\n",
            "validation MSE [22.7337]\n",
            "3 folds\n",
            "train MSE [21.96992282]\n",
            "validation MSE [22.32462086]\n",
            "avarage MSE of test [21.4928993]\n",
            "avarage MSE of test [24.00263612]\n",
            " creating a polynomial transformation\n",
            "1 folds\n",
            "train MSE [5.34590153]\n",
            "validation MSE [12.34962204]\n",
            "2 folds\n",
            "train MSE [5.93695452]\n",
            "validation MSE [11.87848315]\n",
            "3 folds\n",
            "train MSE [3.93532048]\n",
            "validation MSE [19.56397323]\n",
            "avarage MSE of train [5.07272551]\n",
            "avarage MSE of test [14.59735947]\n"
          ],
          "name": "stdout"
        }
      ]
    },
    {
      "cell_type": "markdown",
      "metadata": {
        "id": "bf2NwtWCKQtV"
      },
      "source": [
        "ridge regression with x and x_2"
      ]
    },
    {
      "cell_type": "code",
      "metadata": {
        "id": "SHkIpHPR-9Ic",
        "outputId": "560a0e57-7169-4521-be9d-00e105a534a6",
        "colab": {
          "base_uri": "https://localhost:8080/",
          "height": 1000
        }
      },
      "source": [
        "#ridge regression for x,y\n",
        "for a in alpha:\n",
        "  print(\"alpha=\",a)\n",
        "  E_val_test,E_val_train = k_fold_cross_validation(3,X,y,a,get_coeff_ridge_normaleq)\n",
        "  print(\"avarage MSE of train\",E_val_train)\n",
        "  print(\"avarage MSE of test\",E_val_test)"
      ],
      "execution_count": 215,
      "outputs": [
        {
          "output_type": "stream",
          "text": [
            "alpha= 1e-05\n",
            "1 folds\n",
            "train MSE [20.17653044]\n",
            "validation MSE [26.9494752]\n",
            "2 folds\n",
            "train MSE [22.33224472]\n",
            "validation MSE [22.73357472]\n",
            "3 folds\n",
            "train MSE [21.96992285]\n",
            "validation MSE [22.32449699]\n",
            "avarage MSE of train [21.49289933]\n",
            "avarage MSE of test [24.00251564]\n",
            "alpha= 2.6826957952797274e-05\n",
            "1 folds\n",
            "train MSE [20.17653061]\n",
            "validation MSE [26.94928636]\n",
            "2 folds\n",
            "train MSE [22.33224489]\n",
            "validation MSE [22.73336408]\n",
            "3 folds\n",
            "train MSE [21.96992305]\n",
            "validation MSE [22.32428881]\n",
            "avarage MSE of train [21.49289952]\n",
            "avarage MSE of test [24.00231308]\n",
            "alpha= 7.196856730011514e-05\n",
            "1 folds\n",
            "train MSE [20.17653189]\n",
            "validation MSE [26.94878067]\n",
            "2 folds\n",
            "train MSE [22.33224614]\n",
            "validation MSE [22.73279997]\n",
            "3 folds\n",
            "train MSE [21.96992444]\n",
            "validation MSE [22.32373195]\n",
            "avarage MSE of train [21.49290083]\n",
            "avarage MSE of test [24.00177086]\n",
            "alpha= 0.00019306977288832496\n",
            "1 folds\n",
            "train MSE [20.17654108]\n",
            "validation MSE [26.94743065]\n",
            "2 folds\n",
            "train MSE [22.33225512]\n",
            "validation MSE [22.73129366]\n",
            "3 folds\n",
            "train MSE [21.96993448]\n",
            "validation MSE [22.32224955]\n",
            "avarage MSE of train [21.49291023]\n",
            "avarage MSE of test [24.00032462]\n",
            "alpha= 0.0005179474679231213\n",
            "1 folds\n",
            "train MSE [20.17660667]\n",
            "validation MSE [26.94385589]\n",
            "2 folds\n",
            "train MSE [22.33231921]\n",
            "validation MSE [22.72730262]\n",
            "3 folds\n",
            "train MSE [21.97000604]\n",
            "validation MSE [22.31835452]\n",
            "avarage MSE of train [21.49297731]\n",
            "avarage MSE of test [23.99650434]\n",
            "alpha= 0.0013894954943731374\n",
            "1 folds\n",
            "train MSE [20.1770691]\n",
            "validation MSE [26.93459619]\n",
            "2 folds\n",
            "train MSE [22.33277006]\n",
            "validation MSE [22.71694508]\n",
            "3 folds\n",
            "train MSE [21.97050853]\n",
            "validation MSE [22.30847574]\n",
            "avarage MSE of train [21.49344923]\n",
            "avarage MSE of test [23.98667234]\n",
            "alpha= 0.003727593720314938\n",
            "1 folds\n",
            "train MSE [20.18022246]\n",
            "validation MSE [26.9119966]\n",
            "2 folds\n",
            "train MSE [22.33582887]\n",
            "validation MSE [22.69149092]\n",
            "3 folds\n",
            "train MSE [21.97390041]\n",
            "validation MSE [22.28575113]\n",
            "avarage MSE of train [21.49665058]\n",
            "avarage MSE of test [23.96307955]\n",
            "alpha= 0.01\n",
            "1 folds\n",
            "train MSE [20.2000483]\n",
            "validation MSE [26.86527439]\n",
            "2 folds\n",
            "train MSE [22.35484457]\n",
            "validation MSE [22.63711446]\n",
            "3 folds\n",
            "train MSE [21.99472009]\n",
            "validation MSE [22.24678686]\n",
            "avarage MSE of train [21.51653765]\n",
            "avarage MSE of test [23.9163919]\n",
            "alpha= 0.026826957952797246\n",
            "1 folds\n",
            "train MSE [20.30489029]\n",
            "validation MSE [26.81081211]\n",
            "2 folds\n",
            "train MSE [22.45357993]\n",
            "validation MSE [22.55644107]\n",
            "3 folds\n",
            "train MSE [22.09982066]\n",
            "validation MSE [22.23824731]\n",
            "avarage MSE of train [21.61943029]\n",
            "avarage MSE of test [23.86850016]\n",
            "alpha= 0.07196856730011514\n",
            "1 folds\n",
            "train MSE [20.72345742]\n",
            "validation MSE [26.9211329]\n",
            "2 folds\n",
            "train MSE [22.84369958]\n",
            "validation MSE [22.54704021]\n",
            "3 folds\n",
            "train MSE [22.49760674]\n",
            "validation MSE [22.46103406]\n",
            "avarage MSE of train [22.02158791]\n",
            "avarage MSE of test [23.97640239]\n",
            "alpha= 0.19306977288832497\n",
            "1 folds\n",
            "train MSE [21.96967034]\n",
            "validation MSE [27.82845446]\n",
            "2 folds\n",
            "train MSE [24.03934272]\n",
            "validation MSE [22.96950038]\n",
            "3 folds\n",
            "train MSE [23.68843553]\n",
            "validation MSE [23.37822297]\n",
            "avarage MSE of train [23.23248286]\n",
            "avarage MSE of test [24.7253926]\n",
            "alpha= 0.5179474679231213\n",
            "1 folds\n",
            "train MSE [25.08532695]\n",
            "validation MSE [31.23809919]\n",
            "2 folds\n",
            "train MSE [27.28232349]\n",
            "validation MSE [24.91451833]\n",
            "3 folds\n",
            "train MSE [26.90760795]\n",
            "validation MSE [26.12264275]\n",
            "avarage MSE of train [26.42508613]\n",
            "avarage MSE of test [27.42508676]\n",
            "alpha= 1.389495494373136\n",
            "1 folds\n",
            "train MSE [31.66860266]\n",
            "validation MSE [39.80310001]\n",
            "2 folds\n",
            "train MSE [34.82654591]\n",
            "validation MSE [30.63735468]\n",
            "3 folds\n",
            "train MSE [34.21880317]\n",
            "validation MSE [32.46994807]\n",
            "avarage MSE of train [33.57131725]\n",
            "avarage MSE of test [34.30346759]\n",
            "alpha= 3.727593720314938\n",
            "1 folds\n",
            "train MSE [42.14091329]\n",
            "validation MSE [53.64985198]\n",
            "2 folds\n",
            "train MSE [47.20290947]\n",
            "validation MSE [41.36562242]\n",
            "3 folds\n",
            "train MSE [46.23184325]\n",
            "validation MSE [42.5465427]\n",
            "avarage MSE of train [45.19188867]\n",
            "avarage MSE of test [45.8540057]\n",
            "alpha= 10.0\n",
            "1 folds\n",
            "train MSE [54.92761048]\n",
            "validation MSE [69.53144239]\n",
            "2 folds\n",
            "train MSE [61.62733639]\n",
            "validation MSE [55.11657452]\n",
            "3 folds\n",
            "train MSE [60.89028033]\n",
            "validation MSE [54.67456063]\n",
            "avarage MSE of train [59.14840907]\n",
            "avarage MSE of test [59.77419252]\n"
          ],
          "name": "stdout"
        }
      ]
    },
    {
      "cell_type": "code",
      "metadata": {
        "id": "4f2jFheOCkUF",
        "outputId": "3d1195a6-b2c9-4b02-d14f-a116dc208342",
        "colab": {
          "base_uri": "https://localhost:8080/",
          "height": 1000
        }
      },
      "source": [
        "#ridge regression for X_2,y_2\n",
        "E_test=[]\n",
        "E_train=[]\n",
        "for a in alpha:\n",
        "  print(\"alpha=\",a)\n",
        "  E_val_test,E_val_train = k_fold_cross_validation(3,X_2,y_2,a,get_coeff_ridge_normaleq)\n",
        "  print(\"avarage MSE of test\",E_val_train)\n",
        "  print(\"avarage MSE of test\",E_val_test)\n",
        "  E_test.append(E_val_test)\n",
        "  E_train.append(E_val_train)"
      ],
      "execution_count": 216,
      "outputs": [
        {
          "output_type": "stream",
          "text": [
            "alpha= 1e-05\n",
            "1 folds\n",
            "train MSE [5.39208602]\n",
            "validation MSE [12.24073343]\n",
            "2 folds\n",
            "train MSE [5.986366]\n",
            "validation MSE [11.44422058]\n",
            "3 folds\n",
            "train MSE [3.99797872]\n",
            "validation MSE [17.34791157]\n",
            "avarage MSE of test [5.12547691]\n",
            "avarage MSE of test [13.67762186]\n",
            "alpha= 2.6826957952797274e-05\n",
            "1 folds\n",
            "train MSE [5.46019444]\n",
            "validation MSE [12.15387609]\n",
            "2 folds\n",
            "train MSE [6.0475875]\n",
            "validation MSE [11.19066572]\n",
            "3 folds\n",
            "train MSE [4.06333095]\n",
            "validation MSE [16.56781799]\n",
            "avarage MSE of test [5.19037096]\n",
            "avarage MSE of test [13.30411993]\n",
            "alpha= 7.196856730011514e-05\n",
            "1 folds\n",
            "train MSE [5.60492139]\n",
            "validation MSE [12.09264754]\n",
            "2 folds\n",
            "train MSE [6.17604732]\n",
            "validation MSE [10.93600132]\n",
            "3 folds\n",
            "train MSE [4.18151193]\n",
            "validation MSE [16.09057591]\n",
            "avarage MSE of test [5.32082688]\n",
            "avarage MSE of test [13.03974159]\n",
            "alpha= 0.00019306977288832496\n",
            "1 folds\n",
            "train MSE [5.87002822]\n",
            "validation MSE [12.03862141]\n",
            "2 folds\n",
            "train MSE [6.40551953]\n",
            "validation MSE [10.74345732]\n",
            "3 folds\n",
            "train MSE [4.38654182]\n",
            "validation MSE [15.85383091]\n",
            "avarage MSE of test [5.55402986]\n",
            "avarage MSE of test [12.87863654]\n",
            "alpha= 0.0005179474679231213\n",
            "1 folds\n",
            "train MSE [6.30171474]\n",
            "validation MSE [11.83798123]\n",
            "2 folds\n",
            "train MSE [6.76750804]\n",
            "validation MSE [10.68095954]\n",
            "3 folds\n",
            "train MSE [4.71157302]\n",
            "validation MSE [15.75445392]\n",
            "avarage MSE of test [5.92693193]\n",
            "avarage MSE of test [12.75779823]\n",
            "alpha= 0.0013894954943731374\n",
            "1 folds\n",
            "train MSE [6.93958726]\n",
            "validation MSE [11.28710097]\n",
            "2 folds\n",
            "train MSE [7.29123209]\n",
            "validation MSE [10.68950158]\n",
            "3 folds\n",
            "train MSE [5.15870435]\n",
            "validation MSE [15.79185432]\n",
            "avarage MSE of test [6.46317457]\n",
            "avarage MSE of test [12.58948562]\n",
            "alpha= 0.003727593720314938\n",
            "1 folds\n",
            "train MSE [7.86914073]\n",
            "validation MSE [10.66892422]\n",
            "2 folds\n",
            "train MSE [8.06238967]\n",
            "validation MSE [10.67183354]\n",
            "3 folds\n",
            "train MSE [5.77644837]\n",
            "validation MSE [16.0106062]\n",
            "avarage MSE of test [7.23599292]\n",
            "avarage MSE of test [12.45045465]\n",
            "alpha= 0.01\n",
            "1 folds\n",
            "train MSE [9.16152366]\n",
            "validation MSE [10.80862973]\n",
            "2 folds\n",
            "train MSE [9.19300397]\n",
            "validation MSE [11.055446]\n",
            "3 folds\n",
            "train MSE [6.71466783]\n",
            "validation MSE [16.37935113]\n",
            "avarage MSE of test [8.35639849]\n",
            "avarage MSE of test [12.74780895]\n",
            "alpha= 0.026826957952797246\n",
            "1 folds\n",
            "train MSE [10.90934578]\n",
            "validation MSE [12.53876873]\n",
            "2 folds\n",
            "train MSE [10.81898146]\n",
            "validation MSE [12.43993532]\n",
            "3 folds\n",
            "train MSE [8.30791305]\n",
            "validation MSE [17.16725258]\n",
            "avarage MSE of test [10.0120801]\n",
            "avarage MSE of test [14.04865221]\n",
            "alpha= 0.07196856730011514\n",
            "1 folds\n",
            "train MSE [13.27110099]\n",
            "validation MSE [16.05381453]\n",
            "2 folds\n",
            "train MSE [13.14961154]\n",
            "validation MSE [14.92575729]\n",
            "3 folds\n",
            "train MSE [10.92893043]\n",
            "validation MSE [18.88667671]\n",
            "avarage MSE of test [12.44988098]\n",
            "avarage MSE of test [16.62208284]\n",
            "alpha= 0.19306977288832497\n",
            "1 folds\n",
            "train MSE [15.92306797]\n",
            "validation MSE [20.1843312]\n",
            "2 folds\n",
            "train MSE [15.93778182]\n",
            "validation MSE [17.58320802]\n",
            "3 folds\n",
            "train MSE [14.15987622]\n",
            "validation MSE [20.92377613]\n",
            "avarage MSE of test [15.340242]\n",
            "avarage MSE of test [19.56377178]\n",
            "alpha= 0.5179474679231213\n",
            "1 folds\n",
            "train MSE [18.4086415]\n",
            "validation MSE [23.84602267]\n",
            "2 folds\n",
            "train MSE [18.90035143]\n",
            "validation MSE [19.57440545]\n",
            "3 folds\n",
            "train MSE [17.41964833]\n",
            "validation MSE [22.42220401]\n",
            "avarage MSE of test [18.24288042]\n",
            "avarage MSE of test [21.94754404]\n",
            "alpha= 1.389495494373136\n",
            "1 folds\n",
            "train MSE [21.24851098]\n",
            "validation MSE [27.58929684]\n",
            "2 folds\n",
            "train MSE [22.59055702]\n",
            "validation MSE [21.56839855]\n",
            "3 folds\n",
            "train MSE [21.20274598]\n",
            "validation MSE [23.98010368]\n",
            "avarage MSE of test [21.68060466]\n",
            "avarage MSE of test [24.37926636]\n",
            "alpha= 3.727593720314938\n",
            "1 folds\n",
            "train MSE [26.18308839]\n",
            "validation MSE [33.87729368]\n",
            "2 folds\n",
            "train MSE [28.52877026]\n",
            "validation MSE [25.60319732]\n",
            "3 folds\n",
            "train MSE [27.20232144]\n",
            "validation MSE [27.60518383]\n",
            "avarage MSE of test [27.3047267]\n",
            "avarage MSE of test [29.02855827]\n",
            "alpha= 10.0\n",
            "1 folds\n",
            "train MSE [34.76530326]\n",
            "validation MSE [45.02298466]\n",
            "2 folds\n",
            "train MSE [38.5097124]\n",
            "validation MSE [33.73873818]\n",
            "3 folds\n",
            "train MSE [37.24706694]\n",
            "validation MSE [35.32380721]\n",
            "avarage MSE of test [36.8406942]\n",
            "avarage MSE of test [38.02851002]\n"
          ],
          "name": "stdout"
        }
      ]
    },
    {
      "cell_type": "code",
      "metadata": {
        "id": "IECM2J9wLEZm",
        "outputId": "427ddc00-70f9-466e-cca1-96761283fa06",
        "colab": {
          "base_uri": "https://localhost:8080/",
          "height": 605
        }
      },
      "source": [
        "import matplotlib.pyplot as plt\n",
        "plt.figure(figsize=(12,10))\n",
        "x = alpha\n",
        "plt.plot(x,E_test,'s-',color = 'r',label=\"E_test\")\n",
        "plt.plot(x,E_train,'s-',color = 'g',label=\"E_train\")\n",
        "plt.xlabel(\"alpha\")\n",
        "plt.ylabel(\"E_val\")\n",
        "plt.legend()\n",
        "plt.show()"
      ],
      "execution_count": 217,
      "outputs": [
        {
          "output_type": "display_data",
          "data": {
            "image/png": "[encoded data removed]",
            "text/plain": [
              "<Figure size 864x720 with 1 Axes>"
            ]
          },
          "metadata": {
            "tags": [],
            "needs_background": "light"
          }
        }
      ]
    },
    {
      "cell_type": "markdown",
      "metadata": {
        "id": "zr7Oh3CrJudb"
      },
      "source": [
        "###experiment"
      ]
    },
    {
      "cell_type": "code",
      "metadata": {
        "id": "9kbKNxmUfl3g",
        "outputId": "ad023a7f-0172-434f-dbf3-ded1d73415b1",
        "colab": {
          "base_uri": "https://localhost:8080/",
          "height": 200
        }
      },
      "source": [
        "poly = PolynomialFeatures(degree=3,include_bias = True) \n",
        "X_3 = poly.fit_transform(X_orig)\n",
        "y_3 = y\n",
        "E_val_test,E_val_train = k_fold_cross_validation(3,X_3,y_3,25,get_coeff_ridge_normaleq)\n",
        "print(\"avarage MSE of train\",E_val_train)\n",
        "print(\"avarage MSE of test\",E_val_test)"
      ],
      "execution_count": 218,
      "outputs": [
        {
          "output_type": "stream",
          "text": [
            "1 folds\n",
            "train MSE [30.81786627]\n",
            "validation MSE [40.22102252]\n",
            "2 folds\n",
            "train MSE [33.49343836]\n",
            "validation MSE [30.53616379]\n",
            "3 folds\n",
            "train MSE [32.01528506]\n",
            "validation MSE [32.20253892]\n",
            "avarage MSE of train [32.10886323]\n",
            "avarage MSE of test [34.31990841]\n"
          ],
          "name": "stdout"
        }
      ]
    },
    {
      "cell_type": "code",
      "metadata": {
        "id": "ZB_MwBkRJt-y",
        "outputId": "4d646008-5832-4523-e35d-bf0eaf5d2fdd",
        "colab": {
          "base_uri": "https://localhost:8080/",
          "height": 1000
        }
      },
      "source": [
        "for a in alpha:\n",
        "  print(\"alpha=\",a)\n",
        "  E_val_test,E_val_train = k_fold_cross_validation(3,X_3,y_3,a,get_coeff_ridge_normaleq)\n",
        "  print(\"avarage MSE of test\",E_val_train)\n",
        "  print(\"avarage MSE of test\",E_val_test)\n",
        "  E_test.append(E_val_test)\n",
        "  E_train.append(E_val_train)"
      ],
      "execution_count": 219,
      "outputs": [
        {
          "output_type": "stream",
          "text": [
            "alpha= 1e-05\n",
            "1 folds\n",
            "train MSE [0.71537819]\n",
            "validation MSE [99.97767571]\n",
            "2 folds\n",
            "train MSE [0.99067318]\n",
            "validation MSE [129.59584886]\n",
            "3 folds\n",
            "train MSE [0.7554781]\n",
            "validation MSE [56.19508925]\n",
            "avarage MSE of test [0.82050982]\n",
            "avarage MSE of test [95.25620461]\n",
            "alpha= 2.6826957952797274e-05\n",
            "1 folds\n",
            "train MSE [0.94928934]\n",
            "validation MSE [70.7000401]\n",
            "2 folds\n",
            "train MSE [1.35807964]\n",
            "validation MSE [64.11843252]\n",
            "3 folds\n",
            "train MSE [1.00077054]\n",
            "validation MSE [38.36143574]\n",
            "avarage MSE of test [1.10271317]\n",
            "avarage MSE of test [57.72663612]\n",
            "alpha= 7.196856730011514e-05\n",
            "1 folds\n",
            "train MSE [1.27172111]\n",
            "validation MSE [44.32856162]\n",
            "2 folds\n",
            "train MSE [1.83659379]\n",
            "validation MSE [35.82178173]\n",
            "3 folds\n",
            "train MSE [1.29133685]\n",
            "validation MSE [29.13196056]\n",
            "avarage MSE of test [1.46655058]\n",
            "avarage MSE of test [36.42743464]\n",
            "alpha= 0.00019306977288832496\n",
            "1 folds\n",
            "train MSE [1.70391688]\n",
            "validation MSE [26.9737708]\n",
            "2 folds\n",
            "train MSE [2.38964599]\n",
            "validation MSE [21.58799017]\n",
            "3 folds\n",
            "train MSE [1.62749772]\n",
            "validation MSE [23.87529103]\n",
            "avarage MSE of test [1.9070202]\n",
            "avarage MSE of test [24.145684]\n",
            "alpha= 0.0005179474679231213\n",
            "1 folds\n",
            "train MSE [2.22581225]\n",
            "validation MSE [19.27743669]\n",
            "2 folds\n",
            "train MSE [3.01818725]\n",
            "validation MSE [13.53236781]\n",
            "3 folds\n",
            "train MSE [2.00052729]\n",
            "validation MSE [20.24150005]\n",
            "avarage MSE of test [2.41484226]\n",
            "avarage MSE of test [17.68376818]\n",
            "alpha= 0.0013894954943731374\n",
            "1 folds\n",
            "train MSE [2.83055566]\n",
            "validation MSE [15.85099418]\n",
            "2 folds\n",
            "train MSE [3.78395697]\n",
            "validation MSE [9.49963328]\n",
            "3 folds\n",
            "train MSE [2.45257411]\n",
            "validation MSE [17.26664942]\n",
            "avarage MSE of test [3.02236225]\n",
            "avarage MSE of test [14.20575896]\n",
            "alpha= 0.003727593720314938\n",
            "1 folds\n",
            "train MSE [3.61123428]\n",
            "validation MSE [13.57165493]\n",
            "2 folds\n",
            "train MSE [4.72232687]\n",
            "validation MSE [8.34813323]\n",
            "3 folds\n",
            "train MSE [3.10120597]\n",
            "validation MSE [15.55562404]\n",
            "avarage MSE of test [3.81158904]\n",
            "avarage MSE of test [12.49180407]\n",
            "alpha= 0.01\n",
            "1 folds\n",
            "train MSE [4.69245608]\n",
            "validation MSE [11.75462848]\n",
            "2 folds\n",
            "train MSE [5.78604089]\n",
            "validation MSE [8.89918693]\n",
            "3 folds\n",
            "train MSE [3.98781291]\n",
            "validation MSE [15.55488793]\n",
            "avarage MSE of test [4.82210329]\n",
            "avarage MSE of test [12.06956778]\n",
            "alpha= 0.026826957952797246\n",
            "1 folds\n",
            "train MSE [6.13187091]\n",
            "validation MSE [10.55890158]\n",
            "2 folds\n",
            "train MSE [6.95927557]\n",
            "validation MSE [9.87846472]\n",
            "3 folds\n",
            "train MSE [5.00761487]\n",
            "validation MSE [16.34118164]\n",
            "avarage MSE of test [6.03292045]\n",
            "avarage MSE of test [12.25951598]\n",
            "alpha= 0.07196856730011514\n",
            "1 folds\n",
            "train MSE [7.95990706]\n",
            "validation MSE [10.41232615]\n",
            "2 folds\n",
            "train MSE [8.34619154]\n",
            "validation MSE [10.90228864]\n",
            "3 folds\n",
            "train MSE [6.19234186]\n",
            "validation MSE [16.92246802]\n",
            "avarage MSE of test [7.49948016]\n",
            "avarage MSE of test [12.74569427]\n",
            "alpha= 0.19306977288832497\n",
            "1 folds\n",
            "train MSE [10.20810947]\n",
            "validation MSE [11.87064023]\n",
            "2 folds\n",
            "train MSE [10.1373655]\n",
            "validation MSE [12.43907726]\n",
            "3 folds\n",
            "train MSE [7.85718361]\n",
            "validation MSE [17.42153594]\n",
            "avarage MSE of test [9.40088619]\n",
            "avarage MSE of test [13.91041781]\n",
            "alpha= 0.5179474679231213\n",
            "1 folds\n",
            "train MSE [12.98309467]\n",
            "validation MSE [15.37663232]\n",
            "2 folds\n",
            "train MSE [12.6348088]\n",
            "validation MSE [14.85764658]\n",
            "3 folds\n",
            "train MSE [10.51486999]\n",
            "validation MSE [18.87375566]\n",
            "avarage MSE of test [12.04425782]\n",
            "avarage MSE of test [16.36934485]\n",
            "alpha= 1.389495494373136\n",
            "1 folds\n",
            "train MSE [16.22770505]\n",
            "validation MSE [20.36538569]\n",
            "2 folds\n",
            "train MSE [15.9982693]\n",
            "validation MSE [17.80044735]\n",
            "3 folds\n",
            "train MSE [14.17960984]\n",
            "validation MSE [21.44456273]\n",
            "avarage MSE of test [15.46852806]\n",
            "avarage MSE of test [19.87013193]\n",
            "alpha= 3.727593720314938\n",
            "1 folds\n",
            "train MSE [19.76988897]\n",
            "validation MSE [25.79038711]\n",
            "2 folds\n",
            "train MSE [20.25489671]\n",
            "validation MSE [20.87658046]\n",
            "3 folds\n",
            "train MSE [18.5393897]\n",
            "validation MSE [24.12379164]\n",
            "avarage MSE of test [19.52139179]\n",
            "avarage MSE of test [23.59691974]\n",
            "alpha= 10.0\n",
            "1 folds\n",
            "train MSE [24.31735169]\n",
            "validation MSE [31.98910798]\n",
            "2 folds\n",
            "train MSE [25.8891584]\n",
            "validation MSE [24.75718802]\n",
            "3 folds\n",
            "train MSE [24.23747243]\n",
            "validation MSE [27.20897582]\n",
            "avarage MSE of test [24.81466084]\n",
            "avarage MSE of test [27.98509061]\n"
          ],
          "name": "stdout"
        }
      ]
    },
    {
      "cell_type": "markdown",
      "metadata": {
        "id": "IyzLp0qbKlaq"
      },
      "source": [
        "predict the average price of a house"
      ]
    },
    {
      "cell_type": "code",
      "metadata": {
        "id": "0l2SgX7ZGtFd",
        "outputId": "fbbb3dbc-f28b-4e1e-da74-4ce6b340e99b",
        "colab": {
          "base_uri": "https://localhost:8080/",
          "height": 33
        }
      },
      "source": [
        "predict_X=[ 0.1, 11, 7, 0, 0.4, 6, 70, 4, 6, 300, 16, 360, 10]\n",
        "predict_X = np.asarray(predict_X)\n",
        "predict_X = predict_X.reshape(1,13)\n",
        "\n",
        "poly = PolynomialFeatures(degree=2,include_bias = True) \n",
        "predict_X_2 = poly.fit_transform(predict_X)\n",
        "#print(predict_X_2)\n",
        "\n",
        "scaler = preprocessing.StandardScaler().fit(X_2[:,1:(X_2.shape[1]+1)])\n",
        "X_2[:,1:(X_2.shape[1]+1)] =  scaler.transform(X_2[:,1:(X_2.shape[1]+1)])\n",
        "predict_X_2[:,1:(X_2.shape[1]+1)] =  scaler.transform(predict_X_2[:,1:(X_2.shape[1]+1)])\n",
        "\n",
        "w_2 = get_coeff_ridge_normaleq(X_2,y_2,0.01)\n",
        "predict_y = np.dot(predict_X_2,w_2)\n",
        "print(predict_y)\n"
      ],
      "execution_count": 220,
      "outputs": [
        {
          "output_type": "stream",
          "text": [
            "[[24.67886008]]\n"
          ],
          "name": "stdout"
        }
      ]
    }
  ]
}
