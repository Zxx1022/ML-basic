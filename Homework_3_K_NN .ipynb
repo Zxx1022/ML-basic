{
  "nbformat": 4,
  "nbformat_minor": 0,
  "metadata": {
    "kernelspec": {
      "display_name": "Python 3",
      "language": "python",
      "name": "python3"
    },
    "language_info": {
      "codemirror_mode": {
        "name": "ipython",
        "version": 3
      },
      "file_extension": ".py",
      "mimetype": "text/x-python",
      "name": "python",
      "nbconvert_exporter": "python",
      "pygments_lexer": "ipython3",
      "version": "3.7.2"
    },
    "colab": {
      "name": "Homework 3 K-NN.ipynb",
      "provenance": [],
      "collapsed_sections": []
    }
  },
  "cells": [
    {
      "cell_type": "markdown",
      "metadata": {
        "id": "fRFOM-dK1_x4"
      },
      "source": [
        "# Using the K-NN algorithm for classification of iris\n",
        "\n",
        "In this assigment, you will classify if an Iris is 'Iris Setosa' or 'Iris Versicolour' or 'Iris Virginica' using the k nearest neighbor algorithm.\n",
        "\n",
        "The training data is from the UCI Machine Learning Repository: https://archive.ics.uci.edu/ml/datasets/iris.  Please download the dataset before running the code below. "
      ]
    },
    {
      "cell_type": "markdown",
      "metadata": {
        "id": "sXS1WVF91_x5"
      },
      "source": [
        "## Step 1:  Getting, understanding, and cleaning the dataset\n"
      ]
    },
    {
      "cell_type": "markdown",
      "metadata": {
        "id": "0kdog6p71_x6"
      },
      "source": [
        "###  Importing the dataset\n"
      ]
    },
    {
      "cell_type": "code",
      "metadata": {
        "id": "nwHh_Xsy1_x6",
        "outputId": "3275531f-bec2-4795-9ccf-f82db86fc8ae",
        "colab": {
          "base_uri": "https://localhost:8080/",
          "height": 197
        }
      },
      "source": [
        "# Import the usual libraries\n",
        "import matplotlib.pyplot as plt # plotting utilities \n",
        "%matplotlib inline\n",
        "import numpy as np \n",
        "import pandas as pd  # To read in the dataset we will use the Panda's library\n",
        "df = pd.read_csv('/content/sample_data/iris.data', header=None, names = [\"sepal length[cm]\",\"sepal width[cm]\",\"petal length[cm]\", \"petal width[cm]\", \"label\"])\n",
        "\n",
        "# Next we observe the first 5 rows of the data to ensure everything was read correctly\n",
        "df.head()"
      ],
      "execution_count": 302,
      "outputs": [
        {
          "output_type": "execute_result",
          "data": {
            "text/html": [
              "<div>\n",
              "<style scoped>\n",
              "    .dataframe tbody tr th:only-of-type {\n",
              "        vertical-align: middle;\n",
              "    }\n",
              "\n",
              "    .dataframe tbody tr th {\n",
              "        vertical-align: top;\n",
              "    }\n",
              "\n",
              "    .dataframe thead th {\n",
              "        text-align: right;\n",
              "    }\n",
              "</style>\n",
              "<table border=\"1\" class=\"dataframe\">\n",
              "  <thead>\n",
              "    <tr style=\"text-align: right;\">\n",
              "      <th></th>\n",
              "      <th>sepal length[cm]</th>\n",
              "      <th>sepal width[cm]</th>\n",
              "      <th>petal length[cm]</th>\n",
              "      <th>petal width[cm]</th>\n",
              "      <th>label</th>\n",
              "    </tr>\n",
              "  </thead>\n",
              "  <tbody>\n",
              "    <tr>\n",
              "      <th>0</th>\n",
              "      <td>5.1</td>\n",
              "      <td>3.5</td>\n",
              "      <td>1.4</td>\n",
              "      <td>0.2</td>\n",
              "      <td>Iris-setosa</td>\n",
              "    </tr>\n",
              "    <tr>\n",
              "      <th>1</th>\n",
              "      <td>4.9</td>\n",
              "      <td>3.0</td>\n",
              "      <td>1.4</td>\n",
              "      <td>0.2</td>\n",
              "      <td>Iris-setosa</td>\n",
              "    </tr>\n",
              "    <tr>\n",
              "      <th>2</th>\n",
              "      <td>4.7</td>\n",
              "      <td>3.2</td>\n",
              "      <td>1.3</td>\n",
              "      <td>0.2</td>\n",
              "      <td>Iris-setosa</td>\n",
              "    </tr>\n",
              "    <tr>\n",
              "      <th>3</th>\n",
              "      <td>4.6</td>\n",
              "      <td>3.1</td>\n",
              "      <td>1.5</td>\n",
              "      <td>0.2</td>\n",
              "      <td>Iris-setosa</td>\n",
              "    </tr>\n",
              "    <tr>\n",
              "      <th>4</th>\n",
              "      <td>5.0</td>\n",
              "      <td>3.6</td>\n",
              "      <td>1.4</td>\n",
              "      <td>0.2</td>\n",
              "      <td>Iris-setosa</td>\n",
              "    </tr>\n",
              "  </tbody>\n",
              "</table>\n",
              "</div>"
            ],
            "text/plain": [
              "   sepal length[cm]  sepal width[cm]  ...  petal width[cm]        label\n",
              "0               5.1              3.5  ...              0.2  Iris-setosa\n",
              "1               4.9              3.0  ...              0.2  Iris-setosa\n",
              "2               4.7              3.2  ...              0.2  Iris-setosa\n",
              "3               4.6              3.1  ...              0.2  Iris-setosa\n",
              "4               5.0              3.6  ...              0.2  Iris-setosa\n",
              "\n",
              "[5 rows x 5 columns]"
            ]
          },
          "metadata": {
            "tags": []
          },
          "execution_count": 302
        }
      ]
    },
    {
      "cell_type": "markdown",
      "metadata": {
        "id": "YJhNHNC71_x9"
      },
      "source": [
        "### Data preprocesssing\n",
        "It would be more convenient if the labels were integers instead of 'Iris-setosa', 'Iris-versicolor' and 'Iris-virginica'.  This way our code can always work with numerical values instead of strings."
      ]
    },
    {
      "cell_type": "code",
      "metadata": {
        "id": "kbDPoLsh1_x9",
        "outputId": "dda74c2a-b15c-44d4-bb9d-935427d50e80",
        "colab": {
          "base_uri": "https://localhost:8080/",
          "height": 197
        }
      },
      "source": [
        "df['label'] = df.label.map({'Iris-setosa': 0,\n",
        "              'Iris-versicolor': 1,\n",
        "              'Iris-virginica': 2})\n",
        "df.head()# Again, lets observe the first 5 rows to make sure everything worked before we continue"
      ],
      "execution_count": 303,
      "outputs": [
        {
          "output_type": "execute_result",
          "data": {
            "text/html": [
              "<div>\n",
              "<style scoped>\n",
              "    .dataframe tbody tr th:only-of-type {\n",
              "        vertical-align: middle;\n",
              "    }\n",
              "\n",
              "    .dataframe tbody tr th {\n",
              "        vertical-align: top;\n",
              "    }\n",
              "\n",
              "    .dataframe thead th {\n",
              "        text-align: right;\n",
              "    }\n",
              "</style>\n",
              "<table border=\"1\" class=\"dataframe\">\n",
              "  <thead>\n",
              "    <tr style=\"text-align: right;\">\n",
              "      <th></th>\n",
              "      <th>sepal length[cm]</th>\n",
              "      <th>sepal width[cm]</th>\n",
              "      <th>petal length[cm]</th>\n",
              "      <th>petal width[cm]</th>\n",
              "      <th>label</th>\n",
              "    </tr>\n",
              "  </thead>\n",
              "  <tbody>\n",
              "    <tr>\n",
              "      <th>0</th>\n",
              "      <td>5.1</td>\n",
              "      <td>3.5</td>\n",
              "      <td>1.4</td>\n",
              "      <td>0.2</td>\n",
              "      <td>0</td>\n",
              "    </tr>\n",
              "    <tr>\n",
              "      <th>1</th>\n",
              "      <td>4.9</td>\n",
              "      <td>3.0</td>\n",
              "      <td>1.4</td>\n",
              "      <td>0.2</td>\n",
              "      <td>0</td>\n",
              "    </tr>\n",
              "    <tr>\n",
              "      <th>2</th>\n",
              "      <td>4.7</td>\n",
              "      <td>3.2</td>\n",
              "      <td>1.3</td>\n",
              "      <td>0.2</td>\n",
              "      <td>0</td>\n",
              "    </tr>\n",
              "    <tr>\n",
              "      <th>3</th>\n",
              "      <td>4.6</td>\n",
              "      <td>3.1</td>\n",
              "      <td>1.5</td>\n",
              "      <td>0.2</td>\n",
              "      <td>0</td>\n",
              "    </tr>\n",
              "    <tr>\n",
              "      <th>4</th>\n",
              "      <td>5.0</td>\n",
              "      <td>3.6</td>\n",
              "      <td>1.4</td>\n",
              "      <td>0.2</td>\n",
              "      <td>0</td>\n",
              "    </tr>\n",
              "  </tbody>\n",
              "</table>\n",
              "</div>"
            ],
            "text/plain": [
              "   sepal length[cm]  sepal width[cm]  petal length[cm]  petal width[cm]  label\n",
              "0               5.1              3.5               1.4              0.2      0\n",
              "1               4.9              3.0               1.4              0.2      0\n",
              "2               4.7              3.2               1.3              0.2      0\n",
              "3               4.6              3.1               1.5              0.2      0\n",
              "4               5.0              3.6               1.4              0.2      0"
            ]
          },
          "metadata": {
            "tags": []
          },
          "execution_count": 303
        }
      ]
    },
    {
      "cell_type": "code",
      "metadata": {
        "id": "-K96mbwY1_yA",
        "outputId": "a1c14a4c-d631-40b0-9be6-61d525ebe4e5",
        "colab": {
          "base_uri": "https://localhost:8080/",
          "height": 166
        }
      },
      "source": [
        "# This time we will use sklearn's method for seperating the data\n",
        "from sklearn.model_selection import train_test_split\n",
        "names = [\"sepal length[cm]\",\"petal width[cm]\"]\n",
        "#After completing the assignment, try your code with all the features\n",
        "#names = [\"sepal length[cm]\",\"sepal width[cm]\",\"petal length[cm]\", \"petal width\"]\n",
        "df_X_train, df_X_test, df_y_train, df_y_test = train_test_split(df[names],df['label'], random_state=0)\n",
        "\n",
        "X_train=df_X_train.to_numpy()\n",
        "X_test=df_X_test.to_numpy()\n",
        "y_train=df_y_train.to_numpy()\n",
        "y_test=df_y_test.to_numpy()\n",
        "\n",
        "#Looking at the train/test split\n",
        "print(\"The number of training examples: \", X_train.shape[0])\n",
        "print(\"The number of test exampels: \", X_test.shape[0])\n",
        "\n",
        "print(\"The first four training labels\")\n",
        "print(y_train[0:4])\n",
        "\n",
        "print(\"The first four iris' measurements\")\n",
        "print(X_test[0:4])"
      ],
      "execution_count": 304,
      "outputs": [
        {
          "output_type": "stream",
          "text": [
            "The number of training examples:  112\n",
            "The number of test exampels:  38\n",
            "The first four training labels\n",
            "[1 1 2 0]\n",
            "The first four iris' measurements\n",
            "[[5.8 2.4]\n",
            " [6.  1. ]\n",
            " [5.5 0.2]\n",
            " [7.3 1.8]]\n"
          ],
          "name": "stdout"
        }
      ]
    },
    {
      "cell_type": "markdown",
      "metadata": {
        "id": "QmsV9-6I1_yC"
      },
      "source": [
        "## visualizing the data set\n",
        "\n",
        "We will look plot the points using only two of the features"
      ]
    },
    {
      "cell_type": "code",
      "metadata": {
        "id": "jCa1j-Iq1_yC",
        "outputId": "35d425eb-06dc-4e3f-8be0-60318b2114ec",
        "colab": {
          "base_uri": "https://localhost:8080/",
          "height": 278
        }
      },
      "source": [
        "plt.scatter(X_train[y_train == 0, 0],\n",
        "            X_train[y_train == 0, 1],\n",
        "            marker='o',\n",
        "            label='class 0 (Setosa)')\n",
        "\n",
        "plt.scatter(X_train[y_train == 1, 0],\n",
        "            X_train[y_train == 1, 1],\n",
        "            marker='^',\n",
        "            label='class 1 (Versicolor)')\n",
        "\n",
        "plt.scatter(X_train[y_train == 2, 0],\n",
        "            X_train[y_train == 2, 1],\n",
        "            marker='s',\n",
        "            label='class 2 (Virginica)')\n",
        "\n",
        "plt.xlabel('sepal width[cm]')\n",
        "plt.ylabel('petal length[cm]')\n",
        "plt.legend(loc='lower right')\n",
        "\n",
        "plt.show()"
      ],
      "execution_count": 305,
      "outputs": [
        {
          "output_type": "display_data",
          "data": {
            "image/png": "[encoded data removed]",
            "text/plain": [
              "<Figure size 432x288 with 1 Axes>"
            ]
          },
          "metadata": {
            "tags": [],
            "needs_background": "light"
          }
        }
      ]
    },
    {
      "cell_type": "markdown",
      "metadata": {
        "id": "ryVK-Mxj1_yF"
      },
      "source": [
        "# Your code goes here"
      ]
    },
    {
      "cell_type": "code",
      "metadata": {
        "id": "r3R9DhfuG9CP",
        "outputId": "83039df6-2381-42cf-af04-8e3dd67c4d60",
        "colab": {
          "base_uri": "https://localhost:8080/",
          "height": 33
        }
      },
      "source": [
        "print(X_train.shape)"
      ],
      "execution_count": 306,
      "outputs": [
        {
          "output_type": "stream",
          "text": [
            "(112, 2)\n"
          ],
          "name": "stdout"
        }
      ]
    },
    {
      "cell_type": "code",
      "metadata": {
        "id": "lh_DK5ZOfF0F"
      },
      "source": [
        "from math import sqrt"
      ],
      "execution_count": 307,
      "outputs": []
    },
    {
      "cell_type": "code",
      "metadata": {
        "id": "nzx2-At01_yF"
      },
      "source": [
        "\n",
        "def euclidean_distance(train, test_sample):\n",
        "  #### TO-DO #####      \n",
        "    distances = [sqrt(np.sum((x - test_sample)**2)) for x in train]\n",
        "    distances = np.asarray(distances)\n",
        "    #print(\"distacnes\",distances)\n",
        "    return  distances\n",
        "  ##############"
      ],
      "execution_count": 308,
      "outputs": []
    },
    {
      "cell_type": "code",
      "metadata": {
        "id": "wfsjLt9Cen0r"
      },
      "source": [
        "def  manhattan_distance(train, test_sample):\n",
        "  distances = [np.sum(abs(x-test_sample)) for x in train]\n",
        "  distances = np.asarray(distances)\n",
        "  return distances"
      ],
      "execution_count": 309,
      "outputs": []
    },
    {
      "cell_type": "code",
      "metadata": {
        "id": "hZO41WWP1_yH"
      },
      "source": [
        "def get_neighbors( xtrain, ytrain, xtest, k, dist_func):\n",
        "  #### TO-DO #####  \n",
        "  neighbors = np.zeros((1,k),int)\n",
        "  for i in range(xtest.shape[0]):\n",
        "      distances = dist_func(xtrain,xtest[i])\n",
        "      index_sort = np.argsort(distances)\n",
        "      knn_index = index_sort[0:k]\n",
        "      #print(knn_index)\n",
        "      neighborClass = [ytrain[i] for i in knn_index]\n",
        "      #print(neighborClass)\n",
        "      neighbors = np.vstack((neighbors, neighborClass))\n",
        "  neighbors = np.delete(neighbors,0,0)\n",
        "  ##############\n",
        "  return neighbors"
      ],
      "execution_count": 310,
      "outputs": []
    },
    {
      "cell_type": "code",
      "metadata": {
        "id": "Xz6GIeIgTNoQ"
      },
      "source": [
        "from collections import Counter"
      ],
      "execution_count": 311,
      "outputs": []
    },
    {
      "cell_type": "code",
      "metadata": {
        "id": "rIRMTxmlS-oU"
      },
      "source": [
        "def predict(Xtest, neighbors):\n",
        "  result=[]\n",
        "  for i in range(Xtest.shape[0]):\n",
        "    count_neighbortype = Counter(neighbors[i])\n",
        "    predict_i = count_neighbortype.most_common(1)[0][0]\n",
        "    result.append(predict_i)\n",
        "  pre_result = np.asarray(result)\n",
        "  return pre_result"
      ],
      "execution_count": 312,
      "outputs": []
    },
    {
      "cell_type": "code",
      "metadata": {
        "id": "tqOdepveVDh7"
      },
      "source": [
        "def check_result(ypredict,ytest):\n",
        "  correct=0\n",
        "  incorrect=0\n",
        "  incorrect_list=[]\n",
        "  for i in range(ytest.shape[0]):\n",
        "    if ypredict[i]!=ytest[i]:\n",
        "      incorrect=incorrect+1\n",
        "      incorrect_list.append(i)\n",
        "    else:\n",
        "      correct=correct+1\n",
        "  #incorrect_list = np.asarray(incorrect_list)\n",
        "  accuracy=correct/(incorrect+correct)\n",
        "  return incorrect_list,accuracy"
      ],
      "execution_count": 313,
      "outputs": []
    },
    {
      "cell_type": "code",
      "metadata": {
        "id": "PE1u2f3ElQj5"
      },
      "source": [
        "label=['Iris-setosa',\n",
        "              'Iris-versicolor',\n",
        "              'Iris-virginica']"
      ],
      "execution_count": 314,
      "outputs": []
    },
    {
      "cell_type": "code",
      "metadata": {
        "id": "vY_763gMXZ89",
        "outputId": "a7fd4aae-30b9-4944-ebae-bcdd8f0a790b",
        "colab": {
          "base_uri": "https://localhost:8080/",
          "height": 236
        }
      },
      "source": [
        "#eulidean ditance k=1,3,5\n",
        "for k in [1,3,5]:\n",
        "    all_neighbors = get_neighbors(X_train,y_train,X_test,k,euclidean_distance)\n",
        "    pre_result = predict(X_test,all_neighbors)\n",
        "    incorrect_list,acc = check_result(pre_result,y_test)\n",
        "    output = [label[i] for i in pre_result]\n",
        "    print(\"k=\",k)\n",
        "    print(\"index of examples are not correctly classified:\",incorrect_list)\n",
        "    print(\"accuracy:\",acc)\n",
        "    print(output)\n"
      ],
      "execution_count": 315,
      "outputs": [
        {
          "output_type": "stream",
          "text": [
            "k= 1\n",
            "index of examples are not correctly classified: [10, 16]\n",
            "accuracy: 0.9473684210526315\n",
            "['Iris-virginica', 'Iris-versicolor', 'Iris-setosa', 'Iris-virginica', 'Iris-setosa', 'Iris-virginica', 'Iris-setosa', 'Iris-versicolor', 'Iris-versicolor', 'Iris-versicolor', 'Iris-versicolor', 'Iris-versicolor', 'Iris-versicolor', 'Iris-versicolor', 'Iris-versicolor', 'Iris-setosa', 'Iris-virginica', 'Iris-versicolor', 'Iris-setosa', 'Iris-setosa', 'Iris-virginica', 'Iris-versicolor', 'Iris-setosa', 'Iris-setosa', 'Iris-virginica', 'Iris-setosa', 'Iris-setosa', 'Iris-versicolor', 'Iris-versicolor', 'Iris-setosa', 'Iris-virginica', 'Iris-versicolor', 'Iris-setosa', 'Iris-virginica', 'Iris-virginica', 'Iris-versicolor', 'Iris-setosa', 'Iris-versicolor']\n",
            "k= 3\n",
            "index of examples are not correctly classified: [10]\n",
            "accuracy: 0.9736842105263158\n",
            "['Iris-virginica', 'Iris-versicolor', 'Iris-setosa', 'Iris-virginica', 'Iris-setosa', 'Iris-virginica', 'Iris-setosa', 'Iris-versicolor', 'Iris-versicolor', 'Iris-versicolor', 'Iris-versicolor', 'Iris-versicolor', 'Iris-versicolor', 'Iris-versicolor', 'Iris-versicolor', 'Iris-setosa', 'Iris-versicolor', 'Iris-versicolor', 'Iris-setosa', 'Iris-setosa', 'Iris-virginica', 'Iris-versicolor', 'Iris-setosa', 'Iris-setosa', 'Iris-virginica', 'Iris-setosa', 'Iris-setosa', 'Iris-versicolor', 'Iris-versicolor', 'Iris-setosa', 'Iris-virginica', 'Iris-versicolor', 'Iris-setosa', 'Iris-virginica', 'Iris-virginica', 'Iris-versicolor', 'Iris-setosa', 'Iris-versicolor']\n",
            "k= 5\n",
            "index of examples are not correctly classified: [10]\n",
            "accuracy: 0.9736842105263158\n",
            "['Iris-virginica', 'Iris-versicolor', 'Iris-setosa', 'Iris-virginica', 'Iris-setosa', 'Iris-virginica', 'Iris-setosa', 'Iris-versicolor', 'Iris-versicolor', 'Iris-versicolor', 'Iris-versicolor', 'Iris-versicolor', 'Iris-versicolor', 'Iris-versicolor', 'Iris-versicolor', 'Iris-setosa', 'Iris-versicolor', 'Iris-versicolor', 'Iris-setosa', 'Iris-setosa', 'Iris-virginica', 'Iris-versicolor', 'Iris-setosa', 'Iris-setosa', 'Iris-virginica', 'Iris-setosa', 'Iris-setosa', 'Iris-versicolor', 'Iris-versicolor', 'Iris-setosa', 'Iris-virginica', 'Iris-versicolor', 'Iris-setosa', 'Iris-virginica', 'Iris-virginica', 'Iris-versicolor', 'Iris-setosa', 'Iris-versicolor']\n"
          ],
          "name": "stdout"
        }
      ]
    },
    {
      "cell_type": "code",
      "metadata": {
        "id": "Ldw1gdz_Y77r",
        "outputId": "f7f0f129-c314-4c7b-8772-66e7732aab71",
        "colab": {
          "base_uri": "https://localhost:8080/",
          "height": 33
        }
      },
      "source": [
        "#zero_R\n",
        "vote = Counter(y_test)\n",
        "num = y_test.shape[0]\n",
        "majority = vote.most_common(1)[0][1]\n",
        "zero_R_acc = majority/num\n",
        "print(\"accuracy of zero_R:\",zero_R_acc)"
      ],
      "execution_count": 316,
      "outputs": [
        {
          "output_type": "stream",
          "text": [
            "accuracy of zero_R: 0.42105263157894735\n"
          ],
          "name": "stdout"
        }
      ]
    },
    {
      "cell_type": "code",
      "metadata": {
        "id": "koPCAUOaXKE-",
        "outputId": "82328208-b2c8-46c2-e02f-9a24e49c14ed",
        "colab": {
          "base_uri": "https://localhost:8080/",
          "height": 236
        }
      },
      "source": [
        "#mahattan distance k=1,3,5\n",
        "for k in [1,3,5]:\n",
        "    all_neighbors = get_neighbors(X_train,y_train,X_test,k,manhattan_distance)\n",
        "    #print(all_neighbors)\n",
        "    pre_result = predict(X_test,all_neighbors)\n",
        "    incorrect_list,acc = check_result(pre_result,y_test)\n",
        "    output = [label[i] for i in pre_result]\n",
        "    print(\"k=\",k)\n",
        "    print(\"index of examples are not correctly classified:\",incorrect_list)\n",
        "    print(\"accuracy:\",acc)\n",
        "    print(output)"
      ],
      "execution_count": 317,
      "outputs": [
        {
          "output_type": "stream",
          "text": [
            "k= 1\n",
            "index of examples are not correctly classified: [10, 16]\n",
            "accuracy: 0.9473684210526315\n",
            "['Iris-virginica', 'Iris-versicolor', 'Iris-setosa', 'Iris-virginica', 'Iris-setosa', 'Iris-virginica', 'Iris-setosa', 'Iris-versicolor', 'Iris-versicolor', 'Iris-versicolor', 'Iris-versicolor', 'Iris-versicolor', 'Iris-versicolor', 'Iris-versicolor', 'Iris-versicolor', 'Iris-setosa', 'Iris-virginica', 'Iris-versicolor', 'Iris-setosa', 'Iris-setosa', 'Iris-virginica', 'Iris-versicolor', 'Iris-setosa', 'Iris-setosa', 'Iris-virginica', 'Iris-setosa', 'Iris-setosa', 'Iris-versicolor', 'Iris-versicolor', 'Iris-setosa', 'Iris-virginica', 'Iris-versicolor', 'Iris-setosa', 'Iris-virginica', 'Iris-virginica', 'Iris-versicolor', 'Iris-setosa', 'Iris-versicolor']\n",
            "k= 3\n",
            "index of examples are not correctly classified: [10]\n",
            "accuracy: 0.9736842105263158\n",
            "['Iris-virginica', 'Iris-versicolor', 'Iris-setosa', 'Iris-virginica', 'Iris-setosa', 'Iris-virginica', 'Iris-setosa', 'Iris-versicolor', 'Iris-versicolor', 'Iris-versicolor', 'Iris-versicolor', 'Iris-versicolor', 'Iris-versicolor', 'Iris-versicolor', 'Iris-versicolor', 'Iris-setosa', 'Iris-versicolor', 'Iris-versicolor', 'Iris-setosa', 'Iris-setosa', 'Iris-virginica', 'Iris-versicolor', 'Iris-setosa', 'Iris-setosa', 'Iris-virginica', 'Iris-setosa', 'Iris-setosa', 'Iris-versicolor', 'Iris-versicolor', 'Iris-setosa', 'Iris-virginica', 'Iris-versicolor', 'Iris-setosa', 'Iris-virginica', 'Iris-virginica', 'Iris-versicolor', 'Iris-setosa', 'Iris-versicolor']\n",
            "k= 5\n",
            "index of examples are not correctly classified: [10, 37]\n",
            "accuracy: 0.9473684210526315\n",
            "['Iris-virginica', 'Iris-versicolor', 'Iris-setosa', 'Iris-virginica', 'Iris-setosa', 'Iris-virginica', 'Iris-setosa', 'Iris-versicolor', 'Iris-versicolor', 'Iris-versicolor', 'Iris-versicolor', 'Iris-versicolor', 'Iris-versicolor', 'Iris-versicolor', 'Iris-versicolor', 'Iris-setosa', 'Iris-versicolor', 'Iris-versicolor', 'Iris-setosa', 'Iris-setosa', 'Iris-virginica', 'Iris-versicolor', 'Iris-setosa', 'Iris-setosa', 'Iris-virginica', 'Iris-setosa', 'Iris-setosa', 'Iris-versicolor', 'Iris-versicolor', 'Iris-setosa', 'Iris-virginica', 'Iris-versicolor', 'Iris-setosa', 'Iris-virginica', 'Iris-virginica', 'Iris-versicolor', 'Iris-setosa', 'Iris-virginica']\n"
          ],
          "name": "stdout"
        }
      ]
    },
    {
      "cell_type": "code",
      "metadata": {
        "id": "eaFtV5VxhrC4",
        "outputId": "62ba7758-1372-4350-d494-2a29860ef610",
        "colab": {
          "base_uri": "https://localhost:8080/",
          "height": 453
        }
      },
      "source": [
        "#5-fold cross-validation\n",
        "for k in [3,5,7]:\n",
        "  total_acc=0\n",
        "  print(\"k=\",k)\n",
        "  for n in range(0,5):\n",
        "    new_x = np.array_split(X_train, 5)\n",
        "    new_y = np.array_split(y_train, 5)\n",
        "    vx_train = np.vstack((new_x[i] for i in range(0,5) if i != n))\n",
        "    vy_train = np.hstack((new_y[i] for i in range(0,5) if i != n))\n",
        "    vx_test = new_x[n]\n",
        "    vy_test = new_y[n]\n",
        "\n",
        "    vx_neighbors = get_neighbors(vx_train,vy_train,vx_test,k,euclidean_distance)\n",
        "    pre_result = predict(vx_test,vx_neighbors)\n",
        "    incorrect_list,acc = check_result(pre_result,vy_test)\n",
        "    print(\"acc of\",n,\"is:\",acc)\n",
        "    total_acc=total_acc+acc\n",
        "  \n",
        "  print(\"accuracy:\",total_acc/5)\n",
        "\n"
      ],
      "execution_count": 320,
      "outputs": [
        {
          "output_type": "stream",
          "text": [
            "k= 3\n",
            "acc of 0 is: 0.8260869565217391\n",
            "acc of 1 is: 1.0\n",
            "acc of 2 is: 0.9545454545454546\n",
            "acc of 3 is: 0.9545454545454546\n",
            "acc of 4 is: 0.9090909090909091\n",
            "accuracy: 0.9288537549407115\n",
            "k= 5\n",
            "acc of 0 is: 0.8695652173913043\n",
            "acc of 1 is: 1.0\n",
            "acc of 2 is: 0.9545454545454546\n",
            "acc of 3 is: 1.0\n",
            "acc of 4 is: 0.9545454545454546\n",
            "accuracy: 0.9557312252964426\n",
            "k= 7\n",
            "acc of 0 is: 0.8695652173913043\n",
            "acc of 1 is: 1.0\n",
            "acc of 2 is: 1.0\n",
            "acc of 3 is: 1.0\n",
            "acc of 4 is: 0.9090909090909091\n",
            "accuracy: 0.9557312252964426\n"
          ],
          "name": "stdout"
        },
        {
          "output_type": "stream",
          "text": [
            "/usr/local/lib/python3.6/dist-packages/ipykernel_launcher.py:8: FutureWarning: arrays to stack must be passed as a \"sequence\" type such as list or tuple. Support for non-sequence iterables such as generators is deprecated as of NumPy 1.16 and will raise an error in the future.\n",
            "  \n",
            "/usr/local/lib/python3.6/dist-packages/ipykernel_launcher.py:9: FutureWarning: arrays to stack must be passed as a \"sequence\" type such as list or tuple. Support for non-sequence iterables such as generators is deprecated as of NumPy 1.16 and will raise an error in the future.\n",
            "  if __name__ == '__main__':\n"
          ],
          "name": "stderr"
        }
      ]
    }
  ]
}